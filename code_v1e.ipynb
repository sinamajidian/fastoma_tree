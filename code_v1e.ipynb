{
 "cells": [
  {
   "cell_type": "code",
   "execution_count": 31,
   "id": "d0927039",
   "metadata": {},
   "outputs": [],
   "source": [
    "#!/usr/bin/python3\n",
    "from sys import argv\n",
    "import pyoma.browser.db as db\n",
    "import pyoma.browser.models as mod\n",
    "import zoo.wrappers.aligners.mafft as mafft\n",
    "import zoo.wrappers.treebuilders.fasttree as fasttree\n",
    "from Bio import SeqIO\n",
    "from Bio.SeqRecord import SeqRecord\n",
    "from Bio import AlignIO\n",
    "from Bio.Align import MultipleSeqAlignment\n",
    "from Bio.Alphabet import IUPAC, SingleLetterAlphabet\n",
    "from Bio.Seq import Seq, UnknownSeq\n",
    "from Bio.SeqRecord import SeqRecord\n",
    "from collections import defaultdict\n",
    "\n",
    "#my_hog_id = argv[1]     # hog id output of OMAmer \n",
    "#oma_database = argv[2]  # address  \"../smajidi1/fastoma/archive/OmaServer.h5\"\n",
    "# query_protein= argv[3] # "
   ]
  },
  {
   "cell_type": "code",
   "execution_count": 32,
   "id": "2543c820",
   "metadata": {},
   "outputs": [],
   "source": [
    "oma_output_address= \"/work/FAC/FBM/DBC/cdessim2/default/smajidi1/fastoma/v1d-omamer/omamer_out_Eukaryota_que3.fa\"\n",
    "oma_output_file = open(oma_output_address,'r');\n",
    "\n",
    "list_query_protein_name= []\n",
    "list_query_inferred_hog= []\n",
    "\n",
    "for line in oma_output_file:\n",
    "    line_strip=line.strip()\n",
    "    if not line_strip.startswith('qs'):\n",
    "        line_split= line_strip.split(\"\\t\")        \n",
    "        list_query_protein_name.append(line_split[0])\n",
    "        list_query_inferred_hog.append(line_split[1])"
   ]
  },
  {
   "cell_type": "code",
   "execution_count": 33,
   "id": "4910ee61",
   "metadata": {},
   "outputs": [],
   "source": [
    "#print(list_query_inferred_hog)\n",
    "list_inferred_hog_unique = list(set(list_query_inferred_hog))\n",
    "list_idx_query_per_uniq_hog=[]\n",
    "\n",
    "for hog_unique in list_inferred_hog_unique:\n",
    "    indx_list=[i for i, x in enumerate(list_query_inferred_hog) if x == hog_unique]\n",
    "    list_idx_query_per_uniq_hog.append(indx_list)\n",
    "#print(list_idx_query_per_uniq_hog)"
   ]
  },
  {
   "cell_type": "code",
   "execution_count": 34,
   "id": "72d8f292",
   "metadata": {},
   "outputs": [
    {
     "name": "stderr",
     "output_type": "stream",
     "text": [
      "/work/FAC/FBM/DBC/cdessim2/default/smajidi1/software/miniconda3/lib/python3.8/site-packages/tables/leaf.py:402: PerformanceWarning: The Leaf ``/Protein/_i_Entries/OmaHOG/sorted`` is exceeding the maximum recommended rowsize (104857600 bytes);\n",
      "be ready to see PyTables asking for *lots* of memory and possibly slow\n",
      "I/O.  You may want to reduce the rowsize by trimming the value of\n",
      "dimensions that are orthogonal (and preferably close) to the *main*\n",
      "dimension of this leave.  Alternatively, in case you have specified a\n",
      "very small/large chunksize, you may want to increase/decrease it.\n",
      "  warnings.warn(\"\"\"\\\n"
     ]
    },
    {
     "name": "stdout",
     "output_type": "stream",
     "text": [
      "OMA data is parsed and its release name is : All.Apr2021\n",
      "For queries ['q2_HUMAN91530', 'q3_PANPA37307']\n",
      "the most Frequent_OG is: 699878 with frequency of 164 out of 204 \n",
      "\n",
      "For queries ['q1_HUMAN48905']\n",
      "the most Frequent_OG is: 1016299 with frequency of 158 out of 210 \n",
      "\n"
     ]
    }
   ],
   "source": [
    "oma_database_address = \"/work/FAC/FBM/DBC/cdessim2/default/smajidi1/fastoma/archive/OmaServer.h5\"\n",
    "oma_db = db.Database(oma_database_address)\n",
    "print(\"OMA data is parsed and its release name is :\", oma_db.get_release_name())\n",
    "mostFrequent_OG_list=[]\n",
    "unique_num=len(list_inferred_hog_unique)\n",
    "\n",
    "for  item_idx in range(unique_num):\n",
    "    \n",
    "    hog_id= list_inferred_hog_unique[item_idx]\n",
    "    hog_members = oma_db.member_of_hog_id(hog_id, level = None)                # members of the input hog_id as objects\n",
    "    proteins_id_hog = [hog_member[0] for hog_member in hog_members]              # the protein IDs of hog members\n",
    "    proteins_object_hog = [db.ProteinEntry(oma_db, pr) for pr in proteins_id_hog]  # the protein IDs of hog members\n",
    "    OGs_correspond_proteins = [pr.oma_group for pr in proteins_object_hog]\n",
    "    mostFrequent_OG = max(set(OGs_correspond_proteins), key = OGs_correspond_proteins.count)\n",
    "    mostFrequent_OG_list.append(mostFrequent_OG)\n",
    "    \n",
    "    print(\"For queries\",[list_query_protein_name[i]  for i in list_idx_query_per_uniq_hog[item_idx]])\n",
    "    print(\"the most Frequent_OG is:\",mostFrequent_OG, \"with frequency of\",OGs_correspond_proteins.count(mostFrequent_OG),\n",
    "          \"out of\", len(OGs_correspond_proteins),\"\\n\")"
   ]
  },
  {
   "cell_type": "code",
   "execution_count": 35,
   "id": "263ea66e",
   "metadata": {},
   "outputs": [
    {
     "name": "stdout",
     "output_type": "stream",
     "text": [
      "3\n"
     ]
    }
   ],
   "source": [
    "query_protein= \"/work/FAC/FBM/DBC/cdessim2/default/smajidi1/fastoma/v1d-omamer/query3.fa\"\n",
    "query_protein_records = list(SeqIO.parse(query_protein, \"fasta\")) \n",
    "print(len(query_protein_records))"
   ]
  },
  {
   "cell_type": "code",
   "execution_count": 66,
   "id": "9d053922",
   "metadata": {},
   "outputs": [
    {
     "name": "stdout",
     "output_type": "stream",
     "text": [
      "699878 213 211\n",
      "1016299 203 202\n"
     ]
    }
   ],
   "source": [
    "seqRecords_all=[]\n",
    "for  item_idx in range(unique_num):\n",
    "    mostFrequent_OG = mostFrequent_OG_list[item_idx]\n",
    "\n",
    "    OG_members = oma_db.oma_group_members(mostFrequent_OG)\n",
    "    proteins_object_OG = [db.ProteinEntry(oma_db, pr) for pr in OG_members]  # the protein IDs of og members\n",
    "    seqRecords_OG= [SeqRecord(Seq(pr.sequence), str(pr.omaid), '', '') for pr in proteins_object_OG ] # covnert to biopython objects\n",
    "    # genome.uniprot_species_code\n",
    "    seqRecords_queries = []\n",
    "    for i in  list_idx_query_per_uniq_hog[item_idx]:\n",
    "        seqRecords_queries.append(query_protein_records[i])\n",
    "        \n",
    "    seqRecords =seqRecords_OG + seqRecords_queries\n",
    "    print(mostFrequent_OG,len(seqRecords),len(seqRecords_OG))\n",
    "    seqRecords_all.append(seqRecords)"
   ]
  },
  {
   "cell_type": "code",
   "execution_count": 67,
   "id": "a721f93d",
   "metadata": {},
   "outputs": [
    {
     "name": "stderr",
     "output_type": "stream",
     "text": [
      "Guessing is not recommended - specify the sequence type with option datatype={DNA, PROTEIN}, be more confident\n",
      "Guessing is not recommended - specify the sequence type with option datatype={DNA, PROTEIN}, be more confident\n",
      "Guessing is not recommended - specify the sequence type with option datatype={DNA, PROTEIN}, be more confident\n",
      "Guessing is not recommended - specify the sequence type with option datatype={DNA, PROTEIN}, be more confident\n"
     ]
    },
    {
     "name": "stdout",
     "output_type": "stream",
     "text": [
      "time elapsed for multiple sequence alignment:  11.798819541931152\n",
      "time elapsed for multiple sequence alignment:  3.3089427947998047\n"
     ]
    }
   ],
   "source": [
    "############## MSA  ##############\n",
    "##################################\n",
    "\n",
    "result_maf2_all=[]\n",
    "for  item_idx in range(unique_num):\n",
    "    seqRecords=seqRecords_all[item_idx]\n",
    "        \n",
    "    wrapper_maf = mafft.Mafft(seqRecords)\n",
    "    result_maf1 = wrapper_maf()\n",
    "    time_taken_maf = wrapper_maf.elapsed_time  # \n",
    "    print(\"time elapsed for multiple sequence alignment: \",time_taken_maf)\n",
    "\n",
    "    result_maf2 = wrapper_maf.result\n",
    "    result_maf2_all.append(result_maf2)\n",
    "\n",
    "for  item_idx in range(unique_num):\n",
    "    result_maf2=result_maf2_all[item_idx]\n",
    "    out_name_msa=\"out_msa_\"+str(item_idx)+\".txt\"\n",
    "    handle_msa_fasta = open(out_name_msa,\"w\")\n",
    "    SeqIO.write(result_maf2, handle_msa_fasta,\"fasta\")\n",
    "    handle_msa_fasta.close()"
   ]
  },
  {
   "cell_type": "code",
   "execution_count": 68,
   "id": "478b165e",
   "metadata": {},
   "outputs": [
    {
     "name": "stdout",
     "output_type": "stream",
     "text": [
      "416\n"
     ]
    }
   ],
   "source": [
    "############## Concatante alignments  ##############\n",
    "####################################################\n",
    "\n",
    "alignments= result_maf2_all\n",
    "all_labels = set(seq.id for aln in alignments for seq in aln)\n",
    "print(len(all_labels))\n",
    "\n",
    "# Make a dictionary to store info as we go along\n",
    "# (defaultdict is convenient -- asking for a missing key gives back an empty list)\n",
    "concat_buf = defaultdict(list)\n",
    "\n",
    "# Assume all alignments have same alphabet\n",
    "alphabet = alignments[0]._alphabet\n",
    "\n",
    "for aln in alignments:\n",
    "    length = aln.get_alignment_length()\n",
    "    # check if any labels are missing in the current alignment\n",
    "    these_labels = set(rec.id for rec in aln)\n",
    "    missing = all_labels - these_labels\n",
    "\n",
    "    # if any are missing, create unknown data of the right length,\n",
    "    # stuff the string representation into the concat_buf dict\n",
    "    for label in missing:\n",
    "        new_seq = UnknownSeq(length, alphabet=alphabet)\n",
    "        concat_buf[label].append(str(new_seq))\n",
    "\n",
    "    # else stuff the string representation into the concat_buf dict\n",
    "    for rec in aln:\n",
    "        concat_buf[rec.id].append(str(rec.seq))\n",
    "\n",
    "# Stitch all the substrings together using join (most efficient way),\n",
    "# and build the Biopython data structures Seq, SeqRecord and MultipleSeqAlignment\n",
    "msa = MultipleSeqAlignment(SeqRecord(Seq(''.join(seq_arr), alphabet=alphabet), id=label)\n",
    "                            for (label, seq_arr) in concat_buf.items())\n",
    "print(len(msa),msa.get_alignment_length()) \n"
   ]
  },
  {
   "cell_type": "code",
   "execution_count": 63,
   "id": "f64cb3a7",
   "metadata": {
    "scrolled": true
   },
   "outputs": [
    {
     "name": "stderr",
     "output_type": "stream",
     "text": [
      "Guessed datatype=PROTEIN. But better explicitly specify the sequence type with option datatype={DNA, PROTEIN}.\n"
     ]
    },
    {
     "name": "stdout",
     "output_type": "stream",
     "text": [
      "8838\n"
     ]
    }
   ],
   "source": [
    "############## Tree inference  ###################\n",
    "##################################################\n",
    "\n",
    "wrapper_tree=fasttree.Fasttree(msa)\n",
    "result_tree1 = wrapper_tree()\n",
    "\n",
    "time_taken_tree = wrapper_tree.elapsed_time  # \n",
    "time_taken_tree\n",
    "\n",
    "result_tree2 = wrapper_tree.result\n",
    "tree_nwk=str(result_tree2[\"tree\"])\n",
    "print(len(tree_nwk))\n",
    "\n",
    "\n",
    "\n",
    "out_name_tree=\"tree_01.txt\"\n",
    "file1 = open(out_name_tree,\"w\")\n",
    "file1.write(tree_nwk)\n",
    "file1.close() "
   ]
  }
 ],
 "metadata": {
  "kernelspec": {
   "display_name": "Python 3",
   "language": "python",
   "name": "python3"
  },
  "language_info": {
   "codemirror_mode": {
    "name": "ipython",
    "version": 3
   },
   "file_extension": ".py",
   "mimetype": "text/x-python",
   "name": "python",
   "nbconvert_exporter": "python",
   "pygments_lexer": "ipython3",
   "version": "3.8.1"
  }
 },
 "nbformat": 4,
 "nbformat_minor": 5
}
