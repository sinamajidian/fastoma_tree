{
 "cells": [
  {
   "cell_type": "code",
   "execution_count": 22,
   "id": "d0927039",
   "metadata": {},
   "outputs": [],
   "source": [
    "#!/usr/bin/python3\n",
    "\n",
    "import numpy as np\n",
    "from sys import argv\n",
    "import pyoma.browser.db as db\n",
    "import pyoma.browser.models as mod\n",
    "import zoo.wrappers.aligners.mafft as mafft\n",
    "import zoo.wrappers.treebuilders.fasttree as fasttree\n",
    "from Bio import SeqIO\n",
    "from Bio.SeqRecord import SeqRecord\n",
    "from Bio import AlignIO\n",
    "from Bio.Align import MultipleSeqAlignment\n",
    "from Bio.Alphabet import IUPAC, SingleLetterAlphabet\n",
    "from Bio.Seq import Seq, UnknownSeq\n",
    "from Bio.SeqRecord import SeqRecord\n",
    "from collections import defaultdict\n",
    "\n",
    "from os import listdir\n",
    "from os.path import isfile, join\n",
    "\n",
    "\n",
    "#  for development \n",
    "import matplotlib.pyplot as plt\n",
    "#import matplotlib\n",
    "#matplotlib.use('Agg')\n",
    "\n",
    "oma_database_address = \"/work/FAC/FBM/DBC/cdessim2/default/smajidi1/fastoma/archive/OmaServer.h5\"\n",
    "project_folder = \"/work/FAC/FBM/DBC/cdessim2/default/smajidi1/fastoma/v2e/f3/\"\n",
    "\n",
    "\n",
    "# PANPA.fa  PANPA.hogmap\n",
    "# The species name of query is the name of the file; \n",
    "#  argv[2] \n"
   ]
  },
  {
   "cell_type": "code",
   "execution_count": 23,
   "id": "74b76246",
   "metadata": {},
   "outputs": [
    {
     "name": "stdout",
     "output_type": "stream",
     "text": [
      "OMA data is parsed and its release name is: All.Apr2021\n",
      "There are 2424 species in the OMA database.\n"
     ]
    }
   ],
   "source": [
    "############### Parsing OMA db ####################\n",
    "###################################################\n",
    "\n",
    "oma_db = db.Database(oma_database_address)\n",
    "print(\"OMA data is parsed and its release name is:\", oma_db.get_release_name())\n",
    "list_speices= [z.uniprot_species_code for z in oma_db.tax.genomes.values()] \n",
    "print(\"There are\",len(list_speices),\"species in the OMA database.\")"
   ]
  },
  {
   "cell_type": "code",
   "execution_count": 24,
   "id": "d87fc526",
   "metadata": {},
   "outputs": [],
   "source": [
    "\n",
    "# from pyoma.browser.hoghelper import build_hog_to_og_map\n",
    "# hog_og_map = {hog_id: og_count[0] for hog_id, og_count in build_hog_to_og_map(oma_db)}\n",
    "\n",
    "# print(\"HOG-OG map is extracted\")\n",
    "\n",
    "# hog_og_map_address = \"/work/FAC/FBM/DBC/cdessim2/default/smajidi1/fastoma/archive/hog_og_map.dic\"\n",
    "# with open(hog_og_map_address, 'w') as file_map:\n",
    "#     print(hog_og_map, file=file_map)\n",
    "    \n",
    "# file_map.close()\n",
    "# print(\"HOG-OG map is written in the file.\")\n"
   ]
  },
  {
   "cell_type": "code",
   "execution_count": 25,
   "id": "69205acd",
   "metadata": {},
   "outputs": [
    {
     "name": "stdout",
     "output_type": "stream",
     "text": [
      "The hog-og map is read from file with the length of  3396681\n"
     ]
    }
   ],
   "source": [
    "hog_og_map_address = \"/work/FAC/FBM/DBC/cdessim2/default/smajidi1/fastoma/archive/hog_og_map.dic\"\n",
    "\n",
    "import ast\n",
    "file = open(hog_og_map_address, \"r\")\n",
    "contents = file.read()\n",
    "hog_OG_map = ast.literal_eval(contents)\n",
    "file.close()\n",
    "\n",
    "print(\"The hog-og map is read from file with the length of \", len(hog_og_map))"
   ]
  },
  {
   "cell_type": "code",
   "execution_count": 26,
   "id": "0fffe826",
   "metadata": {},
   "outputs": [
    {
     "name": "stdout",
     "output_type": "stream",
     "text": [
      "Xiphorhynchus_elegans_269412_ 5\n",
      "Zosterops_hypoxanthus_2485327_ 4\n"
     ]
    }
   ],
   "source": [
    "############### Parsing query proteome of species #######\n",
    "#########################################################\n",
    "\n",
    "project_files = listdir(project_folder)\n",
    "\n",
    "query_species_names = []\n",
    "for file in project_files:\n",
    "    if file.split(\".\")[-1]==\"fa\":\n",
    "        file_name_split = file.split(\".\")[:-1]\n",
    "        query_species_names.append('.'.join(file_name_split))\n",
    "\n",
    "# we may assert existence of query_species_name+\".fa/hogmap\"\n",
    "\n",
    "query_prot_records_species = [ ]\n",
    "for query_species_name in query_species_names:\n",
    "    query_prot_address = project_folder + query_species_name + \".fa\" \n",
    "    query_prot_records = list(SeqIO.parse(query_prot_address, \"fasta\")) \n",
    "    query_prot_records_species.append(query_prot_records)\n",
    "    \n",
    "# for development\n",
    "query_species_num = len(query_species_names)\n",
    "for species_i in range(query_species_num):\n",
    "    len_prot_record_i = len( query_prot_records_species[species_i] )\n",
    "    species_name_i = query_species_names[species_i]\n",
    "    print(species_name_i,len_prot_record_i)\n",
    "    if species_name_i in list_speices: \n",
    "        print(\"the species\",species_name_i,\" already exists in the oma database, remove it first\")\n",
    "        exit()\n",
    "    "
   ]
  },
  {
   "cell_type": "code",
   "execution_count": 27,
   "id": "2543c820",
   "metadata": {},
   "outputs": [
    {
     "name": "stdout",
     "output_type": "stream",
     "text": [
      "number of proteins in omamer output for  Xiphorhynchus_elegans_269412_ is 5\n",
      "number of proteins in omamer output for  Zosterops_hypoxanthus_2485327_ is 4\n"
     ]
    }
   ],
   "source": [
    "################### Parsing omamer's output  ########\n",
    "#####################################################\n",
    "\n",
    "query_prot_names_species = []\n",
    "query_hogids_species = []\n",
    "\n",
    "for query_species_name in query_species_names:\n",
    "    omamer_output_address = project_folder + query_species_name + \".hogmap\"     \n",
    "    omamer_output_file = open(omamer_output_address,'r');\n",
    "\n",
    "    query_prot_names= []\n",
    "    query_hogids= []\n",
    "\n",
    "    for line in omamer_output_file:\n",
    "        line_strip=line.strip()\n",
    "        if not line_strip.startswith('qs'):\n",
    "            line_split= line_strip.split(\"\\t\")        \n",
    "            query_prot_names.append(line_split[0])\n",
    "            query_hogids.append(line_split[1])\n",
    "    print(\"number of proteins in omamer output for \",query_species_name,\"is\",len(query_hogids)) # ,query_hogids\n",
    "    query_prot_names_species.append(query_prot_names)\n",
    "    query_hogids_species.append(query_hogids)\n",
    "    \n",
    "#query_hogids_species# , query_prot_names_species"
   ]
  },
  {
   "cell_type": "code",
   "execution_count": 28,
   "id": "82119e90",
   "metadata": {},
   "outputs": [
    {
     "name": "stdout",
     "output_type": "stream",
     "text": [
      "Xiphorhynchus_elegans_269412_\n",
      "repeated hogid HOG:A0512899.2a  for protein  NXU82143.1\n",
      "Number of prot queries after filtering is 4 \n",
      "\n",
      "Zosterops_hypoxanthus_2485327_\n",
      "Number of prot queries after filtering is 4 \n",
      "\n"
     ]
    }
   ],
   "source": [
    "###### Extracting unique HOG list and corresponding query proteins ########\n",
    "###########################################################################\n",
    "\n",
    "query_hogids_filtr_species = []\n",
    "query_prot_names_filtr_species = []\n",
    "query_prot_records_filtr_species = []\n",
    "\n",
    "for species_i in range(query_species_num):\n",
    "    print(query_species_names[species_i])\n",
    "    \n",
    "    query_hogids =  query_hogids_species[species_i]\n",
    "    query_prot_names = query_prot_names_species[species_i]\n",
    "    query_prot_records  = query_prot_records_species[species_i]\n",
    "    \n",
    "    \n",
    "    \n",
    "    query_hogids_filtr = []\n",
    "    query_prot_names_filtr = []\n",
    "    query_prot_records_filtr = []\n",
    "    \n",
    "    for prot_i in range(len(query_hogids)):\n",
    "        \n",
    "        if not query_hogids[prot_i] in query_hogids_filtr: \n",
    "        \n",
    "            query_hogids_filtr.append(query_hogids[prot_i])\n",
    "            query_prot_names_filtr.append(query_prot_names[prot_i])\n",
    "            query_prot_records_filtr.append(query_prot_records[prot_i])\n",
    "        else:\n",
    "            # for development\n",
    "            print(\"repeated hogid\",query_hogids[prot_i], \" for protein \",query_prot_names[prot_i])\n",
    "            # now we keep the first protein query when these are repeated\n",
    "\n",
    "\n",
    "    query_hogids_filtr_species.append(query_hogids_filtr)\n",
    "    query_prot_names_filtr_species.append(query_prot_names_filtr)\n",
    "    query_prot_records_filtr_species.append(query_prot_records_filtr)\n",
    "\n",
    "    \n",
    "    num_query_filtr = len(query_hogids_filtr)\n",
    "    print(\"Number of prot queries after filtering is\",num_query_filtr,\"\\n\")"
   ]
  },
  {
   "cell_type": "code",
   "execution_count": 32,
   "id": "327d7fb2",
   "metadata": {},
   "outputs": [
    {
     "name": "stdout",
     "output_type": "stream",
     "text": [
      "\n",
      " Xiphorhynchus_elegans_269412_\n",
      "\n",
      " Zosterops_hypoxanthus_2485327_\n",
      "done1\n"
     ]
    }
   ],
   "source": [
    "############ Extracting the most frequent OG  ########\n",
    "#####################################################\n",
    "\n",
    "#dict (oma_group_nr -> dict(species, [proteins]))\n",
    "#Og[555] = {homo_erectus: [blabla, blublu], yellow_bird: [P52134], brown_bear: [P2121,B53223]}\n",
    "\n",
    "OGs_queries = {}\n",
    "\n",
    "# hog_OG_map = {}\n",
    "\n",
    "mostFrequent_OG_list_species = []\n",
    "\n",
    "frq_most_frequent_og_list_all = [] # for development\n",
    "\n",
    "for species_i in  range(query_species_num):\n",
    "    \n",
    "    query_species_name = query_species_names[species_i]\n",
    "    print(\"\\n\",query_species_name)\n",
    "    \n",
    "    query_hogids_filtr = query_hogids_filtr_species[species_i]\n",
    "    query_prot_names_filtr = query_prot_names_filtr_species[species_i]\n",
    "    query_prot_records_filtr = query_prot_records_filtr_species[species_i]\n",
    "    \n",
    "    mostFrequent_OG_list=[]\n",
    "    \n",
    "    num_query_filtr = len(query_hogids_filtr)\n",
    "    for  item_idx in range(num_query_filtr): #\n",
    "        \n",
    "        query_protein = query_prot_names_filtr[item_idx]\n",
    "        seqRecords_query =  query_prot_records_filtr[item_idx]\n",
    "        seqRecords_query_edited = SeqRecord(Seq(str(seqRecords_query.seq)), query_species_name, '', '')\n",
    "        #print(seqRecords_query_edited)\n",
    "        \n",
    "        hog_id= query_hogids_filtr[item_idx]\n",
    "        \n",
    "        if not hog_id in hog_OG_map:   # Caculitng  most frq OG for the new hog\n",
    "            print(\"hog id is not in the map\",hog_id)\n",
    "            hog_members = oma_db.member_of_hog_id(hog_id, level = None)                  # members of the input hog_id as objects\n",
    "            proteins_id_hog = [hog_member[0] for hog_member in hog_members]              # the protein IDs of hog members\n",
    "            proteins_object_hog = [db.ProteinEntry(oma_db, pr) for pr in proteins_id_hog]# the protein objects of hog members\n",
    "            OGs_correspond_proteins = [pr.oma_group for pr in proteins_object_hog]\n",
    "\n",
    "            OGs_correspond_proteins_fltr = [val_og  for val_og in OGs_correspond_proteins if val_og!=0] # removing OG of 0 -those prts with no OG\n",
    "            OGs_correspond_proteins_num = len(OGs_correspond_proteins_fltr)\n",
    "            \n",
    "            if OGs_correspond_proteins_num >0:\n",
    "                mostFrequent_OG = max(set(OGs_correspond_proteins_fltr), key = OGs_correspond_proteins_fltr.count)\n",
    "                \n",
    "                ### for development\n",
    "                \n",
    "                frq_most_frequent_og = OGs_correspond_proteins_fltr.count(mostFrequent_OG)/OGs_correspond_proteins_num \n",
    "                print(\"For query\",query_protein,\"Most frequent OG is:\",mostFrequent_OG, \"with freq of\",OGs_correspond_proteins_fltr.count(mostFrequent_OG),\n",
    "                      \"out of\", OGs_correspond_proteins_num,\"=>\",round(frq_most_frequent_og,3))\n",
    "                frq_most_frequent_og_list_all.append(frq_most_frequent_og)\n",
    "                ### \n",
    "                \n",
    "            else: # empty OGs_correspond_proteins_fltr\n",
    "                mostFrequent_OG= -1\n",
    "                \n",
    "            hog_OG_map[hog_id]=mostFrequent_OG\n",
    "                \n",
    "        else:  # hog_id is in hog_OG_map dic\n",
    "            #print(\"using the hog-og-map\")\n",
    "            mostFrequent_OG = hog_OG_map[hog_id]\n",
    "            \n",
    "        if mostFrequent_OG in OGs_queries:\n",
    "            OGs_queries_k = OGs_queries[mostFrequent_OG]\n",
    "            \n",
    "            if not query_species_name in OGs_queries_k:\n",
    "                OGs_queries_k[query_species_name] = seqRecords_query_edited\n",
    "                OGs_queries[mostFrequent_OG] = OGs_queries_k\n",
    "        else:\n",
    "            OGs_queries[mostFrequent_OG] = {query_species_name: seqRecords_query_edited} # query_protein = query_prot_names_filtr[item_idx]\n",
    "            \n",
    "print(\"done1\") "
   ]
  },
  {
   "cell_type": "code",
   "execution_count": 35,
   "id": "8c42419b",
   "metadata": {},
   "outputs": [
    {
     "name": "stdout",
     "output_type": "stream",
     "text": [
      "length of OG 809610 was 126 ,now is 127\n",
      "length of OG 823195 was 39 ,now is 40\n",
      "length of OG 689731 was 24 ,now is 25\n",
      "length of OG 737080 was 62 ,now is 63\n",
      "length of OG 811933 was 86 ,now is 87\n",
      "length of OG 950372 was 400 ,now is 401\n",
      "length of OG 892187 was 114 ,now is 115\n",
      "length of OG 809577 was 105 ,now is 106\n"
     ]
    }
   ],
   "source": [
    "########## Combine proteins of OG with queries ##################\n",
    "#################################################################\n",
    "\n",
    "seqRecords_all = []\n",
    "for OG_q in OGs_queries.keys():  # OG found in the query\n",
    "    \n",
    "    dic_species_prot = OGs_queries[OG_q]\n",
    "    #print(dic_species_prot)\n",
    "     \n",
    "    seqRecords_query_edited_all = []\n",
    "    for query_species_name,seqRecords_query_edited  in dic_species_prot.items():\n",
    "        #print(seqRecords_query_edited)\n",
    "        seqRecords_query_edited_all.append(seqRecords_query_edited) \n",
    "        \n",
    "    \n",
    "    mostFrequent_OG = OG_q\n",
    "    if mostFrequent_OG != -1:\n",
    "        OG_members = oma_db.oma_group_members(mostFrequent_OG)\n",
    "        proteins_object_OG = [db.ProteinEntry(oma_db, pr) for pr in OG_members]  # the protein IDs of og members\n",
    "         # covnert to biopython objects\n",
    "        seqRecords_OG=[SeqRecord(Seq(pr.sequence),str(pr.genome.uniprot_species_code),'','') for pr in proteins_object_OG]\n",
    "        \n",
    "        \n",
    "        seqRecords_OG_queries =seqRecords_OG + seqRecords_query_edited_all\n",
    "        print(\"length of OG\",mostFrequent_OG,\"was\",len(seqRecords_OG),\",now is\",len(seqRecords_OG_queries))\n",
    "        \n",
    "    seqRecords_all.append(seqRecords_OG_queries)\n",
    "    \n",
    "     \n",
    "#print(\"number of OGs\",len(seqRecords_all),len(seqRecords_OG_queries))\n"
   ]
  },
  {
   "cell_type": "code",
   "execution_count": null,
   "id": "4d7cac75",
   "metadata": {},
   "outputs": [],
   "source": []
  },
  {
   "cell_type": "code",
   "execution_count": 37,
   "id": "4a690c2e",
   "metadata": {},
   "outputs": [],
   "source": [
    "# # for development\n",
    "# # plots are for the last species not all \n",
    "# plt.hist(seqRecords_OG_num_list) # , bins=10\n",
    "# plt.show()\n",
    "# plt.savefig(project_folder+\"_one_species_seqRecords_OG_num_list.png\")\n"
   ]
  },
  {
   "cell_type": "code",
   "execution_count": null,
   "id": "3e78c61e",
   "metadata": {},
   "outputs": [
    {
     "name": "stdout",
     "output_type": "stream",
     "text": [
      "number of OGs 8 \n",
      "\n",
      "127\n",
      "time elapsed for MSA:  38.458478927612305\n",
      "127 979\n",
      "40\n",
      "time elapsed for MSA:  0.8959662914276123\n",
      "40 274\n",
      "25\n",
      "time elapsed for MSA:  0.9366283416748047\n",
      "25 470\n",
      "63\n",
      "time elapsed for MSA:  1.986431360244751\n",
      "63 280\n",
      "87\n",
      "time elapsed for MSA:  16.531949281692505\n",
      "87 872\n",
      "401\n"
     ]
    }
   ],
   "source": [
    "############## MSA  ##############\n",
    "##################################\n",
    "\n",
    "print(\"number of OGs\",len(seqRecords_all),\"\\n\")\n",
    "result_mafft_all_species = []\n",
    "\n",
    "for seqRecords_OG_queries in seqRecords_all: #[seqRecords_all[1]]:\n",
    "    print(len(seqRecords_OG_queries))\n",
    "    #print(\"MSA on progress for og \", ?)\n",
    "    \n",
    "    wrapper_mafft = mafft.Mafft(seqRecords_OG_queries,datatype=\"PROTEIN\")\n",
    "    \n",
    "    run_mafft = wrapper_mafft() # it's wrapper  storing the result  and time \n",
    "    time_taken_mafft = wrapper_mafft.elapsed_time\n",
    "\n",
    "    result_mafft = wrapper_mafft.result \n",
    "    time_taken_mafft2 = wrapper_mafft.elapsed_time\n",
    "    print(\"time elapsed for MSA: \",time_taken_mafft2)\n",
    "\n",
    "    result_mafft_all_species.append(result_mafft)\n",
    "    print(len(result_mafft),result_mafft.get_alignment_length()) # matrix size\n",
    "\n",
    "        \n",
    "print(len(result_mafft_all_species))"
   ]
  },
  {
   "cell_type": "code",
   "execution_count": null,
   "id": "478b165e",
   "metadata": {},
   "outputs": [],
   "source": [
    "############## Concatante alignments  ##############\n",
    "####################################################\n",
    "\n",
    "#alignments= result_maf2_all\n",
    "\n",
    "alignments= result_mafft_all_species\n",
    "print(\"alignments len\",len(alignments))\n",
    "#print([len(aln) for aln in alignments ])\n",
    "#print([len(seq) for aln in alignments for seq in aln])\n",
    "\n",
    "all_labels_raw = [seq.id for aln in alignments for seq in aln]\n",
    "all_labels = set(all_labels_raw)\n",
    "print(\"ids: \",len(all_labels),len(all_labels_raw))\n",
    "\n",
    "# Make a dictionary to store info as we go along\n",
    "# (defaultdict is convenient -- asking for a missing key gives back an empty list)\n",
    "concat_buf = defaultdict(list)\n",
    "\n",
    "# Assume all alignments have same alphabet\n",
    "alphabet = alignments[0]._alphabet\n",
    "\n",
    "for aln in alignments:\n",
    "    length = aln.get_alignment_length()\n",
    "    #print(\"length\",length)\n",
    "    # check if any labels are missing in the current alignment\n",
    "    these_labels = set(rec.id for rec in aln)\n",
    "    missing = all_labels - these_labels\n",
    "    #print(missing)\n",
    "    # if any are missing, create unknown data of the right length,\n",
    "    # stuff the string representation into the concat_buf dict\n",
    "    for label in missing:\n",
    "        new_seq = UnknownSeq(length, alphabet=alphabet)\n",
    "        concat_buf[label].append(str(new_seq))\n",
    "\n",
    "    # else stuff the string representation into the concat_buf dict\n",
    "    for rec in aln:\n",
    "        concat_buf[rec.id].append(str(rec.seq))\n",
    "\n",
    "# Stitch all the substrings together using join (most efficient way),\n",
    "# and build the Biopython data structures Seq, SeqRecord and MultipleSeqAlignment\n",
    "msa = MultipleSeqAlignment(SeqRecord(Seq(''.join(seq_arr), alphabet=alphabet), id=label)\n",
    "                            for (label, seq_arr) in concat_buf.items())\n",
    "\n",
    "#print(msa)"
   ]
  },
  {
   "cell_type": "code",
   "execution_count": null,
   "id": "e001ef48",
   "metadata": {},
   "outputs": [],
   "source": [
    "\n",
    "\n",
    "out_name_msa=project_folder+\"_msa_concatanated.txt\"\n",
    "handle_msa_fasta = open(out_name_msa,\"w\")\n",
    "SeqIO.write(msa, handle_msa_fasta,\"fasta\")\n",
    "handle_msa_fasta.close()\n",
    "    \n",
    "print(len(msa),msa.get_alignment_length()) # super matrix size"
   ]
  },
  {
   "cell_type": "code",
   "execution_count": null,
   "id": "f64cb3a7",
   "metadata": {
    "scrolled": true
   },
   "outputs": [],
   "source": [
    "############## Tree inference  ###################\n",
    "##################################################\n",
    "\n",
    "wrapper_tree=fasttree.Fasttree(msa,datatype=\"PROTEIN\")\n",
    "result_tree1 = wrapper_tree()\n",
    "\n",
    "time_taken_tree = wrapper_tree.elapsed_time \n",
    "time_taken_tree\n",
    "\n",
    "result_tree2 = wrapper_tree.result\n",
    "tree_nwk=str(result_tree2[\"tree\"])\n",
    "print(len(tree_nwk))\n",
    "\n",
    "out_name_tree=project_folder+\"_tree.txt\"\n",
    "file1 = open(out_name_tree,\"w\")\n",
    "file1.write(tree_nwk)\n",
    "file1.close() "
   ]
  },
  {
   "cell_type": "code",
   "execution_count": null,
   "id": "35e68749",
   "metadata": {},
   "outputs": [],
   "source": [
    "tree_nwk"
   ]
  },
  {
   "cell_type": "code",
   "execution_count": null,
   "id": "7ef485cc",
   "metadata": {},
   "outputs": [],
   "source": []
  },
  {
   "cell_type": "code",
   "execution_count": null,
   "id": "b3ad8a4e",
   "metadata": {},
   "outputs": [],
   "source": []
  },
  {
   "cell_type": "code",
   "execution_count": null,
   "id": "63b04b5b",
   "metadata": {},
   "outputs": [],
   "source": []
  }
 ],
 "metadata": {
  "kernelspec": {
   "display_name": "Python 3",
   "language": "python",
   "name": "python3"
  },
  "language_info": {
   "codemirror_mode": {
    "name": "ipython",
    "version": 3
   },
   "file_extension": ".py",
   "mimetype": "text/x-python",
   "name": "python",
   "nbconvert_exporter": "python",
   "pygments_lexer": "ipython3",
   "version": "3.8.1"
  }
 },
 "nbformat": 4,
 "nbformat_minor": 5
}
