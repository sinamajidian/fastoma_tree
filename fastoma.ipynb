{
 "cells": [
  {
   "cell_type": "code",
   "execution_count": 1,
   "id": "d0927039",
   "metadata": {},
   "outputs": [],
   "source": [
    "#!/usr/bin/python3\n",
    "\n",
    "import numpy as np\n",
    "from sys import argv\n",
    "import pyoma.browser.db as db\n",
    "import pyoma.browser.models as mod\n",
    "import zoo.wrappers.aligners.mafft as mafft\n",
    "import zoo.wrappers.treebuilders.fasttree as fasttree\n",
    "from Bio import SeqIO\n",
    "from Bio.SeqRecord import SeqRecord\n",
    "from Bio import AlignIO\n",
    "from Bio.Align import MultipleSeqAlignment\n",
    "from Bio.Alphabet import IUPAC, SingleLetterAlphabet\n",
    "from Bio.Seq import Seq, UnknownSeq\n",
    "from Bio.SeqRecord import SeqRecord\n",
    "from collections import defaultdict\n",
    "\n",
    "from os import listdir\n",
    "from os.path import isfile, join\n",
    "\n",
    "\n",
    "#  for development \n",
    "import matplotlib.pyplot as plt\n",
    "#import matplotlib\n",
    "#matplotlib.use('Agg')\n",
    "\n",
    "oma_database_address = \"/work/FAC/FBM/DBC/cdessim2/default/smajidi1/fastoma/archive/OmaServer.h5\"\n",
    "project_folder = \"/work/FAC/FBM/DBC/cdessim2/default/smajidi1/fastoma/v2e/f3/\"\n",
    "\n",
    "\n",
    "# PANPA.fa  PANPA.hogmap\n",
    "# The species name of query is the name of the file; \n",
    "#  argv[2] \n"
   ]
  },
  {
   "cell_type": "code",
   "execution_count": 2,
   "id": "74b76246",
   "metadata": {},
   "outputs": [
    {
     "name": "stderr",
     "output_type": "stream",
     "text": [
      "/work/FAC/FBM/DBC/cdessim2/default/smajidi1/software/miniconda3/lib/python3.8/site-packages/tables/leaf.py:402: PerformanceWarning: The Leaf ``/Protein/_i_Entries/OmaHOG/sorted`` is exceeding the maximum recommended rowsize (104857600 bytes);\n",
      "be ready to see PyTables asking for *lots* of memory and possibly slow\n",
      "I/O.  You may want to reduce the rowsize by trimming the value of\n",
      "dimensions that are orthogonal (and preferably close) to the *main*\n",
      "dimension of this leave.  Alternatively, in case you have specified a\n",
      "very small/large chunksize, you may want to increase/decrease it.\n",
      "  warnings.warn(\"\"\"\\\n"
     ]
    },
    {
     "name": "stdout",
     "output_type": "stream",
     "text": [
      "OMA data is parsed and its release name is: All.Apr2021\n",
      "There are 2424 species in the OMA database.\n"
     ]
    }
   ],
   "source": [
    "############### Parsing OMA db ####################\n",
    "###################################################\n",
    "\n",
    "oma_db = db.Database(oma_database_address)\n",
    "print(\"OMA data is parsed and its release name is:\", oma_db.get_release_name())\n",
    "list_speices= [z.uniprot_species_code for z in oma_db.tax.genomes.values()] \n",
    "print(\"There are\",len(list_speices),\"species in the OMA database.\")"
   ]
  },
  {
   "cell_type": "code",
   "execution_count": 3,
   "id": "0fffe826",
   "metadata": {},
   "outputs": [
    {
     "name": "stdout",
     "output_type": "stream",
     "text": [
      "Xiphorhynchus_elegans_269412_ 5\n",
      "Zosterops_hypoxanthus_2485327_ 4\n"
     ]
    }
   ],
   "source": [
    "############### Parsing query proteome of species #######\n",
    "#########################################################\n",
    "\n",
    "project_files = listdir(project_folder)\n",
    "\n",
    "query_species_names = []\n",
    "for file in project_files:\n",
    "    if file.split(\".\")[-1]==\"fa\":\n",
    "        file_name_split = file.split(\".\")[:-1]\n",
    "        query_species_names.append('.'.join(file_name_split))\n",
    "\n",
    "# we may assert existence of query_species_name+\".fa/hogmap\"\n",
    "\n",
    "query_prot_records_species = [ ]\n",
    "for query_species_name in query_species_names:\n",
    "    query_prot_address = project_folder + query_species_name + \".fa\" \n",
    "    query_prot_records = list(SeqIO.parse(query_prot_address, \"fasta\")) \n",
    "    query_prot_records_species.append(query_prot_records)\n",
    "    \n",
    "# for development\n",
    "query_species_num = len(query_species_names)\n",
    "for species_i in range(query_species_num):\n",
    "    len_prot_record_i = len( query_prot_records_species[species_i] )\n",
    "    species_name_i = query_species_names[species_i]\n",
    "    print(species_name_i,len_prot_record_i)\n",
    "    if species_name_i in list_speices: \n",
    "        print(\"the species\",species_name_i,\" already exists in the oma database, remove it first\")\n",
    "        exit()\n",
    "    "
   ]
  },
  {
   "cell_type": "code",
   "execution_count": 4,
   "id": "2543c820",
   "metadata": {},
   "outputs": [
    {
     "name": "stdout",
     "output_type": "stream",
     "text": [
      "number of proteins in omamer output for  Xiphorhynchus_elegans_269412_ is 5\n",
      "number of proteins in omamer output for  Zosterops_hypoxanthus_2485327_ is 4\n"
     ]
    }
   ],
   "source": [
    "################### Parsing omamer's output  ########\n",
    "#####################################################\n",
    "\n",
    "query_prot_names_species = []\n",
    "query_hogids_species = []\n",
    "\n",
    "for query_species_name in query_species_names:\n",
    "    omamer_output_address = project_folder + query_species_name + \".hogmap\"     \n",
    "    omamer_output_file = open(omamer_output_address,'r');\n",
    "\n",
    "    query_prot_names= []\n",
    "    query_hogids= []\n",
    "\n",
    "    for line in omamer_output_file:\n",
    "        line_strip=line.strip()\n",
    "        if not line_strip.startswith('qs'):\n",
    "            line_split= line_strip.split(\"\\t\")        \n",
    "            query_prot_names.append(line_split[0])\n",
    "            query_hogids.append(line_split[1])\n",
    "    print(\"number of proteins in omamer output for \",query_species_name,\"is\",len(query_hogids)) # ,query_hogids\n",
    "    query_prot_names_species.append(query_prot_names)\n",
    "    query_hogids_species.append(query_hogids)\n",
    "    \n",
    "#query_hogids_species# , query_prot_names_species"
   ]
  },
  {
   "cell_type": "code",
   "execution_count": 5,
   "id": "82119e90",
   "metadata": {},
   "outputs": [
    {
     "name": "stdout",
     "output_type": "stream",
     "text": [
      "Xiphorhynchus_elegans_269412_\n",
      "repeated hogid HOG:A0512899.2a  for protein  NXU82143.1\n",
      "Number of prot queries after filtering is 4 \n",
      "\n",
      "Zosterops_hypoxanthus_2485327_\n",
      "Number of prot queries after filtering is 4 \n",
      "\n"
     ]
    }
   ],
   "source": [
    "###### Extracting unique HOG list and corresponding query proteins ########\n",
    "###########################################################################\n",
    "\n",
    "query_hogids_filtr_species = []\n",
    "query_prot_names_filtr_species = []\n",
    "query_prot_records_filtr_species = []\n",
    "\n",
    "for species_i in range(query_species_num):\n",
    "    print(query_species_names[species_i])\n",
    "    \n",
    "    query_hogids =  query_hogids_species[species_i]\n",
    "    query_prot_names = query_prot_names_species[species_i]\n",
    "    query_prot_records  = query_prot_records_species[species_i]\n",
    "    \n",
    "    \n",
    "    \n",
    "    query_hogids_filtr = []\n",
    "    query_prot_names_filtr = []\n",
    "    query_prot_records_filtr = []\n",
    "    \n",
    "    for prot_i in range(len(query_hogids)):\n",
    "        \n",
    "        if not query_hogids[prot_i] in query_hogids_filtr: \n",
    "        \n",
    "            query_hogids_filtr.append(query_hogids[prot_i])\n",
    "            query_prot_names_filtr.append(query_prot_names[prot_i])\n",
    "            query_prot_records_filtr.append(query_prot_records[prot_i])\n",
    "        else:\n",
    "            # for development\n",
    "            print(\"repeated hogid\",query_hogids[prot_i], \" for protein \",query_prot_names[prot_i])\n",
    "            # now we keep the first protein query when these are repeated\n",
    "\n",
    "\n",
    "    query_hogids_filtr_species.append(query_hogids_filtr)\n",
    "    query_prot_names_filtr_species.append(query_prot_names_filtr)\n",
    "    query_prot_records_filtr_species.append(query_prot_records_filtr)\n",
    "\n",
    "    \n",
    "    num_query_filtr = len(query_hogids_filtr)\n",
    "    print(\"Number of prot queries after filtering is\",num_query_filtr,\"\\n\")"
   ]
  },
  {
   "cell_type": "code",
   "execution_count": 35,
   "id": "8795800e",
   "metadata": {},
   "outputs": [
    {
     "name": "stdout",
     "output_type": "stream",
     "text": [
      "\n",
      " Xiphorhynchus_elegans_269412_\n",
      "For query NXU82139.1 Most frequent OG is: 809610 with freq of 49 out of 59 => 0.831\n",
      "For query NXU82140.1 Most frequent OG is: 823195 with freq of 6 out of 17 => 0.353\n",
      "For query NXU82141.1 Most frequent OG is: 689731 with freq of 3 out of 6 => 0.5\n",
      "For query NXU82142.1 Most frequent OG is: 737080 with freq of 57 out of 74 => 0.77\n",
      "\n",
      " Zosterops_hypoxanthus_2485327_\n",
      "For query NXR29906.1 Most frequent OG is: 811933 with freq of 55 out of 57 => 0.965\n",
      "For query NXR29907.1 Most frequent OG is: 950372 with freq of 114 out of 120 => 0.95\n",
      "For query NXR29908.1 Most frequent OG is: 892187 with freq of 114 out of 119 => 0.958\n",
      "For query NXR29909.1 Most frequent OG is: 809577 with freq of 80 out of 83 => 0.964\n"
     ]
    }
   ],
   "source": [
    "############ Extracting the most frequent OG  ########\n",
    "#####################################################\n",
    "\n",
    "#dict (oma_group_nr -> dict(species, [proteins]))\n",
    "#Og[555] = {homo_erectus: [blabla, blublu], yellow_bird: [P52134], brown_bear: [P2121,B53223]}\n",
    "\n",
    "OGs_queries = {}\n",
    "\n",
    "\n",
    "hog_OG_map = {}\n",
    "\n",
    "mostFrequent_OG_list_species = []\n",
    "\n",
    "frq_most_frequent_og_list_all = [] # for development\n",
    "\n",
    "for species_i in range(query_species_num):\n",
    "    \n",
    "    query_species_name = query_species_names[species_i]\n",
    "    print(\"\\n\",query_species_name)\n",
    "    \n",
    "    query_hogids_filtr = query_hogids_filtr_species[species_i]\n",
    "    query_prot_names_filtr = query_prot_names_filtr_species[species_i]\n",
    "    query_prot_records_filtr = query_prot_records_filtr_species[species_i]\n",
    "    \n",
    "    mostFrequent_OG_list=[]\n",
    "    \n",
    "    num_query_filtr = len(query_hogids_filtr)\n",
    "    for  item_idx in range(num_query_filtr):\n",
    "        \n",
    "        query_protein = query_prot_names_filtr[item_idx]\n",
    "        seqRecords_query =  query_prot_records_filtr[item_idx]\n",
    "        seqRecords_query_edited = SeqRecord(Seq(str(seqRecords_query.seq)), query_species_name, '', '')\n",
    "        #print(seqRecords_query_edited)\n",
    "        \n",
    "        hog_id= query_hogids_filtr[item_idx]\n",
    "        \n",
    "        if not hog_id in hog_OG_map:   # Caculitng  most frq OG for the new hog\n",
    "            \n",
    "            hog_members = oma_db.member_of_hog_id(hog_id, level = None)                  # members of the input hog_id as objects\n",
    "            proteins_id_hog = [hog_member[0] for hog_member in hog_members]              # the protein IDs of hog members\n",
    "            proteins_object_hog = [db.ProteinEntry(oma_db, pr) for pr in proteins_id_hog]# the protein objects of hog members\n",
    "            OGs_correspond_proteins = [pr.oma_group for pr in proteins_object_hog]\n",
    "\n",
    "            OGs_correspond_proteins_fltr = [val_og  for val_og in OGs_correspond_proteins if val_og!=0] # removing OG of 0 -those prts with no OG\n",
    "            OGs_correspond_proteins_num = len(OGs_correspond_proteins_fltr)\n",
    "            \n",
    "            if OGs_correspond_proteins_num >0:\n",
    "                mostFrequent_OG = max(set(OGs_correspond_proteins_fltr), key = OGs_correspond_proteins_fltr.count)\n",
    "                \n",
    "                ### for development\n",
    "                \n",
    "                frq_most_frequent_og = OGs_correspond_proteins_fltr.count(mostFrequent_OG)/OGs_correspond_proteins_num \n",
    "                print(\"For query\",query_protein,\"Most frequent OG is:\",mostFrequent_OG, \"with freq of\",OGs_correspond_proteins_fltr.count(mostFrequent_OG),\n",
    "                      \"out of\", OGs_correspond_proteins_num,\"=>\",round(frq_most_frequent_og,3))\n",
    "                frq_most_frequent_og_list_all.append(frq_most_frequent_og)\n",
    "                ### \n",
    "                \n",
    "            else: # empty OGs_correspond_proteins_fltr\n",
    "                mostFrequent_OG= -1\n",
    "                \n",
    "            hog_OG_map[hog_id]=mostFrequent_OG\n",
    "                \n",
    "        else:  # hog_id is in hog_OG_map dic\n",
    "            print(\"using the hog-og-map\")\n",
    "            mostFrequent_OG = hog_OG_map[hog_id]\n",
    "            \n",
    "        if mostFrequent_OG in OGs_queries:\n",
    "            OGs_queries_k = OGs_queries[mostFrequent_OG]\n",
    "            \n",
    "            if not query_species_name in OGs_queries_k:\n",
    "                OGs_queries_k[query_species_name] = seqRecords_query_edited\n",
    "                OGs_queries[mostFrequent_OG] = OGs_queries_k\n",
    "        else:\n",
    "            OGs_queries[mostFrequent_OG] = {query_species_name: seqRecords_query_edited} # query_protein = query_prot_names_filtr[item_idx]\n",
    "            \n",
    " "
   ]
  },
  {
   "cell_type": "code",
   "execution_count": 49,
   "id": "8d4bc72a",
   "metadata": {},
   "outputs": [
    {
     "data": {
      "image/png": "[encoded data removed]",
      "text/plain": [
       "<Figure size 432x288 with 1 Axes>"
      ]
     },
     "metadata": {
      "needs_background": "light"
     },
     "output_type": "display_data"
    },
    {
     "data": {
      "text/plain": [
       "<Figure size 432x288 with 0 Axes>"
      ]
     },
     "metadata": {},
     "output_type": "display_data"
    }
   ],
   "source": [
    "# for development\n",
    "\n",
    "# plots are for the last species not all \n",
    "plt.hist(frq_most_frequent_og_list_all) # , bins=10\n",
    "plt.show()\n",
    "plt.savefig(project_folder+\"frq_most_frequent_og_list_all.png\")\n"
   ]
  },
  {
   "cell_type": "code",
   "execution_count": 51,
   "id": "8c42419b",
   "metadata": {},
   "outputs": [
    {
     "name": "stdout",
     "output_type": "stream",
     "text": [
      "ID: Xiphorhynchus_elegans_269412_\n",
      "Number of features: 0\n",
      "Seq('ALKRFHGSSDYRREMEDIQRECFALDGEKPKKPWQLFTDRGVRWQLITVIVMTM...TYQ')\n",
      "ID: Xiphorhynchus_elegans_269412_\n",
      "Number of features: 0\n",
      "Seq('DDDDKIVGGYTCAEHSVPYQVSLNSGYHFCGGSLISSEWVLSAAHCYKSRIQVQ...SEY')\n",
      "ID: Xiphorhynchus_elegans_269412_\n",
      "Number of features: 0\n",
      "Seq('LQVNNNGVISFDDPVRQYTADPFPLADGGTFVAPYWADVDNVLGGDIFYRQTTD...VVG')\n",
      "ID: Xiphorhynchus_elegans_269412_\n",
      "Number of features: 0\n",
      "Seq('QMCEKFTVCENSMEMLLQNNLNLPRVTEEDGFVNDFLTFLSFQEKCLRKISSGL...FSA')\n",
      "ID: Zosterops_hypoxanthus_2485327_\n",
      "Number of features: 0\n",
      "Seq('AGMAQEGPPAFFGSQELDLSTKVYKRESGSPFSVLVDSKVSKGHLHEREEQQGP...YTM')\n",
      "ID: Zosterops_hypoxanthus_2485327_\n",
      "Number of features: 0\n",
      "Seq('VEYMLVKFDHENKKVRLILCGEEIVQTLQDKGEKVNPNHPTLWRPEYGSYMIEG...TDS')\n",
      "ID: Zosterops_hypoxanthus_2485327_\n",
      "Number of features: 0\n",
      "Seq('MAPKKKNVKKNKADINETTIIVEDGPLSKLNGLNGLLEGGNGFSCISSEVSDPS...VSI')\n",
      "ID: Zosterops_hypoxanthus_2485327_\n",
      "Number of features: 0\n",
      "Seq('MNRYKTIRQLGDGTYGSVLLGRSIESGELIAIKKMKRKFYSWEECMNLREVKSL...AHR')\n"
     ]
    }
   ],
   "source": [
    "########## Combine proteins of OG with queries ##################\n",
    "#################################################################\n",
    "\n",
    "seqRecords_all = []\n",
    "for OG_q in OGs_queries.keys():  # OG found in the query\n",
    "    \n",
    "    dic_species_prot = OGs_queries[OG_q]\n",
    "    #print(dic_species_prot)\n",
    "     \n",
    "    seqRecords_query_edited_all = []\n",
    "    for query_species_name,seqRecords_query_edited  in dic_species_prot.items():\n",
    "        print(seqRecords_query_edited)\n",
    "        seqRecords_query_edited_all.append(seqRecords_query_edited) \n",
    "        \n",
    "    \n",
    "    mostFrequent_OG = OG_q\n",
    "    if mostFrequent_OG != -1:\n",
    "        OG_members = oma_db.oma_group_members(mostFrequent_OG)\n",
    "        proteins_object_OG = [db.ProteinEntry(oma_db, pr) for pr in OG_members]  # the protein IDs of og members\n",
    "         # covnert to biopython objects\n",
    "        seqRecords_OG=[SeqRecord(Seq(pr.sequence),str(pr.genome.uniprot_species_code),'','') for pr in proteins_object_OG]\n",
    "        \n",
    "        \n",
    "        seqRecords_OG_queries =seqRecords_OG + seqRecords_query_edited_all\n",
    "        #print(\"length of OG\",mostFrequent_OG,\"was\",len(seqRecords_OG),\",now is\",len(seqRecords_OG_queries),\"\\n\")\n",
    "        \n",
    "    seqRecords_all.append(seqRecords_OG_queries)\n",
    "    \n",
    "     \n",
    "#print(\"number of OGs\",len(seqRecords_all),len(seqRecords_OG_queries))\n"
   ]
  },
  {
   "cell_type": "code",
   "execution_count": 53,
   "id": "4a690c2e",
   "metadata": {},
   "outputs": [],
   "source": [
    "# # for development\n",
    "# # plots are for the last species not all \n",
    "# plt.hist(seqRecords_OG_num_list) # , bins=10\n",
    "# plt.show()\n",
    "# plt.savefig(project_folder+\"_one_species_seqRecords_OG_num_list.png\")\n"
   ]
  },
  {
   "cell_type": "code",
   "execution_count": 54,
   "id": "3e78c61e",
   "metadata": {},
   "outputs": [
    {
     "name": "stdout",
     "output_type": "stream",
     "text": [
      "127\n",
      "time elapsed for MSA:  38.32399821281433\n",
      "127 979\n",
      "40\n",
      "time elapsed for MSA:  0.8300786018371582\n",
      "40 274\n",
      "25\n",
      "time elapsed for MSA:  0.8590226173400879\n",
      "25 470\n",
      "63\n",
      "time elapsed for MSA:  1.9365646839141846\n",
      "63 280\n",
      "87\n",
      "time elapsed for MSA:  16.405167818069458\n",
      "87 872\n",
      "401\n",
      "time elapsed for MSA:  83.65566611289978\n",
      "401 2701\n",
      "115\n",
      "time elapsed for MSA:  29.59513521194458\n",
      "115 730\n",
      "106\n",
      "time elapsed for MSA:  29.90656590461731\n",
      "106 936\n",
      "[<<class 'Bio.Align.MultipleSeqAlignment'> instance (127 records of length 979, SingleLetterAlphabet()) at 7efe80834070>, <<class 'Bio.Align.MultipleSeqAlignment'> instance (40 records of length 274, SingleLetterAlphabet()) at 7efe80834af0>, <<class 'Bio.Align.MultipleSeqAlignment'> instance (25 records of length 470, SingleLetterAlphabet()) at 7efe876fc130>, <<class 'Bio.Align.MultipleSeqAlignment'> instance (63 records of length 280, SingleLetterAlphabet()) at 7efe807f8850>, <<class 'Bio.Align.MultipleSeqAlignment'> instance (87 records of length 872, SingleLetterAlphabet()) at 7efe808808e0>, <<class 'Bio.Align.MultipleSeqAlignment'> instance (401 records of length 2701, SingleLetterAlphabet()) at 7efe8082d9d0>, <<class 'Bio.Align.MultipleSeqAlignment'> instance (115 records of length 730, SingleLetterAlphabet()) at 7efe808c6550>, <<class 'Bio.Align.MultipleSeqAlignment'> instance (106 records of length 936, SingleLetterAlphabet()) at 7f0029ebc910>]\n"
     ]
    }
   ],
   "source": [
    "############## MSA  ##############\n",
    "##################################\n",
    "\n",
    "\n",
    "result_mafft_all_species = []\n",
    "for seqRecords_OG_queries in seqRecords_all:\n",
    "    print(len(seqRecords_OG_queries))\n",
    "    #print(\"MSA on progress for og \", ?)\n",
    "    wrapper_mafft = mafft.Mafft(seqRecords_OG_queries,datatype=\"PROTEIN\")\n",
    "    run_mafft = wrapper_mafft()\n",
    "    time_taken_mafft = wrapper_mafft.elapsed_time\n",
    "\n",
    "    result_mafft = wrapper_mafft.result   \n",
    "    time_taken_mafft2 = wrapper_mafft.elapsed_time\n",
    "    print(\"time elapsed for MSA: \",time_taken_mafft2)\n",
    "\n",
    "    result_mafft_all_species.append(result_mafft)\n",
    "    print(len(result_mafft),result_mafft.get_alignment_length()) # matrix size\n",
    "\n",
    "        \n",
    "print(result_mafft_all_species)"
   ]
  },
  {
   "cell_type": "code",
   "execution_count": 55,
   "id": "478b165e",
   "metadata": {},
   "outputs": [
    {
     "name": "stdout",
     "output_type": "stream",
     "text": [
      "alignments len 8\n",
      "ids:  441 964\n"
     ]
    }
   ],
   "source": [
    "############## Concatante alignments  ##############\n",
    "####################################################\n",
    "\n",
    "#alignments= result_maf2_all\n",
    "\n",
    "alignments= result_mafft_all_species\n",
    "print(\"alignments len\",len(alignments))\n",
    "#print([len(aln) for aln in alignments ])\n",
    "#print([len(seq) for aln in alignments for seq in aln])\n",
    "\n",
    "all_labels_raw = [seq.id for aln in alignments for seq in aln]\n",
    "all_labels = set(all_labels_raw)\n",
    "print(\"ids: \",len(all_labels),len(all_labels_raw))\n",
    "\n",
    "# Make a dictionary to store info as we go along\n",
    "# (defaultdict is convenient -- asking for a missing key gives back an empty list)\n",
    "concat_buf = defaultdict(list)\n",
    "\n",
    "# Assume all alignments have same alphabet\n",
    "alphabet = alignments[0]._alphabet\n",
    "\n",
    "for aln in alignments:\n",
    "    length = aln.get_alignment_length()\n",
    "    #print(\"length\",length)\n",
    "    # check if any labels are missing in the current alignment\n",
    "    these_labels = set(rec.id for rec in aln)\n",
    "    missing = all_labels - these_labels\n",
    "    #print(missing)\n",
    "    # if any are missing, create unknown data of the right length,\n",
    "    # stuff the string representation into the concat_buf dict\n",
    "    for label in missing:\n",
    "        new_seq = UnknownSeq(length, alphabet=alphabet)\n",
    "        concat_buf[label].append(str(new_seq))\n",
    "\n",
    "    # else stuff the string representation into the concat_buf dict\n",
    "    for rec in aln:\n",
    "        concat_buf[rec.id].append(str(rec.seq))\n",
    "\n",
    "# Stitch all the substrings together using join (most efficient way),\n",
    "# and build the Biopython data structures Seq, SeqRecord and MultipleSeqAlignment\n",
    "msa = MultipleSeqAlignment(SeqRecord(Seq(''.join(seq_arr), alphabet=alphabet), id=label)\n",
    "                            for (label, seq_arr) in concat_buf.items())\n",
    "\n",
    "#print(msa)"
   ]
  },
  {
   "cell_type": "code",
   "execution_count": 56,
   "id": "e001ef48",
   "metadata": {},
   "outputs": [
    {
     "name": "stdout",
     "output_type": "stream",
     "text": [
      "441 7242\n"
     ]
    }
   ],
   "source": [
    "\n",
    "\n",
    "out_name_msa=project_folder+\"_msa_concatanated.txt\"\n",
    "handle_msa_fasta = open(out_name_msa,\"w\")\n",
    "SeqIO.write(msa, handle_msa_fasta,\"fasta\")\n",
    "handle_msa_fasta.close()\n",
    "    \n",
    "print(len(msa),msa.get_alignment_length()) # super matrix size"
   ]
  },
  {
   "cell_type": "code",
   "execution_count": 57,
   "id": "f64cb3a7",
   "metadata": {
    "scrolled": true
   },
   "outputs": [
    {
     "name": "stdout",
     "output_type": "stream",
     "text": [
      "15871\n"
     ]
    }
   ],
   "source": [
    "############## Tree inference  ###################\n",
    "##################################################\n",
    "\n",
    "wrapper_tree=fasttree.Fasttree(msa,datatype=\"PROTEIN\")\n",
    "result_tree1 = wrapper_tree()\n",
    "\n",
    "time_taken_tree = wrapper_tree.elapsed_time \n",
    "time_taken_tree\n",
    "\n",
    "result_tree2 = wrapper_tree.result\n",
    "tree_nwk=str(result_tree2[\"tree\"])\n",
    "print(len(tree_nwk))\n",
    "\n",
    "out_name_tree=project_folder+\"_tree.txt\"\n",
    "file1 = open(out_name_tree,\"w\")\n",
    "file1.write(tree_nwk)\n",
    "file1.close() "
   ]
  },
  {
   "cell_type": "code",
   "execution_count": 58,
   "id": "35e68749",
   "metadata": {},
   "outputs": [
    {
     "data": {
      "text/plain": [
       "'((CHLSB:0.004565817,((COLAP:0.002831449,(RHIBE:0.003608682,RHIRO:0.001034256)0.986:0.002688817)0.955:0.00177094,(PONAB:0.008433743,(NOMLE:0.011892459,((GORGO:0.004606416,((PANTR:0.000514131,PANPA:0.000500607)0.995:0.003011685,HUMAN:0.002654588)0.637:0.000210703)0.950:0.001405154,(((((MICMU:0.02498245,PROCO:0.015580076)0.998:0.01631916,OTOGA:0.076407306)1.000:0.023696829,((((((MYOLU:0.075709908,PTEVA:0.018181968)0.982:0.012019736,((FELCA:0.037274162,((CANLF:0.015419662,VULVU:0.008315328)1.000:0.027032995,(MUSPF:0.045042408,(AILME:0.011177043,(URSAM:0.001751395,URSMA:0.004062977)0.978:0.004898445)1.000:0.010344481)0.999:0.009009099)0.936:0.004632387)0.981:0.014492175,ERIEU:0.130850093)0.189:0.004910443)0.745:0.001819222,SORAR:0.088590045)0.532:0.001413274,((MANJA:0.07723967,((PIGXX:0.035986961,(TURTR:0.020415423,(BOVIN:0.007218944,(CAPHI:0.011562634,SHEEP:0.016459896)0.912:0.004178717)1.000:0.050429924)0.987:0.006255351)0.008:0.003043479,VICPA:0.033701779)0.998:0.019180828)0.310:0.005047023,(HORSE:0.002255912,EQUAS:0.003337499)1.000:0.048339196)0.895:0.004130464)0.968:0.004826669,(((((MACEU:0.013453583,SARHA:0.075020764)0.916:0.024403324,(MONDO:0.029458827,PHACI:0.029811665)0.434:0.007330479)1.000:0.057596079,(((((PETMA:0.286848264,EPTBU:0.295468396)1.000:0.21092111,(LEPOC:0.100030665,((((ICTPU:0.111544456,(PYGNA:0.053362287,ASTMX:0.114902222)0.881:0.026947838)0.999:0.060301863,DANRE:0.107183114)0.995:0.035447075,((ESOLU:0.05380149,SALSA:0.046545005)1.000:0.065611316,((HIPCM:0.118603993,((((GASAC:0.090141181,(ANATE:0.044276958,SERDU:0.045586051)0.683:0.005003475)0.811:0.003841187,(CYNSE:0.115344526,SCOMX:0.06733645)0.985:0.023066036)0.800:0.007326647,((AMPOC:0.003808161,AMPPE:0.001000152)1.000:0.063884704,((AMPCI:0.045774402,(((ASTCA:0.026124996,HAPBU:0.00469703)0.942:0.003052474,NEOBR:0.017887026)0.993:0.006784365,ORENI:0.007156916)1.000:0.021707159)1.000:0.034944171,(((CYPVA:0.04532884,(XIPMA:0.014388933,(POERE:0.01435957,POEFO:0.027113269)0.950:0.005461956)1.000:0.024225198)1.000:0.034433366,(KRYMA:0.07685879,NOTFU:0.071760654)0.917:0.013730276)0.990:0.019432903,(ORYLA:0.037210434,ORYME:0.016893259)1.000:0.083152488)1.000:0.02270921)0.639:0.007024594)0.967:0.010174568)0.972:0.016994031,((TAKRU:0.040957609,TETNG:0.048382702)1.000:0.074191459,MOLML:0.071435157)1.000:0.032836258)0.450:0.012024909)1.000:0.044122823,GADMO:0.160091229)1.000:0.044240079)0.999:0.03846324)1.000:0.049234678,ANGAN:0.114594172)1.000:0.06488968)1.000:0.141596715)0.948:0.040083527,LATCH:0.143077708)0.999:0.05787209,(XENTR:0.065807297,XENLA:0.049761213)1.000:0.181470903)0.987:0.044248145,(((SPHPU:0.060681404,ANOCA:0.1141912)0.974:0.020314917,(PELSI:0.043184366,(CHEAB:0.029400547,CHRPI:0.02319986)1.000:0.018789361)1.000:0.037060325)0.975:0.019813689,(((MELGA:0.014175356,CHICK:0.012858798)1.000:0.033034192,(ANAPL:0.006268439,ANAPP:0.005156863)1.000:0.02309429)0.997:0.011394607,((((FICAL:0.021599803,Zosterops_hypoxanthus_2485327_:0.024791999)0.818:0.00298789,(PARMJ:0.041223209,Xiphorhynchus_elegans_269412_:0.073934634)0.745:0.003226969)0.454:0.002564978,((SERCA:0.037915687,JUNHY:0.03921882)0.986:0.008376266,TAEGU:0.02635542)0.924:0.00245706)1.000:0.057106465,MELUD:0.043943504)0.987:0.013548338)1.000:0.053065093)1.000:0.056794762)1.000:0.072900377)0.212:0.016582063,ORNAN:0.094616605)1.000:0.07279758,(((((((SAPPC:0.977638686,(PHYPR:0.085443521,((PHYNI:0.003300886,PHYPN:0.003257029)1.000:0.084873461,(PHYRM:0.044419263,PHYSP:0.059312282)0.379:0.012637829)0.451:0.067884813)0.999:0.573765717)1.000:0.722772348,(((OCTBM:0.386269187,(LINUN:0.277784511,(SCHMD:0.506372118,LOTGI:0.271593745)0.925:0.084347248)0.757:0.044558056)0.784:0.02989826,((CAPTE:0.0,CAPI1:0.0):0.394054747,CRAGI:0.292346381)0.828:0.096443523)0.808:0.041642043,((((((TETUR:0.358377328,SARSC:0.604097643)0.989:0.153190904,((((((DICDI:0.149786,DICPU:0.156348824)0.999:0.130782838,(CAVFA:0.193070762,POLPP:0.194988598)0.941:0.066517762)1.000:0.47095147,((((MUCCI:0.07877128,(RHIOR:0.0,RHIO9:0.0):0.254535369)0.996:0.101311046,(PHYBL:0.150404385,(SYNRA:0.177479688,ABSGL:0.163018294)0.169:0.04399114)0.979:0.053900874)1.000:0.19776324,(((SPIPN:0.329953232,(BATDE:0.0,BATDJ:0.0):0.354436014)0.975:0.092434208,GONPJ:0.560016975)0.929:0.067272362,PIRSE:0.444870308)0.965:0.098483436)0.477:0.050801143,(((((((SCHJY:0.292748673,(SCHPO:0.114839137,(SCHCR:0.060254028,SCHOY:0.071159361)1.000:0.110497813)0.998:0.161382203)1.000:0.271944506,((PUCGR:0.0,PUCGT:0.0):0.103959299,PUCT1:0.095202324)1.000:0.620899255)0.779:0.105868959,(((MALS4:0.200368699,MALGO:0.294491721)1.000:0.297140348,(TILAU:0.169364279,(USTHO:0.055368936,USTMA:0.043470267)1.000:0.176988105)0.977:0.110226837)0.965:0.11431997,((MIXOS:0.259154477,(USTV1:0.17115967,RHOGW:0.2271901)1.000:0.201350407)0.842:0.056566164,(((TREME:0.129146538,(CRYNJ:0.035433996,(CRYGR:0.0,CRYGA:0.0):0.02307218)1.000:0.141828798)1.000:0.297459423,(SERID:0.344498107,(AURST:0.286305093,(FOMME:0.206587238,((CONPW:0.221212021,((PUNST:0.249095076,(GLOTR:0.170577676,(((DICSQ:0.081802661,(TRAPU:0.010414069,TRAVS:0.007373198)1.000:0.067666154)1.000:0.076619389,(WOLCO:0.101027837,FOMPI:0.132161905)0.975:0.038755512)0.445:0.027756848,(PHACH:0.079259779,PHLGI:0.094624978)1.000:0.125048957)0.994:0.054911869)0.903:0.031145164)0.628:0.024061179,(HETAN:0.112529665,STEHR:0.087083585)1.000:0.080715093)0.023:0.014859371)0.921:0.025902067,((SCHCM:0.0,SCHCO:0.0):0.260829924,(ARMGA:0.138304331,(((COPC7:0.0,COPCI:0.0):0.12687792,(AGABI:5e-09,AGABU:0.001373833)1.000:0.145969863)0.843:0.028799813,(LACBI:0.123824984,HYPSF:0.137542421)0.706:0.027364686)0.868:0.031392221)0.729:0.02574645)0.258:0.023651514)0.260:0.019151197)0.977:0.059010449)0.338:0.045808225)0.983:0.082393619)0.669:0.035323367,(WALSE:0.054966429,WALI9:0.128112671)1.000:0.380350841)0.290:0.042814158)0.163:0.027411453)0.819:0.03836933)0.332:0.042642049,((SAICN:0.160379072,PROLT:0.310666275)0.983:0.085535976,(((((((BOTPV:0.15679729,(PHAND:0.057902748,(LEPMJ:0.1130854,(ALTAL:0.045077496,(PYRTR:0.0691335,(COCLU:0.03597958,(COCSN:0.006506068,COCH5:0.017296137)0.991:0.021764193)0.986:0.023061934)0.417:0.016650765)0.908:0.025271763)0.987:0.041279335)1.000:0.097635353)0.788:0.032510957,CONA1:0.129194681)0.613:0.018257992,(AURPU:0.151893945,(ZYMTR:0.127874951,(SPHMS:0.108444688,(DOTSN:0.042499106,PASFU:0.029960203)1.000:0.055222272)0.938:0.027194246)1.000:0.063451038)1.000:0.066228849)0.994:0.043955081,((ENDPU:0.154870376,(EXODN:0.102689455,EXOME:0.118475258)0.997:0.085541739)0.996:0.069587304,((((PARBD:0.005444272,PARBA:0.003934683)1.000:0.053613009,(AJEDR:0.042814247,(AJECN:0.006487949,(AJEC8:0.001175866,AJECH:0.046152357)0.894:0.002425836)1.000:0.038059373)0.981:0.023028115)1.000:0.081286809,(COCIM:0.096922429,(ARTOC:0.084005417,(ARTGP:0.015738555,(ARTBC:0.00493382,TRIIM:0.003802866)0.983:0.01515593)0.942:0.013305775)1.000:0.093539509)0.942:0.032375771)0.999:0.059295941,((TALSN:0.082602931,TALIS:0.071482262)0.995:0.050125843,(ASPGL:0.099071761,((ASPCL:0.053144653,(ASPFU:0.008135822,NEOFI:0.013671665)0.978:0.024098595)0.999:0.051430636,((ASPAC:0.063788104,(ASPC5:0.024791558,ASPNG:0.033957114)0.999:0.031847133)1.000:0.041581898,((ASPTN:0.095270192,((EMEND:0.0,EMENI:0.0):0.073057706,(PENDC:0.054493117,(PENPA:0.006583581,(PENIT:0.017660303,(PENNA:0.007278853,(PENRW:0.001442332,PENCH:5e-09)0.972:0.007249558)0.886:0.004542203)0.950:0.00947836)0.994:0.032806302)0.998:0.043404591)0.357:0.013617464)0.345:0.017476895,(ASPFN:5e-09,ASPOR:0.003798498)1.000:0.072943552)0.313:0.013583858)0.604:0.016271592)0.739:0.01745899)0.996:0.046748939)0.991:0.046035541)0.997:0.054479136)0.923:0.045999468)0.979:0.048375404,((((SORMK:0.015563859,(NEUCR:0.002095299,NEUT9:0.001366442)0.968:0.009622559)1.000:0.090506914,THETO:0.14729693)0.992:0.057562915,((CRYPA:0.124759995,((MAGO7:0.0,MAGGR:0.0):0.131582771,(((VERDA:0.0,VERDV:0.0):0.109275467,(COLGC:0.058339001,(COLGR:0.034418983,COLSU:0.011745529)0.988:0.032051508)0.986:0.038015545)0.971:0.048019566,(((((BEABA:0.050642013,CORMM:0.044059756)1.000:0.085733006,STAC4:0.09886517)0.171:0.01446235,(HYPJE:0.066855423,(HYPAI:0.030955532,(TRIHA:0.019094815,HYPVG:0.014288982)0.871:0.018550492)0.372:0.015147248)1.000:0.070801578)0.672:0.013343874,(NECHA:0.022659082,((GIBM7:0.006097348,(FUSO4:5e-09,FUSC1:0.002494509)0.860:0.002746427)0.999:0.032539782,(FUSPO:0.005126771,GIBZA:0.013738466)0.990:0.020148168)1.000:0.050592877)1.000:0.083680536)0.635:0.01992979,METAQ:0.079137518)0.985:0.05406543)0.999:0.083890432)0.603:0.034424136)0.835:0.024024594,(EUTLA:0.125486292,PESFW:0.110963387)0.970:0.029848876)0.557:0.022387535)0.999:0.06314823,(BLUGR:0.33137068,(MARBU:0.128719285,(BOTFB:0.037902322,SCLS1:0.035562778)0.997:0.072854799)0.503:0.029869714)0.974:0.04302303)1.000:0.093764234)1.000:0.151533793,(PYROM:0.243859196,TUBMM:0.171638785)0.996:0.08787819)0.746:0.053816927,(ARTOA:0.070328797,DACHA:0.126976219)1.000:0.276470613)0.994:0.104803542)0.995:0.102502106)0.953:0.063832873,(((((((VANPO:0.35137367,TETPH:0.206592822)1.000:0.149434318,(ZYGRO:0.389324991,((CANGA:0.272841733,(YEAST:6e-09,(YEASA:0.037467021,YEASO:0.001496856)0.000:4.8e-08)1.000:0.203708092)0.981:0.05629588,((NAUDC:0.154884324,NAUCC:0.125044579)1.000:0.139374673,KAZNA:0.282810745)0.945:0.058476481)0.906:0.03877838)0.099:0.023847195)0.128:0.019753291,TETBL:0.45732342)0.865:0.025276859,((ASHGO:0.492812166,(LACTC:0.218294633,LACFM:0.256120548)0.995:0.117783991)0.869:0.058113039,KLULA:0.327348363)0.934:0.055226958)1.000:0.270910613,((DEKBR:0.509869338,(OGAPD:0.292601338,KOMPG:0.476045754)0.288:0.061027675)0.997:0.184886238,(CYBFA:0.29521965,CYBJN:0.30796538)1.000:0.203559083)0.000:0.050706973)0.130:0.05170994,(CANAL:0.300346822,(PICST:0.164127413,((PICSO:0.22226791,DEBHA:0.161262587)0.402:0.03519788,(CANAR:0.26734207,PICGU:0.253964475)0.782:0.055974549)0.982:0.092171736)0.847:0.07464514)1.000:0.209729318)1.000:0.226459143,YARLI:0.428145843)1.000:0.157953078)0.980:0.086716841,ROZAC:0.613263676)0.282:0.039814993,((((((GUITC:0.0,GUITH:0.0):0.524242954,(AURAN:0.653176447,((THAPS:0.425890403,ECTSI:0.454482333)0.933:0.072189665,EMIHU:0.552471247)0.441:0.041556886)0.777:0.070126177)0.997:0.212922867,PLABS:0.618212111)0.985:0.130607754,((NAEGR:0.713037771,(BODSA:0.481009945,((LEPSE:0.133747589,(LEIBR:0.160203814,(LEIMU:0.059773928,(LEIMA:0.039287105,(LEIDB:5e-09,LEIIN:0.005837111)0.986:0.017347321)0.865:0.021260912)1.000:0.105733466)0.998:0.123929035)0.999:0.185911965,(TRYCC:0.222084891,TRYB2:0.270681229)0.995:0.165776067)0.367:0.101733083)1.000:0.672441864)0.751:0.124369094,((STYLE:1.092361385,(ICHMU:0.0,ICHMG:0.0):0.909088054)0.956:0.291343237,(BABBI:1.380531367,VITBC:0.903094815)0.117:0.14460378)0.913:0.118514044)0.665:0.050422116)0.900:0.092164126,CHOCR:0.81412917)0.967:0.113700981,MONBE:0.680038491)0.596:0.046737746)0.190:0.094732851)0.865:0.046243652)0.939:0.083726975,(CAPO3:0.382338536,CREFR:0.457653982)0.961:0.098966298)0.974:0.179630305,(CHEQI:0.181547674,((ERATE:0.114342126,(BRADI:0.039599089,(TRIUA:5e-09,(AEGTA:0.001848601,(HORVV:0.015416509,WHEAT:0.003701173)0.000:5e-09)0.861:0.001849296)0.966:0.027778396)0.724:0.035360194)1.000:0.19401576,(TOBAC:0.18385831,((((POPTR:0.062924369,(MANES:0.063553152,PRUPE:0.082737005)0.362:0.012910131)0.955:0.021093523,(LOTJA:0.059077431,SOYBN:0.10124896)0.999:0.059008583)0.042:0.008472709,((ARALY:0.011101597,ARATH:0.010837012)0.975:0.02440279,(ARAAL:0.033978869,(BRARP:0.001576478,(BRANA:0.0,BRAOL:0.0):0.012787464)0.997:0.035088643)0.327:0.008076836)1.000:0.176776251)0.837:0.011754198,(THECC:0.037140931,(GOSAR:0.001853524,(GOSHI:0.005383207,GOSRA:0.003500292)0.694:0.003517405)0.992:0.032609932)0.995:0.047332966)0.512:0.03281364)0.956:0.057323655)0.829:0.066675743)1.000:1.093888713)0.525:0.019497763,(TRISP:0.504765189,(STRRB:0.254456441,((THECL:0.101436763,(ONCVO:0.031378461,(LOALO:0.030940438,BRUMA:0.049147964)0.988:0.03028569)0.998:0.062472463)1.000:0.123599021,(MELHA:0.314252676,(PRIPA:0.164258915,(CAEJA:0.023598701,(CAEEL:0.025385051,(CAERE:0.035245988,(CAEBR:0.016383721,CAEBE:0.006008948)0.771:0.004461128)0.913:0.006383948)0.586:0.010604466)1.000:0.189916375)0.962:0.062241925)0.617:0.029412196)0.598:0.038089766)0.998:0.159507844)1.000:0.190373294)0.139:0.051245369)0.391:0.054968519,(TETTS:1.40424137,PARTE:1.292659815)0.992:0.611162992)0.549:0.005631092,(((IXOSC:0.349525376,DAPPU:0.261114071)0.833:0.052162455,(((ACYPI:0.239517632,DIACI:0.365428277)0.855:0.044198965,(((DENPD:0.208935925,TRICA:0.100344029)1.000:0.114934947,(ZOONE:0.133471994,PEDHC:0.22907246)0.818:0.027908146)0.864:0.024806533,(NASVI:0.102087699,(BOMIM:0.091256289,((OOCBI:0.045618882,((ATTCE:0.100506424,LINHU:0.023362558)0.068:0.007162205,CAMFO:0.040164888)0.802:0.016118505)0.409:0.022413427,HARSA:0.042227583)0.996:0.042267253)0.994:0.055560201)1.000:0.150325555)0.840:0.027708768)0.960:0.048121654,((BOMMO:0.063328978,(HELME:0.134885599,DANPL:0.0945806)0.986:0.043027241)1.000:0.181100772,((((CULQU:0.048008659,AEDAE:0.052168286)0.944:0.038235496,(ANODA:0.051557196,ANOGA:0.054062642)0.996:0.058914814)0.997:0.088736545,CULSO:0.289439834)0.961:0.048589026,(LUCCU:0.072776154,((DROBS:0.037371219,(DROGR:0.04983316,(DRONM:0.029365588,(DROHY:0.017322226,(DRONA:0.011067314,(DROAR:0.002675636,DROMO:0.001375887)0.736:0.00135516)0.959:0.013274998)0.988:0.02440441)0.974:0.020995018)0.926:0.022640601)0.824:0.020482236,(DROWI:0.050849333,((DROAN:0.010074217,DROBP:0.009509223)0.997:0.028275685,(((DROMI:0.003266416,DROPS:0.001860467)0.989:0.016419908,(DROGU:0.019218291,DROOB:0.00460079)0.864:0.00700533)1.000:0.070595453,(DROFC:0.025992678,((((DROME:0.005337279,(DROSI:0.002626309,DROSE:0.001330912)0.867:0.002603847)0.935:0.004060585,(DROYA:0.003946348,((DROEL:0.013774945,DRORH:0.017119264)0.711:0.004687264,DROEU:0.013493254)0.727:0.001240872)0.000:5e-09)0.857:0.003216463,(DROBM:0.006576952,DROSZ:0.002600376)0.958:0.006432728)0.736:0.001471151,DROER:0.005486665)0.779:0.002771335)0.709:0.005710888)0.120:0.010330454)0.993:0.038741023)0.782:0.020946024)0.999:0.101329067)1.000:0.170236899)0.935:0.038784268)0.986:0.068215299)0.566:0.038881716)0.715:0.045773901,(LEPSM:0.541331123,(ORCCI:0.150322728,FOLCA:0.137398241)1.000:0.307429698)0.096:0.02926461)0.965:0.062541135)0.949:0.065231624,(CIOIN:0.070268588,CIOSA:0.070253135)1.000:0.458687555)0.843:0.040528823,HELRO:0.51375175)0.527:0.037341073)0.570:0.06422157)0.313:0.017354979,(((BRALA:0.136996497,BRAFL:0.045397091)1.000:0.223707539,(HYDVU:0.533679576,AMPQE:0.413375895)0.974:0.113105755)0.353:0.043975036,(STRPU:0.261537936,(ACAPL:0.112650701,ASTRU:0.077678939)1.000:0.191190708)1.000:0.141052394)0.252:0.018237454)0.969:0.072814027,NEMVE:0.326064426)0.217:0.068557523,TRIAD:0.441565858)1.000:0.362237367,(DASNO:0.086864803,CHOHO:0.019522767)0.884:0.022660928)0.217:0.004279958,(ECHTE:0.087200362,(LOXAF:0.02653082,PROCA:0.040044584)0.296:0.005892704)1.000:0.017319806)0.466:0.005735808)0.932:0.006302318)0.973:0.006549723,(((((((CAVAP:0.049459399,CAVPO:0.006095547)1.000:0.052468883,(CHILA:0.026133559,OCTDE:0.055022448)0.587:0.007834784)0.988:0.009934101,(HETGA:0.033399801,FUKDA:0.052867862)0.841:0.007130046)1.000:0.030759521,((JACJA:0.067976905,(NANGA:0.05726638,(CRIGR:0.044137173,(RATNO:0.020677713,MOUSE:0.02456962)1.000:0.021086388)1.000:0.040467405)0.998:0.021085982)0.968:0.010635867,DIPOR:0.150038274)0.776:0.004473013)0.992:0.011007805,ICTTR:0.046677612)0.993:0.014502808,TUPBE:0.078974078)0.341:0.00440136,(RABIT:0.017224539,OCHPR:0.073689216)1.000:0.025627819)1.000:0.013422228)0.989:0.011591498)0.942:0.011501242,CARSF:0.025079413)0.996:0.021222078,(CALJA:0.008886881,(AOTNA:0.008441521,SAIBB:0.005914084)0.738:0.000847471)1.000:0.0121647)0.999:0.012007787)0.713:6e-09)0.591:0.000609096)1.000:0.007377784)0.353:0.001120722)0.875:0.000916152,((MACNE:0.014151076,MACFA:5e-09)1.000:0.007983699,MACMU:0.011108799)0.815:0.000828278,((CERAT:0.009051982,MANLE:0.000987473)0.879:0.001631971,PAPAN:0.001900412)0.861:0.000760094)'"
      ]
     },
     "execution_count": 58,
     "metadata": {},
     "output_type": "execute_result"
    }
   ],
   "source": [
    "tree_nwk"
   ]
  },
  {
   "cell_type": "code",
   "execution_count": null,
   "id": "7ef485cc",
   "metadata": {},
   "outputs": [],
   "source": []
  },
  {
   "cell_type": "code",
   "execution_count": null,
   "id": "b3ad8a4e",
   "metadata": {},
   "outputs": [],
   "source": []
  },
  {
   "cell_type": "code",
   "execution_count": null,
   "id": "63b04b5b",
   "metadata": {},
   "outputs": [],
   "source": []
  }
 ],
 "metadata": {
  "kernelspec": {
   "display_name": "Python 3",
   "language": "python",
   "name": "python3"
  },
  "language_info": {
   "codemirror_mode": {
    "name": "ipython",
    "version": 3
   },
   "file_extension": ".py",
   "mimetype": "text/x-python",
   "name": "python",
   "nbconvert_exporter": "python",
   "pygments_lexer": "ipython3",
   "version": "3.8.1"
  }
 },
 "nbformat": 4,
 "nbformat_minor": 5
}
