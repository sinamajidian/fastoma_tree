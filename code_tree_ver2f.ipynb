{
 "cells": [
  {
   "cell_type": "code",
   "execution_count": 149,
   "id": "d0927039",
   "metadata": {},
   "outputs": [
    {
     "name": "stdout",
     "output_type": "stream",
     "text": [
      "09:14:08 - The map for taxonID omaID of 2424 records have read.\n",
      "09:14:08 - The map for taxonID bird6ID of 363 records have read.\n",
      "2424 363 2778\n"
     ]
    }
   ],
   "source": [
    "#!/usr/bin/python3\n",
    "\n",
    "import numpy as np\n",
    "from sys import argv\n",
    "\n",
    "from datetime import datetime\n",
    "#import concurrent.futures\n",
    "\n",
    "# import ast\n",
    "#  for development \n",
    "# import matplotlib\n",
    "# matplotlib.use('Agg')\n",
    "import matplotlib.pyplot as plt\n",
    "\n",
    "import ete3\n",
    "\n",
    "\n",
    "\n",
    "datasets_address= \"/work/FAC/FBM/DBC/cdessim2/default/smajidi1/fastoma/archive/\"\n",
    "# oma_database_address = datasets_address + \"OmaServer.h5\"\n",
    "# hog_og_map_address = datasets_address + \"hog_og_map.dic\"\n",
    "omaID_address = datasets_address+\"oma-species.txt\"\n",
    "bird6ID_address = datasets_address+\"info.tsv\"\n",
    "\n",
    "\n",
    "\n",
    "def read_taxonID_map(omaID_address,bird6ID_address):\n",
    "    \n",
    "    omaID_file = open(omaID_address,'r')\n",
    "    taxonID_omaID={}\n",
    "    omaID_taxonID={}\n",
    "    for line in omaID_file:\n",
    "        line_strip = line.strip()\n",
    "        if line_strip.startswith('#'):\n",
    "            pass\n",
    "            #header_lines_list.append(line_strip)\n",
    "        else:\n",
    "            line_parts=line_strip.split('\\t')\n",
    "\n",
    "            omaID = line_parts[0]\n",
    "            taxonID = int(line_parts[1])\n",
    "            taxonID_omaID[taxonID]=omaID\n",
    "            omaID_taxonID[omaID]=taxonID\n",
    "            \n",
    "    omaID_file.close()\n",
    "        \n",
    "    current_time = datetime.now().strftime(\"%H:%M:%S\")\n",
    "    print(current_time, \"- The map for taxonID omaID of\",len(taxonID_omaID),\"records have read.\") \n",
    "    \n",
    "    \n",
    "    bird6ID_file = open(bird6ID_address,'r')\n",
    "    taxonID_bird6ID={}\n",
    "    bird6ID_taxonID= {}\n",
    "    for line in bird6ID_file:\n",
    "        line_strip = line.strip()\n",
    "        if line_strip.startswith('Or'):\n",
    "            pass\n",
    "            line_strip1=line_strip\n",
    "            #header_lines_list.append(line_strip)\n",
    "        else:\n",
    "            line_parts=line_strip.split('\\t')\n",
    "\n",
    "            bird6ID = line_parts[6]\n",
    "            taxonID = int(line_parts[8])\n",
    "            taxonID_bird6ID[taxonID]=bird6ID\n",
    "            bird6ID_taxonID[bird6ID]=taxonID\n",
    "            \n",
    "    bird6ID_file.close()\n",
    "        \n",
    "    current_time = datetime.now().strftime(\"%H:%M:%S\")\n",
    "    print(current_time, \"- The map for taxonID bird6ID of\",len(taxonID_bird6ID),\"records have read.\") \n",
    "  \n",
    "    return (taxonID_omaID,taxonID_bird6ID,omaID_taxonID,bird6ID_taxonID)\n",
    "    \n",
    "         \n",
    "(taxonID_omaID,taxonID_bird6ID,omaID_taxonID,bird6ID_taxonID) = read_taxonID_map(omaID_address,bird6ID_address)\n",
    "# left is the ky\n",
    "# taxonID_omaID  {taxonID:omaID, .. }\n",
    "# taxonID_omaID[1111]=ABABA\n",
    "\n",
    "taxonID_map = {**taxonID_omaID,**taxonID_bird6ID }\n",
    "\n",
    "print(len(taxonID_omaID),len(taxonID_bird6ID),len(taxonID_map))\n",
    "#taxonID_list= list(taxonID_map.keys())"
   ]
  },
  {
   "cell_type": "markdown",
   "id": "58c5d60f",
   "metadata": {},
   "source": [
    "# Reading FastOMA bird  tree"
   ]
  },
  {
   "cell_type": "code",
   "execution_count": 248,
   "id": "b298bfec",
   "metadata": {},
   "outputs": [
    {
     "data": {
      "text/plain": [
       "'/work/FAC/FBM/DBC/cdessim2/default/smajidi1/fastoma/v3b/iqtree5/_100_msa_concatanated.txt_copy1.contree_collapsed_brnch_0.01'"
      ]
     },
     "execution_count": 248,
     "metadata": {},
     "output_type": "execute_result"
    }
   ],
   "source": [
    "\n",
    "project_folder_root=\"/work/FAC/FBM/DBC/cdessim2/default/smajidi1/fastoma/v3b/\" # v3b/\n",
    "project_folder = project_folder_root +\"hogmapX/\"\n",
    "\n",
    "#bird_tree_address=project_folder_root+\"iqtree10/_100_msa_concatanated.txt_copy1.contree\"\n",
    "\n",
    "bird_tree_address=project_folder_root+\"iqtree5/_100_msa_concatanated.txt_copy1.contree_collapsed_brnch_0.01\" # 1e-05\" # \n",
    "#\"iqtree5/_100_msa_concatanated.txt_copy1.contree\"\n",
    "#\"iqtree4_1/_100_msa_concatanated.txt.contree\"\n",
    "#\"iqtree5/_100_msa_concatanated.txt_copy1.contree\"\n",
    "#\"iqtree11/border_out_parition.nex.contree\"\n",
    "#_100_msa_concatanated.txt_copy1.contree\" # _collapsed_95\n",
    "\n",
    "\n",
    "bird_tree_address "
   ]
  },
  {
   "cell_type": "code",
   "execution_count": 249,
   "id": "dc8e7f71",
   "metadata": {},
   "outputs": [
    {
     "name": "stdout",
     "output_type": "stream",
     "text": [
      "bird_hog_tree_leaf_count 383\n",
      "383 375\n",
      "[59729, 59894, 8839, 9031, 13146, 9135, 9157, 40217]\n",
      "['TAEGU', 'FICAL', 'ANAPL', 'CHICK', 'MELUD', 'SERCA', 'PARMJ', 'JUNHY']\n",
      "383 375\n",
      "383 375\n"
     ]
    }
   ],
   "source": [
    "bird_tree_raw= ete3.Tree(bird_tree_address) # ,format=0\n",
    "len(bird_tree_raw)\n",
    "#bird_tree.write()\n",
    "\n",
    "bird_tree_leaves_omaID_bird6ID=[]\n",
    "for node in bird_tree_raw.traverse(strategy=\"postorder\"):\n",
    "    if node.is_leaf() : # why ?\n",
    "        bird_tree_leaves_omaID_bird6ID.append(node.name)\n",
    "    \n",
    "print(\"bird_hog_tree_leaf_count\",len(bird_tree_leaves_omaID_bird6ID))\n",
    "bird_tree_leaves_omaID_bird6ID[:3]\n",
    "\n",
    "bird_tree_leaves_taxonID = []\n",
    "for i3 in bird_tree_leaves_omaID_bird6ID:\n",
    "    if i3 in omaID_taxonID:\n",
    "        taxonID=omaID_taxonID[i3]\n",
    "    if i3  in bird6ID_taxonID:\n",
    "        taxonID= bird6ID_taxonID[i3]\n",
    "    # if it was in the both I save the bird ID    \n",
    "    bird_tree_leaves_taxonID.append(taxonID)\n",
    "\n",
    "bird_tree_leaves_taxonID_unq=list(set(bird_tree_leaves_taxonID))\n",
    "\n",
    "print(len(bird_tree_leaves_taxonID),len(bird_tree_leaves_taxonID_unq))\n",
    "bird_tree_leaves_taxonID_unq[:3]\n",
    "\n",
    "\n",
    "both_bird_oma_taxonID=[]\n",
    "for i in bird_tree_leaves_taxonID_unq:\n",
    "    if bird_tree_leaves_taxonID.count(i)>1:\n",
    "        both_bird_oma_taxonID.append(i)\n",
    "print(both_bird_oma_taxonID)\n",
    "\n",
    "both_bird_oma_omaID=[]\n",
    "for i in both_bird_oma_taxonID:\n",
    "    both_bird_oma_omaID.append(taxonID_omaID[i])\n",
    "\n",
    "print(both_bird_oma_omaID)\n",
    "\n",
    "bird_tree_leaves_omaID_bird6ID_uniq=[i for i in bird_tree_leaves_omaID_bird6ID if i not in both_bird_oma_omaID]\n",
    "print(len(bird_tree_leaves_omaID_bird6ID),len(bird_tree_leaves_omaID_bird6ID_uniq))\n",
    "\n",
    "\n",
    "bird_tree= ete3.Tree(bird_tree_address)\n",
    "bird_tree.prune(bird_tree_leaves_omaID_bird6ID_uniq)\n",
    "\n",
    "print(len(bird_tree_raw),len(bird_tree))\n"
   ]
  },
  {
   "cell_type": "markdown",
   "id": "7603307a",
   "metadata": {},
   "source": [
    "# Reading  NCBI tree"
   ]
  },
  {
   "cell_type": "code",
   "execution_count": 250,
   "id": "c633f1a2",
   "metadata": {},
   "outputs": [
    {
     "name": "stdout",
     "output_type": "stream",
     "text": [
      "The NCBI taxanomy is read and the leaves names changed to OMA/bird6 ID containing\n",
      "375\n"
     ]
    }
   ],
   "source": [
    "ncbi = ete3.NCBITaxa()  # first time download in ~/.etetoolkit/\n",
    "ncbi_sub_tree = ncbi.get_topology(bird_tree_leaves_taxonID_unq)\n",
    "\n",
    "## change the node name from NCBI taxon id (integer) to   omaID (5-letter) or bird6ID (6-letter)\n",
    "\n",
    "for node in ncbi_sub_tree.traverse(strategy=\"postorder\"):\n",
    "    node.name2 = node.name\n",
    "    if node.is_leaf() : # why ? and int(node.name) in taxonID_map\n",
    "        node.name = taxonID_map[int(node.name)]\n",
    "\n",
    "#current_time = datetime.now().strftime(\"%H:%M:%S\")\n",
    "#print(current_time, \n",
    "print(\"The NCBI taxanomy is read and the leaves names changed to OMA/bird6 ID containing\")\n",
    "print(len(ncbi_sub_tree)) \n",
    "#print(ncbi_sub_tree.get_ascii(attributes=[\"name\"]))     \n",
    "\n",
    "#ncbi_sub_tree.write() "
   ]
  },
  {
   "cell_type": "markdown",
   "id": "8fb903a1",
   "metadata": {},
   "source": [
    "# Reading bird paper tree"
   ]
  },
  {
   "cell_type": "code",
   "execution_count": 251,
   "id": "c0492a81",
   "metadata": {},
   "outputs": [
    {
     "name": "stdout",
     "output_type": "stream",
     "text": [
      "10135\n",
      "09:21:21 - The bird science name  for  363 records have read.\n",
      "['Cercotrichas_coryphaeus', 'Corvus_cornix', 'Eolophus_roseicapillus', 'Nannopterum_auritus', 'Nannopterum_brasilianus', 'Nannopterum_harrisi', 'Urile_pelagicus']\n",
      "363 356\n"
     ]
    },
    {
     "data": {
      "text/plain": [
       "356"
      ]
     },
     "execution_count": 251,
     "metadata": {},
     "output_type": "execute_result"
    }
   ],
   "source": [
    "bird_paper_tree_address= \"/work/FAC/FBM/DBC/cdessim2/default/smajidi1/fastoma/archive/bird_paper_tree.txt\"\n",
    "bird_paper_tree_raw= ete3.Tree(bird_paper_tree_address, format=1)\n",
    "#len(bird_paper_tree_raw)\n",
    "\n",
    "bird_paper_tree_leaves=[]\n",
    "for node in bird_paper_tree_raw.traverse(strategy=\"postorder\"):\n",
    "    if node.is_leaf() : # why ?\n",
    "        bird_paper_tree_leaves.append(node.name)\n",
    "print(len(bird_paper_tree_leaves))\n",
    "bird_paper_tree_leaves[:3]\n",
    "\n",
    "\n",
    "\n",
    "bird_SCINAME_address= \"/work/FAC/FBM/DBC/cdessim2/default/smajidi1/fastoma/archive/\"+\"SCINAME_all_pure_under.txt\"\n",
    "\n",
    "def read_bird_SCINAME(bird_SCINAME_address):\n",
    "    \n",
    "    bird_SCINAME_file = open(bird_SCINAME_address,'r')\n",
    "    bird_SCINAME_list = []\n",
    "    \n",
    "    for line in bird_SCINAME_file:\n",
    "        line_strip = line.strip()\n",
    "        bird_SCINAME_list.append(line_strip)\n",
    "        \n",
    "    current_time = datetime.now().strftime(\"%H:%M:%S\")\n",
    "    print(current_time, \"- The bird science name  for \",len(bird_SCINAME_list),\"records have read.\") \n",
    "    return bird_SCINAME_list\n",
    "\n",
    "\n",
    "bird_SCINAME_list = read_bird_SCINAME(bird_SCINAME_address)\n",
    "\n",
    "#bird_paper_tree_raw.prune(bird_SCINAME_list)\n",
    "\n",
    "notin_paper_tree= []\n",
    "for i in bird_SCINAME_list:\n",
    "    if i not in bird_paper_tree_leaves: \n",
    "        notin_paper_tree.append(i)\n",
    "print(notin_paper_tree)\n",
    "#notin_paper_tree=[\"Cercotrichas_coryphaeus\",\"Corvus_cornix\",\"Eolophus_roseicapillus\",\"Nannopterum_auritus\",\"Nannopterum_brasilianus\",\"Nannopterum_harrisi\",\"Urile_pelagicus\"]\n",
    "\n",
    "\n",
    "        \n",
    "bird_SCINAME_list_filt=[i for i in bird_SCINAME_list if i not in notin_paper_tree]\n",
    "print(len(bird_SCINAME_list),len(bird_SCINAME_list_filt) )\n",
    "    \n",
    "\n",
    "bird_paper_tree= ete3.Tree(bird_paper_tree_address, format=1)\n",
    "\n",
    "bird_paper_tree.prune(bird_SCINAME_list_filt)\n",
    "len(bird_paper_tree)\n",
    "\n",
    "bird_paper_tree_nodes =[]\n",
    "\n",
    "for node in bird_paper_tree.traverse(strategy=\"postorder\"):\n",
    "    node.name2 = node.name\n",
    "    if node.is_leaf() : # why ? and int(node.name) in taxonID_map\n",
    "        \n",
    "        node_name = node.name\n",
    "        node_name_split= node_name.split('_')\n",
    "        six_letter_name= ''.join([i[:3].upper() for i in node_name_split])\n",
    "        if len(six_letter_name)<5:\n",
    "            print(node_name)\n",
    "        else:\n",
    "            node.name= six_letter_name\n",
    "            #print(six_letter_name)\n",
    "            bird_paper_tree_nodes.append(six_letter_name)\n",
    "\n",
    "len(bird_paper_tree_nodes)"
   ]
  },
  {
   "cell_type": "markdown",
   "id": "1fef98d5",
   "metadata": {},
   "source": [
    "# Comapring intersection all trees"
   ]
  },
  {
   "cell_type": "code",
   "execution_count": 252,
   "id": "e65520ce",
   "metadata": {},
   "outputs": [
    {
     "data": {
      "text/plain": [
       "(354, 354, 354)"
      ]
     },
     "execution_count": 252,
     "metadata": {},
     "output_type": "execute_result"
    }
   ],
   "source": [
    "ncbi_sub_tree_nodes =[]\n",
    "for node in ncbi_sub_tree.traverse(strategy=\"postorder\"):\n",
    "    if node.is_leaf() : \n",
    "        ncbi_sub_tree_nodes.append(node.name)\n",
    "len(ncbi_sub_tree_nodes),len(set(ncbi_sub_tree_nodes+bird_paper_tree_nodes))\n",
    "\n",
    "bird_tree_leaves_omaID_bird6ID_uniq_set=set(bird_tree_leaves_omaID_bird6ID_uniq)\n",
    "bird_paper_tree_nodes_set=set(bird_paper_tree_nodes)\n",
    "\n",
    "bird_tree_paper_tree_intersection= bird_paper_tree_nodes_set.intersection(bird_tree_leaves_omaID_bird6ID_uniq_set)\n",
    "len(bird_tree_paper_tree_intersection)\n",
    "\n",
    "\n",
    "ncbi_bird_tree_paper_tree_intersection= bird_tree_paper_tree_intersection.intersection(set(ncbi_sub_tree_nodes))\n",
    "len(ncbi_bird_tree_paper_tree_intersection)\n",
    "\n",
    "ncbi_sub_tree.prune(ncbi_bird_tree_paper_tree_intersection) # bird_tree_paper_tree_intersection \n",
    "\n",
    "\n",
    "bird_tree.prune(bird_tree_paper_tree_intersection)\n",
    "bird_paper_tree.prune(bird_tree_paper_tree_intersection) # bird_tree_paper_tree_intersection \n",
    "\n",
    "len(bird_tree),len(bird_paper_tree), len(ncbi_sub_tree)"
   ]
  },
  {
   "cell_type": "code",
   "execution_count": 253,
   "id": "c413eecc",
   "metadata": {},
   "outputs": [
    {
     "name": "stdout",
     "output_type": "stream",
     "text": [
      "---------------\n",
      "RF distance is 309 over a total of 477\n",
      "Partitions: \n",
      "in paper: 698 . in ncbi: 489\n",
      "in both paper and ncbi: 439\n",
      "only in ncbi, not in paper: 259\n",
      "only in paper, not in ncbi: 50\n",
      "---------------\n",
      "RF distance is 153 over a total of 297\n",
      "Partitions: \n",
      "in fast: 518 . in ncbi: 489\n",
      "in both fast and ncbi: 427\n",
      "only in ncbi, not in fast: 91\n",
      "only in fast, not in ncbi: 62\n",
      "---------------\n",
      "0\n",
      "only in fastOMA: 22\n",
      "only in fastOMA & paper: 69\n",
      "only in fastOMA & NCBI: 5\n",
      "only in paper & NCBI: 17\n",
      "only in fastOMA & NCBI & paper: 422\n",
      "only in paper: 190\n",
      "only in NCBI: 190\n"
     ]
    }
   ],
   "source": [
    "bird_tree.set_outgroup(\"CALPUG\") # CALPUG MOUS  BUCCAP\n",
    "print(\"-\"*15)\n",
    "\n",
    "out_paper_ncbi = bird_paper_tree.robinson_foulds(ncbi_sub_tree) # , expand_polytomies = True  #,polytomy_size_limit=20  ,unrooted_trees=True # , expand_polytomies = True\n",
    "(rf_paper_ncbi, maxparts_paper_ncbi, common_attrs, edges_paper, edges_ncbi, discard_t1, discard_t2)=out_paper_ncbi \n",
    "\n",
    "print(\"RF distance is %s over a total of %s\" %(rf_paper_ncbi, maxparts_paper_ncbi))\n",
    "print(\"Partitions: \")\n",
    "print(\"in paper:\",len(edges_paper),\". in ncbi:\",len(edges_ncbi)) # , \"Common Partitions\",len(common_attrs_paper),)\n",
    "print(\"in both paper and ncbi:\", len(edges_ncbi &edges_paper))\n",
    "print(\"only in ncbi, not in paper:\", len(edges_paper-edges_ncbi)) # order not sure  http://etetoolkit.org/docs/latest/tutorial/tutorial_trees.html#robinson-foulds-distance\n",
    "print(\"only in paper, not in ncbi:\", len(edges_ncbi-edges_paper))\n",
    "\n",
    "print(\"-\"*15)\n",
    "\n",
    "out_fast_ncbi = bird_tree.robinson_foulds(ncbi_sub_tree)  # ,unrooted_trees=True # , expand_polytomies = True\n",
    "(rf_fast_ncbi, maxparts_fast_ncbi, common_attrs, edges_fast, edges_ncbi2, discard_t1, discard_t2)=out_fast_ncbi \n",
    "\n",
    "print(\"RF distance is %s over a total of %s\" %(rf_fast_ncbi, maxparts_fast_ncbi))\n",
    "print(\"Partitions: \")\n",
    "print(\"in fast:\",len(edges_fast),\". in ncbi:\",len(edges_ncbi2)) \n",
    "print(\"in both fast and ncbi:\", len(edges_fast &edges_ncbi2 ))\n",
    "print(\"only in ncbi, not in fast:\", len(edges_fast-edges_ncbi2))\n",
    "print(\"only in fast, not in ncbi:\", len(edges_ncbi2-edges_fast))\n",
    "\n",
    "\n",
    "\n",
    "print(\"-\"*15)\n",
    "#only in OMA, in OMA+BirdPaper, in OMA+NCBI, in OMA+Bird+NCBI, in NCBI+Bird, in Bird only, in NCBI only\n",
    "print(len(edges_ncbi2-edges_ncbi))\n",
    "\n",
    "print(\"only in fastOMA:\", len((edges_fast-edges_ncbi2)-edges_paper))\n",
    "print(\"only in fastOMA & paper:\",len((edges_fast&edges_paper)-edges_ncbi2))\n",
    "print(\"only in fastOMA & NCBI:\",len((edges_fast&edges_ncbi2)- edges_paper))\n",
    "print(\"only in paper & NCBI:\",len((edges_paper&edges_ncbi2)-  edges_fast))\n",
    "print(\"only in fastOMA & NCBI & paper:\",len((edges_fast&edges_ncbi2)& edges_paper))\n",
    "print(\"only in paper:\",len((edges_paper-edges_fast)-edges_ncbi2 ))\n",
    "print(\"only in NCBI:\",len((edges_paper-edges_fast)-edges_ncbi2 ))\n"
   ]
  },
  {
   "cell_type": "code",
   "execution_count": 254,
   "id": "4981ba56",
   "metadata": {},
   "outputs": [
    {
     "name": "stdout",
     "output_type": "stream",
     "text": [
      "[22, 69, 5, 17, 422, 190, 190]\n"
     ]
    }
   ],
   "source": [
    "\n",
    "val=[len((edges_fast-edges_ncbi2)-edges_paper),len((edges_fast&edges_paper)-edges_ncbi2),\n",
    "     len((edges_fast&edges_ncbi2)- edges_paper),len((edges_paper&edges_ncbi2)-  edges_fast),\n",
    "     len((edges_fast&edges_ncbi2)& edges_paper),\n",
    "     len((edges_paper-edges_fast)-edges_ncbi2 ),len((edges_paper-edges_fast)-edges_ncbi2) ]\n",
    "\n",
    "\n",
    "\n",
    "print(val)"
   ]
  },
  {
   "cell_type": "code",
   "execution_count": 263,
   "id": "0be39778",
   "metadata": {},
   "outputs": [],
   "source": [
    "# branch lenght\n",
    "\n",
    "t_all=[ [131, 135, 8, 6, 433, 124, 124], # no\n",
    "       [131, 135, 8, 6, 433, 124, 124],  # 0.00001\n",
    "       [131, 135, 8, 6, 433, 124, 124],  # 0.0001\n",
    "       [129, 135, 8, 6, 433, 124, 124],  # 0.001\n",
    "       [53, 108, 5, 9, 430, 151, 151],   # 0.005\n",
    "        [22, 69, 5, 17, 422, 190, 190],  #0.01\n",
    "        [1, 0, 0, 80, 359, 259, 259]]  #0.1\n",
    "       \n",
    "\n",
    "ind = [\"no\",0.00001,0.0001,0.001,0.005,0.01,0.1]\n",
    "\n",
    "\n",
    "# ind = [0,60,80,90,95,100] # ,\"BirdPaper\"\n",
    "# # support values\n",
    "# t_all=[[131, 135, 8, 6, 433, 124, 124], # np\n",
    "#        [122, 130, 8, 6, 433, 129, 129], # 60\n",
    "#        [111, 129, 8, 6, 433, 130, 130], # 80\n",
    "#        [92, 127, 8, 6, 433, 132, 132],# 90\n",
    "#        [80, 124, 6, 7, 432, 135, 135], # 95\n",
    "#        [63, 120, 6, 7, 432, 139, 139]]\n"
   ]
  },
  {
   "cell_type": "code",
   "execution_count": null,
   "id": "8250d539",
   "metadata": {},
   "outputs": [],
   "source": []
  },
  {
   "cell_type": "code",
   "execution_count": null,
   "id": "52950c7a",
   "metadata": {},
   "outputs": [],
   "source": []
  },
  {
   "cell_type": "code",
   "execution_count": null,
   "id": "b1979743",
   "metadata": {},
   "outputs": [],
   "source": []
  },
  {
   "cell_type": "code",
   "execution_count": 264,
   "id": "df92b521",
   "metadata": {},
   "outputs": [
    {
     "data": {
      "text/plain": [
       "7"
      ]
     },
     "execution_count": 264,
     "metadata": {},
     "output_type": "execute_result"
    }
   ],
   "source": [
    "\n",
    "# 100\n",
    "t_all\n",
    "\n",
    "\n",
    "import numpy as np\n",
    "\n",
    "t_all=np.array(t_all)\n",
    "t_all_=np.transpose(t_all)\n",
    "len(t_all_)\n"
   ]
  },
  {
   "cell_type": "code",
   "execution_count": 265,
   "id": "145f4818",
   "metadata": {},
   "outputs": [],
   "source": [
    "\n",
    "# t_all=[[131, 135, 8, 6, 433, 124, 124], # np\n",
    "#        [122, 130, 8, 6, 433, 129, 129], # 60\n",
    "#        [111, 129, 8, 6, 433, 130, 130], # 80\n",
    "#        [92, 127, 8, 6, 433, 132, 132],# 90\n",
    "#        [80, 124, 6, 7, 432, 135, 135], # 95\n",
    "#        [63, 120, 6, 7, 432, 139, 139]]\n"
   ]
  },
  {
   "cell_type": "code",
   "execution_count": 266,
   "id": "1e90e11f",
   "metadata": {},
   "outputs": [],
   "source": [
    "lenged1=['fastOMA',\n",
    "  'fastOMA & paper',\n",
    "  'fastOMA & NCBI',\n",
    "  'paper & NCBI',\n",
    "  'fastOMA & NCBI & paper',\n",
    "  'paper',\n",
    "  'NCBI']"
   ]
  },
  {
   "cell_type": "code",
   "execution_count": 267,
   "id": "b3825592",
   "metadata": {},
   "outputs": [
    {
     "data": {
      "text/plain": [
       "['no', 1e-05, 0.0001, 0.001, 0.005, 0.01, 0.1]"
      ]
     },
     "execution_count": 267,
     "metadata": {},
     "output_type": "execute_result"
    }
   ],
   "source": [
    "ind"
   ]
  },
  {
   "cell_type": "code",
   "execution_count": 268,
   "id": "bb61edc6",
   "metadata": {},
   "outputs": [
    {
     "data": {
      "text/html": [
       "<div>\n",
       "<style scoped>\n",
       "    .dataframe tbody tr th:only-of-type {\n",
       "        vertical-align: middle;\n",
       "    }\n",
       "\n",
       "    .dataframe tbody tr th {\n",
       "        vertical-align: top;\n",
       "    }\n",
       "\n",
       "    .dataframe thead th {\n",
       "        text-align: right;\n",
       "    }\n",
       "</style>\n",
       "<table border=\"1\" class=\"dataframe\">\n",
       "  <thead>\n",
       "    <tr style=\"text-align: right;\">\n",
       "      <th></th>\n",
       "      <th>fastOMA</th>\n",
       "      <th>fastOMA &amp; paper</th>\n",
       "      <th>fastOMA &amp; NCBI</th>\n",
       "      <th>paper &amp; NCBI</th>\n",
       "      <th>fastOMA &amp; NCBI &amp; paper</th>\n",
       "      <th>paper</th>\n",
       "      <th>NCBI</th>\n",
       "    </tr>\n",
       "  </thead>\n",
       "  <tbody>\n",
       "    <tr>\n",
       "      <th>no</th>\n",
       "      <td>131</td>\n",
       "      <td>135</td>\n",
       "      <td>8</td>\n",
       "      <td>6</td>\n",
       "      <td>433</td>\n",
       "      <td>124</td>\n",
       "      <td>124</td>\n",
       "    </tr>\n",
       "    <tr>\n",
       "      <th>1e-05</th>\n",
       "      <td>131</td>\n",
       "      <td>135</td>\n",
       "      <td>8</td>\n",
       "      <td>6</td>\n",
       "      <td>433</td>\n",
       "      <td>124</td>\n",
       "      <td>124</td>\n",
       "    </tr>\n",
       "    <tr>\n",
       "      <th>0.0001</th>\n",
       "      <td>131</td>\n",
       "      <td>135</td>\n",
       "      <td>8</td>\n",
       "      <td>6</td>\n",
       "      <td>433</td>\n",
       "      <td>124</td>\n",
       "      <td>124</td>\n",
       "    </tr>\n",
       "    <tr>\n",
       "      <th>0.001</th>\n",
       "      <td>129</td>\n",
       "      <td>135</td>\n",
       "      <td>8</td>\n",
       "      <td>6</td>\n",
       "      <td>433</td>\n",
       "      <td>124</td>\n",
       "      <td>124</td>\n",
       "    </tr>\n",
       "    <tr>\n",
       "      <th>0.005</th>\n",
       "      <td>53</td>\n",
       "      <td>108</td>\n",
       "      <td>5</td>\n",
       "      <td>9</td>\n",
       "      <td>430</td>\n",
       "      <td>151</td>\n",
       "      <td>151</td>\n",
       "    </tr>\n",
       "    <tr>\n",
       "      <th>0.01</th>\n",
       "      <td>22</td>\n",
       "      <td>69</td>\n",
       "      <td>5</td>\n",
       "      <td>17</td>\n",
       "      <td>422</td>\n",
       "      <td>190</td>\n",
       "      <td>190</td>\n",
       "    </tr>\n",
       "    <tr>\n",
       "      <th>0.1</th>\n",
       "      <td>1</td>\n",
       "      <td>0</td>\n",
       "      <td>0</td>\n",
       "      <td>80</td>\n",
       "      <td>359</td>\n",
       "      <td>259</td>\n",
       "      <td>259</td>\n",
       "    </tr>\n",
       "  </tbody>\n",
       "</table>\n",
       "</div>"
      ],
      "text/plain": [
       "        fastOMA  fastOMA & paper  fastOMA & NCBI  paper & NCBI  \\\n",
       "no          131              135               8             6   \n",
       "1e-05       131              135               8             6   \n",
       "0.0001      131              135               8             6   \n",
       "0.001       129              135               8             6   \n",
       "0.005        53              108               5             9   \n",
       "0.01         22               69               5            17   \n",
       "0.1           1                0               0            80   \n",
       "\n",
       "        fastOMA & NCBI & paper  paper  NCBI  \n",
       "no                         433    124   124  \n",
       "1e-05                      433    124   124  \n",
       "0.0001                     433    124   124  \n",
       "0.001                      433    124   124  \n",
       "0.005                      430    151   151  \n",
       "0.01                       422    190   190  \n",
       "0.1                        359    259   259  "
      ]
     },
     "execution_count": 268,
     "metadata": {},
     "output_type": "execute_result"
    }
   ],
   "source": [
    "import pandas as pd\n",
    "df = pd.DataFrame(data=t_all)\n",
    "df.columns=lenged1\n",
    "df.columns=lenged1\n",
    "#ind = [0,60,80,90,95,100] # ,\"BirdPaper\"\n",
    "\n",
    "df.index=ind\n",
    "df"
   ]
  },
  {
   "cell_type": "code",
   "execution_count": null,
   "id": "0f3d05f2",
   "metadata": {},
   "outputs": [],
   "source": []
  },
  {
   "cell_type": "code",
   "execution_count": null,
   "id": "22b01417",
   "metadata": {},
   "outputs": [],
   "source": []
  },
  {
   "cell_type": "code",
   "execution_count": 269,
   "id": "c3622b50",
   "metadata": {},
   "outputs": [
    {
     "data": {
      "image/png": "[encoded data removed]",
      "text/plain": [
       "<Figure size 432x288 with 1 Axes>"
      ]
     },
     "metadata": {
      "needs_background": "light"
     },
     "output_type": "display_data"
    },
    {
     "data": {
      "text/plain": [
       "<Figure size 432x288 with 0 Axes>"
      ]
     },
     "metadata": {},
     "output_type": "display_data"
    }
   ],
   "source": [
    "\n",
    "ind=[str(i) for i in ind]\n",
    "width = 0.20\n",
    "\n",
    "palet=['b', 'g', 'r', 'c', 'm', 'y', 'k', 'w']\n",
    "\n",
    "fig = plt.figure()\n",
    "ax = fig.add_axes([0,0,1,1])\n",
    "ax.bar(ind, t_all_[0], width, color=palet[0])\n",
    "ax.bar(ind, t_all_[1], width,bottom=t_all_[0], color=palet[1])\n",
    "ax.bar(ind, t_all_[2], width,bottom=t_all_[0]+t_all_[1], color=palet[2])\n",
    "ax.bar(ind, t_all_[3], width,bottom=t_all_[0]+t_all_[1]+t_all_[2], color=palet[3])\n",
    "ax.bar(ind, t_all_[4], width,bottom=t_all_[0]+t_all_[1]+t_all_[2]+t_all_[3], color=palet[4])\n",
    "ax.bar(ind, t_all_[5], width,bottom=t_all_[0]+t_all_[1]+t_all_[2]+t_all_[3]+t_all_[4], color=palet[5])\n",
    "ax.bar(ind, t_all_[6], width,bottom=t_all_[0]+t_all_[1]+t_all_[2]+t_all_[3]+t_all_[4]+t_all_[5], color=palet[6])\n",
    "\n",
    "\n",
    "ax.set_xlabel('Support value threshold')\n",
    "ax.set_ylabel('Number of partitions')\n",
    "#ax.set_title('Collapase edges with support value < threshold ')\n",
    "ax.legend(labels=lenged1,loc=3)\n",
    "\n",
    "\n",
    "plt.show()\n",
    "plt.savefig(project_folder_root+\"collapse2.pdf\")\n"
   ]
  },
  {
   "cell_type": "code",
   "execution_count": null,
   "id": "49a46fec",
   "metadata": {},
   "outputs": [],
   "source": []
  },
  {
   "cell_type": "code",
   "execution_count": null,
   "id": "aba9b7e2",
   "metadata": {},
   "outputs": [],
   "source": []
  },
  {
   "cell_type": "code",
   "execution_count": null,
   "id": "1e6586c2",
   "metadata": {},
   "outputs": [],
   "source": []
  },
  {
   "cell_type": "code",
   "execution_count": null,
   "id": "e6198c6d",
   "metadata": {},
   "outputs": [],
   "source": [
    "ind=[\"only in fastOMA\",\"only in fastOMA & paper\",\n",
    "      \"only in fastOMA & NCBI\",\"only in fastOMA & NCBI & paper\",\n",
    "      \"only in paper\",\"only in NCBI\"]\n",
    "ind"
   ]
  },
  {
   "cell_type": "code",
   "execution_count": null,
   "id": "dcbbebd7",
   "metadata": {},
   "outputs": [],
   "source": []
  },
  {
   "cell_type": "code",
   "execution_count": null,
   "id": "f1746e6c",
   "metadata": {},
   "outputs": [],
   "source": [
    "# print(bird_tree_address)\n",
    "# \n",
    "# out = bird_tree.robinson_foulds(ncbi_sub_tree) # ,,expand_polytomies = True expand_polytomies = True  #,polytomy_size_limit=20  ,unrooted_trees=True # , expand_polytomies = True\n",
    "# (rf, max_parts, common_attrs_our, edges1, edges2, discard_t1, discard_t2)=out \n",
    "# print(\"RF distance is %s over a total of %s\" %(rf, max_parts))\n",
    "# print(\"Partitions of fastOMA:\",len(edges1),\" Partitions of ncbi:\",len(edges2), \"Common Partitions\",len(common_attrs_our),)\n",
    "# e2_1=edges2 - edges1\n",
    "# print(\"Partitions in ncbi no in fastOMA:\", len(e2_1)) # order not sure  http://etetoolkit.org/docs/latest/tutorial/tutorial_trees.html#robinson-foulds-distance\n",
    "# e1_2=edges1 - edges2\n",
    "# print(\"Partitions in fastOMA no in ncbi:\", len(e1_2))\n",
    "\n",
    "\n",
    "\n",
    "# print(\"-\"*15)\n",
    "\n",
    "# out = bird_paper_tree.robinson_foulds(bird_tree) # ,expand_polytomies = True, expand_polytomies = True  #,polytomy_size_limit=20  ,unrooted_trees=True # , expand_polytomies = True\n",
    "# (rf, max_parts, common_attrs, edges1, edges2, discard_t1, discard_t2)=out \n",
    "# print(\"RF distance is %s over a total of %s\" %(rf, max_parts))\n",
    "# #print(\"Len of common_attrs\",len(common_attrs),\", len edges1\",len(edges1),\", len edges2\",len(edges2))\n",
    "# print(\"Partitions of bird_paper:\",len(edges1),\" Partitions of fastOMA:\",len(edges2), \"Common Partitions\",len(common_attrs),)\n",
    "# e2_1=edges2 - edges1\n",
    "# print(\"Partitions in fastOMA not in bird_paper:\", len(e2_1)) # order not sure  http://etetoolkit.org/docs/latest/tutorial/tutorial_trees.html#robinson-foulds-distance\n",
    "# e1_2=edges1 - edges2\n",
    "# print(\"Partitions in bird_paper not in fastOMA:\", len(e1_2))\n"
   ]
  },
  {
   "cell_type": "code",
   "execution_count": null,
   "id": "a73bd376",
   "metadata": {},
   "outputs": [],
   "source": []
  },
  {
   "cell_type": "code",
   "execution_count": null,
   "id": "77f1b998",
   "metadata": {},
   "outputs": [],
   "source": []
  },
  {
   "cell_type": "code",
   "execution_count": null,
   "id": "8ee038c9",
   "metadata": {},
   "outputs": [],
   "source": []
  },
  {
   "cell_type": "code",
   "execution_count": null,
   "id": "94de5137",
   "metadata": {},
   "outputs": [],
   "source": []
  },
  {
   "cell_type": "code",
   "execution_count": null,
   "id": "5fbff6c1",
   "metadata": {},
   "outputs": [],
   "source": [
    "# print(bird_tree_address)\n",
    "# bird_tree.set_outgroup(\"CALPUG\") # CALPUG MOUS  BUCCAP\n",
    "# out = bird_tree.robinson_foulds(ncbi_sub_tree) # ,,expand_polytomies = True expand_polytomies = True  #,polytomy_size_limit=20  ,unrooted_trees=True # , expand_polytomies = True\n",
    "# (rf, max_parts, common_attrs_our, edges1, edges2, discard_t1, discard_t2)=out \n",
    "\n",
    "# out = bird_paper_tree.robinson_foulds(ncbi_sub_tree) # , expand_polytomies = True  #,polytomy_size_limit=20  ,unrooted_trees=True # , expand_polytomies = True\n",
    "# (rf, max_parts, common_attrs_paper, edges1, edges2, discard_t1, discard_t2)=out \n",
    "\n",
    "\n",
    "# a=list(common_attrs_our)\n",
    "# for i in common_attrs_paper:\n",
    "#     if i not in common_attrs_our:\n",
    "#         print(i)\n",
    "# len(common_attrs_our),len(common_attrs_paper),len(common_attrs_our.union(common_attrs_paper)),len(common_attrs_our.intersection(common_attrs_paper))\n"
   ]
  },
  {
   "cell_type": "code",
   "execution_count": null,
   "id": "b89ac146",
   "metadata": {},
   "outputs": [],
   "source": [
    "# a=list(edges1_f)\n",
    "# b=[]\n",
    "# for i in a:\n",
    "#     if len(i)<= 4:\n",
    "#         b.append([i])\n"
   ]
  },
  {
   "cell_type": "markdown",
   "id": "eb394714",
   "metadata": {},
   "source": [
    "# collapsing low support values"
   ]
  },
  {
   "cell_type": "code",
   "execution_count": null,
   "id": "36c0b9a8",
   "metadata": {},
   "outputs": [],
   "source": [
    "# '/work/FAC/FBM/DBC/cdessim2/default/smajidi1/fastoma/v3b/iqtree5/collpased.tree_collapsed'\n",
    "print(bird_tree_address)\n",
    "import dendropy\n",
    "from  dendropy import Tree\n",
    "#file1=\"_100_msa_concatanated.txt_copy1.contree\"\n",
    "tree = dendropy.Tree.get_from_path(bird_tree_address,\"newick\") # newick nexus\n",
    "#print(tree)\n",
    "print(len(tree))\n",
    "\n",
    "support_treshold=95\n",
    "for idx, node in enumerate(tree):\n",
    "    if not node.is_leaf() and node.label:\n",
    "        support_value=int(node.label)\n",
    "        if support_value<support_treshold:\n",
    "            #print(support_value)\n",
    "            edge= node.edge\n",
    "            #print(edge)\n",
    "            #print(edge.head_node.child_nodes())\n",
    "            edge.collapse()\n",
    "print(len(tree))\n",
    "\n",
    "\n",
    "\n",
    "bird_tree_address_out=bird_tree_address+\"_collapsed2_\"+str(support_treshold)\n",
    "tree.write_to_path(bird_tree_address_out, \"newick\")\n",
    "print(bird_tree_address_out)"
   ]
  },
  {
   "cell_type": "code",
   "execution_count": null,
   "id": "b2ee99b9",
   "metadata": {},
   "outputs": [],
   "source": []
  },
  {
   "cell_type": "markdown",
   "id": "2ce0643f",
   "metadata": {},
   "source": [
    "# collapsing branch length"
   ]
  },
  {
   "cell_type": "code",
   "execution_count": 295,
   "id": "17bfc21d",
   "metadata": {},
   "outputs": [
    {
     "name": "stdout",
     "output_type": "stream",
     "text": [
      "/work/FAC/FBM/DBC/cdessim2/default/smajidi1/fastoma/v3b/iqtree5/_100_msa_concatanated.txt_copy1.contree\n",
      "383\n"
     ]
    }
   ],
   "source": [
    "print(bird_tree_address)\n",
    "\n",
    "bird_tree_address=\"/work/FAC/FBM/DBC/cdessim2/default/smajidi1/fastoma/v3b/iqtree5/_100_msa_concatanated.txt_copy1.contree\"\n",
    "import dendropy\n",
    "from  dendropy import Tree\n",
    "#file1=\"_100_msa_concatanated.txt_copy1.contree\"\n",
    "tree = dendropy.Tree.get_from_path(bird_tree_address,\"newick\") # newick nexus\n",
    "#print(tree)\n",
    "print(len(tree))"
   ]
  },
  {
   "cell_type": "code",
   "execution_count": 296,
   "id": "59c13cf2",
   "metadata": {},
   "outputs": [],
   "source": [
    "len_all=[]\n",
    "threshold=0.01\n",
    "#for idx, node in enumerate(tree):\n",
    "for e in tree.postorder_edge_iter():    \n",
    "#     len_edg=e.length\n",
    "#     if len_edg:\n",
    "#         len_all.append(len_edg)\n",
    "    if e.length is None or (e.length <= threshold) and e.is_internal():\n",
    "        e.collapse()\n",
    "        #print(\"he\")\n",
    "    #if node.is_leaf():\n",
    "        #node1=node\n",
    "        \n",
    "        \n"
   ]
  },
  {
   "cell_type": "code",
   "execution_count": 240,
   "id": "02ae3bb0",
   "metadata": {},
   "outputs": [
    {
     "name": "stdout",
     "output_type": "stream",
     "text": [
      "/work/FAC/FBM/DBC/cdessim2/default/smajidi1/fastoma/v3b/iqtree5/_100_msa_concatanated.txt_copy1.contree_collapsed_brnch_0.001\n"
     ]
    }
   ],
   "source": [
    "bird_tree_address_out=bird_tree_address+\"_collapsed_brnch_\"+str(threshold)\n",
    "tree.write_to_path(bird_tree_address_out, \"newick\")\n",
    "print(bird_tree_address_out)"
   ]
  },
  {
   "cell_type": "code",
   "execution_count": 126,
   "id": "528f5f83",
   "metadata": {},
   "outputs": [
    {
     "data": {
      "image/png": "[encoded data removed]",
      "text/plain": [
       "<Figure size 432x288 with 1 Axes>"
      ]
     },
     "metadata": {
      "needs_background": "light"
     },
     "output_type": "display_data"
    }
   ],
   "source": [
    "plt.hist(len_all,bins=500)\n",
    "plt.show()"
   ]
  },
  {
   "cell_type": "code",
   "execution_count": null,
   "id": "324d80fa",
   "metadata": {},
   "outputs": [],
   "source": []
  },
  {
   "cell_type": "code",
   "execution_count": 271,
   "id": "fa383c94",
   "metadata": {},
   "outputs": [
    {
     "name": "stdout",
     "output_type": "stream",
     "text": [
      "<Node object at 0x7fcd5cc2adf0: 'None' (<Taxon 0x7fcd5cc2afd0 'AREINT'>)>\n"
     ]
    }
   ],
   "source": [
    "print(node1)"
   ]
  },
  {
   "cell_type": "code",
   "execution_count": 297,
   "id": "61a9cb4e",
   "metadata": {},
   "outputs": [
    {
     "name": "stdout",
     "output_type": "stream",
     "text": [
      "(CALPUG:0.0442279389,(((((((((PIACAY:0.0801713818,CEUAER:0.0646614783)100:0.0228784507,CUCCAN:0.0611328602)100:0.0310247898,(CENBEN:0.0240586572,CENUNI:0.0149395521)100:0.10164276)100:0.0150922616,(GEOCAL:0.0727534261,CROSUL:0.0677076734)100:0.0260232709)100:0.0617796045,(CALNIC:0.0338777295,ALOBEC:0.0434599499,(PATFAS:0.0299246709,COLLIV:0.0361972251)100:0.0235068812,COLPIC:0.0778030976)100:0.0753062,((SYRPAR:0.031529652,PTEBUR:0.036832738,PTEGUT:0.0358317492)100:0.0685198442,MESUNI:0.1075795711)94:0.0106894776,(CHLMAC:0.0360185958,ARDKOR:0.0199368375,LOPRUF:0.0231818562)100:0.0625005507,(EURHEL:0.0731508393,RHYJUB:0.0576191596)100:0.0716043232,((((((((((FICAL:0.025357188,FICALB:0.0077797232)100:0.0280634004,(SAXMAU:0.0206847344,OENOEN:0.0169566006)100:0.0152329604,ERIRUB:0.0471626125)100:0.0120791331,(CERCOR:0.0222738926,COPSEC:0.0281320377)100:0.0166766715)100:0.023489794,CATFUS:0.0507766747,((LEUROT:0.016295741,STUVUL:0.012954725)100:0.0225210736,RHAINO:0.0298862201,TOXRED:0.0385601523,BUPERY:0.0382201329)100:0.0119492093,CINMEX:0.0466232465)100:0.0162290787,ELAFOR:0.1073243836,(BOMGAR:0.051006062,PHANIT:0.0380571459)100:0.0259531009,REGSAT:0.0818933473,(POLCAE:0.0372176834,THRLUD:0.0418737712)100:0.0165626933,(CERFAM:0.0159907132,CERBRA:0.0070138604)100:0.0508673211,SITEUR:0.0686055338,TICMUR:0.0517228173,((((JUNHY:0.0257105975,JUNHYE:0.0014100416)100:0.0143194498,ZONALB:0.0169571143,MELMEL:0.0343498355,SPIPAS:0.0351542129)100:0.0139856476,(AGEPHO:0.0120277291,MOLATE:0.0096066459,QUIMEX:0.0153227879)100:0.015549006,(SETKIR:0.0148779625,SETCOR:0.0148388262)100:0.0188359685,PASAMO:0.0308264254,PHEMEL:0.0225361193,CARCAR:0.0352409912,NESACU:0.0345245125,GEOFOR:0.0328973232,SPOHYP:0.0229619272,EMBFUC:0.0291895507,CALORN:0.0332047452,RHOROS:0.0324280248)100:0.0162348324,(((SERCA:0.043317957,SERCAN:0.0020385744)100:0.0149418431,LOXLEU:0.0090756618,LOXCUR:0.0067236553)100:0.0116118294,(CHLVIR:0.0040702599,HEMWIL:0.0037361289)100:0.0197278557)100:0.019155422)100:0.0113759897,MOTALB:0.0421232388,(PASDOM:0.039297079,HYPCIN:0.0284725889)100:0.010604732,(PRUHIM:0.0158534521,PRUFUL:0.0195395017)100:0.0370972402,UROPYL:0.0429687888,((TAEGU:0.0086152435,TAEGUT:0.0016293321)100:0.0254990459,LONSTR:0.0232760989)100:0.0280694032,(VIDMAC:0.0109887546,VIDCHA:0.0089173468)100:0.0212547496,PLONIG:0.0366360854,PEUTAE:0.0454907428,IRECYA:0.055811345,(CHLHAR:0.0387419612,CHLCYA:0.0205710478)100:0.04140441,(DICEXI:0.0579960233,LEPASP:0.037642302)100:0.0169358338,PROCAF:0.0425809859,((PARMJ:0.0254706724,PARMAJ:0.0008369317)100:0.0174898914,PSEHUM:0.0139150596,POEATR:0.0186078497)100:0.0330497933,ANTMIN:0.0620747368,(LEILUT:0.0539215779,ILLCLE:0.0463988103,PORRUF:0.0496269528,(STEDEN:0.015011032,(ZOSHYP:0.0072527822,ZOSLAT:0.0137590208)100:0.0106254238)100:0.0370404756,(SYLATR:0.0246610382,SYLBOR:0.0190018798)100:0.0265081199,SINWEB:0.0407471595)100:0.0103221693,(BRAATR:0.0319675586,PYCJOC:0.0282832132)100:0.0287329159,(RHASIB:0.0271932333,PHYTRO:0.0275593678)100:0.0229547531,(CETCET:0.0320539966,HORVUL:0.0373588727)100:0.0161359024,ERYMCC:0.0444177582,HYLPRA:0.0423259324,AEGCAU:0.0539969912,HIRRUS:0.0480969138,CISJUN:0.0746878941,DONATR:0.0584597101,LOCOCH:0.0453478544,OXYMAD:0.0698485753,(HIPICT:0.0204307353,ACRARU:0.0190737572)100:0.0268709448,SYLVIR:0.0598056081,ALACHE:0.0705012602,PANBIA:0.051782829,NICCHL:0.0636240224)100:0.011329407,(CHAFRE:0.0423606554,PICGYM:0.0423300265)100:0.0158549921,DRYBRU:0.0770116221,MELVER:0.0501368914,CNELOR:0.052460945,CALWIL:0.0419085243,NOTCIN:0.0708971064,(MOHOCH:0.0499175724,ORIORI:0.0440536947,EULNIG:0.0337819207,PARRAG:0.027297171,STRCIN:0.0268757192,IFRKOW:0.0395593904,MYIHEB:0.0464291067,LANLUD:0.0452358877,((CORMON:0.007786384,CORCOR:0.0047418314,CORBRA:0.0046938508)100:0.0132220272,APHCOE:0.0245777705)100:0.0206871177,(RHIDAH:0.0370120944,CHAPAP:0.0323720947)100:0.0143307245,DICMEG:0.0377715317,(RHALEU:0.0295482841,MACNIG:0.0373963224,GYMTIB:0.035017727,MYSCRO:0.0392851122,DYACAS:0.0430724218,DRYGAM:0.0382864597)100:0.0108100976,DAPCHR:0.0539175255,PTEMEL:0.0419106454,(VIRALT:0.0412501954,ERPZAN:0.0446822132)100:0.015092834,PACPHI:0.0455899102,EDOCOE:0.038657755,OREARF:0.0458690236,FALFRO:0.0368631149,ALERUF:0.0394377787,PTILEU:0.0477913865)100:0.0115218304,ORTSPA:0.0692860812,POSRUF:0.0607009418,(DASBRO:0.0485765369,GRAPIC:0.0575486282,PARPUN:0.0451291638,ORISOL:0.044644859,MALELE:0.0875168646)100:0.011497032)100:0.0186288629,CLIRUF:0.0882853715,PTIVIO:0.054487428)100:0.0135136039,(MENNOV:0.039418273,ATRCLA:0.049692943)100:0.0216740386)100:0.0329440741,((SAPAEN:0.0621406796,(SMICAP:0.0690473706,CALVIR:0.071414996)100:0.0139525635,PITSOR:0.0936987015,(NEOCOR:0.0612891056,SERLUN:0.0563252607)100:0.0208543)100:0.0274283995,(((MANMAN:0.0285214783,LEPCOR:0.0144172982)100:0.028696038,ONYCOR:0.0427377719,PACMIN:0.0537335315,MIOMAC:0.041538511,TYRSAV:0.0471679429,NEOCIN:0.035236192,TACRUB:0.046475157,PIPCHL:0.045020583,CEPORN:0.0383820052,OXYCRI:0.0362587111)100:0.0323881677,((RHEHOF:0.0390340771,SAKLUC:0.0366411171)100:0.0525350523,(SCLMEX:0.0392200919,(XIPELE:0.0208883325,CAMPRO:0.0170033173)100:0.023999097,FURFIG:0.0354143796)100:0.021393268,SCYSUP:0.073726558,FORRUF:0.0842298127,GRAVAR:0.0739638654)100:0.0181811002)100:0.0162412169)100:0.0174706906)100:0.0152437858,ACACHL:0.1246941242)100:0.058356127,(((((MELUD:0.0209678095,MELUND:0.0037794178)100:0.0583233897,AGAROS:0.0415820197)100:0.0106751552,AMAGUI:0.0491534578)100:0.0102590143,(PROATE:0.0247956879,EOLROS:0.0316134576)100:0.0180551082)100:0.0168311137,NESNOT:0.0593253397)100:0.0749366842,(UROIND:0.0523212003,COLSTR:0.0481583892)100:0.1253000731,((UPUEPO:0.0934350445,RHICYA:0.0946227988)100:0.0974239465,(BUCRHI:0.0558314443,BUCABY:0.0379050399)100:0.0594812109)100:0.0127336576,MERNUB:0.1288504387,(EURGUL:0.0583333101,BRALEP:0.0836422721)100:0.0260529933,((CHLAEN:0.075173526,HALSEN:0.0519526647,CEYCYA:0.1331624035)100:0.024700023,BARMAR:0.0912884659,TODMEX:0.1272988837)100:0.0112573593,((GALDEA:0.0844115453,BUCCAP:0.1039292232)100:0.0290338502,((PICPUB:0.0718025979,INDMAC:0.0522008991)100:0.0272994261,((EUBBOU:0.0343799853,RAMSUL:0.0214716996,SEMFRA:0.0297498924)100:0.0253338911,TRILEU:0.0599589295,PSIHAE:0.0685463234)100:0.0269690709)100:0.0735884778)100:0.0125025224,(TROMEL:0.0422207019,APAVIT:0.0424528788)100:0.0982341845,LEPDIS:0.0924649692,(TYTALB:0.0779175461,((CICNIG:0.0146247647,STROCC:0.0058850823)100:0.0161136176,GLABRA:0.0452741246)100:0.0328310279)100:0.0173151156,(CARCRI:0.0191987461,CHUBUR:0.0111022659)100:0.0615292088,(HERCAC:0.0298446378,(FALPER:0.0081490492,FALCHE:0.0124660965)100:0.0602905554)100:0.038814812,(((HALALB:0.0113834578,HALLEU:0.012335048)100:0.0191700548,AQUCHR:0.0092454843,SPITYR:0.0136724197,CIRPEC:0.0217713351)100:0.0197285682,PANHAL:0.0478942165)100:0.0143840258,SAGSER:0.0506849858,CATAUR:0.0569934457,((ANHANH:0.0348939968,ANHRUF:0.030257504)100:0.0214128507,(NANBRA:0.0030806809,NANAUR:0.0028378161,NANHAR:0.0063028161,PHACAR:0.0193937556,URIPEL:0.0101010931)100:0.0495240561,SULDAC:0.0447432688)100:0.0301346928,FREMAG:0.0486398755,(EGRGAR:0.0613081694,COCCOC:0.0243426707)100:0.0451324942,(NIPNIP:0.0358417557,MESCAY:0.0352468228)100:0.0263127167,(BALREX:0.0475732727,SCOUMB:0.053656752,PELCRI:0.0508455743)100:0.0109093237,HYDTET:0.0437432541,(FULGLA:0.0244700538,PELURI:0.0280529849,CALBOR:0.0155701762)100:0.0171345666,(OCEOCE:0.0222762789,FREGRA:0.0199676877)100:0.0289271364,THACHL:0.0327766755,CICMAG:0.0477200254,(APTFOR:0.0167025703,PYGADE:0.0245079252)100:0.0357559937,(PHORUB:0.0521967052,(PODCRI:0.0228785373,PODPOD:0.0218139302)100:0.0456935702)100:0.014070523,OPIHOA:0.1316958568,(TAUERY:0.0781868335,(CORCRI:0.0731189547,CORCON:0.0311175096)100:0.014054146)100:0.0459669786,PHALEP:0.0692670926,GAVSTE:0.0625756429,((((((CHILA:0.2226450033,(MOUSE:0.0735683023,RATNO:0.0848519206)100:0.22848769)100:0.0469183854,(((CHLSB:0.0158384527,MACFA:0.0152181654)100:0.0271843718,(HUMAN:0.0089398959,PANTR:0.0111282776)100:0.0243450331)100:0.0909536011,OTOGA:0.1982283798)100:0.0276372277)100:0.0320493019,((BOVIN:0.0307111609,CAPHI:0.0449869672)100:0.1068345375,PIGXX:0.1288582065)100:0.0639220125)100:0.9755871969,CHRPI:0.2938246577)100:0.2625202301,(((((CRYSOU:0.0239224801,(CRYCIN:0.0101111164,CRYUND:0.0115423998)100:0.0145099822)100:0.0334662016,TINGUT:0.0567277076)100:0.0119742219,(NOTNIG:0.0259172663,NOTJUL:0.0201905605)100:0.0347845548,(NOTPER:0.018153798,(NOTORN:0.0040400077,NOTPEN:0.00392625)100:0.0194891816)100:0.0648330009,EUDELE:0.0928672468)100:0.1171109824,(APTAUS:0.0296130309,APTROW:0.0041952166,APTHAA:0.0023404682,APTOWE:0.0029124321)100:0.0515571071,(RHEAME:0.0071146508,RHEPEN:0.0068073906)100:0.0745822889,(DRONOV:0.022803481,CASCAS:0.017421676)100:0.0473876972)100:0.0130200307,STRCAM:0.0753308209)100:0.0524124983)100:0.0426364289,((((((ANAPL:0.0675363835,ANAZON:0.0041441462,ANAPLA:0.0048231546)100:0.0113457623,ASASCU:0.0126384963,CAIMOS:0.0180564505)100:0.0296539381,ANSCYG:0.0325871749)100:0.0655250185,ANSSEM:0.0533997381)100:0.0107416974,CHATOR:0.0595849483)100:0.0112629013,(((((CHICK:0.0267496635,GALGAL:0.0035612931)100:0.0465931561,COTJAP:0.0807265391,(MELGAL:0.0299521811,PHACOL:0.0343690742,TYMCUP:0.0388285138)100:0.0192768406)100:0.0189277923,((CALSQU:0.0111412875,COLVIR:0.0161011077)100:0.0245871032,ODOGUJ:0.0354918972)100:0.0482818884,NUMMEL:0.0484550283)100:0.0648321309,PENPIL:0.1059607245)100:0.0175607928,ALELAT:0.1112279649)100:0.0363989553)100:0.0419148933)100:0.0438132422,(((GRUAME:0.0230072917,BALREG:0.0279278113)100:0.0144038769,ARAGUA:0.0424655758)100:0.0193478337,PSOCRE:0.0640755014,((ATLROG:0.0339767232,ZAPATR:0.0299047643)100:0.051292472,HELFUL:0.0913703247)100:0.0351620907)100:0.0187602163,(ANTCAR:0.0344956824,CHOACU:0.0322228236,NYCLEU:0.0296927648)100:0.0571935183,(AEGBEN:0.1062060548,((HEMCOM:0.0456602209,CHAPEL:0.0805526955)100:0.0448339982,(CALANN:0.0426707032,OREMEL:0.0319470367)100:0.1073053333)100:0.0196994099)100:0.0145896653,PODSTR:0.0941357739,STECAR:0.0995808813,(NYCBRA:0.0258442817,NYCGRA:0.0244505198)100:0.0465702012)100:0.0201685945,((CHAVOC:0.0270890355,CHAALE:0.0217140556)100:0.0120548268,(IBISTR:0.0220972182,HIMHIM:0.0238930867)100:0.0112909324)100:0.0184775403,(CHIMIN:0.0147370936,PLUSOC:0.0170144929)100:0.0511591177,BURBIS:0.0406027017)100:0.015466051,((RYNNIG:0.0323427804,PHASIM:0.0314134699,(LARSMI:0.0077867706,CHRMAC:0.0105331632,RISTRI:0.0079172083)100:0.0176510772,(CEPGRY:0.0248940881,ALCTOR:0.0221050473,URIAAL:0.0093199677,URILOM:0.0082823964)100:0.0112330778,STEPAR:0.0237528154)100:0.0112745906,RHIAFR:0.0444442757,GLAPRA:0.0374542379,DROARD:0.0300505143)100:0.0122552205,TURVEL:0.1894701985)100:0.0283709737,(JACJAC:0.0654324725,(ROSBEN:0.0361863105,NYCSEM:0.0316155986)100:0.0188266098,(THIORB:0.0620533498,PEDTOR:0.0586055701)100:0.0182033202)100:0.01384153)100:0.0133741036,LIMLAP:0.1075745774)100:0.0107788576,AREINT:0.0216233551)\n"
     ]
    }
   ],
   "source": [
    "print(tree)"
   ]
  },
  {
   "cell_type": "code",
   "execution_count": null,
   "id": "6cde908a",
   "metadata": {},
   "outputs": [],
   "source": []
  }
 ],
 "metadata": {
  "kernelspec": {
   "display_name": "Python 3",
   "language": "python",
   "name": "python3"
  },
  "language_info": {
   "codemirror_mode": {
    "name": "ipython",
    "version": 3
   },
   "file_extension": ".py",
   "mimetype": "text/x-python",
   "name": "python",
   "nbconvert_exporter": "python",
   "pygments_lexer": "ipython3",
   "version": "3.8.1"
  }
 },
 "nbformat": 4,
 "nbformat_minor": 5
}
