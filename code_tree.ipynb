{
 "cells": [
  {
   "cell_type": "code",
   "execution_count": 80,
   "id": "d0927039",
   "metadata": {},
   "outputs": [
    {
     "name": "stdout",
     "output_type": "stream",
     "text": [
      "13:10:20 - The map for taxonID omaID of 2424 records have read.\n",
      "13:10:20 - The map for taxonID bird6ID of 363 records have read.\n",
      "2424 363 2778\n"
     ]
    }
   ],
   "source": [
    "#!/usr/bin/python3\n",
    "import numpy as np\n",
    "from sys import argv\n",
    "from datetime import datetime\n",
    "#import concurrent.futures\n",
    "# import ast\n",
    "# import matplotlib\n",
    "# matplotlib.use('Agg')\n",
    "import matplotlib.pyplot as plt\n",
    "import ete3\n",
    "import dendropy\n",
    "from  dendropy import Tree\n",
    "datasets_address= \"/work/FAC/FBM/DBC/cdessim2/default/smajidi1/fastoma/archive/\"\n",
    "# oma_database_address = datasets_address + \"OmaServer.h5\"\n",
    "omaID_address = datasets_address+\"oma-species.txt\"\n",
    "bird6ID_address = datasets_address+\"info.tsv\"\n",
    "\n",
    "def read_taxonID_map(omaID_address,bird6ID_address):\n",
    "    omaID_file = open(omaID_address,'r')\n",
    "    taxonID_omaID={}\n",
    "    omaID_taxonID={}\n",
    "    for line in omaID_file:\n",
    "        line_strip = line.strip()\n",
    "        if line_strip.startswith('#'):\n",
    "            pass\n",
    "            #header_lines_list.append(line_strip)\n",
    "        else:\n",
    "            line_parts=line_strip.split('\\t')\n",
    "            omaID = line_parts[0]\n",
    "            taxonID = int(line_parts[1])\n",
    "            taxonID_omaID[taxonID]=omaID\n",
    "            omaID_taxonID[omaID]=taxonID\n",
    "    omaID_file.close()\n",
    "        \n",
    "    current_time = datetime.now().strftime(\"%H:%M:%S\")\n",
    "    print(current_time, \"- The map for taxonID omaID of\",len(taxonID_omaID),\"records have read.\") \n",
    "    \n",
    "    bird6ID_file = open(bird6ID_address,'r')\n",
    "    taxonID_bird6ID={}\n",
    "    bird6ID_taxonID= {}\n",
    "    for line in bird6ID_file:\n",
    "        line_strip = line.strip()\n",
    "        if line_strip.startswith('Or'):\n",
    "            pass\n",
    "            line_strip1=line_strip\n",
    "            #header_lines_list.append(line_strip)\n",
    "        else:\n",
    "            line_parts=line_strip.split('\\t')\n",
    "\n",
    "            bird6ID = line_parts[6]\n",
    "            taxonID = int(line_parts[8])\n",
    "            taxonID_bird6ID[taxonID]=bird6ID\n",
    "            bird6ID_taxonID[bird6ID]=taxonID     \n",
    "    bird6ID_file.close()\n",
    "        \n",
    "    current_time = datetime.now().strftime(\"%H:%M:%S\")\n",
    "    print(current_time, \"- The map for taxonID bird6ID of\",len(taxonID_bird6ID),\"records have read.\") \n",
    "    return (taxonID_omaID,taxonID_bird6ID,omaID_taxonID,bird6ID_taxonID)\n",
    "\n",
    "(taxonID_omaID,taxonID_bird6ID,omaID_taxonID,bird6ID_taxonID) = read_taxonID_map(omaID_address,bird6ID_address)\n",
    "# left is the ky\n",
    "# taxonID_omaID  {taxonID:omaID, .. }\n",
    "# taxonID_omaID[1111]=ABABA\n",
    "taxonID_map = {**taxonID_omaID,**taxonID_bird6ID }\n",
    "print(len(taxonID_omaID),len(taxonID_bird6ID),len(taxonID_map))\n",
    "#taxonID_list= list(taxonID_map.keys())"
   ]
  },
  {
   "cell_type": "markdown",
   "id": "58c5d60f",
   "metadata": {},
   "source": [
    "# Reading FastOMA bird  tree"
   ]
  },
  {
   "cell_type": "code",
   "execution_count": 81,
   "id": "b298bfec",
   "metadata": {},
   "outputs": [
    {
     "data": {
      "text/plain": [
       "'/work/FAC/FBM/DBC/cdessim2/default/smajidi1/fastoma/v3b/iqtree5/_100_msa_concatanated.txt_copy1.contree'"
      ]
     },
     "execution_count": 81,
     "metadata": {},
     "output_type": "execute_result"
    }
   ],
   "source": [
    "\n",
    "project_folder_root=\"/work/FAC/FBM/DBC/cdessim2/default/smajidi1/fastoma/v3b/\" # v3b/\n",
    "project_folder = project_folder_root +\"hogmapX/\"\n",
    "fast_tree_address=project_folder_root+\"iqtree5/_100_msa_concatanated.txt_copy1.contree\"  # _collapsed_brnch_0.01# 1e-05\" # \n",
    "#\"iqtree5/_100_msa_concatanated.txt_copy1.contree\"\n",
    "#\"iqtree4_1/_100_msa_concatanated.txt.contree\"\n",
    "#\"iqtree5/_100_msa_concatanated.txt_copy1.contree\"\n",
    "#\"iqtree11/border_out_parition.nex.contree\"\n",
    "#_100_msa_concatanated.txt_copy1.contree\" # _collapsed_95\n",
    "\n",
    "\n",
    "fast_tree_address "
   ]
  },
  {
   "cell_type": "code",
   "execution_count": 82,
   "id": "dc8e7f71",
   "metadata": {},
   "outputs": [
    {
     "name": "stdout",
     "output_type": "stream",
     "text": [
      "len fast tree 383\n",
      "bird_hog_tree_leaf_count 383\n",
      "383 375\n",
      "[59729, 59894, 8839, 9031, 13146, 9135, 9157, 40217]\n",
      "['TAEGU', 'FICAL', 'ANAPL', 'CHICK', 'MELUD', 'SERCA', 'PARMJ', 'JUNHY']\n",
      "383 375\n",
      "383 375\n"
     ]
    }
   ],
   "source": [
    "fast_tree_raw= ete3.Tree(fast_tree_address) # ,format=0\n",
    "print(\"len fast tree\",len(fast_tree_raw))\n",
    "fast_tree_leaves_omaID_bird6ID=[]\n",
    "for node in fast_tree_raw.traverse(strategy=\"postorder\"):\n",
    "    if node.is_leaf() : # why ?\n",
    "        fast_tree_leaves_omaID_bird6ID.append(node.name)\n",
    "print(\"bird_hog_tree_leaf_count\",len(fast_tree_leaves_omaID_bird6ID))\n",
    "fast_tree_leaves_omaID_bird6ID[:3]\n",
    "\n",
    "fast_tree_leaves_taxonID = []\n",
    "for i3 in fast_tree_leaves_omaID_bird6ID:\n",
    "    if i3 in omaID_taxonID:\n",
    "        taxonID=omaID_taxonID[i3]\n",
    "    if i3  in bird6ID_taxonID:\n",
    "        taxonID= bird6ID_taxonID[i3]\n",
    "    fast_tree_leaves_taxonID.append(taxonID) # if it was in the both I save the bird ID    \n",
    "\n",
    "fast_tree_leaves_taxonID_unq=list(set(fast_tree_leaves_taxonID))\n",
    "print(len(fast_tree_leaves_taxonID),len(fast_tree_leaves_taxonID_unq))\n",
    "\n",
    "\n",
    "both_bird_oma_taxonID=[]\n",
    "for i in fast_tree_leaves_taxonID_unq:\n",
    "    if fast_tree_leaves_taxonID.count(i)>1:\n",
    "        both_bird_oma_taxonID.append(i)\n",
    "print(both_bird_oma_taxonID)\n",
    "both_bird_oma_omaID=[]\n",
    "for i in both_bird_oma_taxonID:\n",
    "    both_bird_oma_omaID.append(taxonID_omaID[i])\n",
    "print(both_bird_oma_omaID)\n",
    "\n",
    "fast_tree_leaves_omaID_bird6ID_uniq=[i for i in fast_tree_leaves_omaID_bird6ID if i not in both_bird_oma_omaID]\n",
    "print(len(fast_tree_leaves_omaID_bird6ID),len(fast_tree_leaves_omaID_bird6ID_uniq))\n",
    "fast_tree= ete3.Tree(fast_tree_address)\n",
    "fast_tree.prune(fast_tree_leaves_omaID_bird6ID_uniq)\n",
    "print(len(fast_tree_raw),len(fast_tree))\n"
   ]
  },
  {
   "cell_type": "markdown",
   "id": "7603307a",
   "metadata": {},
   "source": [
    "# Reading  NCBI tree"
   ]
  },
  {
   "cell_type": "code",
   "execution_count": 83,
   "id": "c633f1a2",
   "metadata": {},
   "outputs": [
    {
     "name": "stdout",
     "output_type": "stream",
     "text": [
      "The NCBI taxanomy is read and the leaves names changed to OMA/bird6 ID containing\n",
      "375\n"
     ]
    }
   ],
   "source": [
    "ncbi = ete3.NCBITaxa()  # first time download in ~/.etetoolkit/\n",
    "ncbi_sub_tree = ncbi.get_topology(fast_tree_leaves_taxonID_unq)\n",
    "## change the node name from NCBI taxon id (integer) to   omaID (5-letter) or bird6ID (6-letter)\n",
    "for node in ncbi_sub_tree.traverse(strategy=\"postorder\"):\n",
    "    node.name2 = node.name\n",
    "    if node.is_leaf() : # why ? and int(node.name) in taxonID_map\n",
    "        node.name = taxonID_map[int(node.name)]\n",
    "\n",
    "print(\"The NCBI taxanomy is read and the leaves names changed to OMA/bird6 ID containing\")\n",
    "print(len(ncbi_sub_tree)) \n",
    "#ncbi_sub_tree.write() "
   ]
  },
  {
   "cell_type": "markdown",
   "id": "8fb903a1",
   "metadata": {},
   "source": [
    "# Reading bird paper tree"
   ]
  },
  {
   "cell_type": "code",
   "execution_count": 84,
   "id": "c0492a81",
   "metadata": {},
   "outputs": [
    {
     "name": "stdout",
     "output_type": "stream",
     "text": [
      "10135\n",
      "13:10:25 - The bird science name  for  363 records have read.\n",
      "['Cercotrichas_coryphaeus', 'Corvus_cornix', 'Eolophus_roseicapillus', 'Nannopterum_auritus', 'Nannopterum_brasilianus', 'Nannopterum_harrisi', 'Urile_pelagicus']\n",
      "363 356\n"
     ]
    },
    {
     "data": {
      "text/plain": [
       "356"
      ]
     },
     "execution_count": 84,
     "metadata": {},
     "output_type": "execute_result"
    }
   ],
   "source": [
    "bird_paper_tree_address= \"/work/FAC/FBM/DBC/cdessim2/default/smajidi1/fastoma/archive/bird_paper_tree.txt\"\n",
    "bird_paper_tree_raw= ete3.Tree(bird_paper_tree_address, format=1)\n",
    "#len(bird_paper_tree_raw)\n",
    "\n",
    "bird_paper_tree_leaves=[]\n",
    "for node in bird_paper_tree_raw.traverse(strategy=\"postorder\"):\n",
    "    if node.is_leaf() : # why ?\n",
    "        bird_paper_tree_leaves.append(node.name)\n",
    "print(len(bird_paper_tree_leaves))\n",
    "bird_paper_tree_leaves[:3]\n",
    "\n",
    "bird_SCINAME_address= \"/work/FAC/FBM/DBC/cdessim2/default/smajidi1/fastoma/archive/\"+\"SCINAME_all_pure_under.txt\"\n",
    "\n",
    "def read_bird_SCINAME(bird_SCINAME_address):\n",
    "    bird_SCINAME_file = open(bird_SCINAME_address,'r')\n",
    "    bird_SCINAME_list = []\n",
    "    for line in bird_SCINAME_file:\n",
    "        line_strip = line.strip()\n",
    "        bird_SCINAME_list.append(line_strip)\n",
    "    current_time = datetime.now().strftime(\"%H:%M:%S\")\n",
    "    print(current_time, \"- The bird science name  for \",len(bird_SCINAME_list),\"records have read.\") \n",
    "    return bird_SCINAME_list\n",
    "\n",
    "\n",
    "bird_SCINAME_list = read_bird_SCINAME(bird_SCINAME_address)\n",
    "#bird_paper_tree_raw.prune(bird_SCINAME_list)\n",
    "\n",
    "notin_paper_tree= []\n",
    "for i in bird_SCINAME_list:\n",
    "    if i not in bird_paper_tree_leaves: \n",
    "        notin_paper_tree.append(i)\n",
    "print(notin_paper_tree)\n",
    "#notin_paper_tree=[\"Cercotrichas_coryphaeus\",\"Corvus_cornix\",\"Eolophus_roseicapillus\",\"Nannopterum_auritus\",\"Nannopterum_brasilianus\",\"Nannopterum_harrisi\",\"Urile_pelagicus\"]\n",
    "\n",
    "bird_SCINAME_list_filt=[i for i in bird_SCINAME_list if i not in notin_paper_tree]\n",
    "print(len(bird_SCINAME_list),len(bird_SCINAME_list_filt) )    \n",
    "bird_paper_tree= ete3.Tree(bird_paper_tree_address, format=1)\n",
    "bird_paper_tree.prune(bird_SCINAME_list_filt)\n",
    "\n",
    "\n",
    "bird_paper_tree_nodes =[]\n",
    "for node in bird_paper_tree.traverse(strategy=\"postorder\"):\n",
    "    node.name2 = node.name\n",
    "    if node.is_leaf() : # why ? and int(node.name) in taxonID_map\n",
    "        \n",
    "        node_name = node.name\n",
    "        node_name_split= node_name.split('_')\n",
    "        six_letter_name= ''.join([i[:3].upper() for i in node_name_split])\n",
    "        if len(six_letter_name)<5:\n",
    "            print(node_name)\n",
    "        else:\n",
    "            node.name= six_letter_name\n",
    "            #print(six_letter_name)\n",
    "            bird_paper_tree_nodes.append(six_letter_name)\n",
    "\n",
    "len(bird_paper_tree_nodes)"
   ]
  },
  {
   "cell_type": "markdown",
   "id": "1fef98d5",
   "metadata": {},
   "source": [
    "# Comapring intersection all trees"
   ]
  },
  {
   "cell_type": "code",
   "execution_count": 85,
   "id": "e65520ce",
   "metadata": {},
   "outputs": [
    {
     "name": "stdout",
     "output_type": "stream",
     "text": [
      "354\n",
      "354\n"
     ]
    },
    {
     "data": {
      "text/plain": [
       "(354, 354, 354)"
      ]
     },
     "execution_count": 85,
     "metadata": {},
     "output_type": "execute_result"
    }
   ],
   "source": [
    "ncbi_sub_tree_nodes =[]\n",
    "for node in ncbi_sub_tree.traverse(strategy=\"postorder\"):\n",
    "    if node.is_leaf() : \n",
    "        ncbi_sub_tree_nodes.append(node.name)\n",
    "len(ncbi_sub_tree_nodes),len(set(ncbi_sub_tree_nodes+bird_paper_tree_nodes))\n",
    "\n",
    "fast_tree_leaves_omaID_bird6ID_uniq_set=set(fast_tree_leaves_omaID_bird6ID_uniq)\n",
    "bird_paper_tree_nodes_set=set(bird_paper_tree_nodes)\n",
    "fast_tree_paper_tree_intersection= bird_paper_tree_nodes_set.intersection(fast_tree_leaves_omaID_bird6ID_uniq_set)\n",
    "print(len(fast_tree_paper_tree_intersection))\n",
    "\n",
    "ncbi_fast_tree_paper_tree_intersection= fast_tree_paper_tree_intersection.intersection(set(ncbi_sub_tree_nodes))\n",
    "print(len(ncbi_fast_tree_paper_tree_intersection))\n",
    "ncbi_sub_tree.prune(ncbi_fast_tree_paper_tree_intersection) # fast_tree_paper_tree_intersection \n",
    "\n",
    "fast_tree.prune(fast_tree_paper_tree_intersection)\n",
    "bird_paper_tree.prune(fast_tree_paper_tree_intersection) # fast_tree_paper_tree_intersection \n",
    "len(fast_tree),len(bird_paper_tree), len(ncbi_sub_tree)"
   ]
  },
  {
   "cell_type": "code",
   "execution_count": 108,
   "id": "dac4fbe9",
   "metadata": {},
   "outputs": [],
   "source": [
    "# # out_folder=\"/work/FAC/FBM/DBC/cdessim2/default/smajidi1/fastoma/v3b/\"\n",
    "# # #node.name\n",
    "\n",
    "# fast_tree.write(format=1, outfile=out_folder+\"tree_fast_tree_intersection.nw\")\n",
    "# bird_paper_tree.write(format=1, outfile=out_folder+\"tree_bird_paper_tree_intersection.nw\")\n",
    "# ncbi_sub_tree.write(format=1, outfile=out_folder+\"tree_ncbi_sub_tree_intersection.nw\")\n"
   ]
  },
  {
   "cell_type": "code",
   "execution_count": 86,
   "id": "c413eecc",
   "metadata": {},
   "outputs": [
    {
     "name": "stdout",
     "output_type": "stream",
     "text": [
      "RF distance is 309 over a total of 477\n",
      "Partitions: \n",
      "in paper: 698 , in ncbi: 489\n",
      "in both paper and ncbi: 439\n",
      "only in ncbi, not in paper: 50\n",
      "only in paper, not in ncbi: 259\n",
      "---------------\n",
      "RF distance is 314 over a total of 486\n",
      "Partitions: \n",
      "in fast: 707 , in ncbi: 489\n",
      "in both fast and ncbi: 441\n",
      "only in ncbi, not in fast: 48\n",
      "only in fast, not in ncbi: 266\n",
      "---------------\n",
      "RF distance is 314 over a total of 486\n",
      "Partitions: \n",
      "in fast: 707 , in ncbi: 698\n",
      "in both fast and ncbi: 568\n",
      "only in ncbi, not in fast: 130\n",
      "only in fast, not in ncbi: 139\n"
     ]
    }
   ],
   "source": [
    "fast_tree.set_outgroup(\"CALPUG\") # CALPUG MOUS  BUCCAP\n",
    "\n",
    "out_paper_ncbi = bird_paper_tree.robinson_foulds(ncbi_sub_tree) # , expand_polytomies = True  #,polytomy_size_limit=20  ,unrooted_trees=True # , expand_polytomies = True\n",
    "(rf_paper_ncbi, maxparts_paper_ncbi, common_attrs, partitions_paper, partitions_ncbi, discard_t1, discard_t2)=out_paper_ncbi \n",
    "print(\"RF distance is %s over a total of %s\" %(rf_paper_ncbi, maxparts_paper_ncbi))\n",
    "print(\"Partitions: \")\n",
    "print(\"in paper:\",len(partitions_paper),\", in ncbi:\",len(partitions_ncbi)) # , \"Common Partitions\",len(common_attrs_paper),)\n",
    "print(\"in both paper and ncbi:\", len(partitions_ncbi & partitions_paper))\n",
    "print(\"only in ncbi, not in paper:\", len(partitions_ncbi-partitions_paper)) # order not sure  http://etetoolkit.org/docs/latest/tutorial/tutorial_trees.html#robinson-foulds-distance\n",
    "print(\"only in paper, not in ncbi:\", len(partitions_paper-partitions_ncbi))\n",
    "\n",
    "\n",
    "print(\"-\"*15)\n",
    "out_fast_ncbi = fast_tree.robinson_foulds(ncbi_sub_tree)  # ,unrooted_trees=True # , expand_polytomies = True\n",
    "(rf_fast_ncbi, maxparts_fast_ncbi, common_attrs, partitions_fast, partitions_ncbi2, discard_t1, discard_t2)=out_fast_ncbi \n",
    "print(\"RF distance is %s over a total of %s\" %(rf_fast_ncbi, maxparts_fast_ncbi))\n",
    "print(\"Partitions: \")\n",
    "print(\"in fast:\",len(partitions_fast),\", in ncbi:\",len(partitions_ncbi2)) \n",
    "print(\"in both fast and ncbi:\", len(partitions_fast & partitions_ncbi2 ))\n",
    "print(\"only in ncbi, not in fast:\", len(partitions_ncbi2 - partitions_fast))\n",
    "print(\"only in fast, not in ncbi:\", len(partitions_fast- partitions_ncbi2))\n",
    "\n",
    "assert len(partitions_ncbi2-partitions_ncbi)==0\n",
    "\n",
    "print(\"-\"*15)\n",
    "out_fast_paper = fast_tree.robinson_foulds(bird_paper_tree)  # ,unrooted_trees=True # , expand_polytomies = True\n",
    "(rf_fast_paper, maxparts_fast_paper, common_attrs, partitions_fast, partitions_paper, discard_t1, discard_t2)=out_fast_paper\n",
    "print(\"RF distance is %s over a total of %s\" %(rf_fast_ncbi, maxparts_fast_ncbi))\n",
    "print(\"Partitions: \")\n",
    "print(\"in fast:\",len(partitions_fast),\", in ncbi:\",len(partitions_paper)) \n",
    "print(\"in both fast and ncbi:\", len(partitions_fast & partitions_paper))\n",
    "print(\"only in ncbi, not in fast:\", len(partitions_paper - partitions_fast))\n",
    "print(\"only in fast, not in ncbi:\", len(partitions_fast- partitions_paper))\n",
    "\n"
   ]
  },
  {
   "cell_type": "code",
   "execution_count": 87,
   "id": "e62fc310",
   "metadata": {},
   "outputs": [
    {
     "name": "stdout",
     "output_type": "stream",
     "text": [
      "only in fastOMA: 131\n",
      "only in fastOMA & paper: 135\n",
      "only in fastOMA & NCBI: 8\n",
      "only in paper & NCBI: 6\n",
      "only in fastOMA & NCBI & paper: 433\n",
      "only in paper: 124\n",
      "only in NCBI: 124\n"
     ]
    }
   ],
   "source": [
    "print(\"only in fastOMA:\", len((partitions_fast-partitions_ncbi2)-partitions_paper))\n",
    "print(\"only in fastOMA & paper:\",len((partitions_fast&partitions_paper)-partitions_ncbi2))\n",
    "print(\"only in fastOMA & NCBI:\",len((partitions_fast&partitions_ncbi2)- partitions_paper))\n",
    "print(\"only in paper & NCBI:\",len((partitions_paper&partitions_ncbi2)-  partitions_fast))\n",
    "print(\"only in fastOMA & NCBI & paper:\",len((partitions_fast&partitions_ncbi2)& partitions_paper))\n",
    "print(\"only in paper:\",len((partitions_paper-partitions_fast)-partitions_ncbi2 ))\n",
    "print(\"only in NCBI:\",len((partitions_paper-partitions_fast)-partitions_ncbi2 ))\n"
   ]
  },
  {
   "cell_type": "markdown",
   "id": "ff4683ae",
   "metadata": {},
   "source": [
    "# plot different collapsing "
   ]
  },
  {
   "cell_type": "code",
   "execution_count": null,
   "id": "4981ba56",
   "metadata": {},
   "outputs": [],
   "source": [
    "\n",
    "# val=[len((edges_fast-edges_ncbi2)-edges_paper),len((edges_fast&edges_paper)-edges_ncbi2),\n",
    "#      len((edges_fast&edges_ncbi2)- edges_paper),len((edges_paper&edges_ncbi2)-  edges_fast),\n",
    "#      len((edges_fast&edges_ncbi2)& edges_paper),\n",
    "#      len((edges_paper-edges_fast)-edges_ncbi2 ),len((edges_paper-edges_fast)-edges_ncbi2) ]\n",
    "# print(val)\n",
    "# # branch lenght\n",
    "# t_all=[ [131, 135, 8, 6, 433, 124, 124], # no\n",
    "#        [131, 135, 8, 6, 433, 124, 124],  # 0.00001\n",
    "#        [131, 135, 8, 6, 433, 124, 124],  # 0.0001\n",
    "#        [129, 135, 8, 6, 433, 124, 124],  # 0.001\n",
    "#        [53, 108, 5, 9, 430, 151, 151],   # 0.005\n",
    "#         [22, 69, 5, 17, 422, 190, 190],  #0.01\n",
    "#         [1, 0, 0, 80, 359, 259, 259]]  #0.1\n",
    "# ind = [\"no\",0.00001,0.0001,0.001,0.005,0.01,0.1]\n",
    "# # ind = [0,60,80,90,95,100] # ,\"BirdPaper\"\n",
    "# # # support values\n",
    "# # t_all=[[131, 135, 8, 6, 433, 124, 124], # np\n",
    "# #        [122, 130, 8, 6, 433, 129, 129], # 60\n",
    "# #        [111, 129, 8, 6, 433, 130, 130], # 80\n",
    "# #        [92, 127, 8, 6, 433, 132, 132],# 90\n",
    "# #        [80, 124, 6, 7, 432, 135, 135], # 95\n",
    "# #        [63, 120, 6, 7, 432, 139, 139]]\n",
    "\n",
    "# import numpy as np\n",
    "# t_all=np.array(t_all)\n",
    "# t_all_=np.transpose(t_all)\n",
    "# len(t_all_)\n",
    "\n",
    "# # t_all=[[131, 135, 8, 6, 433, 124, 124], # np\n",
    "# #        [122, 130, 8, 6, 433, 129, 129], # 60\n",
    "# #        [111, 129, 8, 6, 433, 130, 130], # 80\n",
    "# #        [92, 127, 8, 6, 433, 132, 132],# 90\n",
    "# #        [80, 124, 6, 7, 432, 135, 135], # 95\n",
    "# #        [63, 120, 6, 7, 432, 139, 139]]\n",
    "# lenged1=['fastOMA','fastOMA & paper',  'fastOMA & NCBI',\n",
    "#   'paper & NCBI', 'fastOMA & NCBI & paper',  'paper', 'NCBI']\n",
    "\n",
    "# import pandas as pd\n",
    "# df = pd.DataFrame(data=t_all)\n",
    "# df.columns=lenged1   #ind = [0,60,80,90,95,100] # ,\"BirdPaper\"\n",
    "# df.index=ind\n",
    "# df"
   ]
  },
  {
   "cell_type": "code",
   "execution_count": null,
   "id": "c3622b50",
   "metadata": {},
   "outputs": [],
   "source": [
    "# ind=[str(i) for i in ind]\n",
    "# width = 0.20\n",
    "# palet=['b', 'g', 'r', 'c', 'm', 'y', 'k', 'w']\n",
    "# fig = plt.figure()\n",
    "# ax = fig.add_axes([0,0,1,1])\n",
    "# ax.bar(ind, t_all_[0], width, color=palet[0])\n",
    "# ax.bar(ind, t_all_[1], width,bottom=t_all_[0], color=palet[1])\n",
    "# ax.bar(ind, t_all_[2], width,bottom=t_all_[0]+t_all_[1], color=palet[2])\n",
    "# ax.bar(ind, t_all_[3], width,bottom=t_all_[0]+t_all_[1]+t_all_[2], color=palet[3])\n",
    "# ax.bar(ind, t_all_[4], width,bottom=t_all_[0]+t_all_[1]+t_all_[2]+t_all_[3], color=palet[4])\n",
    "# ax.bar(ind, t_all_[5], width,bottom=t_all_[0]+t_all_[1]+t_all_[2]+t_all_[3]+t_all_[4], color=palet[5])\n",
    "# ax.bar(ind, t_all_[6], width,bottom=t_all_[0]+t_all_[1]+t_all_[2]+t_all_[3]+t_all_[4]+t_all_[5], color=palet[6])\n",
    "\n",
    "# ax.set_xlabel('Support value threshold')\n",
    "# ax.set_ylabel('Number of partitions')\n",
    "# #ax.set_title('Collapase edges with support value < threshold ')\n",
    "# ax.legend(labels=lenged1,loc=3)\n",
    "\n",
    "# plt.show()\n",
    "# plt.savefig(project_folder_root+\"collapse2.pdf\")"
   ]
  },
  {
   "cell_type": "code",
   "execution_count": null,
   "id": "e6198c6d",
   "metadata": {},
   "outputs": [],
   "source": [
    "ind=[\"only in fastOMA\",\"only in fastOMA & paper\",\n",
    "      \"only in fastOMA & NCBI\",\"only in fastOMA & NCBI & paper\",\n",
    "      \"only in paper\",\"only in NCBI\"]\n",
    "ind"
   ]
  },
  {
   "cell_type": "markdown",
   "id": "eb394714",
   "metadata": {},
   "source": [
    "# collapsing low support values"
   ]
  },
  {
   "cell_type": "code",
   "execution_count": null,
   "id": "36c0b9a8",
   "metadata": {},
   "outputs": [],
   "source": [
    "# dendropy\n",
    "\n",
    "# '/work/FAC/FBM/DBC/cdessim2/default/smajidi1/fastoma/v3b/iqtree5/collpased.tree_collapsed'\n",
    "print(bi_tree_address)\n",
    "tree = dendropy.Tree.get_from_path(fast_treee_address,\"newick\") # newick nexus\n",
    "print(len(tree))\n",
    "support_treshold=95\n",
    "for idx, node in enumerate(tree):\n",
    "    if not node.is_leaf() and node.label:\n",
    "        support_value=int(node.label)\n",
    "        if support_value<support_treshold:\n",
    "            edge= node.edge   #print(edge.head_node.child_nodes())\n",
    "            edge.collapse()\n",
    "print(len(tree))\n",
    "\n",
    "fast_treee_address_out=fast_treee_address+\"_collapsed2_\"+str(support_treshold)\n",
    "tree.write_to_path(fast_treee_address_out, \"newick\")\n",
    "print(fast_treee_address_out)"
   ]
  },
  {
   "cell_type": "markdown",
   "id": "2ce0643f",
   "metadata": {},
   "source": [
    "# collapsing branch length"
   ]
  },
  {
   "cell_type": "code",
   "execution_count": null,
   "id": "17bfc21d",
   "metadata": {},
   "outputs": [],
   "source": [
    "# dendropy\n",
    "\n",
    "print(fast_tree_address)\n",
    "fast_tree_address=\"/work/FAC/FBM/DBC/cdessim2/default/smajidi1/fastoma/v3b/iqtree5/_100_msa_concatanated.txt_copy1.contree\"\n",
    "print(fast_tree_address)\n",
    "\n",
    "tree = dendropy.Tree.get_from_path(fast_tree_address,\"newick\") # newick nexus\n",
    "print(len(tree))\n",
    "len_all=[]\n",
    "threshold=0.01\n",
    "#for idx, node in enumerate(tree):\n",
    "for e in tree.postorder_edge_iter():    \n",
    "#     len_edg=e.length\n",
    "#     if len_edg:\n",
    "#         len_all.append(len_edg)\n",
    "    if e.length is None or (e.length <= threshold) and e.is_internal():\n",
    "        e.collapse()"
   ]
  },
  {
   "cell_type": "code",
   "execution_count": null,
   "id": "02ae3bb0",
   "metadata": {},
   "outputs": [],
   "source": [
    "# dendropy\n",
    "\n",
    "fast_treee_address_out=fast_treee_address+\"_collapsed_brnch_\"+str(threshold)+\"_\"\n",
    "tree.write_to_path(fast_treee_address_out, \"newick\")\n",
    "print(fast_treee_address_out)"
   ]
  },
  {
   "cell_type": "code",
   "execution_count": null,
   "id": "528f5f83",
   "metadata": {},
   "outputs": [],
   "source": [
    "plt.hist(len_all,bins=500)\n",
    "plt.show()"
   ]
  },
  {
   "cell_type": "markdown",
   "id": "58aa186a",
   "metadata": {},
   "source": [
    "# PNAS paper"
   ]
  },
  {
   "cell_type": "code",
   "execution_count": null,
   "id": "6bc5041e",
   "metadata": {},
   "outputs": [],
   "source": [
    "project_folder_root=\"/work/FAC/FBM/DBC/cdessim2/default/smajidi1/fastoma/archive/\" # v3b/\n",
    "pnas_tree_address=project_folder_root+\"tree_pnas.1813206116.sd02.txt\"  # _collapsed_brnch_0.01# 1e-05\" # \n",
    "\n",
    "#tree2 = dendropy.Tree.get(file=open(pnas_tree_address, \"r\"), schema=\"nexus\")\n",
    "tree2 = dendropy.TreeList.get(path=pnas_tree_address, schema='nexus')\n",
    "print(tree2[0].as_ascii_plot())\n",
    "#print(tree2[0].as_ascii_plot())\n",
    "print(tree2[10])"
   ]
  },
  {
   "cell_type": "markdown",
   "id": "d4e8fd3b",
   "metadata": {},
   "source": [
    "# Standard OMA  -slow"
   ]
  },
  {
   "cell_type": "code",
   "execution_count": 12,
   "id": "fe09c8c4",
   "metadata": {},
   "outputs": [
    {
     "name": "stdout",
     "output_type": "stream",
     "text": [
      "len slow tree 363\n",
      "354\n"
     ]
    }
   ],
   "source": [
    "\n",
    "slow_tree_address=\"/work/FAC/FBM/DBC/cdessim2/default/smajidi1/fastoma/v4a/iqtree4_1/_100_msa_concatanated.txt.contree\"\n",
    "slow_tree= ete3.Tree(slow_tree_address) # ,format=0\n",
    "print(\"len slow tree\",len(slow_tree))\n",
    "slow_tree.prune(fast_tree_paper_tree_intersection)\n",
    "print(len(slow_tree))"
   ]
  },
  {
   "cell_type": "code",
   "execution_count": 38,
   "id": "b148d0f7",
   "metadata": {},
   "outputs": [
    {
     "name": "stdout",
     "output_type": "stream",
     "text": [
      "---------------\n",
      "RF distance is 318 over a total of 486\n",
      "Partitions: \n",
      "in ncbi: 489 , in slow: 707\n",
      "in both ncbi and slow: 439\n",
      "only in ncbi, not in slow: 50\n",
      "only in slow, not in ncbi: 268\n"
     ]
    }
   ],
   "source": [
    "slow_tree.set_outgroup(\"CALPUG\") # CALPUG MOUS  BUCCAP\n",
    "\n",
    "print(\"-\"*15)\n",
    "out_slow_ncbi = slow_tree.robinson_foulds(ncbi_sub_tree)  # ,unrooted_trees=True # , expand_polytomies = True\n",
    "(rf_slow_ncbi, maxparts_slow_ncbi, common_attrs, partitions_slow, partitions_ncbi, discard_t1, discard_t2)=out_slow_ncbi\n",
    "\n",
    "print(\"RF distance is %s over a total of %s\" %(rf_slow_ncbi, maxparts_slow_ncbi))\n",
    "print(\"Partitions: \")\n",
    "print(\"in ncbi:\",len(partitions_ncbi),\", in slow:\",len(partitions_slow)) \n",
    "print(\"in both ncbi and slow:\", len(partitions_ncbi & partitions_slow))\n",
    "print(\"only in ncbi, not in slow:\", len(partitions_ncbi - partitions_slow))\n",
    "print(\"only in slow, not in ncbi:\", len(partitions_slow- partitions_ncbi))\n"
   ]
  },
  {
   "cell_type": "code",
   "execution_count": 19,
   "id": "273420c0",
   "metadata": {},
   "outputs": [
    {
     "name": "stdout",
     "output_type": "stream",
     "text": [
      "---------------\n",
      "RF distance is 138 over a total of 704\n",
      "Partitions: \n",
      "in fast: 707 , in slow: 707\n",
      "in both fast and slow: 638\n",
      "only in fast, not in slow: 69\n",
      "only in slow, not in fast: 69\n"
     ]
    }
   ],
   "source": [
    "slow_tree.set_outgroup(\"CALPUG\") # CALPUG MOUS  BUCCAP\n",
    "\n",
    "print(\"-\"*15)\n",
    "out_slow_fast = slow_tree.robinson_foulds(fast_tree)  # ,unrooted_trees=True # , expand_polytomies = True\n",
    "(rf_slow_fast, maxparts_slow_fast, common_attrs, partitions_slow, partitions_fast, discard_t1, discard_t2)=out_slow_fast\n",
    "\n",
    "print(\"RF distance is %s over a total of %s\" %(rf_slow_fast, maxparts_slow_fast))\n",
    "print(\"Partitions: \")\n",
    "print(\"in fast:\",len(partitions_fast),\", in slow:\",len(partitions_slow)) \n",
    "print(\"in both fast and slow:\", len(partitions_fast & partitions_slow))\n",
    "print(\"only in fast, not in slow:\", len(partitions_fast - partitions_slow))\n",
    "print(\"only in slow, not in fast:\", len(partitions_slow- partitions_fast))"
   ]
  },
  {
   "cell_type": "markdown",
   "id": "d925e4b5",
   "metadata": {},
   "source": [
    "# coloring based on partitions differences in ncbi/paper/fast"
   ]
  },
  {
   "cell_type": "code",
   "execution_count": 40,
   "id": "4a7f279f",
   "metadata": {},
   "outputs": [
    {
     "data": {
      "text/plain": [
       "('APHCOE', 'CNELOR', 'CORBRA', 'CORMON', 'ORIORI')"
      ]
     },
     "execution_count": 40,
     "metadata": {},
     "output_type": "execute_result"
    }
   ],
   "source": []
  },
  {
   "cell_type": "code",
   "execution_count": 103,
   "id": "8319a067",
   "metadata": {},
   "outputs": [
    {
     "name": "stdout",
     "output_type": "stream",
     "text": [
      "42 ['28725', '8906']\n",
      "8 ['56296', '400781']\n",
      "433 ['64794', '32524']\n",
      "6 ['175115', '50247']\n"
     ]
    }
   ],
   "source": [
    "#partitions_paper-partitions_fast)-partitions_ncbi2\n",
    "part_only_ncbi= list((partitions_ncbi2 - partitions_fast)-partitions_paper)\n",
    "\n",
    "part_only_ncbi_ancestor=[]\n",
    "for i in part_only_ncbi:\n",
    "    ancestor = ncbi_sub_tree.get_common_ancestor(i)\n",
    "    part_only_ncbi_ancestor.append(ancestor.name)    \n",
    "print(len(part_only_ncbi_ancestor),part_only_ncbi_ancestor[:2])\n",
    "\n",
    "#ancestor\n",
    "#ancestor.children, ancestor.children[0].children\n",
    "\n",
    "part_ncbi_fast_notpaper= list((partitions_ncbi2 & partitions_fast)-partitions_paper)\n",
    "part_ncbi_fast_notpaper_ancestor=[]\n",
    "for i in part_ncbi_fast_notpaper:\n",
    "    ancestor = ncbi_sub_tree.get_common_ancestor(i)\n",
    "    part_ncbi_fast_notpaper_ancestor.append(ancestor.name)    \n",
    "print(len(part_ncbi_fast_notpaper_ancestor),part_ncbi_fast_notpaper_ancestor[:2])\n",
    "\n",
    "\n",
    "part_ncbi_fast_paper= list((partitions_ncbi2 & partitions_fast)& partitions_paper)\n",
    "part_ncbi_fast_paper_ancestor=[]\n",
    "for i in part_ncbi_fast_paper:\n",
    "    ancestor = ncbi_sub_tree.get_common_ancestor(i)\n",
    "    part_ncbi_fast_paper_ancestor.append(ancestor.name)    \n",
    "print(len(part_ncbi_fast_paper_ancestor),part_ncbi_fast_paper_ancestor[:2])\n",
    "\n",
    "\n",
    "\n",
    "part_ncbi_notfast_paper= list((partitions_ncbi2 & partitions_paper)- partitions_fast)\n",
    "part_ncbi_notfast_paper_ancestor=[]\n",
    "for i in part_ncbi_notfast_paper:\n",
    "    ancestor = ncbi_sub_tree.get_common_ancestor(i)\n",
    "    part_ncbi_notfast_paper_ancestor.append(ancestor.name)    \n",
    "print(len(part_ncbi_notfast_paper_ancestor),part_ncbi_notfast_paper_ancestor[:2])\n"
   ]
  },
  {
   "cell_type": "code",
   "execution_count": null,
   "id": "69ee2b81",
   "metadata": {},
   "outputs": [],
   "source": []
  },
  {
   "cell_type": "code",
   "execution_count": 104,
   "id": "08286cce",
   "metadata": {},
   "outputs": [],
   "source": [
    "\n",
    "ncbi_sub_tree_part= ncbi_sub_tree\n",
    "for node in ncbi_sub_tree.traverse(strategy=\"postorder\"):\n",
    "    \n",
    "    if not node.is_leaf() : # why ? and int(node.name) in taxonID_map\n",
    "        if node.name in part_only_ncbi_ancestor:\n",
    "            node.support = .2\n",
    "        elif node.name in part_ncbi_fast_notpaper_ancestor:\n",
    "            node.support = .6\n",
    "        elif node.name in part_ncbi_notfast_paper_ancestor:\n",
    "            node.support = .4\n",
    "        elif node.name in part_ncbi_fast_paper_ancestor:\n",
    "            node.support = .8\n",
    "        else:\n",
    "            node.support = 0\n",
    "            print(node.children)\n",
    "        "
   ]
  },
  {
   "cell_type": "code",
   "execution_count": 106,
   "id": "bd969049",
   "metadata": {},
   "outputs": [],
   "source": [
    "out_folder=\"/work/FAC/FBM/DBC/cdessim2/default/smajidi1/fastoma/v3b/\"\n",
    "#node.name\n",
    "\n",
    "ncbi_sub_tree_part.write(format=1, outfile=out_folder+\"ncbi_colored.nw\")\n",
    "ncbi_sub_tree_part.write(format=1, outfile=out_folder+\"ncbi_colored.nw\")\n",
    "\n"
   ]
  },
  {
   "cell_type": "code",
   "execution_count": null,
   "id": "cf865330",
   "metadata": {},
   "outputs": [],
   "source": []
  },
  {
   "cell_type": "code",
   "execution_count": null,
   "id": "352bdf52",
   "metadata": {},
   "outputs": [],
   "source": []
  },
  {
   "cell_type": "code",
   "execution_count": null,
   "id": "d709fe22",
   "metadata": {},
   "outputs": [],
   "source": [
    "# write ete3 tree into file\n",
    "#Et.write(format=1, outfile=\"new_tree.nw\")\n",
    "\n",
    "#tree2 = dendropy.Tree.get_from_path(\"/work/FAC/FBM/DBC/cdessim2/default/smajidi1/fastoma/archive/ncbi.tree\",\"newick\") # newick nexus\n",
    "print(len(tree2))"
   ]
  },
  {
   "cell_type": "code",
   "execution_count": null,
   "id": "1b5108be",
   "metadata": {},
   "outputs": [],
   "source": [
    "ancestor = t.get_common_ancestor(\"C\", \"J\", \"B\")\n"
   ]
  },
  {
   "cell_type": "code",
   "execution_count": null,
   "id": "e0ef1bf4",
   "metadata": {},
   "outputs": [],
   "source": [
    "\n",
    "\n",
    "#edges_fast-edges_ncbi2\n",
    "\n",
    "all1=[]\n",
    "support_treshold=95\n",
    "for idx, node in enumerate(tree2):\n",
    "#     if node.is_leaf():\n",
    "#         node1=node\n",
    "        \n",
    "    if not node.is_leaf() and node.label:\n",
    "        a=[str(i.taxon)[1:-1] for i in node.adjacent_nodes()]\n",
    "\n",
    "        all1+=a\n",
    "        for i in set_all:\n",
    "            if i in a:\n",
    "                node.label=str(10)\n",
    "                #print(i)\n",
    "                "
   ]
  },
  {
   "cell_type": "code",
   "execution_count": null,
   "id": "5c1c998a",
   "metadata": {},
   "outputs": [],
   "source": [
    "len(set(all1)),len(set_all)"
   ]
  },
  {
   "cell_type": "code",
   "execution_count": null,
   "id": "bb7aaa8c",
   "metadata": {},
   "outputs": [],
   "source": [
    "#set_all.intersection(set(all1))"
   ]
  },
  {
   "cell_type": "code",
   "execution_count": null,
   "id": "fecf57ee",
   "metadata": {},
   "outputs": [],
   "source": []
  },
  {
   "cell_type": "code",
   "execution_count": null,
   "id": "e7b17aac",
   "metadata": {},
   "outputs": [],
   "source": []
  },
  {
   "cell_type": "code",
   "execution_count": null,
   "id": "ca2c6ce0",
   "metadata": {},
   "outputs": [],
   "source": [
    "print(tree2)"
   ]
  },
  {
   "cell_type": "code",
   "execution_count": null,
   "id": "49677758",
   "metadata": {},
   "outputs": [],
   "source": [
    "node2.taxon"
   ]
  },
  {
   "cell_type": "code",
   "execution_count": null,
   "id": "69056403",
   "metadata": {},
   "outputs": [],
   "source": []
  },
  {
   "cell_type": "code",
   "execution_count": null,
   "id": "7f236259",
   "metadata": {},
   "outputs": [],
   "source": []
  },
  {
   "cell_type": "code",
   "execution_count": null,
   "id": "30878da5",
   "metadata": {},
   "outputs": [],
   "source": []
  },
  {
   "cell_type": "code",
   "execution_count": null,
   "id": "cf12c208",
   "metadata": {},
   "outputs": [],
   "source": []
  },
  {
   "cell_type": "code",
   "execution_count": null,
   "id": "84cbc959",
   "metadata": {},
   "outputs": [],
   "source": [
    "#ncbi_sub_tree.write()"
   ]
  },
  {
   "cell_type": "code",
   "execution_count": null,
   "id": "3f4dde9a",
   "metadata": {},
   "outputs": [],
   "source": [
    "out_fast_ncbi = fast_tree.robinson_foulds(ncbi_sub_tree)  # ,unrooted_trees=True # , expand_polytomies = True\n",
    "(rf_fast_ncbi, maxparts_fast_ncbi, common_attrs, edges_fast, edges_ncbi2, discard_t1, discard_t2)=out_fast_ncbi \n",
    "\n",
    "print(\"RF distance is %s over a total of %s\" %(rf_fast_ncbi, maxparts_fast_ncbi))\n",
    "print(\"Partitions: \")\n",
    "print(\"in fast:\",len(edges_fast),\". in ncbi:\",len(edges_ncbi2)) \n",
    "print(\"in both fast and ncbi:\", len(edges_fast &edges_ncbi2 ))\n",
    "print(\"only in ncbi, not in fast:\", len(edges_fast-edges_ncbi2))\n",
    "print(\"only in fast, not in ncbi:\", len(edges_ncbi2-edges_fast))\n",
    "\n"
   ]
  },
  {
   "cell_type": "code",
   "execution_count": null,
   "id": "8e12d9ef",
   "metadata": {},
   "outputs": [],
   "source": [
    "set1=edges_fast-edges_ncbi2\n",
    "set1_list=list(set1)\n",
    "print(set1_list[1])\n",
    "\n"
   ]
  },
  {
   "cell_type": "code",
   "execution_count": null,
   "id": "79e03ac5",
   "metadata": {},
   "outputs": [],
   "source": [
    "ancestor = t.get_common_ancestor(\"C\", \"J\", \"B\")"
   ]
  },
  {
   "cell_type": "code",
   "execution_count": null,
   "id": "695fd933",
   "metadata": {},
   "outputs": [],
   "source": []
  },
  {
   "cell_type": "code",
   "execution_count": null,
   "id": "4496b936",
   "metadata": {},
   "outputs": [],
   "source": [
    "print(set1_list[1])\n"
   ]
  },
  {
   "cell_type": "code",
   "execution_count": null,
   "id": "9b44eb97",
   "metadata": {},
   "outputs": [],
   "source": [
    "\n",
    "for i in set1:\n",
    "    print(len(i))\n",
    "\n"
   ]
  },
  {
   "cell_type": "code",
   "execution_count": null,
   "id": "5bedbd4c",
   "metadata": {},
   "outputs": [],
   "source": []
  },
  {
   "cell_type": "code",
   "execution_count": null,
   "id": "7b955b3c",
   "metadata": {},
   "outputs": [],
   "source": [
    "i"
   ]
  },
  {
   "cell_type": "code",
   "execution_count": null,
   "id": "7d88ab11",
   "metadata": {
    "scrolled": true
   },
   "outputs": [],
   "source": [
    " ncbi.mrca( each partiito) "
   ]
  },
  {
   "cell_type": "code",
   "execution_count": null,
   "id": "b2fb15c2",
   "metadata": {},
   "outputs": [],
   "source": []
  },
  {
   "cell_type": "code",
   "execution_count": null,
   "id": "658dada4",
   "metadata": {},
   "outputs": [],
   "source": []
  },
  {
   "cell_type": "code",
   "execution_count": null,
   "id": "f5030203",
   "metadata": {},
   "outputs": [],
   "source": []
  }
 ],
 "metadata": {
  "kernelspec": {
   "display_name": "Python 3",
   "language": "python",
   "name": "python3"
  },
  "language_info": {
   "codemirror_mode": {
    "name": "ipython",
    "version": 3
   },
   "file_extension": ".py",
   "mimetype": "text/x-python",
   "name": "python",
   "nbconvert_exporter": "python",
   "pygments_lexer": "ipython3",
   "version": "3.8.1"
  }
 },
 "nbformat": 4,
 "nbformat_minor": 5
}
