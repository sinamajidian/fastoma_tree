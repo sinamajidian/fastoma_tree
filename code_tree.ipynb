{
 "cells": [
  {
   "cell_type": "code",
   "execution_count": 1,
   "id": "d0927039",
   "metadata": {},
   "outputs": [],
   "source": [
    "#!/usr/bin/python3\n",
    "\n",
    "import numpy as np\n",
    "from sys import argv\n",
    "\n",
    "from datetime import datetime\n",
    "#import concurrent.futures\n",
    "\n",
    "# import ast\n",
    "#  for development \n",
    "import matplotlib\n",
    "matplotlib.use('Agg')\n",
    "import matplotlib.pyplot as plt\n",
    "\n",
    "import ete3\n"
   ]
  },
  {
   "cell_type": "code",
   "execution_count": 2,
   "id": "d066bd10",
   "metadata": {},
   "outputs": [],
   "source": [
    "def read_taxonID_map(omaID_address,bird6ID_address):\n",
    "    \n",
    "    omaID_file = open(omaID_address,'r')\n",
    "    taxonID_omaID={}\n",
    "    omaID_taxonID={}\n",
    "    for line in omaID_file:\n",
    "        line_strip = line.strip()\n",
    "        if line_strip.startswith('#'):\n",
    "            pass\n",
    "            #header_lines_list.append(line_strip)\n",
    "        else:\n",
    "            line_parts=line_strip.split('\\t')\n",
    "\n",
    "            omaID = line_parts[0]\n",
    "            taxonID = int(line_parts[1])\n",
    "            taxonID_omaID[taxonID]=omaID\n",
    "            omaID_taxonID[omaID]=taxonID\n",
    "            \n",
    "    omaID_file.close()\n",
    "        \n",
    "    current_time = datetime.now().strftime(\"%H:%M:%S\")\n",
    "    print(current_time, \"- The map for taxonID omaID of\",len(taxonID_omaID),\"records have read.\") \n",
    "    \n",
    "    \n",
    "    bird6ID_file = open(bird6ID_address,'r')\n",
    "    taxonID_bird6ID={}\n",
    "    bird6ID_taxonID= {}\n",
    "    for line in bird6ID_file:\n",
    "        line_strip = line.strip()\n",
    "        if line_strip.startswith('Or'):\n",
    "            pass\n",
    "            line_strip1=line_strip\n",
    "            #header_lines_list.append(line_strip)\n",
    "        else:\n",
    "            line_parts=line_strip.split('\\t')\n",
    "\n",
    "            bird6ID = line_parts[6]\n",
    "            taxonID = int(line_parts[8])\n",
    "            taxonID_bird6ID[taxonID]=bird6ID\n",
    "            bird6ID_taxonID[bird6ID]=taxonID\n",
    "            \n",
    "    bird6ID_file.close()\n",
    "        \n",
    "    current_time = datetime.now().strftime(\"%H:%M:%S\")\n",
    "    print(current_time, \"- The map for taxonID bird6ID of\",len(taxonID_bird6ID),\"records have read.\") \n",
    "  \n",
    "    return (taxonID_omaID,taxonID_bird6ID,omaID_taxonID,bird6ID_taxonID)\n",
    "    \n",
    "            "
   ]
  },
  {
   "cell_type": "code",
   "execution_count": 3,
   "id": "3fc345ba",
   "metadata": {},
   "outputs": [],
   "source": [
    "\n",
    "datasets_address= \"/work/FAC/FBM/DBC/cdessim2/default/smajidi1/fastoma/archive/\"\n",
    "# oma_database_address = datasets_address + \"OmaServer.h5\"\n",
    "# hog_og_map_address = datasets_address + \"hog_og_map.dic\"\n",
    "omaID_address = datasets_address+\"oma-species.txt\"\n",
    "bird6ID_address = datasets_address+\"info.tsv\"\n"
   ]
  },
  {
   "cell_type": "code",
   "execution_count": 4,
   "id": "71a18479",
   "metadata": {},
   "outputs": [
    {
     "name": "stdout",
     "output_type": "stream",
     "text": [
      "09:41:18 - The map for taxonID omaID of 2424 records have read.\n",
      "09:41:18 - The map for taxonID bird6ID of 363 records have read.\n",
      "2424 363 2778\n"
     ]
    }
   ],
   "source": [
    "(taxonID_omaID,taxonID_bird6ID,omaID_taxonID,bird6ID_taxonID) = read_taxonID_map(omaID_address,bird6ID_address)\n",
    "# left is the ky\n",
    "# taxonID_omaID  {taxonID:omaID, .. }\n",
    "# taxonID_omaID[1111]=ABABA\n",
    "\n",
    "taxonID_map = {**taxonID_omaID,**taxonID_bird6ID }\n",
    "\n",
    "print(len(taxonID_omaID),len(taxonID_bird6ID),len(taxonID_map))\n",
    "#taxonID_list= list(taxonID_map.keys())"
   ]
  },
  {
   "cell_type": "markdown",
   "id": "58c5d60f",
   "metadata": {},
   "source": [
    "# Reading FastOMA bird  tree"
   ]
  },
  {
   "cell_type": "code",
   "execution_count": 82,
   "id": "b298bfec",
   "metadata": {},
   "outputs": [],
   "source": [
    "\n",
    "\n",
    "project_folder = \"/work/FAC/FBM/DBC/cdessim2/default/smajidi1/fastoma/v3b/hogmapX/\"\n",
    "#\"/work/FAC/FBM/DBC/cdessim2/default/smajidi1/fastoma/v3a/ST/f4_100S/\" \n",
    "\n",
    "#bird_tree_address=\"/work/FAC/FBM/DBC/cdessim2/default/smajidi1/fastoma/v3b/hogmapX/out_17Jul/_100_msa_concatanated.tree\"\n",
    "\n",
    "bird_tree_address=\"/work/FAC/FBM/DBC/cdessim2/default/smajidi1/fastoma/v3b/hogmapX/out_17Jul/iqtree2/_100_msa_concatanated.txt_copy1.boottrees\"\n",
    "#iqtree0/_100_msa_concatanated.txt.boottrees\"\n",
    "\n",
    "#\"/work/FAC/FBM/DBC/cdessim2/default/smajidi1/fastoma/old2/_msa_concatanated_filtered_row_col_0.6_10.tree\"\n",
    "#v3a/hogmapX/out4/_tree_filt_7.txt\""
   ]
  },
  {
   "cell_type": "code",
   "execution_count": 83,
   "id": "5e04026d",
   "metadata": {},
   "outputs": [
    {
     "ename": "NewickError",
     "evalue": "Unexisting tree file or Malformed newick tree structure.\nYou may want to check other newick loading flags like 'format' or 'quoted_node_names'.",
     "output_type": "error",
     "traceback": [
      "\u001b[0;31m---------------------------------------------------------------------------\u001b[0m",
      "\u001b[0;31mNewickError\u001b[0m                               Traceback (most recent call last)",
      "\u001b[0;32m<ipython-input-83-7b7c77cb4870>\u001b[0m in \u001b[0;36m<module>\u001b[0;34m\u001b[0m\n\u001b[0;32m----> 1\u001b[0;31m \u001b[0mbird_tree_raw\u001b[0m\u001b[0;34m=\u001b[0m \u001b[0mete3\u001b[0m\u001b[0;34m.\u001b[0m\u001b[0mTree\u001b[0m\u001b[0;34m(\u001b[0m\u001b[0mbird_tree_address\u001b[0m\u001b[0;34m)\u001b[0m\u001b[0;34m\u001b[0m\u001b[0;34m\u001b[0m\u001b[0m\n\u001b[0m\u001b[1;32m      2\u001b[0m \u001b[0mlen\u001b[0m\u001b[0;34m(\u001b[0m\u001b[0mbird_tree_raw\u001b[0m\u001b[0;34m)\u001b[0m\u001b[0;34m\u001b[0m\u001b[0;34m\u001b[0m\u001b[0m\n\u001b[1;32m      3\u001b[0m \u001b[0;31m#bird_tree.write()\u001b[0m\u001b[0;34m\u001b[0m\u001b[0;34m\u001b[0m\u001b[0;34m\u001b[0m\u001b[0m\n",
      "\u001b[0;32m/work/FAC/FBM/DBC/cdessim2/default/smajidi1/software/miniconda3/lib/python3.8/site-packages/ete3/coretype/tree.py\u001b[0m in \u001b[0;36m__init__\u001b[0;34m(self, newick, format, dist, support, name, quoted_node_names)\u001b[0m\n\u001b[1;32m    210\u001b[0m         \u001b[0;32mif\u001b[0m \u001b[0mnewick\u001b[0m \u001b[0;32mis\u001b[0m \u001b[0;32mnot\u001b[0m \u001b[0;32mNone\u001b[0m\u001b[0;34m:\u001b[0m\u001b[0;34m\u001b[0m\u001b[0;34m\u001b[0m\u001b[0m\n\u001b[1;32m    211\u001b[0m             \u001b[0mself\u001b[0m\u001b[0;34m.\u001b[0m\u001b[0m_dist\u001b[0m \u001b[0;34m=\u001b[0m \u001b[0;36m0.0\u001b[0m\u001b[0;34m\u001b[0m\u001b[0;34m\u001b[0m\u001b[0m\n\u001b[0;32m--> 212\u001b[0;31m             read_newick(newick, root_node = self, format=format,\n\u001b[0m\u001b[1;32m    213\u001b[0m                         quoted_names=quoted_node_names)\n\u001b[1;32m    214\u001b[0m \u001b[0;34m\u001b[0m\u001b[0m\n",
      "\u001b[0;32m/work/FAC/FBM/DBC/cdessim2/default/smajidi1/software/miniconda3/lib/python3.8/site-packages/ete3/parser/newick.py\u001b[0m in \u001b[0;36mread_newick\u001b[0;34m(newick, root_node, format, quoted_names)\u001b[0m\n\u001b[1;32m    262\u001b[0m             \u001b[0;32mreturn\u001b[0m \u001b[0m_read_newick_from_string\u001b[0m\u001b[0;34m(\u001b[0m\u001b[0mnw\u001b[0m\u001b[0;34m,\u001b[0m \u001b[0mroot_node\u001b[0m\u001b[0;34m,\u001b[0m \u001b[0mmatcher\u001b[0m\u001b[0;34m,\u001b[0m \u001b[0mformat\u001b[0m\u001b[0;34m,\u001b[0m \u001b[0mquoted_names\u001b[0m\u001b[0;34m)\u001b[0m\u001b[0;34m\u001b[0m\u001b[0;34m\u001b[0m\u001b[0m\n\u001b[1;32m    263\u001b[0m         \u001b[0;32melif\u001b[0m \u001b[0;32mnot\u001b[0m \u001b[0mnw\u001b[0m\u001b[0;34m.\u001b[0m\u001b[0mstartswith\u001b[0m\u001b[0;34m(\u001b[0m\u001b[0;34m'('\u001b[0m\u001b[0;34m)\u001b[0m \u001b[0;32mor\u001b[0m \u001b[0;32mnot\u001b[0m \u001b[0mnw\u001b[0m\u001b[0;34m.\u001b[0m\u001b[0mendswith\u001b[0m\u001b[0;34m(\u001b[0m\u001b[0;34m';'\u001b[0m\u001b[0;34m)\u001b[0m\u001b[0;34m:\u001b[0m\u001b[0;34m\u001b[0m\u001b[0;34m\u001b[0m\u001b[0m\n\u001b[0;32m--> 264\u001b[0;31m             \u001b[0;32mraise\u001b[0m \u001b[0mNewickError\u001b[0m\u001b[0;34m(\u001b[0m\u001b[0;34m'Unexisting tree file or Malformed newick tree structure.'\u001b[0m\u001b[0;34m)\u001b[0m\u001b[0;34m\u001b[0m\u001b[0;34m\u001b[0m\u001b[0m\n\u001b[0m\u001b[1;32m    265\u001b[0m         \u001b[0;32melse\u001b[0m\u001b[0;34m:\u001b[0m\u001b[0;34m\u001b[0m\u001b[0;34m\u001b[0m\u001b[0m\n\u001b[1;32m    266\u001b[0m             \u001b[0;32mreturn\u001b[0m \u001b[0m_read_newick_from_string\u001b[0m\u001b[0;34m(\u001b[0m\u001b[0mnw\u001b[0m\u001b[0;34m,\u001b[0m \u001b[0mroot_node\u001b[0m\u001b[0;34m,\u001b[0m \u001b[0mmatcher\u001b[0m\u001b[0;34m,\u001b[0m \u001b[0mformat\u001b[0m\u001b[0;34m,\u001b[0m \u001b[0mquoted_names\u001b[0m\u001b[0;34m)\u001b[0m\u001b[0;34m\u001b[0m\u001b[0;34m\u001b[0m\u001b[0m\n",
      "\u001b[0;31mNewickError\u001b[0m: Unexisting tree file or Malformed newick tree structure.\nYou may want to check other newick loading flags like 'format' or 'quoted_node_names'."
     ]
    }
   ],
   "source": [
    "bird_tree_raw= ete3.Tree(bird_tree_address)\n",
    "len(bird_tree_raw)\n",
    "#bird_tree.write()"
   ]
  },
  {
   "cell_type": "code",
   "execution_count": 34,
   "id": "d33dc170",
   "metadata": {},
   "outputs": [
    {
     "name": "stdout",
     "output_type": "stream",
     "text": [
      "bird_hog_tree_leaf_count 383\n"
     ]
    },
    {
     "data": {
      "text/plain": [
       "['CALPUG', 'PIACAY', 'CEUAER']"
      ]
     },
     "execution_count": 34,
     "metadata": {},
     "output_type": "execute_result"
    }
   ],
   "source": [
    "bird_tree_leaves_omaID_bird6ID=[]\n",
    "for node in bird_tree_raw.traverse(strategy=\"postorder\"):\n",
    "    if node.is_leaf() : # why ?\n",
    "        bird_tree_leaves_omaID_bird6ID.append(node.name)\n",
    "    \n",
    "print(\"bird_hog_tree_leaf_count\",len(bird_tree_leaves_omaID_bird6ID))\n",
    "bird_tree_leaves_omaID_bird6ID[:3]"
   ]
  },
  {
   "cell_type": "code",
   "execution_count": 35,
   "id": "dc8e7f71",
   "metadata": {},
   "outputs": [
    {
     "name": "stdout",
     "output_type": "stream",
     "text": [
      "383 375\n"
     ]
    },
    {
     "data": {
      "text/plain": [
       "[135168, 81927, 118793]"
      ]
     },
     "execution_count": 35,
     "metadata": {},
     "output_type": "execute_result"
    }
   ],
   "source": [
    "bird_tree_leaves_taxonID = []\n",
    "for i3 in bird_tree_leaves_omaID_bird6ID:\n",
    "    if i3 in omaID_taxonID:\n",
    "        taxonID=omaID_taxonID[i3]\n",
    "    if i3  in bird6ID_taxonID:\n",
    "        taxonID= bird6ID_taxonID[i3]\n",
    "    # if it was in the both I save the bird ID    \n",
    "    bird_tree_leaves_taxonID.append(taxonID)\n",
    "\n",
    "bird_tree_leaves_taxonID_unq=list(set(bird_tree_leaves_taxonID))\n",
    "\n",
    "print(len(bird_tree_leaves_taxonID),len(bird_tree_leaves_taxonID_unq))\n",
    "bird_tree_leaves_taxonID_unq[:3]"
   ]
  },
  {
   "cell_type": "code",
   "execution_count": 36,
   "id": "0a0ef857",
   "metadata": {},
   "outputs": [
    {
     "name": "stdout",
     "output_type": "stream",
     "text": [
      "[59729, 59894, 8839, 9031, 13146, 9135, 9157, 40217]\n",
      "['TAEGU', 'FICAL', 'ANAPL', 'CHICK', 'MELUD', 'SERCA', 'PARMJ', 'JUNHY']\n",
      "383 375\n",
      "383 375\n"
     ]
    }
   ],
   "source": [
    "both_bird_oma_taxonID=[]\n",
    "for i in bird_tree_leaves_taxonID_unq:\n",
    "    if bird_tree_leaves_taxonID.count(i)>1:\n",
    "        both_bird_oma_taxonID.append(i)\n",
    "print(both_bird_oma_taxonID)\n",
    "\n",
    "both_bird_oma_omaID=[]\n",
    "for i in both_bird_oma_taxonID:\n",
    "    both_bird_oma_omaID.append(taxonID_omaID[i])\n",
    "\n",
    "print(both_bird_oma_omaID)\n",
    "\n",
    "bird_tree_leaves_omaID_bird6ID_uniq=[i for i in bird_tree_leaves_omaID_bird6ID if i not in both_bird_oma_omaID]\n",
    "print(len(bird_tree_leaves_omaID_bird6ID),len(bird_tree_leaves_omaID_bird6ID_uniq))\n",
    "\n",
    "\n",
    "bird_tree= ete3.Tree(bird_tree_address)\n",
    "bird_tree.prune(bird_tree_leaves_omaID_bird6ID_uniq)\n",
    "\n",
    "print(len(bird_tree_raw),len(bird_tree))\n"
   ]
  },
  {
   "cell_type": "code",
   "execution_count": 37,
   "id": "891448cf",
   "metadata": {},
   "outputs": [],
   "source": [
    "#bird_tree.write()"
   ]
  },
  {
   "cell_type": "code",
   "execution_count": null,
   "id": "624c054b",
   "metadata": {},
   "outputs": [],
   "source": []
  },
  {
   "cell_type": "code",
   "execution_count": 38,
   "id": "692bc406",
   "metadata": {},
   "outputs": [],
   "source": [
    "#bird_tree_leaves_omaID_bird6ID_uniq"
   ]
  },
  {
   "cell_type": "markdown",
   "id": "7603307a",
   "metadata": {},
   "source": [
    "# Reading  NCBI tree"
   ]
  },
  {
   "cell_type": "code",
   "execution_count": 39,
   "id": "bdfb84b9",
   "metadata": {},
   "outputs": [],
   "source": [
    "ncbi = ete3.NCBITaxa()  # first time download in ~/.etetoolkit/\n",
    "ncbi_sub_tree = ncbi.get_topology(bird_tree_leaves_taxonID_unq)\n"
   ]
  },
  {
   "cell_type": "code",
   "execution_count": 40,
   "id": "c633f1a2",
   "metadata": {},
   "outputs": [
    {
     "name": "stdout",
     "output_type": "stream",
     "text": [
      "The NCBI taxanomy is read and the leaves names changed to OMA/bird6 ID containing\n",
      "375\n"
     ]
    }
   ],
   "source": [
    "## change the node name from NCBI taxon id (integer) to   omaID (5-letter) or bird6ID (6-letter)\n",
    "\n",
    "for node in ncbi_sub_tree.traverse(strategy=\"postorder\"):\n",
    "    node.name2 = node.name\n",
    "    if node.is_leaf() : # why ? and int(node.name) in taxonID_map\n",
    "        node.name = taxonID_map[int(node.name)]\n",
    "\n",
    "#current_time = datetime.now().strftime(\"%H:%M:%S\")\n",
    "#print(current_time, \n",
    "print(\"The NCBI taxanomy is read and the leaves names changed to OMA/bird6 ID containing\")\n",
    "print(len(ncbi_sub_tree)) \n",
    "#print(ncbi_sub_tree.get_ascii(attributes=[\"name\"]))     \n",
    "\n",
    "#ncbi_sub_tree.write() \n"
   ]
  },
  {
   "cell_type": "code",
   "execution_count": null,
   "id": "e35de94f",
   "metadata": {},
   "outputs": [],
   "source": []
  },
  {
   "cell_type": "code",
   "execution_count": 37,
   "id": "7167fd3b",
   "metadata": {},
   "outputs": [],
   "source": [
    "#ncbi_sub_tree.write() "
   ]
  },
  {
   "cell_type": "code",
   "execution_count": 38,
   "id": "e15447bb",
   "metadata": {},
   "outputs": [],
   "source": [
    "#bird_tree.write()"
   ]
  },
  {
   "cell_type": "markdown",
   "id": "339e04ee",
   "metadata": {},
   "source": [
    "# compareing fastOMA bird and NCBI\n"
   ]
  },
  {
   "cell_type": "code",
   "execution_count": 12,
   "id": "8b3230cf",
   "metadata": {},
   "outputs": [
    {
     "name": "stdout",
     "output_type": "stream",
     "text": [
      "RF distance is 331 over a total of 521\n",
      "Len of common_attrs 375 , len edges1 749 , len edges2 524\n",
      "Partitions in ncbi no in fastOMA: 53\n",
      "Partitions in fastOMA no in ncbi: 278\n"
     ]
    }
   ],
   "source": [
    "bird_tree2=bird_tree\n",
    "bird_tree2.set_outgroup(\"MOUSE\")\n",
    "\n",
    "#bird_tree2.rerootatedge(edge_XENLA)\n",
    "\n",
    "out = bird_tree2.robinson_foulds(ncbi_sub_tree) # ,,expand_polytomies = True expand_polytomies = True  #,polytomy_size_limit=20  ,unrooted_trees=True # , expand_polytomies = True\n",
    "\n",
    "##  grep \"min_comparison\" /work/FAC/FBM/DBC/cdessim2/default/smajidi1/software/miniconda3/lib/python3.8/site-packages/ete3/coretype/tree.py\n",
    "\n",
    "(rf, max_parts, common_attrs, edges1, edges2, discard_t1, discard_t2)=out \n",
    "# print(out[0],out[1])\n",
    "# print(len(list(out[2])),len(list(out[3])),len(list(out[4])),out[5],out[6])\n",
    "print(\"RF distance is %s over a total of %s\" %(rf, max_parts))\n",
    "\n",
    "print(\"Len of common_attrs\",len(common_attrs),\", len edges1\",len(edges1),\", len edges2\",len(edges2))\n",
    "print(\"Partitions of fastOMA:\",len(edges1),\" Partitions of ncbi:\",len(edges2), \"Common Partitions\",len(common_attrs),)\n",
    "\n",
    "\n",
    "e2_1=edges2 - edges1\n",
    "print(\"Partitions in ncbi no in fastOMA:\", len(e2_1)) # order not sure  http://etetoolkit.org/docs/latest/tutorial/tutorial_trees.html#robinson-foulds-distance\n",
    "e1_2=edges1 - edges2\n",
    "print(\"Partitions in fastOMA no in ncbi:\", len(e1_2))\n",
    "\n"
   ]
  },
  {
   "cell_type": "code",
   "execution_count": null,
   "id": "fa4dcf38",
   "metadata": {},
   "outputs": [],
   "source": []
  },
  {
   "cell_type": "code",
   "execution_count": null,
   "id": "ace2e14c",
   "metadata": {},
   "outputs": [],
   "source": []
  },
  {
   "cell_type": "markdown",
   "id": "8fb903a1",
   "metadata": {},
   "source": [
    "# Reading bird paper tree"
   ]
  },
  {
   "cell_type": "code",
   "execution_count": 41,
   "id": "c0492a81",
   "metadata": {},
   "outputs": [
    {
     "name": "stdout",
     "output_type": "stream",
     "text": [
      "10135\n"
     ]
    },
    {
     "data": {
      "text/plain": [
       "['Rallicula_mayri', 'Myrmoderus_ruficauda', 'Rallicula_leucospila']"
      ]
     },
     "execution_count": 41,
     "metadata": {},
     "output_type": "execute_result"
    }
   ],
   "source": [
    "bird_paper_tree_address= \"/work/FAC/FBM/DBC/cdessim2/default/smajidi1/fastoma/archive/bird_paper_tree.txt\"\n",
    "bird_paper_tree_raw= ete3.Tree(bird_paper_tree_address, format=1)\n",
    "#len(bird_paper_tree_raw)\n",
    "\n",
    "\n",
    "bird_paper_tree_leaves=[]\n",
    "for node in bird_paper_tree_raw.traverse(strategy=\"postorder\"):\n",
    "    if node.is_leaf() : # why ?\n",
    "        bird_paper_tree_leaves.append(node.name)\n",
    "print(len(bird_paper_tree_leaves))\n",
    "bird_paper_tree_leaves[:3]\n",
    "\n",
    "\n"
   ]
  },
  {
   "cell_type": "code",
   "execution_count": 42,
   "id": "f207868a",
   "metadata": {},
   "outputs": [
    {
     "name": "stdout",
     "output_type": "stream",
     "text": [
      "09:51:22 - The bird science name  for  363 records have read.\n"
     ]
    }
   ],
   "source": [
    "\n",
    "bird_SCINAME_address= \"/work/FAC/FBM/DBC/cdessim2/default/smajidi1/fastoma/archive/\"+\"SCINAME_all_pure_under.txt\"\n",
    "\n",
    "def read_bird_SCINAME(bird_SCINAME_address):\n",
    "    \n",
    "    bird_SCINAME_file = open(bird_SCINAME_address,'r')\n",
    "    bird_SCINAME_list = []\n",
    "    \n",
    "    for line in bird_SCINAME_file:\n",
    "        line_strip = line.strip()\n",
    "        bird_SCINAME_list.append(line_strip)\n",
    "        \n",
    "    current_time = datetime.now().strftime(\"%H:%M:%S\")\n",
    "    print(current_time, \"- The bird science name  for \",len(bird_SCINAME_list),\"records have read.\") \n",
    "    return bird_SCINAME_list\n",
    "\n",
    "\n",
    "bird_SCINAME_list = read_bird_SCINAME(bird_SCINAME_address)\n",
    "\n"
   ]
  },
  {
   "cell_type": "code",
   "execution_count": 43,
   "id": "f2859210",
   "metadata": {},
   "outputs": [
    {
     "name": "stdout",
     "output_type": "stream",
     "text": [
      "['Cercotrichas_coryphaeus', 'Corvus_cornix', 'Eolophus_roseicapillus', 'Nannopterum_auritus', 'Nannopterum_brasilianus', 'Nannopterum_harrisi', 'Urile_pelagicus']\n"
     ]
    }
   ],
   "source": [
    "#bird_paper_tree_raw.prune(bird_SCINAME_list)\n",
    "\n",
    "notin_paper_tree= []\n",
    "for i in bird_SCINAME_list:\n",
    "    if i not in bird_paper_tree_leaves: \n",
    "        notin_paper_tree.append(i)\n",
    "print(notin_paper_tree)\n",
    "#notin_paper_tree=[\"Cercotrichas_coryphaeus\",\"Corvus_cornix\",\"Eolophus_roseicapillus\",\"Nannopterum_auritus\",\"Nannopterum_brasilianus\",\"Nannopterum_harrisi\",\"Urile_pelagicus\"]"
   ]
  },
  {
   "cell_type": "code",
   "execution_count": 44,
   "id": "8c7d8433",
   "metadata": {},
   "outputs": [
    {
     "name": "stdout",
     "output_type": "stream",
     "text": [
      "363 356\n"
     ]
    }
   ],
   "source": [
    "        \n",
    "bird_SCINAME_list_filt=[i for i in bird_SCINAME_list if i not in notin_paper_tree]\n",
    "print(len(bird_SCINAME_list),len(bird_SCINAME_list_filt) )\n",
    "    \n"
   ]
  },
  {
   "cell_type": "code",
   "execution_count": 45,
   "id": "e7cf56fc",
   "metadata": {},
   "outputs": [
    {
     "data": {
      "text/plain": [
       "356"
      ]
     },
     "execution_count": 45,
     "metadata": {},
     "output_type": "execute_result"
    }
   ],
   "source": [
    "bird_paper_tree= ete3.Tree(bird_paper_tree_address, format=1)\n",
    "\n",
    "bird_paper_tree.prune(bird_SCINAME_list_filt)\n",
    "len(bird_paper_tree)\n"
   ]
  },
  {
   "cell_type": "code",
   "execution_count": 46,
   "id": "626c32ec",
   "metadata": {},
   "outputs": [
    {
     "data": {
      "text/plain": [
       "356"
      ]
     },
     "execution_count": 46,
     "metadata": {},
     "output_type": "execute_result"
    }
   ],
   "source": [
    "bird_paper_tree_nodes =[]\n",
    "\n",
    "\n",
    "for node in bird_paper_tree.traverse(strategy=\"postorder\"):\n",
    "    node.name2 = node.name\n",
    "    if node.is_leaf() : # why ? and int(node.name) in taxonID_map\n",
    "        \n",
    "        node_name = node.name\n",
    "        node_name_split= node_name.split('_')\n",
    "        six_letter_name= ''.join([i[:3].upper() for i in node_name_split])\n",
    "        if len(six_letter_name)<5:\n",
    "            print(node_name)\n",
    "        else:\n",
    "            node.name= six_letter_name\n",
    "            #print(six_letter_name)\n",
    "            bird_paper_tree_nodes.append(six_letter_name)\n",
    "\n",
    "len(bird_paper_tree_nodes)"
   ]
  },
  {
   "cell_type": "code",
   "execution_count": 47,
   "id": "ffe51d23",
   "metadata": {},
   "outputs": [],
   "source": [
    "#bird_paper_tree.write()"
   ]
  },
  {
   "cell_type": "code",
   "execution_count": null,
   "id": "d5843a1e",
   "metadata": {},
   "outputs": [],
   "source": []
  },
  {
   "cell_type": "code",
   "execution_count": null,
   "id": "21ce79a3",
   "metadata": {},
   "outputs": [],
   "source": []
  },
  {
   "cell_type": "code",
   "execution_count": 47,
   "id": "e8d4ffaa",
   "metadata": {},
   "outputs": [],
   "source": [
    "# compareing bird paper and NCBI\n"
   ]
  },
  {
   "cell_type": "code",
   "execution_count": null,
   "id": "60676d20",
   "metadata": {},
   "outputs": [],
   "source": []
  },
  {
   "cell_type": "code",
   "execution_count": 20,
   "id": "ac99d6e0",
   "metadata": {},
   "outputs": [
    {
     "name": "stdout",
     "output_type": "stream",
     "text": [
      "RF distance is 309 over a total of 477\n",
      "Len of common_attrs 354 , len edges1 698 , len edges2 489\n",
      "Partitions in ncbi not in bird_paper: 50\n",
      "Partitions in bird_paper not in ncbi: 259\n"
     ]
    }
   ],
   "source": [
    "\n",
    "out = bird_paper_tree.robinson_foulds(ncbi_sub_tree) # , expand_polytomies = True  #,polytomy_size_limit=20  ,unrooted_trees=True # , expand_polytomies = True\n",
    "(rf, max_parts, common_attrs, edges1, edges2, discard_t1, discard_t2)=out \n",
    "print(\"RF distance is %s over a total of %s\" %(rf, max_parts))\n",
    "print(\"Len of common_attrs\",len(common_attrs),\", len edges1\",len(edges1),\", len edges2\",len(edges2))\n",
    "print(\"Partitions of bird_paper:\",len(edges1),\" Partitions of ncbi:\",len(edges2), \"Common Partitions\",len(common_attrs),)\n",
    "e2_1=edges2 - edges1\n",
    "print(\"Partitions in ncbi not in bird_paper:\", len(e2_1)) # order not sure  http://etetoolkit.org/docs/latest/tutorial/tutorial_trees.html#robinson-foulds-distance\n",
    "e1_2=edges1 - edges2\n",
    "print(\"Partitions in bird_paper not in ncbi:\", len(e1_2))\n"
   ]
  },
  {
   "cell_type": "code",
   "execution_count": null,
   "id": "240f24a8",
   "metadata": {},
   "outputs": [],
   "source": []
  },
  {
   "cell_type": "code",
   "execution_count": 25,
   "id": "5e914969",
   "metadata": {},
   "outputs": [
    {
     "name": "stdout",
     "output_type": "stream",
     "text": [
      "RF distance is 273 over a total of 695\n",
      "Partitions of bird_paper: 698  Partitions of ncbi: 707 Common Partitions 354\n",
      "Partitions in fastOMA not in bird_paper: 141\n",
      "Partitions in bird_paper not in fastOMA: 132\n"
     ]
    }
   ],
   "source": [
    "\n",
    "\n",
    "out = bird_paper_tree.robinson_foulds(bird_tree2) # ,expand_polytomies = True, expand_polytomies = True  #,polytomy_size_limit=20  ,unrooted_trees=True # , expand_polytomies = True\n",
    "(rf, max_parts, common_attrs, edges1, edges2, discard_t1, discard_t2)=out \n",
    "print(\"RF distance is %s over a total of %s\" %(rf, max_parts))\n",
    "#print(\"Len of common_attrs\",len(common_attrs),\", len edges1\",len(edges1),\", len edges2\",len(edges2))\n",
    "e2_1=edges2 - edges1\n",
    "print(\"Partitions in fastOMA not in bird_paper:\", len(e2_1)) # order not sure  http://etetoolkit.org/docs/latest/tutorial/tutorial_trees.html#robinson-foulds-distance\n",
    "e1_2=edges1 - edges2\n",
    "print(\"Partitions in bird_paper not in fastOMA:\", len(e1_2))\n"
   ]
  },
  {
   "cell_type": "code",
   "execution_count": null,
   "id": "7d5c5e94",
   "metadata": {},
   "outputs": [],
   "source": []
  },
  {
   "cell_type": "code",
   "execution_count": null,
   "id": "92d1ec04",
   "metadata": {},
   "outputs": [],
   "source": []
  },
  {
   "cell_type": "code",
   "execution_count": null,
   "id": "bb10dd53",
   "metadata": {},
   "outputs": [],
   "source": [
    "print(len(edges2),len(edges1))\n",
    "e2_1=edges2 - edges1\n",
    "\n",
    "# for i in e2_1:\n",
    "#     #print(len(i))\n",
    "#     for k in i:\n",
    "#         len(k)\n",
    "e2_1_list=list(e2_1)\n",
    "len(e2_1_list[0]), len(list(e2_1_list[0])[0]), len(list(e2_1_list[0])[1]),list(e2_1_list[0])[1]\n",
    "\n"
   ]
  },
  {
   "cell_type": "code",
   "execution_count": null,
   "id": "213d2a06",
   "metadata": {},
   "outputs": [],
   "source": []
  },
  {
   "cell_type": "code",
   "execution_count": null,
   "id": "0ec95e7c",
   "metadata": {},
   "outputs": [],
   "source": []
  },
  {
   "cell_type": "code",
   "execution_count": 23,
   "id": "45536459",
   "metadata": {},
   "outputs": [],
   "source": [
    "#result= bird_tree2.compare(ncbi_sub_tree)\n",
    "# result[“rf”] = robinson-foulds distance between the two trees. (average of robinson-foulds distances if target tree contained duplication and was split in several subtrees)\n",
    "# result[“max_rf”] = Maximum robinson-foulds distance expected for this comparison\n",
    "# result[“norm_rf”] = normalized robinson-foulds distance (from 0 to 1)\n",
    "# result[“effective_tree_size”] = the size of the compared trees, which are pruned to the common shared nodes.\n",
    "# result[“ref_edges_in_source”] = compatibility score of the target tree with respect to the source tree (how many edges in reference are found in the source)\n",
    "# result[“source_edges_in_ref”] = compatibility score of the source tree with respect to the reference tree (how many edges in source are found in the reference)\n",
    "# result[“source_subtrees”] = number of subtrees in the source tree (1 if do not contain duplications)\n",
    "# result[“common_edges”] = a set of common edges between source tree and reference\n",
    "# result[“source_edges”] = the set of edges found in the source tree\n",
    "# result[“ref_edges”] = the set of edges found in the reference tree\n",
    "# result[“treeko_dist”] = TreeKO speciation distance for comparisons including duplication nodes.\n"
   ]
  },
  {
   "cell_type": "code",
   "execution_count": null,
   "id": "d12de8d1",
   "metadata": {},
   "outputs": [],
   "source": [
    "# t1 = ete3.Tree('(((a,(b,i)),c),((e, f), g));')\n",
    "# #t1 = ete3.Tree('(((a,c),b), ((e, f), g));')\n",
    "# t2 = ete3.Tree('(((a,c),b), ((e, f), g));')\n",
    "# t1.write(), t2.write()\n",
    "\n",
    "# #t1.compare(t2)\n",
    "# out= t1.robinson_foulds(t2)\n",
    "\n",
    "# (rf, max_parts, common_attrs, edges1, edges2, discard_t1, discard_t2)=out \n",
    "# # print(out[0],out[1])\n",
    "# # print(len(list(out[2])),len(list(out[3])),len(list(out[4])),out[5],out[6])\n",
    "# print(\"RF distance is %s over a total of %s\" %(rf, max_parts))\n",
    "\n",
    "# print(\"Len of common_attrs\",len(common_attrs),\", len edges1\",len(edges1),\", len edges2\",len(edges2))\n",
    "\n",
    "# e2_1=edges2 - edges1\n",
    "# print(\"Partitions in tr2 no in tr1:\", len(e2_1)) # order not sure  http://etetoolkit.org/docs/latest/tutorial/tutorial_trees.html#robinson-foulds-distance\n",
    "# e1_2=edges1 - edges2\n",
    "# print(\"Partitions in tr1 no in tr2:\", len(e1_2))\n",
    "\n"
   ]
  },
  {
   "cell_type": "code",
   "execution_count": null,
   "id": "a21608e5",
   "metadata": {},
   "outputs": [],
   "source": []
  },
  {
   "cell_type": "code",
   "execution_count": null,
   "id": "62d85d1d",
   "metadata": {},
   "outputs": [],
   "source": []
  },
  {
   "cell_type": "code",
   "execution_count": null,
   "id": "50db97a0",
   "metadata": {},
   "outputs": [],
   "source": []
  },
  {
   "cell_type": "code",
   "execution_count": 29,
   "id": "4b608e15",
   "metadata": {},
   "outputs": [],
   "source": []
  },
  {
   "cell_type": "code",
   "execution_count": null,
   "id": "99333af8",
   "metadata": {},
   "outputs": [],
   "source": []
  },
  {
   "cell_type": "code",
   "execution_count": 72,
   "id": "e65520ce",
   "metadata": {},
   "outputs": [
    {
     "data": {
      "text/plain": [
       "375"
      ]
     },
     "execution_count": 72,
     "metadata": {},
     "output_type": "execute_result"
    }
   ],
   "source": [
    "ncbi_sub_tree_nodes =[]\n",
    "for node in ncbi_sub_tree.traverse(strategy=\"postorder\"):\n",
    "    if node.is_leaf() : \n",
    "        ncbi_sub_tree_nodes.append(node.name)\n",
    "len(ncbi_sub_tree_nodes)"
   ]
  },
  {
   "cell_type": "code",
   "execution_count": 73,
   "id": "5b479c37",
   "metadata": {},
   "outputs": [
    {
     "data": {
      "text/plain": [
       "376"
      ]
     },
     "execution_count": 73,
     "metadata": {},
     "output_type": "execute_result"
    }
   ],
   "source": [
    "len(set(ncbi_sub_tree_nodes+bird_paper_tree_nodes))"
   ]
  },
  {
   "cell_type": "code",
   "execution_count": 75,
   "id": "ae331af2",
   "metadata": {},
   "outputs": [
    {
     "data": {
      "text/plain": [
       "354"
      ]
     },
     "execution_count": 75,
     "metadata": {},
     "output_type": "execute_result"
    }
   ],
   "source": [
    "bird_tree_leaves_omaID_bird6ID_uniq_set=set(bird_tree_leaves_omaID_bird6ID_uniq)\n",
    "bird_paper_tree_nodes_set=set(bird_paper_tree_nodes)\n",
    "\n",
    "bird_tree_paper_tree_intersection= bird_paper_tree_nodes_set.intersection(bird_tree_leaves_omaID_bird6ID_uniq_set)\n",
    "len(bird_tree_paper_tree_intersection)\n",
    "\n",
    "\n",
    "ncbi_bird_tree_paper_tree_intersection= bird_tree_paper_tree_intersection.intersection(set(ncbi_sub_tree_nodes))\n",
    "len(ncbi_bird_tree_paper_tree_intersection)"
   ]
  },
  {
   "cell_type": "code",
   "execution_count": 77,
   "id": "3daf1b37",
   "metadata": {},
   "outputs": [],
   "source": [
    "ncbi_sub_tree.prune(ncbi_bird_tree_paper_tree_intersection) # bird_tree_paper_tree_intersection \n"
   ]
  },
  {
   "cell_type": "code",
   "execution_count": 78,
   "id": "7ffa510b",
   "metadata": {},
   "outputs": [
    {
     "data": {
      "text/plain": [
       "(354, 354, 354)"
      ]
     },
     "execution_count": 78,
     "metadata": {},
     "output_type": "execute_result"
    }
   ],
   "source": [
    "bird_tree.prune(bird_tree_paper_tree_intersection)\n",
    "bird_paper_tree.prune(bird_tree_paper_tree_intersection) # bird_tree_paper_tree_intersection \n",
    "\n",
    "len(bird_tree),len(bird_paper_tree), len(ncbi_sub_tree)"
   ]
  },
  {
   "cell_type": "code",
   "execution_count": 53,
   "id": "c8c1ab4f",
   "metadata": {},
   "outputs": [],
   "source": [
    "#bird_paper_tree.prune(ncbi_sub_tree) # bird_tree_paper_tree_intersection \n"
   ]
  },
  {
   "cell_type": "code",
   "execution_count": 89,
   "id": "f1746e6c",
   "metadata": {},
   "outputs": [
    {
     "name": "stdout",
     "output_type": "stream",
     "text": [
      "RF distance is 320 over a total of 486\n",
      "Partitions of fastOMA: 707  Partitions of ncbi: 489 Common Partitions 354\n",
      "Partitions in ncbi no in fastOMA: 51\n",
      "Partitions in fastOMA no in ncbi: 269\n",
      "---------------\n",
      "RF distance is 309 over a total of 477\n",
      "Len of common_attrs 354 , len edges1 698 , len edges2 489\n",
      "Partitions of bird_paper: 698  Partitions of ncbi: 489 Common Partitions 354\n",
      "Partitions in ncbi not in bird_paper: 50\n",
      "Partitions in bird_paper not in ncbi: 259\n",
      "---------------\n",
      "RF distance is 285 over a total of 695\n",
      "Partitions in fastOMA not in bird_paper: 147\n",
      "Partitions in bird_paper not in fastOMA: 138\n"
     ]
    }
   ],
   "source": [
    "\n",
    "bird_tree.set_outgroup(\"CALPUG\") # CALPUG MOUS  BUCCAP\n",
    "out = bird_tree.robinson_foulds(ncbi_sub_tree) # ,,expand_polytomies = True expand_polytomies = True  #,polytomy_size_limit=20  ,unrooted_trees=True # , expand_polytomies = True\n",
    "(rf, max_parts, common_attrs, edges1, edges2, discard_t1, discard_t2)=out \n",
    "print(\"RF distance is %s over a total of %s\" %(rf, max_parts))\n",
    "print(\"Partitions of fastOMA:\",len(edges1),\" Partitions of ncbi:\",len(edges2), \"Common Partitions\",len(common_attrs),)\n",
    "e2_1=edges2 - edges1\n",
    "print(\"Partitions in ncbi no in fastOMA:\", len(e2_1)) # order not sure  http://etetoolkit.org/docs/latest/tutorial/tutorial_trees.html#robinson-foulds-distance\n",
    "e1_2=edges1 - edges2\n",
    "print(\"Partitions in fastOMA no in ncbi:\", len(e1_2))\n",
    "\n",
    "print(\"-\"*15)\n",
    "\n",
    "out = bird_paper_tree.robinson_foulds(ncbi_sub_tree) # , expand_polytomies = True  #,polytomy_size_limit=20  ,unrooted_trees=True # , expand_polytomies = True\n",
    "(rf, max_parts, common_attrs, edges1, edges2, discard_t1, discard_t2)=out \n",
    "print(\"RF distance is %s over a total of %s\" %(rf, max_parts))\n",
    "print(\"Len of common_attrs\",len(common_attrs),\", len edges1\",len(edges1),\", len edges2\",len(edges2))\n",
    "print(\"Partitions of bird_paper:\",len(edges1),\" Partitions of ncbi:\",len(edges2), \"Common Partitions\",len(common_attrs),)\n",
    "e2_1=edges2 - edges1\n",
    "print(\"Partitions in ncbi not in bird_paper:\", len(e2_1)) # order not sure  http://etetoolkit.org/docs/latest/tutorial/tutorial_trees.html#robinson-foulds-distance\n",
    "e1_2=edges1 - edges2\n",
    "print(\"Partitions in bird_paper not in ncbi:\", len(e1_2))\n",
    "\n",
    "\n",
    "print(\"-\"*15)\n",
    "\n",
    "out = bird_paper_tree.robinson_foulds(bird_tree) # ,expand_polytomies = True, expand_polytomies = True  #,polytomy_size_limit=20  ,unrooted_trees=True # , expand_polytomies = True\n",
    "(rf, max_parts, common_attrs, edges1, edges2, discard_t1, discard_t2)=out \n",
    "print(\"RF distance is %s over a total of %s\" %(rf, max_parts))\n",
    "#print(\"Len of common_attrs\",len(common_attrs),\", len edges1\",len(edges1),\", len edges2\",len(edges2))\n",
    "e2_1=edges2 - edges1\n",
    "print(\"Partitions in fastOMA not in bird_paper:\", len(e2_1)) # order not sure  http://etetoolkit.org/docs/latest/tutorial/tutorial_trees.html#robinson-foulds-distance\n",
    "e1_2=edges1 - edges2\n",
    "print(\"Partitions in bird_paper not in fastOMA:\", len(e1_2))\n"
   ]
  },
  {
   "cell_type": "code",
   "execution_count": 62,
   "id": "826ba1d3",
   "metadata": {},
   "outputs": [
    {
     "ename": "SyntaxError",
     "evalue": "invalid syntax (<ipython-input-62-a098958c5af9>, line 1)",
     "output_type": "error",
     "traceback": [
      "\u001b[0;36m  File \u001b[0;32m\"<ipython-input-62-a098958c5af9>\"\u001b[0;36m, line \u001b[0;32m1\u001b[0m\n\u001b[0;31m    RF distance is 320 over a total of 486\u001b[0m\n\u001b[0m       ^\u001b[0m\n\u001b[0;31mSyntaxError\u001b[0m\u001b[0;31m:\u001b[0m invalid syntax\n"
     ]
    }
   ],
   "source": [
    "RF distance is 320 over a total of 486\n",
    "Partitions of fastOMA: 707  Partitions of ncbi: 489 Common Partitions 354\n",
    "Partitions in ncbi no in fastOMA: 51\n",
    "Partitions in fastOMA no in ncbi: 269\n",
    "---------------\n",
    "RF distance is 309 over a total of 477\n",
    "Len of common_attrs 354 , len edges1 698 , len edges2 489\n",
    "Partitions of bird_paper: 698  Partitions of ncbi: 489 Common Partitions 354\n",
    "Partitions in ncbi not in bird_paper: 50\n",
    "Partitions in bird_paper not in ncbi: 259\n",
    "---------------\n",
    "RF distance is 285 over a total of 695\n",
    "Partitions in fastOMA not in bird_paper: 147\n",
    "Partitions in bird_paper not in fastOMA: 138"
   ]
  },
  {
   "cell_type": "code",
   "execution_count": null,
   "id": "5a5fa656",
   "metadata": {},
   "outputs": [],
   "source": [
    "RF distance is 318 over a total of 486\n",
    "Partitions of fastOMA: 707  Partitions of ncbi: 489 Common Partitions 354\n",
    "Partitions in ncbi no in fastOMA: 50\n",
    "Partitions in fastOMA no in ncbi: 268\n",
    "---------------\n",
    "RF distance is 309 over a total of 477\n",
    "Len of common_attrs 354 , len edges1 698 , len edges2 489\n",
    "Partitions of bird_paper: 698  Partitions of ncbi: 489 Common Partitions 354\n",
    "Partitions in ncbi not in bird_paper: 50\n",
    "Partitions in bird_paper not in ncbi: 259\n",
    "---------------\n",
    "RF distance is 275 over a total of 695\n",
    "Partitions in fastOMA not in bird_paper: 142\n",
    "Partitions in bird_paper not in fastOMA: 133"
   ]
  },
  {
   "cell_type": "code",
   "execution_count": 59,
   "id": "eaa6a1ce",
   "metadata": {},
   "outputs": [],
   "source": [
    "# for node in bird_tree.traverse(strategy=\"postorder\"):\n",
    "#     if node.is_leaf() : # why ?\n",
    "#         print(node.name)\n",
    "    "
   ]
  },
  {
   "cell_type": "code",
   "execution_count": 80,
   "id": "a063dde5",
   "metadata": {},
   "outputs": [
    {
     "data": {
      "text/plain": [
       "'(((BUCCAP:1,GALDEA:1)1:1,((((TAEGUT:1,LONSTR:1)1:1,(VIDCHA:1,VIDMAC:1)1:1)1:1,(((LOXLEU:1,LOXCUR:1)1:1,SERCAN:1)1:1,((CALORN:1,EMBFUC:1)1:1,(CARCAR:1,PASAMO:1,PHEMEL:1)1:1)1:1,UROPYL:1,CHLVIR:1,PEUTAE:1,HEMWIL:1)1:1,((PRUHIM:1,PRUFUL:1)1:1,PASDOM:1)1:1,(PROCAF:1,LEPASP:1)1:1,(AGEPHO:1,QUIMEX:1,MOLATE:1)1:1,(SETCOR:1,SETKIR:1)1:1,OREARF:1,MELVER:1,MOTALB:1,DICEXI:1,PLONIG:1)1:1,(((ZOSLAT:1,ZOSHYP:1)1:1,HYPCIN:1,STEDEN:1)1:1,(ILLCLE:1,PTEMEL:1,ERPZAN:1,MYSCRO:1,OXYMAD:1)1:1,(BRAATR:1,PYCJOC:1,NICCHL:1)1:1,((ACRARU:1,CETCET:1,HIPICT:1,SYLVIR:1,HYLPRA:1)1:1,(PANBIA:1,REGSAT:1)1:1,(SYLATR:1,SYLBOR:1)1:1,SINWEB:1)1:1,(PHYTRO:1,RHASIB:1)1:1,HIRRUS:1,ALACHE:1,LOCOCH:1,HORVUL:1,CISJUN:1,LEILUT:1,AEGCAU:1)1:1,(((CHLCYA:1,CHLHAR:1)1:1,IRECYA:1)1:1,((CORMON:1,CORBRA:1)1:1,CNELOR:1,APHCOE:1,ORIORI:1)1:1,(ALERUF:1,EULNIG:1,RHALEU:1,DAPCHR:1,FALFRO:1,PACPHI:1)1:1,(IFRKOW:1,PTILEU:1)1:1,(ERYMCC:1,DICMEG:1,MACNIG:1)1:1,LANLUD:1,MYIHEB:1,CALWIL:1,DRYGAM:1,EDOCOE:1,PARRAG:1,ORTSPA:1,STRCIN:1,DYACAS:1,VIRALT:1)1:1,((GRAPIC:1,NOTCIN:1)1:1,(ORISOL:1,MOHOCH:1)1:1,PARPUN:1,DASBRO:1,MALELE:1)1:1,(FURFIG:1,SCLMEX:1)1:1,(TYRSAV:1,MIOMAC:1,PACMIN:1,TACRUB:1,NEOCIN:1,SAPAEN:1,ONYCOR:1)1:1,(COPSEC:1,FICALB:1,SAXMAU:1,OENOEN:1)1:1,(FORRUF:1,GRAVAR:1)1:1,(BOMGAR:1,PHANIT:1)1:1,((CERBRA:1,CERFAM:1)1:1,THRLUD:1,POLCAE:1)1:1,(CHAPAP:1,RHIDAH:1)1:1,(MENNOV:1,ATRCLA:1)1:1,(SPOHYP:1,RHOROS:1,NESACU:1,GEOFOR:1)1:1,(ERIRUB:1,CATFUS:1)1:1,(CHAFRE:1,PICGYM:1)1:1,(CALVIR:1,SMICAP:1,SERLUN:1)1:1,(PSEHUM:1,ANTMIN:1,PARMAJ:1,POEATR:1)1:1,(LEUROT:1,STUVUL:1,BUPERY:1)1:1,(SITEUR:1,TICMUR:1)1:1,(XIPELE:1,CAMPRO:1)1:1,(SPIPAS:1,JUNHYE:1,ZONALB:1,MELMEL:1)1:1,(MANMAN:1,PIPCHL:1,LEPCOR:1)1:1,(RHEHOF:1,SAKLUC:1)1:1,(TOXRED:1,DONATR:1)1:1,(CEPORN:1,OXYCRI:1)1:1,PTIVIO:1,CLIRUF:1,NEOCOR:1,SCYSUP:1,GYMTIB:1,PITSOR:1,ELAFOR:1,DRYBRU:1,ACACHL:1,CINMEX:1,RHAINO:1)1:1,((ROSBEN:1,NYCSEM:1)1:1,((URILOM:1,URIAAL:1)1:1,ALCTOR:1,CEPGRY:1)1:1,(CALPUG:1,AREINT:1,LIMLAP:1)1:1,(LARSMI:1,CHRMAC:1,PHASIM:1,RISTRI:1,RYNNIG:1)1:1,(GLAPRA:1,RHIAFR:1)1:1,((CHAALE:1,CHAVOC:1)1:1,IBISTR:1,PLUSOC:1)1:1,HIMHIM:1,TURVEL:1,BURBIS:1,STEPAR:1,JACJAC:1,DROARD:1,CHIMIN:1,PEDTOR:1)1:1,(((ODOGUJ:1,CALSQU:1,COLVIR:1)1:1,((GALGAL:1,PHACOL:1)1:1,TYMCUP:1,MELGAL:1,COTJAP:1)1:1,PENPIL:1,NUMMEL:1,ALELAT:1)1:1,((((ANAZON:1,ANAPLA:1)1:1,ASASCU:1,CAIMOS:1)1:1,ANSCYG:1)1:1,ANSSEM:1,CHATOR:1)1:1)1:1,((HALSEN:1,CEYCYA:1)1:1,TODMEX:1,MERNUB:1,CHLAEN:1,BARMAR:1,EURGUL:1,LEPDIS:1,BRALEP:1)1:1,((COCCOC:1,EGRGAR:1)1:1,(MESCAY:1,NIPNIP:1)1:1,(ANHRUF:1,ANHANH:1)1:1,FREMAG:1,SULDAC:1,PHALEP:1,PELCRI:1,PHACAR:1)1:1,(BUCABY:1,BUCRHI:1)1:1,(UPUEPO:1,RHICYA:1)1:1,((CALBOR:1,FULGLA:1)1:1,(FREGRA:1,HYDTET:1,OCEOCE:1)1:1,PELURI:1,THACHL:1)1:1,((CUCCAN:1,CEUAER:1)1:1,(CENUNI:1,CENBEN:1)1:1,GEOCAL:1,CROSUL:1,PIACAY:1)1:1,((CICNIG:1,GLABRA:1,STROCC:1)1:1,TYTALB:1)1:1,(((HALALB:1,HALLEU:1)1:1,AQUCHR:1,SPITYR:1,CIRPEC:1)1:1,CATAUR:1,SAGSER:1,PANHAL:1)1:1,((RAMSUL:1,EUBBOU:1,SEMFRA:1)1:1,INDMAC:1,TRILEU:1,PSIHAE:1,PICPUB:1)1:1,((AGAROS:1,AMAGUI:1,NESNOT:1)1:1,MELUND:1,PROATE:1)1:1,(((PTEGUT:1,PTEBUR:1)1:1,SYRPAR:1)1:1,SCOUMB:1,BALREX:1,CICMAG:1,THIORB:1)1:1,((LOPRUF:1,CHLMAC:1,ARDKOR:1)1:1,(ATLROG:1,ZAPATR:1)1:1,(GRUAME:1,BALREG:1)1:1,ARAGUA:1,PSOCRE:1,HELFUL:1,MESUNI:1,EURHEL:1,RHYJUB:1)1:1,(((CHAPEL:1,HEMCOM:1)1:1,(CALANN:1,OREMEL:1)1:1)1:1,(((NYCLEU:1,CHOACU:1)1:1,ANTCAR:1)1:1,(NYCBRA:1,NYCGRA:1)1:1,PODSTR:1,AEGBEN:1,STECAR:1)1:1)1:1,(APAVIT:1,TROMEL:1)1:1,(COLSTR:1,UROIND:1)1:1,(TAUERY:1,CORCRI:1,CORCON:1)1:1,(CALNIC:1,COLLIV:1,COLPIC:1,PATFAS:1,ALOBEC:1)1:1,((FALPER:1,FALCHE:1)1:1,HERCAC:1)1:1,(APTFOR:1,PYGADE:1)1:1,(PODPOD:1,PODCRI:1)1:1,(CHUBUR:1,CARCRI:1)1:1,GAVSTE:1,PHORUB:1,OPIHOA:1)1:1,((CASCAS:1,DRONOV:1)1:1,((NOTNIG:1,NOTJUL:1)1:1,(CRYCIN:1,CRYUND:1,CRYSOU:1)1:1,(NOTPEN:1,NOTORN:1,NOTPER:1)1:1,EUDELE:1,TINGUT:1)1:1,(RHEPEN:1,RHEAME:1)1:1,(APTAUS:1,APTHAA:1,APTOWE:1,APTROW:1)1:1,STRCAM:1)1:1);'"
      ]
     },
     "execution_count": 80,
     "metadata": {},
     "output_type": "execute_result"
    }
   ],
   "source": [
    "ncbi_sub_tree.write()"
   ]
  },
  {
   "cell_type": "code",
   "execution_count": 69,
   "id": "689fec16",
   "metadata": {},
   "outputs": [
    {
     "data": {
      "text/plain": [
       "375"
      ]
     },
     "execution_count": 69,
     "metadata": {},
     "output_type": "execute_result"
    }
   ],
   "source": [
    "len(ncbi_sub_tree)"
   ]
  },
  {
   "cell_type": "code",
   "execution_count": 92,
   "id": "1e40687d",
   "metadata": {},
   "outputs": [
    {
     "data": {
      "text/plain": [
       "('JUNHYE', 'MELMEL', 'ZONALB')"
      ]
     },
     "execution_count": 92,
     "metadata": {},
     "output_type": "execute_result"
    }
   ],
   "source": [
    "list(edges2)[1]"
   ]
  },
  {
   "cell_type": "code",
   "execution_count": null,
   "id": "9e21dfb5",
   "metadata": {},
   "outputs": [],
   "source": []
  }
 ],
 "metadata": {
  "kernelspec": {
   "display_name": "Python 3",
   "language": "python",
   "name": "python3"
  },
  "language_info": {
   "codemirror_mode": {
    "name": "ipython",
    "version": 3
   },
   "file_extension": ".py",
   "mimetype": "text/x-python",
   "name": "python",
   "nbconvert_exporter": "python",
   "pygments_lexer": "ipython3",
   "version": "3.8.1"
  }
 },
 "nbformat": 4,
 "nbformat_minor": 5
}
