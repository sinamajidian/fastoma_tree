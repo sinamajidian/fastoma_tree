{
 "cells": [
  {
   "cell_type": "code",
   "execution_count": 1,
   "id": "d1d69b50",
   "metadata": {},
   "outputs": [
    {
     "name": "stdout",
     "output_type": "stream",
     "text": [
      "-- WARNING, for taxonID_scientificUnder, only the first two parts of species name are used!!! \n",
      "-- The map for uniprot taxonID of 101 records have read.\n",
      "-- The map for OMA taxonID of 2424 records have read.\n"
     ]
    }
   ],
   "source": [
    "#!/usr/bin/python3\n",
    "import os\n",
    "import numpy as np\n",
    "from sys import argv\n",
    "from datetime import datetime\n",
    "# import matplotlib\n",
    "# matplotlib.use('Agg')\n",
    "import matplotlib.pyplot as plt\n",
    "import ete3\n",
    "#import dendropy\n",
    "from dendropy import Tree\n",
    "datasets_address=\"/work/FAC/FBM/DBC/cdessim2/default/smajidi1/fastoma/archive/\"\n",
    "# oma_database_address = datasets_address + \"OmaServer.h5\"\n",
    "omaID_address = datasets_address+\"oma-species.txt\"\n",
    "#bird6ID_address = datasets_address+\"info.tsv\"\n",
    "uniprot_table_address = datasets_address+\"proteomes_taxonomy_Mammalia_40674_refyes.tab\"\n",
    "\n",
    "\n",
    "def read_omaID_file(omaID_address):\n",
    "    \n",
    "    omaID_file = open(omaID_address,'r')\n",
    "\n",
    "    taxonID_omaID={}\n",
    "    omaID_taxonID={}\n",
    "\n",
    "    # omaID_scienceFull={}\n",
    "    # scienceFull_omaID={}\n",
    "    scientific_taxonID={}\n",
    "    taxonID_scientific={}\n",
    "\n",
    "    #  !!! limitation  ignoring strains and isolate\n",
    "    for line in omaID_file:\n",
    "        line_strip = line.strip()\n",
    "        if line_strip.startswith('#'):\n",
    "            pass\n",
    "            #header_lines_list.append(line_strip)\n",
    "        else:\n",
    "            line_parts = line_strip.split('\\t')\n",
    "\n",
    "            omaID = line_parts[0]\n",
    "            taxonID = line_parts[1]\n",
    "            taxonID_omaID[taxonID] = omaID\n",
    "            omaID_taxonID[omaID] = taxonID\n",
    "\n",
    "            scientific = line_parts[2]\n",
    "            taxonID_scientific[taxonID] = scientific\n",
    "            scientific_taxonID[scientific] = taxonID\n",
    "\n",
    "    omaID_file.close()\n",
    "\n",
    "    print(\"-- The map for OMA taxonID of\",len(taxonID_omaID),\"records have read.\") \n",
    "    \n",
    "    return (taxonID_omaID,omaID_taxonID,taxonID_scientific,scientific_taxonID)\n",
    "\n",
    "\n",
    "def read_taxonID_uniprot(uniprot_table_address):\n",
    "\n",
    "    taxonID_scientific = {}\n",
    "    scientific_taxonID = {}\n",
    "    common_taxonID = {}\n",
    "    taxonID_uniprot = {}\n",
    "    taxonID_scientificUnder = {}\n",
    "    scientificUnder_taxonID = {}\n",
    "\n",
    "    uniprot_file = open(uniprot_table_address,'r')\n",
    "    for line in uniprot_file:\n",
    "        line_strip = line.strip()\n",
    "        if line_strip.startswith('Pro'):\n",
    "            pass\n",
    "        else:\n",
    "            line_parts = line_strip.split('\\t')\n",
    "            uniprot = line_parts[0]\n",
    "            taxonID = line_parts[2]\n",
    "\n",
    "            taxonID_uniprot[uniprot] = taxonID\n",
    "            \n",
    "            line_parts_1= line_parts[1].split(\"(\")\n",
    "            if len(line_parts_1) > 1:\n",
    "\n",
    "                scientific = line_parts_1[0]\n",
    "                common = line_parts_1[1].strip()[:-1]\n",
    "            else:\n",
    "                scientific = line_parts_1[0]\n",
    "                common = line_parts_1[0]\n",
    "            \n",
    "            scientific_taxonID[taxonID] = scientific\n",
    "            taxonID_scientific[scientific] = taxonID \n",
    "\n",
    "            common_taxonID[taxonID] = common\n",
    "            \n",
    "            \n",
    "            scientificUnder = '_'.join(scientific.split(\" \")[:2])\n",
    "            taxonID_scientificUnder[scientificUnder] = taxonID\n",
    "            scientificUnder_taxonID[taxonID] = scientificUnder\n",
    "\n",
    "    print(\"-- WARNING, for taxonID_scientificUnder, only the first two parts of species name are used!!! \")\n",
    "    print(\"-- The map for uniprot taxonID of\",len(scientific_taxonID),\"records have read.\") \n",
    "    return (scientific_taxonID, taxonID_scientific, common_taxonID, taxonID_uniprot, taxonID_scientificUnder, scientificUnder_taxonID)\n",
    "\n",
    "\n",
    "def collapse_tree_sup_branch(tree_raw_address, support_treshold, length_threshold ):\n",
    "\n",
    "\n",
    "    tree = dendropy.Tree.get_from_path(tree_raw_address,\"newick\") # newick nexus\n",
    "\n",
    "    print(\"length of input tree is: \", len(tree))\n",
    "\n",
    "    for idx, node in enumerate(tree):\n",
    "        if not node.is_leaf() and node.label:\n",
    "            support_value = int(node.label)\n",
    "            if support_value <= support_treshold:\n",
    "                edge= node.edge   #print(edge.head_node.child_nodes())\n",
    "                edge.collapse()\n",
    "    print(\"length of tree  after collapsing based on support values is: \", len(tree))\n",
    "\n",
    "\n",
    "    for e in tree.postorder_edge_iter():    \n",
    "        if e.length is None or (e.length <= length_threshold) and e.is_internal():\n",
    "            e.collapse()\n",
    "    print(\"length of tree after collapsing based on branch length is: \", len(tree))\n",
    "\n",
    "    tree_address_out = tree_raw_address+\"_collapsed__\"+str(support_treshold)+\"_\"+str(length_threshold)\n",
    "    tree.write_to_path(tree_address_out, \"newick\")\n",
    "    print(\"Output tree is written in \",tree_address_out)\n",
    "    return (tree)\n",
    "\n",
    "# def read_taxonID_uniprot_temp(uniprot_table_address):\n",
    "\n",
    "#     taxonID_scientific = {}\n",
    "#     scientific_taxonID = {}\n",
    "#     common_taxonID = {}\n",
    "#     taxonID_uniprot = {}\n",
    "    \n",
    "#     taxonID_scientificUnder={}\n",
    "        \n",
    "#     uniprot_file = open(uniprot_table_address,'r')\n",
    "#     for line in uniprot_file:\n",
    "#         line_strip = line.strip()\n",
    "#         if line_strip.startswith('Pro'):\n",
    "#             pass\n",
    "#         else:\n",
    "#             line_parts = line_strip.split('\\t')\n",
    "#             uniprot = line_parts[0]\n",
    "#             taxonID = line_parts[2]\n",
    "\n",
    "#             taxonID_uniprot[uniprot]=taxonID\n",
    "            \n",
    "#             line_parts_1= line_parts[1].split(\"(\")\n",
    "#             if len(line_parts_1) > 1:\n",
    "\n",
    "#                 scientific = line_parts_1[0]\n",
    "#                 common = line_parts_1[1].strip()[:-1]\n",
    "#             else:\n",
    "#                 scientific = line_parts_1[0]\n",
    "#                 common = line_parts_1[0]\n",
    "            \n",
    "#             scientific_taxonID[taxonID] = scientific\n",
    "#             taxonID_scientific[scientific] = taxonID \n",
    "\n",
    "#             common_taxonID[taxonID] = common\n",
    "#             scientificUnder='_'.join(scientific.split(\" \")[:2])\n",
    "#             taxonID_scientificUnder[scientificUnder]=taxonID\n",
    "\n",
    "#     print(\"-- The map for uniprot taxonID of\",len(scientific_taxonID),\"records have read.\") \n",
    "#     return (taxonID_scientificUnder)\n",
    "#taxonID_scientificUnder = read_taxonID_uniprot_temp(uniprot_table_address)\n",
    "\n",
    "(scientific_taxonID, taxonID_scientific, common_taxonID, taxonID_uniprot, taxonID_scientificUnder, scientificUnder_taxonID) =read_taxonID_uniprot(uniprot_table_address)\n",
    "\n",
    "#(scientific_taxonID,taxonID_scientific,common_taxonID,taxonID_uniprot)=read_taxonID_uniprot(uniprot_table_address)\n",
    "\n",
    "(taxonID_omaID,omaID_taxonID,taxonID_scientific,scientific_taxonID)= read_omaID_file(omaID_address)\n"
   ]
  },
  {
   "cell_type": "markdown",
   "id": "48566838",
   "metadata": {},
   "source": [
    "# Collapsing fast tree  -  support value _ branch length"
   ]
  },
  {
   "cell_type": "code",
   "execution_count": 30,
   "id": "a3691613",
   "metadata": {},
   "outputs": [
    {
     "name": "stdout",
     "output_type": "stream",
     "text": [
      "length of input tree is:  107\n",
      "length of tree  after collapsing based on support values is:  107\n",
      "length of tree after collapsing based on branch length is:  107\n",
      "Output tree is written in  /work/FAC/FBM/DBC/cdessim2/default/smajidi1/fastoma/mammal_uniprot/mml_v4/fastoma_core_column/___msa_concatanated_filtered_row___col_0.9436.txt.contree_collapsed__95_0.001\n"
     ]
    }
   ],
   "source": [
    "# # #fast_tree_address=\"/work/FAC/FBM/DBC/cdessim2/default/smajidi1/fastoma/mammal/old/mml_v4/\"\n",
    "# # #\"omamer_v4_search/fastoma_out/_80_msa_concatanated.txt.contree_collapsed__94_0.001\"\n",
    "\n",
    "# import dendropy\n",
    "\n",
    "\n",
    "\n",
    "# tree_raw_address= \"/work/FAC/FBM/DBC/cdessim2/default/smajidi1/fastoma/mammal_uniprot/mml_v4/fastoma_core_column/\"\n",
    "# tree_raw_address += \"___msa_concatanated_filtered_row___col_0.9436.txt.contree\"\n",
    "\n",
    "# support_treshold = 95\n",
    "# length_threshold=1e-3\n",
    "\n",
    "# out_tree = collapse_tree_sup_branch(tree_raw_address, support_treshold,length_threshold )\n"
   ]
  },
  {
   "cell_type": "markdown",
   "id": "58c5d60f",
   "metadata": {},
   "source": [
    "# Reading FastOMA tree - collapsed ,  undescore name"
   ]
  },
  {
   "cell_type": "code",
   "execution_count": 136,
   "id": "b298bfec",
   "metadata": {},
   "outputs": [
    {
     "name": "stdout",
     "output_type": "stream",
     "text": [
      "/work/FAC/FBM/DBC/cdessim2/default/smajidi1/fastoma/mammal_uniprot//mml_v4/fastoma_core_nosplice_v5/_100_msa_concatanated.txt.contree_collapsed__95_0.001\n",
      "5 kb\n",
      "length of tree is  106\n"
     ]
    }
   ],
   "source": [
    "#project_folder_root=\"/work/FAC/FBM/DBC/cdessim2/default/smajidi1/fastoma/mammal/mml26/\"\n",
    "#fast_tree_address=project_folder_root+\"fastoma_core/all_splices/_100_msa_concatanated.txt.contree_collapsed_94_0.001\" # \n",
    "\n",
    "fast_tree_address = \"/work/FAC/FBM/DBC/cdessim2/default/smajidi1/fastoma/mammal_uniprot/\"\n",
    "fast_tree_address += \"/mml_v4/fastoma_core_nosplice_v5/\"+\"_100_msa_concatanated.txt.contree\"+ \"_collapsed__95_0.001\"\n",
    " # fastoma_core_nosplice_v5  fastoma_core_column  ___msa_concatanated_filtered_row___col_0.96.txt.contree\n",
    "\n",
    "print(fast_tree_address)\n",
    "print(round(os.path.getsize(fast_tree_address)/1000),\"kb\")\n",
    "\n",
    "fast_tree= ete3.Tree(fast_tree_address) # ,format=0\n",
    "print(\"length of tree is \",len(fast_tree))\n"
   ]
  },
  {
   "cell_type": "code",
   "execution_count": 137,
   "id": "862a3485",
   "metadata": {
    "scrolled": true
   },
   "outputs": [],
   "source": [
    "#fast_tree.write()"
   ]
  },
  {
   "cell_type": "code",
   "execution_count": 138,
   "id": "4af88e1b",
   "metadata": {},
   "outputs": [],
   "source": [
    "# ##oma_standalon backbone species names\n",
    "# import pyoma.browser.db as db\n",
    "# project_folder_root=\"/work/FAC/FBM/DBC/cdessim2/default/smajidi1/fastoma/mammal/old/mml_v4/\"\n",
    "# oma_database_address=project_folder_root+\"omamer_v4_database/oma_path_/OmaServer.h5\"\n",
    "# oma_db = db.Database(oma_database_address);\n",
    "# print(oma_db.tax.as_dict())\n",
    "\n"
   ]
  },
  {
   "cell_type": "markdown",
   "id": "a5dc9473",
   "metadata": {},
   "source": [
    "### use scientific name for  backbone (S001)"
   ]
  },
  {
   "cell_type": "code",
   "execution_count": 139,
   "id": "5cd5c770",
   "metadata": {},
   "outputs": [],
   "source": [
    "# # #dic_oma={'S0005':'rabbit', 'S0003':'human', 'S0006':'redfox', 'S0004':'opossum', 'S0001':'chicken','S0002':'frog'}\n",
    "# # #{'rabbit':'S0005', 'human':'S0003', 'redfox': 'S0006', 'opossum':'S0004', 'chicken':'S0001','frog':'S0002'}\n",
    "\n",
    "# # old/mml_v4/\"\n",
    "# dic_oma_db={'Oryctolagus_cuniculus':'S0007', 'Homo_sapiens':'S0003', 'Vulpes_vulpes':'S0008','Monodelphis_domestica':'S0006', 'Gallus_gallus':'S0002', 'Xenopus_tropicalis':'S0009','Latimeria_chalumnae': 'S0004', 'Mola_mola':'S0005', 'Danio_rerio': 'S0001'}\n",
    "# dic_oma_db_=dict((v, k) for k, v in dic_oma_db.items())\n",
    "# print(len(dic_oma_db_))"
   ]
  },
  {
   "cell_type": "code",
   "execution_count": 140,
   "id": "6a928c84",
   "metadata": {},
   "outputs": [],
   "source": [
    "# exist_from_oma=[]\n",
    "# #exist_from_fa=[]\n",
    "# for node in fast_tree.traverse(strategy=\"postorder\"):\n",
    "#     if node.is_leaf() :    \n",
    "#         node_name = node.name\n",
    "#         if node_name in dic_oma_db_:            \n",
    "#             node_name_ = dic_oma_db_[node_name]\n",
    "#             node.name = node_name_+\"_back\"  \n",
    "#             exist_from_oma.append(node_name_)\n",
    "# #         if node_name in fa_files:\n",
    "# #             exist_from_fa.append(node_name)\n",
    "\n",
    "# #fa_files=[\"Acinonyx_jubatus\", \"Ailuropoda_melanoleuca\", \"Aotus_nancymaae\", \"Balaenoptera_acutorostrata\", \"Balaenoptera_physalus\", \"Bison_bison\", \"Bos_indicus\", \"Bos_mutus\", \"Bos_taurus\", \"Callithrix_jacchus\", \"Callorhinus_ursinus\", \"Camelus_dromedarius\", \"Camelus_ferus\", \"Canis_lupus\", \"Capra_hircus\", \"Carlito_syrichta\", \"Cavia_porcellus\", \"Cebus_imitator\", \"Cercocebus_atys\", \"Cervus_elaphus\", \"Chlorocebus_sabaeus\", \"Chrysochloris_asiatica\", \"Colobus_angolensis\", \"Cricetulus_griseus\", \"Crocuta_crocuta\", \"Delphinapterus_leucas\", \"Dipodomys_ordii\", \"Enhydra_lutris\", \"Equus_caballus\", \"Erinaceus_europaeus\", \"Eschrichtius_robustus\", \"Felis_catus\", \"Fukomys_damarensis\", \"Gorilla_gorilla\", \"Gulo_gulo\", \"Heterocephalus_glaber\", \"Homo_sapiens\", \"Ictidomys_tridecemlineatus\", \"Leptonychotes_weddellii\", \"Lipotes_vexillifer\", \"Loxodonta_africana\", \"Lynx_pardinus\", \"Macaca_fascicularis\", \"Macaca_mulatta\", \"Macaca_nemestrina\", \"Mandrillus_leucophaeus\", \"Marmota_monax\", \"Mesocricetus_auratus\", \"Monodelphis_domestica\", \"Monodon_monoceros\", \"Muntiacus_reevesi\", \"Mus_musculus\", \"Mustela_putorius\", \"Myotis_brandtii\", \"Myotis_davidii\", \"Myotis_lucifugus\", \"Neomonachus_schauinslandi\", \"Neophocaena_asiaeorientalis\", \"Neotoma_lepida\", \"Nomascus_leucogenys\", \"Octodon_degus\", \"Odobenus_rosmarus\", \"Odocoileus_virginianus\", \"Ornithorhynchus_anatinus\", \"Oryctolagus_cuniculus\", \"Otolemur_garnettii\", \"Ovis_aries\", \"Pan_paniscus\", \"Pan_troglodytes\", \"Papio_anubis\", \"Peromyscus_maniculatus\", \"Phascolarctos_cinereus\", \"Phyllostomus_discolor\", \"Physeter_macrocephalus\", \"Pongo_abelii\", \"Propithecus_coquereli\", \"Pteropus_alecto\", \"Pteropus_vampyrus\", \"Puma_concolor\", \"Rattus_norvegicus\", \"Rhinolophus_ferrumequinum\", \"Rhinopithecus_bieti\", \"Rhinopithecus_roxellana\", \"Saimiri_boliviensis\", \"Sapajus_apella\", \"Sarcophilus_harrisii\", \"Sousa_chinensis\", \"Suricata_suricatta\", \"Sus_scrofa\", \"Trichechus_manatus\", \"Tupaia_chinensis\", \"Tursiops_truncatus\", \"Ursus_americanus\", \"Ursus_arctos\", \"Ursus_maritimus\", \"Vicugna_pacos\", \"Vombatus_ursinus\", \"Vulpes_vulpes\"]\n",
    "# #print(set(fa_files) - set(exist_from_fa) )\n",
    "# #len(exist_from_oma),exist_from_oma"
   ]
  },
  {
   "cell_type": "code",
   "execution_count": 141,
   "id": "f7470b06",
   "metadata": {
    "scrolled": true
   },
   "outputs": [],
   "source": [
    "# fast_tree.write()"
   ]
  },
  {
   "cell_type": "code",
   "execution_count": 142,
   "id": "e8eab609",
   "metadata": {},
   "outputs": [],
   "source": [
    "# list_species=[]\n",
    "# for node in fast_tree.traverse(strategy=\"postorder\"):\n",
    "#     if node.is_leaf() :    \n",
    "#         list_species.append(node.name)\n",
    "        \n",
    "# print(\"number of leaves, species, is:\",len(list_species))"
   ]
  },
  {
   "cell_type": "markdown",
   "id": "67e562e2",
   "metadata": {},
   "source": [
    "### convert to taxonID "
   ]
  },
  {
   "cell_type": "code",
   "execution_count": 143,
   "id": "f04bda16",
   "metadata": {},
   "outputs": [
    {
     "name": "stdout",
     "output_type": "stream",
     "text": [
      "number of leaves, species, is: 106 94 12 100\n"
     ]
    }
   ],
   "source": [
    "\n",
    "list_species_tax_fast=[]\n",
    "list_species_omaID_fast=[]\n",
    "no_list=[]\n",
    "for node in fast_tree.traverse(strategy=\"postorder\"):\n",
    "    if node.is_leaf() :    \n",
    "        node_name = node.name\n",
    "        list_species_omaID_fast.append(node_name)\n",
    "        if node_name in taxonID_scientificUnder:\n",
    "            \n",
    "            node_name_tax = taxonID_scientificUnder[node_name]\n",
    "            node.name = node_name_tax            \n",
    "            list_species_tax_fast.append(node_name_tax)\n",
    "        else:\n",
    "            no_list.append(node_name)\n",
    "            \n",
    "print(\"number of leaves, species, is:\",len(list_species_omaID_fast),len(list_species_tax_fast),len(no_list),len(taxonID_scientificUnder))\n",
    "\n",
    "#set(exist_from_fa)-set(taxonID_scientificUnder.keys())\n",
    "#set(taxonID_scientificUnder.keys())-set(exist_from_fa)\n",
    "\n",
    "# no_list"
   ]
  },
  {
   "cell_type": "code",
   "execution_count": 144,
   "id": "75638d0d",
   "metadata": {
    "scrolled": true
   },
   "outputs": [],
   "source": [
    "#fast_tree.write()"
   ]
  },
  {
   "cell_type": "code",
   "execution_count": 145,
   "id": "281d7948",
   "metadata": {},
   "outputs": [
    {
     "name": "stdout",
     "output_type": "stream",
     "text": [
      "106\n",
      "94\n"
     ]
    }
   ],
   "source": [
    "# keep only leaves of taxon id , remove backbone\n",
    "\n",
    "print(len(fast_tree))\n",
    "fast_tree.prune(list_species_tax_fast, preserve_branch_length=True)\n",
    "print(len(fast_tree))\n",
    "\n",
    "# fast_tree.write() "
   ]
  },
  {
   "cell_type": "code",
   "execution_count": 146,
   "id": "03fe54ea",
   "metadata": {},
   "outputs": [],
   "source": [
    "# list_sepcies_mammal = [10020, 10029, 10036, 10090, 10116, 10141, 10160, 10181, 103600, 116960, 118797, 127582, 132908, 13616, 1706337, 185453, 1868482, 191816, 230844, 2715852, 27622, 29073, 29088, 29139, 30522, 30538, 30611, 310752, 32536, 336983, 34884, 37032, 37293, 379532, 38626, 391180, 39432, 40151, 419612, 43179, 43346, 46360, 51298, 56216, 59463, 59472, 59479, 60711, 61621, 61622, 61853, 72004, 77932, 885580, 89673, 9258, 9305, 9365, 9402, 9407, 9483, 9515, 9531, 9541, 9544, 9545, 9555, 9568, 9595, 9597, 9598, 9601, 9606, 9615, 9627, 9643, 9646, 9669, 9678, 9685, 9696, 9708, 9713, 9739, 9749, 9755, 9764, 9770, 9785, 9796, 9823, 9838, 9880, 9886, 9913, 9915, 9925, 9940, 9986, 9995]\n",
    "# #outgroups=[8364, 9031] # frog chicken\n",
    "# list_sepcies_str=[str(i) for i in list_sepcies_mammal]\n",
    "\n",
    "# print(len(fast_tree))\n",
    "# fast_tree.prune(list_sepcies_str, preserve_branch_length=True)\n",
    "# print(len(fast_tree))\n",
    "\n",
    "# fast_tree.set_outgroup(\"9258\") \n",
    "# # frog 8364\n",
    "# # 9258  Ornithorhynchus anatinus (Duckbill platypus)\n"
   ]
  },
  {
   "cell_type": "markdown",
   "id": "1b3f71e9",
   "metadata": {},
   "source": [
    "# Reading  NCBI tree"
   ]
  },
  {
   "cell_type": "code",
   "execution_count": 147,
   "id": "2b5438d2",
   "metadata": {},
   "outputs": [
    {
     "name": "stdout",
     "output_type": "stream",
     "text": [
      "94\n"
     ]
    }
   ],
   "source": [
    " \n",
    "ncbi_taxon_list = list_species_tax_fast\n",
    "\n",
    "\n",
    "ncbi = ete3.NCBITaxa()  # first time download in ~/.etetoolkit/\n",
    "ncbi_sub_tree = ncbi.get_topology(ncbi_taxon_list)\n",
    "\n",
    "print(len(ncbi_sub_tree))\n",
    "\n",
    "#ncbi_sub_tree.write()"
   ]
  },
  {
   "cell_type": "markdown",
   "id": "b86bc637",
   "metadata": {},
   "source": [
    "# RF distance"
   ]
  },
  {
   "cell_type": "code",
   "execution_count": 148,
   "id": "bdbbcbde",
   "metadata": {},
   "outputs": [
    {
     "name": "stdout",
     "output_type": "stream",
     "text": [
      "RF distance is 38 over a total of 140\n",
      "in fast: 76 , in ncbi: 62\n",
      "in both fast and ncbi: 50\n",
      "only in ncbi, not in fast: 12\n",
      "only in fast, not in ncbi: 26\n"
     ]
    }
   ],
   "source": [
    "def parition_editor(partitions_input,intersect_leaves):\n",
    "    pivot_species= sorted(intersect_leaves)[0]\n",
    "    partitions_ed=[]\n",
    "    for parition in  partitions_input:\n",
    "        #parition=set(parition)\n",
    "        if len(parition)<len(intersect_leaves)/2 and len(parition)>1:  # removing partitions with length of 0/1 \n",
    "            partitions_ed.append(parition)\n",
    "        if len(parition)>len(intersect_leaves)/2 and len(parition)<len(intersect_leaves)-1:\n",
    "            partitions_ed.append(tuple(intersect_leaves-set(parition)))\n",
    "        if len(parition)==len(intersect_leaves)/2 and pivot_species not in parition: # make sure alwyas one half is there\n",
    "            partitions_ed.append(tuple(intersect_leaves-set(parition)))\n",
    "            \n",
    "    # partitions = [e for e in edges if n > len(e) > 1]\n",
    "    # partitions = list(map(lambda p: p if len(p) <= n/2 else all_species -set(p), partitions)      \n",
    "    # if len(p) < n/2 or len(p) == n/2 and pivot_species in p: return p\n",
    "    # else: return all_species - set(p)   \n",
    "    return partitions_ed\n",
    "        \n",
    "# #fast_tree.set_outgroup(\"9913\")  # bovin\n",
    "# node=fast_tree.get_common_ancestor(\"9913\",\"10090\")\n",
    "\n",
    "# fast_tree.set_outgroup(\"9913\")  # bovin\n",
    "\n",
    "fast_tree.set_outgroup(\"9258\")  # bovin 9913  # 9258 ornithorhynchus anatinus  Platypus\n",
    "\n",
    "\n",
    "\n",
    "intersection_sets= set(ncbi_taxon_list)\n",
    "\n",
    "out_fast_ncbi = fast_tree.robinson_foulds(ncbi_sub_tree)\n",
    "(rf_fast_ncbi, maxparts_fast_ncbi, common_attrs, partitions_fast_raw, partitions_ncbi_raw, discard_t1, discard_t2)=out_fast_ncbi \n",
    "partitions_fast = set(parition_editor(partitions_fast_raw, intersection_sets))\n",
    "partitions_ncbi = set(parition_editor(partitions_ncbi_raw, intersection_sets))\n",
    "\n",
    "print(\"RF distance is %s over a total of %s\" %(rf_fast_ncbi, maxparts_fast_ncbi))\n",
    "print(\"in fast:\",len(partitions_fast),\", in ncbi:\",len(partitions_ncbi)) # , \"Common Partitions\",len(common_attrs_paper),)\n",
    "print(\"in both fast and ncbi:\", len(partitions_ncbi & partitions_fast))\n",
    "print(\"only in ncbi, not in fast:\", len(partitions_ncbi-partitions_fast)) # order not sure  http://etetoolkit.org/docs/latest/tutorial/tutorial_trees.html#robinson-foulds-distance\n",
    "print(\"only in fast, not in ncbi:\", len(partitions_fast-partitions_ncbi))\n",
    "\n",
    "\n",
    "      "
   ]
  },
  {
   "cell_type": "markdown",
   "id": "36b6b4ee",
   "metadata": {},
   "source": [
    "## The followign is for visualization, may be ignored"
   ]
  },
  {
   "cell_type": "markdown",
   "id": "72c6bb8a",
   "metadata": {},
   "source": [
    "## Trees with common name"
   ]
  },
  {
   "cell_type": "code",
   "execution_count": 30,
   "id": "e96519b4",
   "metadata": {},
   "outputs": [
    {
     "name": "stdout",
     "output_type": "stream",
     "text": [
      "[]\n"
     ]
    }
   ],
   "source": [
    "no_list=[]\n",
    "for node in fast_tree.traverse(strategy=\"postorder\"):\n",
    "    if node.is_leaf() :           \n",
    "        #fast_tree_leaves.append(node.name)\n",
    "        #old_node_name\n",
    "        if node.name in common_taxonID:\n",
    "            node_name = common_taxonID[node.name]\n",
    "            node.name=node_name + \"_\"+node.name\n",
    "        elif node.name=='30608' : node.name=\"Lesser mouse lemur_30608\"\n",
    "        else:\n",
    "            no_list.append(node.name)\n",
    "        \n",
    "print(no_list)"
   ]
  },
  {
   "cell_type": "code",
   "execution_count": 31,
   "id": "c86d429b",
   "metadata": {},
   "outputs": [
    {
     "data": {
      "text/plain": [
       "\"(Duckbill platypus_9258:0.365317,(((Tasmanian devil_9305:0.191273,Koala_38626:0.154523)100:0.0414404,Gray short-tailed opossum_13616:0.236146)100:0.339808,((((((Ord's kangaroo rat_10020:0.336606,((Rat_10116:0.124241,Mouse_10090:0.0634782)100:0.0686967,Chinese hamster_10029:0.264948)100:0.157961)100:0.0349106,((Naked mole rat_10181:0.196736,Damaraland mole rat_885580:0.214702)100:0.0797236,(Guinea pig_10141:0.201194,Degu_10160:0.177856)100:0.0300928)100:0.148493,Thirteen-lined ground squirrel_43179:0.214548)100:0.0400459,Rabbit_9986:0.51432)100:0.0242575,((((Northern white-cheeked gibbon_61853:0.132469,Pygmy chimpanzee_9597:0.0458389,Human_9606:0.0110071,Sumatran orangutan_9601:0.092031,(Green monkey_60711:0.0297213,(Rhesus macaque_9544:0.0535278,Crab-eating macaque_9541:0.0637958)100:0.0350517,Drill_9568:0.0541511,(Olive baboon_9555:0.0398768,Sooty mangabey_9531:0.0173492)100:0.0104805,Pig-tailed macaque_9545:0.0269368,(Black snub-nosed monkey_61621:0.0432399,Golden snub-nosed monkey_61622:0.0329304)100:0.0597879)100:0.0370803,Chimpanzee_9598:0.0170219)100:0.039766,(White-tufted-ear marmoset_9483:0.107978,Ma's night monkey_37293:0.0918721)100:0.0569786)100:0.115987,Philippine tarsier_1868482:0.263974)100:0.022731,(Coquerel's sifaka_379532:0.157923,Small-eared galago_30611:0.19776)100:0.0444909)100:0.0322722)100:0.0455135,(((Red fox_9627:0.189379,((American black bear_9643:0.0775759,Polar bear_29073:0.177738)99:0.021176,Giant panda_9646:0.128381)100:0.113529)100:0.0345644,Cat_9685:0.247897)100:0.106647,Western European hedgehog_9365:0.423021,((((Atlantic bottle-nosed dolphin_9739:0.226609,((Goat_9925:0.0315861,Sheep_9940:0.153568)100:0.0328982,Bovine_9913:0.164721)98:0.146235)100:0.0359829,Pig_9823:0.245949)100:0.0256152,Alpaca_30538:0.236222)100:0.0785052,Horse_9796:0.243721)100:0.0379957,(Large flying fox_132908:0.250455,Little brown bat_59463:0.313607)100:0.0418338)100:0.0588293)100:0.0345462,African elephant_9785:0.281301)100:0.367266)1:0.365317);\""
      ]
     },
     "execution_count": 31,
     "metadata": {},
     "output_type": "execute_result"
    }
   ],
   "source": [
    "fast_tree.write()"
   ]
  },
  {
   "cell_type": "code",
   "execution_count": 32,
   "id": "df772dd8",
   "metadata": {},
   "outputs": [
    {
     "name": "stdout",
     "output_type": "stream",
     "text": [
      "[]\n"
     ]
    }
   ],
   "source": [
    "no_list=[]\n",
    "for node in ncbi_sub_tree.traverse(strategy=\"postorder\"):\n",
    "    if node.is_leaf() :           \n",
    "        if node.name in common_taxonID:\n",
    "            node_name = common_taxonID[node.name]\n",
    "            node.name=node_name + \"_\"+node.name\n",
    "        elif node.name=='30608' : node.name=\"Lesser mouse lemur_30608\"\n",
    "        else:\n",
    "            no_list.append(node.name)\n",
    "        \n",
    "print(no_list)"
   ]
  },
  {
   "cell_type": "code",
   "execution_count": 33,
   "id": "eafefadc",
   "metadata": {
    "scrolled": true
   },
   "outputs": [
    {
     "data": {
      "text/plain": [
       "\"(((((((((Ma's night monkey_37293:1,White-tufted-ear marmoset_9483:2)1:1,(((((Pygmy chimpanzee_9597:1,Chimpanzee_9598:1)1:1,Human_9606:1)1:1,Sumatran orangutan_9601:1)1:1,Northern white-cheeked gibbon_61853:1)1:1,(((Crab-eating macaque_9541:1,Rhesus macaque_9544:1,Pig-tailed macaque_9545:1)1:1,Green monkey_60711:1,Sooty mangabey_9531:1,Olive baboon_9555:1,Drill_9568:1)1:1,(Black snub-nosed monkey_61621:1,Golden snub-nosed monkey_61622:1)1:2)1:1)1:1)1:1,Philippine tarsier_1868482:1)1:1,(Coquerel's sifaka_379532:1,Small-eared galago_30611:1)1:1)1:1,((((Damaraland mole rat_885580:1,Naked mole rat_10181:1)1:1,Guinea pig_10141:1,Degu_10160:1)1:1,((Rat_10116:1,Mouse_10090:1)1:1,Chinese hamster_10029:3)1:1,Ord's kangaroo rat_10020:1,Thirteen-lined ground squirrel_43179:2)1:1,Rabbit_9986:1)1:1)1:1,((Pig_9823:1,Atlantic bottle-nosed dolphin_9739:4,Alpaca_30538:2,((Goat_9925:1,Sheep_9940:1)1:1,Bovine_9913:3)1:2)1:1,((((Polar bear_29073:1,American black bear_9643:1)1:1,Giant panda_9646:1)1:1,Red fox_9627:2)1:1,Cat_9685:4)1:1,(Little brown bat_59463:2,Large flying fox_132908:2)1:1,Horse_9796:1,Western European hedgehog_9365:1)1:1)1:1,African elephant_9785:2)1:1,(Tasmanian devil_9305:1,Gray short-tailed opossum_13616:1,Koala_38626:2)1:1)1:1,Duckbill platypus_9258:1);\""
      ]
     },
     "execution_count": 33,
     "metadata": {},
     "output_type": "execute_result"
    }
   ],
   "source": [
    "ncbi_sub_tree.write()"
   ]
  },
  {
   "cell_type": "code",
   "execution_count": 34,
   "id": "5516a35d",
   "metadata": {
    "scrolled": true
   },
   "outputs": [
    {
     "data": {
      "text/plain": [
       "\"(Duckbill platypus_9258:0.365317,(((Tasmanian devil_9305:0.191273,Koala_38626:0.154523)100:0.0414404,Gray short-tailed opossum_13616:0.236146)100:0.339808,((((((Ord's kangaroo rat_10020:0.336606,((Rat_10116:0.124241,Mouse_10090:0.0634782)100:0.0686967,Chinese hamster_10029:0.264948)100:0.157961)100:0.0349106,((Naked mole rat_10181:0.196736,Damaraland mole rat_885580:0.214702)100:0.0797236,(Guinea pig_10141:0.201194,Degu_10160:0.177856)100:0.0300928)100:0.148493,Thirteen-lined ground squirrel_43179:0.214548)100:0.0400459,Rabbit_9986:0.51432)100:0.0242575,((((Northern white-cheeked gibbon_61853:0.132469,Pygmy chimpanzee_9597:0.0458389,Human_9606:0.0110071,Sumatran orangutan_9601:0.092031,(Green monkey_60711:0.0297213,(Rhesus macaque_9544:0.0535278,Crab-eating macaque_9541:0.0637958)100:0.0350517,Drill_9568:0.0541511,(Olive baboon_9555:0.0398768,Sooty mangabey_9531:0.0173492)100:0.0104805,Pig-tailed macaque_9545:0.0269368,(Black snub-nosed monkey_61621:0.0432399,Golden snub-nosed monkey_61622:0.0329304)100:0.0597879)100:0.0370803,Chimpanzee_9598:0.0170219)100:0.039766,(White-tufted-ear marmoset_9483:0.107978,Ma's night monkey_37293:0.0918721)100:0.0569786)100:0.115987,Philippine tarsier_1868482:0.263974)100:0.022731,(Coquerel's sifaka_379532:0.157923,Small-eared galago_30611:0.19776)100:0.0444909)100:0.0322722)100:0.0455135,(((Red fox_9627:0.189379,((American black bear_9643:0.0775759,Polar bear_29073:0.177738)99:0.021176,Giant panda_9646:0.128381)100:0.113529)100:0.0345644,Cat_9685:0.247897)100:0.106647,Western European hedgehog_9365:0.423021,((((Atlantic bottle-nosed dolphin_9739:0.226609,((Goat_9925:0.0315861,Sheep_9940:0.153568)100:0.0328982,Bovine_9913:0.164721)98:0.146235)100:0.0359829,Pig_9823:0.245949)100:0.0256152,Alpaca_30538:0.236222)100:0.0785052,Horse_9796:0.243721)100:0.0379957,(Large flying fox_132908:0.250455,Little brown bat_59463:0.313607)100:0.0418338)100:0.0588293)100:0.0345462,African elephant_9785:0.281301)100:0.367266)1:0.365317);\""
      ]
     },
     "execution_count": 34,
     "metadata": {},
     "output_type": "execute_result"
    }
   ],
   "source": [
    "fast_tree.write()"
   ]
  },
  {
   "cell_type": "markdown",
   "id": "2dbc2d28",
   "metadata": {},
   "source": [
    "## ncbi with undescore name"
   ]
  },
  {
   "cell_type": "code",
   "execution_count": null,
   "id": "8d54f63b",
   "metadata": {},
   "outputs": [],
   "source": [
    " \n",
    "ncbi_taxon_list = list_species_tax_fast\n",
    "\n",
    "\n",
    "ncbi = ete3.NCBITaxa()  # first time download in ~/.etetoolkit/\n",
    "ncbi_sub_tree = ncbi.get_topology(ncbi_taxon_list)\n",
    "\n",
    "print(len(ncbi_sub_tree))"
   ]
  },
  {
   "cell_type": "code",
   "execution_count": null,
   "id": "3b62ee9d",
   "metadata": {},
   "outputs": [],
   "source": [
    "no_list=[]\n",
    "for node in ncbi_sub_tree.traverse(strategy=\"postorder\"):\n",
    "    if node.is_leaf() :           \n",
    "        if node.name in scientificUnder_taxonID:\n",
    "            node_name = scientificUnder_taxonID[node.name]\n",
    "            node.name=node_name + \"_\"+node.name\n",
    "        else:\n",
    "            no_list.append(node.name)\n",
    "        \n",
    "print(no_list)"
   ]
  },
  {
   "cell_type": "code",
   "execution_count": null,
   "id": "5ca00a12",
   "metadata": {},
   "outputs": [],
   "source": [
    "scientificUnder_taxonID[\"2715852\"]"
   ]
  },
  {
   "cell_type": "code",
   "execution_count": null,
   "id": "ad97da06",
   "metadata": {
    "scrolled": true
   },
   "outputs": [],
   "source": [
    "ncbi_sub_tree.write()"
   ]
  },
  {
   "cell_type": "code",
   "execution_count": null,
   "id": "872e64dd",
   "metadata": {},
   "outputs": [],
   "source": []
  },
  {
   "cell_type": "code",
   "execution_count": null,
   "id": "3d8ce711",
   "metadata": {},
   "outputs": [],
   "source": []
  },
  {
   "cell_type": "markdown",
   "id": "876c7e94",
   "metadata": {},
   "source": [
    "## Standard OMA  -slow, with undescore"
   ]
  },
  {
   "cell_type": "code",
   "execution_count": 149,
   "id": "f7214171",
   "metadata": {},
   "outputs": [],
   "source": [
    "\n",
    "# tree_raw_address = \"/work/FAC/FBM/DBC/cdessim2/default/smajidi1/fastoma/mammal_uniprot/standard/\"\n",
    "# tree_raw_address += \"/concatanted.fasta.contree\"  # _collapsed_brnch_0.01# 1e-05\" # \n",
    "\n",
    "# import dendropy\n",
    "# support_treshold = 95\n",
    "# length_threshold=1e-3 \n",
    "\n",
    "# out_tree = collapse_tree_sup_branch(tree_raw_address, support_treshold,length_threshold )\n"
   ]
  },
  {
   "cell_type": "code",
   "execution_count": 150,
   "id": "e600757d",
   "metadata": {},
   "outputs": [
    {
     "name": "stdout",
     "output_type": "stream",
     "text": [
      "73\n"
     ]
    }
   ],
   "source": [
    "\n",
    "slow_tree_address = \"/work/FAC/FBM/DBC/cdessim2/default/smajidi1/fastoma/mammal_uniprot/standard/\"\n",
    "slow_tree_address += \"/concatanted.fasta.contree\"  # _collapsed_brnch_0.01# 1e-05\" # \n",
    "slow_tree_address += \"_collapsed__95_0.001\"\n",
    "\n",
    "slow_tree= ete3.Tree(slow_tree_address) # ,format=0\n",
    "print(len(slow_tree))\n"
   ]
  },
  {
   "cell_type": "code",
   "execution_count": 151,
   "id": "3155edee",
   "metadata": {
    "scrolled": true
   },
   "outputs": [
    {
     "data": {
      "text/plain": [
       "'(Monodelphis_domestica:0.0549807,(((((((Microcebus_murinus:0.0254167,Propithecus_coquereli:0.0253452)100:0.0139706,Otolemur_garnettii:0.0583853)100:0.0133941,(((((((Cercocebus_atys:0.00631594,Mandrillus_leucophaeus:0.00596072)100:0.00121839,(Macaca_fascicularis:0.00150168,Macaca_nemestrina:0.00411493)99:0.0015487,Macaca_mulatta:0.0134382,Papio_anubis:0.00853622)100:0.00111409,Chlorocebus_sabaeus:0.00740434)100:0.00216345,(Colobus_angolensis_palliatus:0.00793718,(Rhinopithecus_bieti:0.00673514,Rhinopithecus_roxellana:0.00261409)100:0.00507519)100:0.00416822)100:0.00742584,((Gorilla_gorilla_gorilla:0.0120148,Homo_sapiens:0.00326515,(Pan_paniscus:0.00288553,Pan_troglodytes:0.00289888)100:0.00459114)100:0.00306984,Pongo_abelii:0.00944045,Nomascus_leucogenys:0.0154418)100:0.00419246)100:0.00765934,((Aotus_nancymaae:0.0147995,Saimiri_boliviensis_boliviensis:0.0160102)100:0.00302408,Callithrix_jacchus:0.0174124)100:0.0150893)100:0.0221442,Carlito_syrichta:0.0574195)100:0.0044947)100:0.00616186,Tupaia_belangeri:0.0740458,((Oryctolagus_cuniculus:0.0459954,Ochotona_princeps:0.0749465)100:0.034132,((Dipodomys_ordii:0.0823708,(Jaculus_jaculus:0.0825591,((Cricetulus_griseus:0.0405367,(Mus_musculus:0.0287524,Rattus_norvegicus:0.0341675)100:0.0241807)100:0.0317554,Nannospalax_galili:0.0532233)100:0.0141454)100:0.0146801)100:0.00809267,((Fukomys_damarensis:0.0378169,Heterocephalus_glaber:0.0336759)100:0.0138397,((Cavia_aperea:0.0557381,Cavia_porcellus:0.00788655)100:0.0515247,(Chinchilla_lanigera:0.0317397,Octodon_degus:0.054363)100:0.0069913)100:0.00995267)100:0.0372224,Ictidomys_tridecemlineatus:0.061471)100:0.00859228)100:0.00571266)100:0.00761878,((((((Bos_taurus:0.0148103,(Capra_hircus:0.00894654,Ovis_aries:0.0104143)100:0.00938196)100:0.0377489,Tursiops_truncatus:0.0327881)100:0.00841663,Sus_scrofa:0.0495794)100:0.00432121,Vicugna_pacos:0.0471248)100:0.0146571,(Pteropus_vampyrus:0.0452813,Myotis_lucifugus:0.0741621)100:0.011028,((((Canis_lupus_familiaris:0.00693181,Vulpes_vulpes:0.012756)100:0.0250796,(Mustela_putorius_furo:0.0325882,(Ailuropoda_melanoleuca:0.0129346,(Ursus_americanus:0.0174871,Ursus_maritimus:0.00999996)100:0.0084638)100:0.0125659)100:0.0053293)100:0.00698808,Felis_catus:0.0361567)100:0.0157941,Manis_javanica:0.0707009)100:0.00383194,(Equus_asinus:0.00946646,Equus_caballus:0.00602974)100:0.0392265)100:0.00292403,(Erinaceus_europaeus:0.098745,Sorex_araneus:0.105038)100:0.0176079)100:0.0083461)100:0.00696637,((Procavia_capensis:0.0668163,Loxodonta_africana:0.0429637)100:0.0126263,Echinops_telfairi:0.111703)100:0.0171982,(Dasypus_novemcinctus:0.0622615,Choloepus_hoffmanni:0.0511192)100:0.022416)100:0.100132,(Ornithorhynchus_anatinus:0.21112,(((Gallus_gallus:0.0655067,Junco_hyemalis:0.0883631)100:0.107224,Anolis_carolinensis:0.275852)100:0.0460704,Xenopus_tropicalis:0.572222)100:0.0709832)100:0.030965)100:0.0886905,(Sarcophilus_harrisii:0.061093,(Macropus_eugenii:0.043996,Phascolarctos_cinereus:0.0384094)100:0.00755816)100:0.0131214);'"
      ]
     },
     "execution_count": 151,
     "metadata": {},
     "output_type": "execute_result"
    }
   ],
   "source": [
    "slow_tree.write()"
   ]
  },
  {
   "cell_type": "code",
   "execution_count": null,
   "id": "3f162d61",
   "metadata": {},
   "outputs": [],
   "source": []
  },
  {
   "cell_type": "code",
   "execution_count": 152,
   "id": "b54e8050",
   "metadata": {},
   "outputs": [
    {
     "name": "stdout",
     "output_type": "stream",
     "text": [
      "number of leaves, species, is: 73 49 24\n"
     ]
    }
   ],
   "source": [
    "\n",
    "list_species_tax_slow=[]\n",
    "list_species_omaID_slow=[]\n",
    "no_list_slow=[]\n",
    "for node in slow_tree.traverse(strategy=\"postorder\"):\n",
    "    if node.is_leaf() :    \n",
    "        node_name = node.name\n",
    "        list_species_omaID_slow.append(node_name)\n",
    "        if node_name in taxonID_scientificUnder:\n",
    "            node_name_tax = taxonID_scientificUnder[node_name]\n",
    "            node.name = node_name_tax            \n",
    "            list_species_tax_slow.append(node_name_tax)\n",
    "#         elif node_name in dic_threeparts:\n",
    "#             node_name2=dic_threeparts[node_name]\n",
    "#             node_name_tax = taxonID_scientificUnder[node_name2]\n",
    "#             node.name = node_name_tax            \n",
    "#             list_species_tax_slow.append(node_name_tax) \n",
    "#         elif node.name==\"Microcebus_murinus\" : \n",
    "#             node_name_tax = \"30608\"\n",
    "#             node.name = node_name_tax            \n",
    "#             list_species_tax_slow.append(node_name_tax) \n",
    "#             # Microcebus murinus 30608\n",
    "        else:\n",
    "            no_list_slow.append(node_name)\n",
    "            \n",
    "print(\"number of leaves, species, is:\",len(list_species_omaID_slow),len(list_species_tax_slow),len(no_list_slow))\n"
   ]
  },
  {
   "cell_type": "code",
   "execution_count": 153,
   "id": "f6ab18a2",
   "metadata": {
    "scrolled": true
   },
   "outputs": [
    {
     "data": {
      "text/plain": [
       "['Microcebus_murinus',\n",
       " 'Colobus_angolensis_palliatus',\n",
       " 'Gorilla_gorilla_gorilla',\n",
       " 'Saimiri_boliviensis_boliviensis',\n",
       " 'Tupaia_belangeri',\n",
       " 'Ochotona_princeps',\n",
       " 'Jaculus_jaculus',\n",
       " 'Nannospalax_galili',\n",
       " 'Cavia_aperea',\n",
       " 'Chinchilla_lanigera',\n",
       " 'Canis_lupus_familiaris',\n",
       " 'Mustela_putorius_furo',\n",
       " 'Manis_javanica',\n",
       " 'Equus_asinus',\n",
       " 'Sorex_araneus',\n",
       " 'Procavia_capensis',\n",
       " 'Echinops_telfairi',\n",
       " 'Dasypus_novemcinctus',\n",
       " 'Choloepus_hoffmanni',\n",
       " 'Gallus_gallus',\n",
       " 'Junco_hyemalis',\n",
       " 'Anolis_carolinensis',\n",
       " 'Xenopus_tropicalis',\n",
       " 'Macropus_eugenii']"
      ]
     },
     "execution_count": 153,
     "metadata": {},
     "output_type": "execute_result"
    }
   ],
   "source": [
    "no_list_slow"
   ]
  },
  {
   "cell_type": "code",
   "execution_count": 154,
   "id": "25488687",
   "metadata": {
    "scrolled": true
   },
   "outputs": [
    {
     "data": {
      "text/plain": [
       "'(13616:0.0549807,(((((((Microcebus_murinus:0.0254167,379532:0.0253452)100:0.0139706,30611:0.0583853)100:0.0133941,(((((((9531:0.00631594,9568:0.00596072)100:0.00121839,(9541:0.00150168,9545:0.00411493)99:0.0015487,9544:0.0134382,9555:0.00853622)100:0.00111409,60711:0.00740434)100:0.00216345,(Colobus_angolensis_palliatus:0.00793718,(61621:0.00673514,61622:0.00261409)100:0.00507519)100:0.00416822)100:0.00742584,((Gorilla_gorilla_gorilla:0.0120148,9606:0.00326515,(9597:0.00288553,9598:0.00289888)100:0.00459114)100:0.00306984,9601:0.00944045,61853:0.0154418)100:0.00419246)100:0.00765934,((37293:0.0147995,Saimiri_boliviensis_boliviensis:0.0160102)100:0.00302408,9483:0.0174124)100:0.0150893)100:0.0221442,1868482:0.0574195)100:0.0044947)100:0.00616186,Tupaia_belangeri:0.0740458,((9986:0.0459954,Ochotona_princeps:0.0749465)100:0.034132,((10020:0.0823708,(Jaculus_jaculus:0.0825591,((10029:0.0405367,(10090:0.0287524,10116:0.0341675)100:0.0241807)100:0.0317554,Nannospalax_galili:0.0532233)100:0.0141454)100:0.0146801)100:0.00809267,((885580:0.0378169,10181:0.0336759)100:0.0138397,((Cavia_aperea:0.0557381,10141:0.00788655)100:0.0515247,(Chinchilla_lanigera:0.0317397,10160:0.054363)100:0.0069913)100:0.00995267)100:0.0372224,43179:0.061471)100:0.00859228)100:0.00571266)100:0.00761878,((((((9913:0.0148103,(9925:0.00894654,9940:0.0104143)100:0.00938196)100:0.0377489,9739:0.0327881)100:0.00841663,9823:0.0495794)100:0.00432121,30538:0.0471248)100:0.0146571,(132908:0.0452813,59463:0.0741621)100:0.011028,((((Canis_lupus_familiaris:0.00693181,9627:0.012756)100:0.0250796,(Mustela_putorius_furo:0.0325882,(9646:0.0129346,(9643:0.0174871,29073:0.00999996)100:0.0084638)100:0.0125659)100:0.0053293)100:0.00698808,9685:0.0361567)100:0.0157941,Manis_javanica:0.0707009)100:0.00383194,(Equus_asinus:0.00946646,9796:0.00602974)100:0.0392265)100:0.00292403,(9365:0.098745,Sorex_araneus:0.105038)100:0.0176079)100:0.0083461)100:0.00696637,((Procavia_capensis:0.0668163,9785:0.0429637)100:0.0126263,Echinops_telfairi:0.111703)100:0.0171982,(Dasypus_novemcinctus:0.0622615,Choloepus_hoffmanni:0.0511192)100:0.022416)100:0.100132,(9258:0.21112,(((Gallus_gallus:0.0655067,Junco_hyemalis:0.0883631)100:0.107224,Anolis_carolinensis:0.275852)100:0.0460704,Xenopus_tropicalis:0.572222)100:0.0709832)100:0.030965)100:0.0886905,(9305:0.061093,(Macropus_eugenii:0.043996,38626:0.0384094)100:0.00755816)100:0.0131214);'"
      ]
     },
     "execution_count": 154,
     "metadata": {},
     "output_type": "execute_result"
    }
   ],
   "source": [
    "slow_tree.write()"
   ]
  },
  {
   "cell_type": "code",
   "execution_count": 155,
   "id": "e2f5ce75",
   "metadata": {},
   "outputs": [],
   "source": [
    "# no_list=[]\n",
    "# list_species_tax_slow=[]\n",
    "# for node in slow_tree.traverse(strategy=\"postorder\"):\n",
    "#     if node.is_leaf() :           \n",
    "#         if node.name in omaID_taxonID:\n",
    "#             node_name = omaID_taxonID[node.name]\n",
    "#             node.name=  node_name \n",
    "#             list_species_tax_slow.append(node_name)\n",
    "#         else:\n",
    "#             no_list.append(node.name)\n",
    "        \n",
    "# print(no_list)"
   ]
  },
  {
   "cell_type": "code",
   "execution_count": 156,
   "id": "41a12165",
   "metadata": {},
   "outputs": [
    {
     "name": "stdout",
     "output_type": "stream",
     "text": [
      "length of tree is  94 94\n",
      "94 73\n",
      "49 49 49\n"
     ]
    }
   ],
   "source": [
    "\n",
    "# taxon id \n",
    "#fast_tree= ete3.Tree(fast_tree_address) # ,format=0\n",
    "print(\"length of tree is \",len(fast_tree),len(list_species_tax_fast))\n",
    "\n",
    "\n",
    "intersection_slow_fast=set(list_species_tax_slow) & set(list_species_tax_fast)\n",
    "\n",
    "print(len(fast_tree),len(slow_tree))\n",
    "fast_tree.prune(intersection_slow_fast, preserve_branch_length=True)\n",
    "slow_tree.prune(intersection_slow_fast, preserve_branch_length=True)\n",
    "ncbi_sub_tree.prune(intersection_slow_fast, preserve_branch_length=True)\n",
    "\n",
    "print(len(fast_tree),len(slow_tree),len(ncbi_sub_tree))\n"
   ]
  },
  {
   "cell_type": "code",
   "execution_count": 157,
   "id": "2a0539a0",
   "metadata": {},
   "outputs": [
    {
     "data": {
      "text/plain": [
       "'(9258:0.365317,(((9305:0.191273,38626:0.154523)100:0.0414404,13616:0.236146)100:0.339808,((((((10020:0.336606,((10116:0.124241,10090:0.0634782)100:0.0686967,10029:0.264948)100:0.157961)100:0.0349106,((10181:0.196736,885580:0.214702)100:0.0797236,(10141:0.201194,10160:0.177856)100:0.0300928)100:0.148493,43179:0.214548)100:0.0400459,9986:0.51432)100:0.0242575,((((61853:0.132469,9597:0.0458389,9606:0.0110071,9601:0.092031,(60711:0.0297213,(9544:0.0535278,9541:0.0637958)100:0.0350517,9568:0.0541511,(9555:0.0398768,9531:0.0173492)100:0.0104805,9545:0.0269368,(61621:0.0432399,61622:0.0329304)100:0.0597879)100:0.0370803,9598:0.0170219)100:0.039766,(9483:0.107978,37293:0.0918721)100:0.0569786)100:0.115987,1868482:0.263974)100:0.022731,(379532:0.157923,30611:0.19776)100:0.0444909)100:0.0322722)100:0.0455135,(((9627:0.189379,((9643:0.0775759,29073:0.177738)99:0.021176,9646:0.128381)100:0.113529)100:0.0345644,9685:0.247897)100:0.106647,9365:0.423021,((((9739:0.226609,((9925:0.0315861,9940:0.153568)100:0.0328982,9913:0.164721)98:0.146235)100:0.0359829,9823:0.245949)100:0.0256152,30538:0.236222)100:0.0785052,9796:0.243721)100:0.0379957,(132908:0.250455,59463:0.313607)100:0.0418338)100:0.0588293)100:0.0345462,9785:0.281301)100:0.367266)1:0.365317);'"
      ]
     },
     "execution_count": 157,
     "metadata": {},
     "output_type": "execute_result"
    }
   ],
   "source": [
    "fast_tree.write()"
   ]
  },
  {
   "cell_type": "code",
   "execution_count": 158,
   "id": "486ad8f5",
   "metadata": {},
   "outputs": [
    {
     "data": {
      "text/plain": [
       "'(13616:0.0549807,((((((30611:0.0583853,379532:0.0393157)100:0.0133941,(((((((9531:0.00631594,9568:0.00596072)100:0.00121839,(9541:0.00150168,9545:0.00411493)99:0.0015487,9544:0.0134382,9555:0.00853622)100:0.00111409,60711:0.00740434)100:0.00216345,(61621:0.00673514,61622:0.00261409)100:0.00924342)100:0.00742584,((9606:0.00326515,(9597:0.00288553,9598:0.00289888)100:0.00459114)100:0.00306984,9601:0.00944045,61853:0.0154418)100:0.00419246)100:0.00765934,(9483:0.0174124,37293:0.0178236)100:0.0150893)100:0.0221442,1868482:0.0574195)100:0.0044947)100:0.00616186,(((10020:0.0823708,(10029:0.0405367,(10090:0.0287524,10116:0.0341675)100:0.0241807)100:0.0605809)100:0.00809267,((885580:0.0378169,10181:0.0336759)100:0.0138397,(10141:0.0594112,10160:0.0613543)100:0.00995267)100:0.0372224,43179:0.061471)100:0.00859228,9986:0.0801274)100:0.00571266)100:0.00761878,((((((9913:0.0148103,(9925:0.00894654,9940:0.0104143)100:0.00938196)100:0.0377489,9739:0.0327881)100:0.00841663,9823:0.0495794)100:0.00432121,30538:0.0471248)100:0.0146571,(132908:0.0452813,59463:0.0741621)100:0.011028,((9627:0.0378356,(9646:0.0129346,(9643:0.0174871,29073:0.00999996)100:0.0084638)100:0.0178952)100:0.00698808,9685:0.0361567)100:0.0196261,9796:0.0452563)100:0.00292403,9365:0.116353)100:0.0083461)100:0.00696637,9785:0.0727882)100:0.100132,9258:0.242085)100:0.0886905,(9305:0.061093,38626:0.0459676)100:0.0131214);'"
      ]
     },
     "execution_count": 158,
     "metadata": {},
     "output_type": "execute_result"
    }
   ],
   "source": [
    "slow_tree.write()"
   ]
  },
  {
   "cell_type": "code",
   "execution_count": 159,
   "id": "b09dc8b3",
   "metadata": {},
   "outputs": [
    {
     "data": {
      "text/plain": [
       "'(((((((((37293:1,9483:2)1:1,(((((9597:1,9598:1)1:1,9606:1)1:1,9601:1)1:1,61853:1)1:1,(((9541:1,9544:1,9545:1)1:1,60711:1,9531:1,9555:1,9568:1)1:1,(61621:1,61622:1)1:2)1:1)1:1)1:1,1868482:1)1:1,(379532:1,30611:1)1:1)1:1,((((885580:1,10181:1)1:1,10141:1,10160:1)1:1,((10116:1,10090:1)1:1,10029:3)1:1,10020:1,43179:2)1:1,9986:1)1:1)1:1,((9823:1,9739:4,30538:2,((9925:1,9940:1)1:1,9913:3)1:2)1:1,((((29073:1,9643:1)1:1,9646:1)1:1,9627:2)1:1,9685:4)1:1,(59463:2,132908:2)1:1,9796:1,9365:1)1:1)1:1,9785:2)1:1,(9305:1,13616:1,38626:2)1:1)1:1,9258:1);'"
      ]
     },
     "execution_count": 159,
     "metadata": {},
     "output_type": "execute_result"
    }
   ],
   "source": [
    "ncbi_sub_tree.write()"
   ]
  },
  {
   "cell_type": "code",
   "execution_count": null,
   "id": "c60ddbe1",
   "metadata": {},
   "outputs": [],
   "source": []
  },
  {
   "cell_type": "code",
   "execution_count": 160,
   "id": "e190b41d",
   "metadata": {},
   "outputs": [
    {
     "name": "stdout",
     "output_type": "stream",
     "text": [
      "RF distance is 11 over a total of 75\n",
      "in slow: 42 , in ncbi: 35\n",
      "in both slow and ncbi: 33\n",
      "only in ncbi, not in slow: 2\n",
      "only in slow, not in ncbi: 9\n"
     ]
    }
   ],
   "source": [
    "slow_tree.set_outgroup(\"9258\") \n",
    "\n",
    "\n",
    "out_slow_ncbi = slow_tree.robinson_foulds(ncbi_sub_tree)\n",
    "(rf_slow_ncbi, maxparts_slow_ncbi, common_attrs, partitions_slow_raw, partitions_ncbi_raw, discard_t1, discard_t2)=out_slow_ncbi \n",
    "partitions_slow = set(parition_editor(partitions_slow_raw, intersection_sets))\n",
    "partitions_ncbi = set(parition_editor(partitions_ncbi_raw, intersection_sets))\n",
    "\n",
    "print(\"RF distance is %s over a total of %s\" %(rf_slow_ncbi, maxparts_slow_ncbi))\n",
    "print(\"in slow:\",len(partitions_slow),\", in ncbi:\",len(partitions_ncbi)) # , \"Common Partitions\",len(common_attrs_paper),)\n",
    "print(\"in both slow and ncbi:\", len(partitions_ncbi & partitions_slow))\n",
    "print(\"only in ncbi, not in slow:\", len(partitions_ncbi-partitions_slow)) # order not sure  http://etetoolkit.org/docs/latest/tutorial/tutorial_trees.html#robinson-foulds-distance\n",
    "print(\"only in slow, not in ncbi:\", len(partitions_slow-partitions_ncbi))\n"
   ]
  },
  {
   "cell_type": "code",
   "execution_count": 161,
   "id": "c6ed1747",
   "metadata": {},
   "outputs": [
    {
     "name": "stdout",
     "output_type": "stream",
     "text": [
      "RF distance is 14 over a total of 70\n",
      "in fast: 37 , in ncbi: 35\n",
      "in both fast and ncbi: 29\n",
      "only in ncbi, not in fast: 6\n",
      "only in fast, not in ncbi: 8\n"
     ]
    }
   ],
   "source": [
    "\n",
    "\n",
    "out_fast_ncbi = fast_tree.robinson_foulds(ncbi_sub_tree)\n",
    "(rf_fast_ncbi, maxparts_fast_ncbi, common_attrs, partitions_fast_raw, partitions_ncbi_raw, discard_t1, discard_t2)=out_fast_ncbi \n",
    "partitions_fast = set(parition_editor(partitions_fast_raw, intersection_sets))\n",
    "partitions_ncbi = set(parition_editor(partitions_ncbi_raw, intersection_sets))\n",
    "\n",
    "print(\"RF distance is %s over a total of %s\" %(rf_fast_ncbi, maxparts_fast_ncbi))\n",
    "print(\"in fast:\",len(partitions_fast),\", in ncbi:\",len(partitions_ncbi)) # , \"Common Partitions\",len(common_attrs_paper),)\n",
    "print(\"in both fast and ncbi:\", len(partitions_ncbi & partitions_fast))\n",
    "print(\"only in ncbi, not in fast:\", len(partitions_ncbi-partitions_fast)) # order not sure  http://etetoolkit.org/docs/latest/tutorial/tutorial_trees.html#robinson-foulds-distance\n",
    "print(\"only in fast, not in ncbi:\", len(partitions_fast-partitions_ncbi))\n",
    "\n",
    "\n"
   ]
  },
  {
   "cell_type": "code",
   "execution_count": null,
   "id": "8b3001a8",
   "metadata": {},
   "outputs": [],
   "source": []
  },
  {
   "cell_type": "code",
   "execution_count": null,
   "id": "8b5562fc",
   "metadata": {},
   "outputs": [],
   "source": []
  },
  {
   "cell_type": "code",
   "execution_count": 29,
   "id": "e62fc310",
   "metadata": {},
   "outputs": [
    {
     "name": "stdout",
     "output_type": "stream",
     "text": [
      "only in fastOMA: 4\n",
      "only in fastOMA & slow: 7\n",
      "only in fastOMA & NCBI: 0\n",
      "only in slow & NCBI: 4\n",
      "only in fastOMA & NCBI & slow: 29\n",
      "only in slow: 2\n",
      "only in NCBI: 2\n"
     ]
    }
   ],
   "source": [
    "print(\"only in fastOMA:\", len((partitions_fast - partitions_ncbi) - partitions_slow))\n",
    "print(\"only in fastOMA & slow:\",len((partitions_fast & partitions_slow) - partitions_ncbi))\n",
    "print(\"only in fastOMA & NCBI:\",len((partitions_fast & partitions_ncbi) - partitions_slow))\n",
    "print(\"only in slow & NCBI:\",len((partitions_slow & partitions_ncbi) -  partitions_fast))\n",
    "print(\"only in fastOMA & NCBI & slow:\",len((partitions_fast & partitions_ncbi) & partitions_slow))\n",
    "print(\"only in slow:\",len((partitions_slow -partitions_fast) - partitions_ncbi))\n",
    "print(\"only in NCBI:\",len((partitions_ncbi - partitions_fast) - partitions_slow))\n"
   ]
  },
  {
   "cell_type": "markdown",
   "id": "864a5a68",
   "metadata": {},
   "source": [
    "## common name"
   ]
  },
  {
   "cell_type": "code",
   "execution_count": null,
   "id": "991291cf",
   "metadata": {},
   "outputs": [],
   "source": [
    "no_list=[]\n",
    "for node in fast_tree.traverse(strategy=\"postorder\"):\n",
    "    if node.is_leaf() :           \n",
    "        if node.name in common_taxonID:\n",
    "            node_name = common_taxonID[node.name]\n",
    "            node.name=node_name + \"_\"+node.name\n",
    "        else:\n",
    "            no_list.append(node.name)\n",
    "        \n",
    "print(no_list)"
   ]
  },
  {
   "cell_type": "code",
   "execution_count": null,
   "id": "3dd54b20",
   "metadata": {},
   "outputs": [],
   "source": [
    "no_list=[]\n",
    "for node in slow_tree.traverse(strategy=\"postorder\"):\n",
    "    if node.is_leaf() :           \n",
    "        if node.name in common_taxonID:\n",
    "            node_name = common_taxonID[node.name]\n",
    "            node.name=node_name + \"_\"+node.name\n",
    "        else:\n",
    "            no_list.append(node.name)\n",
    "        \n",
    "print(no_list)"
   ]
  },
  {
   "cell_type": "code",
   "execution_count": null,
   "id": "11280434",
   "metadata": {},
   "outputs": [],
   "source": [
    "no_list=[]\n",
    "for node in ncbi_sub_tree.traverse(strategy=\"postorder\"):\n",
    "    if node.is_leaf() :           \n",
    "        if node.name in common_taxonID:\n",
    "            node_name = common_taxonID[node.name]\n",
    "            node.name=node_name + \"_\"+node.name\n",
    "        else:\n",
    "            no_list.append(node.name)\n",
    "        \n",
    "print(no_list)"
   ]
  },
  {
   "cell_type": "code",
   "execution_count": null,
   "id": "3063839a",
   "metadata": {},
   "outputs": [],
   "source": [
    "ncbi_sub_tree.write()"
   ]
  },
  {
   "cell_type": "code",
   "execution_count": null,
   "id": "491c8e43",
   "metadata": {},
   "outputs": [],
   "source": [
    "fast_tree.write()"
   ]
  },
  {
   "cell_type": "code",
   "execution_count": null,
   "id": "4acf9d4f",
   "metadata": {},
   "outputs": [],
   "source": [
    "slow_tree.write()"
   ]
  },
  {
   "cell_type": "code",
   "execution_count": 135,
   "id": "9085759b",
   "metadata": {},
   "outputs": [],
   "source": [
    "fast_tree_column=fast_tree"
   ]
  },
  {
   "cell_type": "code",
   "execution_count": 165,
   "id": "4c13b38b",
   "metadata": {},
   "outputs": [
    {
     "name": "stdout",
     "output_type": "stream",
     "text": [
      "RF distance is 11 over a total of 75\n",
      "in fast: 37 , in ncbi: 40\n",
      "in both fast and ncbi: 33\n",
      "only in ncbi, not in fast: 7\n",
      "only in fast, not in ncbi: 4\n"
     ]
    }
   ],
   "source": [
    "\n",
    "\n",
    "out_fast_ncbi = fast_tree.robinson_foulds(fast_tree_column)\n",
    "(rf_fast_ncbi, maxparts_fast_ncbi, common_attrs, partitions_fast_raw, partitions_ncbi_raw, discard_t1, discard_t2)=out_fast_ncbi \n",
    "partitions_fast2 = set(parition_editor(partitions_fast_raw, intersection_sets))\n",
    "partitions_ncbi2 = set(parition_editor(partitions_ncbi_raw, intersection_sets))\n",
    "\n",
    "print(\"RF distance is %s over a total of %s\" %(rf_fast_ncbi, maxparts_fast_ncbi))\n",
    "print(\"in fast:\",len(partitions_fast2),\", in ncbi:\",len(partitions_ncbi2)) # , \"Common Partitions\",len(common_attrs_paper),)\n",
    "print(\"in both fast and ncbi:\", len(partitions_ncbi2 & partitions_fast2))\n",
    "print(\"only in ncbi, not in fast:\", len(partitions_ncbi2-partitions_fast2)) # order not sure  http://etetoolkit.org/docs/latest/tutorial/tutorial_trees.html#robinson-foulds-distance\n",
    "print(\"only in fast, not in ncbi:\", len(partitions_fast2-partitions_ncbi2))\n",
    "\n",
    "\n"
   ]
  },
  {
   "cell_type": "code",
   "execution_count": 163,
   "id": "601a64d3",
   "metadata": {},
   "outputs": [
    {
     "data": {
      "text/plain": [
       "'(9258:0.365317,(((9305:0.191273,38626:0.154523)100:0.0414404,13616:0.236146)100:0.339808,((((((10020:0.336606,((10116:0.124241,10090:0.0634782)100:0.0686967,10029:0.264948)100:0.157961)100:0.0349106,((10181:0.196736,885580:0.214702)100:0.0797236,(10141:0.201194,10160:0.177856)100:0.0300928)100:0.148493,43179:0.214548)100:0.0400459,9986:0.51432)100:0.0242575,((((61853:0.132469,9597:0.0458389,9606:0.0110071,9601:0.092031,(60711:0.0297213,(9544:0.0535278,9541:0.0637958)100:0.0350517,9568:0.0541511,(9555:0.0398768,9531:0.0173492)100:0.0104805,9545:0.0269368,(61621:0.0432399,61622:0.0329304)100:0.0597879)100:0.0370803,9598:0.0170219)100:0.039766,(9483:0.107978,37293:0.0918721)100:0.0569786)100:0.115987,1868482:0.263974)100:0.022731,(379532:0.157923,30611:0.19776)100:0.0444909)100:0.0322722)100:0.0455135,(((9627:0.189379,((9643:0.0775759,29073:0.177738)99:0.021176,9646:0.128381)100:0.113529)100:0.0345644,9685:0.247897)100:0.106647,9365:0.423021,((((9739:0.226609,((9925:0.0315861,9940:0.153568)100:0.0328982,9913:0.164721)98:0.146235)100:0.0359829,9823:0.245949)100:0.0256152,30538:0.236222)100:0.0785052,9796:0.243721)100:0.0379957,(132908:0.250455,59463:0.313607)100:0.0418338)100:0.0588293)100:0.0345462,9785:0.281301)100:0.367266)1:0.365317);'"
      ]
     },
     "execution_count": 163,
     "metadata": {},
     "output_type": "execute_result"
    }
   ],
   "source": [
    "fast_tree.write()"
   ]
  },
  {
   "cell_type": "code",
   "execution_count": 164,
   "id": "06c70b3a",
   "metadata": {},
   "outputs": [
    {
     "data": {
      "text/plain": [
       "'(9258:0.119426,(((9305:0.0514398,38626:0.041506)100:0.0133573,13616:0.0591581)100:0.0860501,((((((9601:0.016081,(((60711:0.00908008,9555:0.0102064,(9544:0.0129243,(9531:0.00901525,9568:0.00520202)100:0.00135302)100:0.00432962,9541:0.00667588)100:0.00324997,9545:0.00889862)100:0.00457618,(61621:0.013254,61622:0.00590356)100:0.00788714)100:0.0100684,(9606:0.00189283,9597:0.00818895,9598:0.00427517,61853:0.0298152)100:0.0013515)100:0.00911884,(37293:0.0183635,9483:0.0225373)100:0.0140363)100:0.0218746,1868482:0.055102,(379532:0.034169,30611:0.0566109)100:0.0119312)100:0.00641987,((((((10116:0.0320554,10090:0.0269705)100:0.0222184,10029:0.0567332)100:0.0524704,10020:0.0794034)100:0.00819968,((10181:0.0349635,885580:0.0351472)100:0.0158348,(10141:0.0477276,10160:0.0477597)100:0.0115739)100:0.0354548)99:0.00406299,43179:0.055955)100:0.00765098,9986:0.0910795)100:0.00438938)100:0.00860874,(9365:0.122184,((((((9925:0.00660053,9940:0.0192299)100:0.0104258,9913:0.028215)100:0.037151,9739:0.0493417)100:0.00616671,9823:0.0530639)100:0.00334643,30538:0.0485534)100:0.0161591,((9627:0.0347434,((29073:0.0125513,9643:0.0121257)100:0.0118851,9646:0.020391)100:0.0178207)100:0.00517933,9685:0.0407396)100:0.0169378,9796:0.0540603,(132908:0.0615053,59463:0.0786989)100:0.0142169)100:0.00575623)100:0.00660776)100:0.00885842,9785:0.0772238)100:0.102107)1:0.119426);'"
      ]
     },
     "execution_count": 164,
     "metadata": {},
     "output_type": "execute_result"
    }
   ],
   "source": [
    "fast_tree_column.write()"
   ]
  },
  {
   "cell_type": "markdown",
   "id": "0979ea63",
   "metadata": {},
   "source": [
    "### three way comparison"
   ]
  },
  {
   "cell_type": "code",
   "execution_count": null,
   "id": "34a1e18a",
   "metadata": {},
   "outputs": [],
   "source": [
    "# # fast_tree= ete3.Tree(fast_treee_address_out, format=1)\n",
    "# # fast_tree.prune(intersect_leaves, preserve_branch_length=True)\n",
    "\n",
    "# # fast_tree.set_outgroup(outgroup) # CALPUG MOUS  BUCCAP CHLMAC\n",
    "\n",
    "# out_paper_ncbi = bird_paper_tree.robinson_foulds(ncbi_sub_tree) # , expand_polytomies = True  #,polytomy_size_limit=20  ,unrooted_trees=True # , expand_polytomies = True\n",
    "# (rf_paper_ncbi, maxparts_paper_ncbi, common_attrs, partitions_paper_raw, partitions_ncbi_raw, discard_t1, discard_t2)=out_paper_ncbi \n",
    "# partitions_paper = set(parition_editor(partitions_paper_raw, intersect_leaves))\n",
    "# partitions_ncbi = set(parition_editor(partitions_ncbi_raw, intersect_leaves))\n",
    "\n",
    "# out_fast_ncbi = fast_tree.robinson_foulds(ncbi_sub_tree)  # ,unrooted_trees=True # , expand_polytomies = True\n",
    "# (rf_fast_ncbi, maxparts_fast_ncbi, common_attrs, partitions_fast_raw, partitions_ncbi_raw2, discard_t1, discard_t2)=out_fast_ncbi \n",
    "# partitions_fast = set(parition_editor(partitions_fast_raw, intersect_leaves))\n",
    "# partitions_ncbi2 = set(parition_editor(partitions_ncbi_raw2, intersect_leaves))\n",
    "# assert len(partitions_ncbi2-partitions_ncbi)==0\n",
    "# out_fast_paper = fast_tree.robinson_foulds(bird_paper_tree)  # ,unrooted_trees=True # , expand_polytomies = True\n",
    "# (rf_fast_paper, maxparts_fast_paper, common_attrs, partitions_fast_raw2, partitions_paper_raw2, discard_t1, discard_t2)=out_fast_paper\n",
    "# partitions_paper2 = set(parition_editor(partitions_paper_raw2, intersect_leaves))\n",
    "# partitions_fast2 = set(parition_editor(partitions_fast_raw2, intersect_leaves))\n",
    "# assert len(partitions_fast2-partitions_fast)==0\n",
    "# assert len(partitions_paper2-partitions_paper)==0\n",
    "\n",
    "\n",
    "# values_comparison=[len((partitions_fast - partitions_ncbi) - partitions_paper),\n",
    "#                    len((partitions_fast & partitions_paper) - partitions_ncbi2),\n",
    "#                    len((partitions_fast & partitions_ncbi) - partitions_paper),\n",
    "#                    len((partitions_paper & partitions_ncbi) -  partitions_fast),\n",
    "#                    len((partitions_fast & partitions_ncbi) &  partitions_paper),\n",
    "#                    len((partitions_paper - partitions_fast) - partitions_ncbi),\n",
    "#                    len((partitions_ncbi - partitions_fast) - partitions_paper) ]\n",
    "# print(values_comparison)"
   ]
  },
  {
   "cell_type": "code",
   "execution_count": null,
   "id": "22acacda",
   "metadata": {},
   "outputs": [],
   "source": []
  },
  {
   "cell_type": "code",
   "execution_count": null,
   "id": "212f7294",
   "metadata": {},
   "outputs": [],
   "source": []
  },
  {
   "cell_type": "code",
   "execution_count": null,
   "id": "be9a5501",
   "metadata": {},
   "outputs": [],
   "source": []
  },
  {
   "cell_type": "code",
   "execution_count": null,
   "id": "ee05b4cc",
   "metadata": {},
   "outputs": [],
   "source": []
  },
  {
   "cell_type": "code",
   "execution_count": null,
   "id": "bcdeed8f",
   "metadata": {},
   "outputs": [],
   "source": []
  },
  {
   "cell_type": "code",
   "execution_count": null,
   "id": "0031c1bb",
   "metadata": {},
   "outputs": [],
   "source": []
  },
  {
   "cell_type": "markdown",
   "id": "2892670a",
   "metadata": {},
   "source": [
    "# ****"
   ]
  },
  {
   "cell_type": "markdown",
   "id": "9f2cfb34",
   "metadata": {},
   "source": [
    "# others"
   ]
  },
  {
   "cell_type": "markdown",
   "id": "7e9f6a25",
   "metadata": {},
   "source": [
    "### plot different collapsing  support value\n"
   ]
  },
  {
   "cell_type": "code",
   "execution_count": null,
   "id": "e648346c",
   "metadata": {},
   "outputs": [],
   "source": [
    "\n",
    "# tresh=60 \n",
    "# project_folder_root=\"/work/FAC/FBM/DBC/cdessim2/default/smajidi1/fastoma/v3b/\"\n",
    "# tresh_list=[60,80,90,95,100]\n",
    "# tresh_list_name=[\"_collapsed_\"+str(i) for i in tresh_list] \n",
    "# tresh_list_name=[\"\"]+tresh_list_name\n",
    "\n",
    "# values_comparison_all=[]\n",
    "# for tresh in tresh_list_name:\n",
    "#     fast_tree_address=project_folder_root+\"iqtree5/_100_msa_concatanated.txt_copy1.contree\"+tresh\n",
    "\n",
    "#     fast_tree= ete3.Tree(fast_tree_address)\n",
    "#     #print(\"len fast tree\",len(fast_tree))\n",
    "\n",
    "\n",
    "#     fast_tree.prune(intersect_leaves)\n",
    "#     #print(\"len fast tree after prune\",len(fast_tree))\n",
    "\n",
    "#     fast_tree.set_outgroup(outgroup) # CALPUG MOUS  BUCCAP  CHLMAC\n",
    "\n",
    "#     out_paper_ncbi = bird_paper_tree.robinson_foulds(ncbi_sub_tree) # , expand_polytomies = True  #,polytomy_size_limit=20  ,unrooted_trees=True # , expand_polytomies = True\n",
    "#     (rf_paper_ncbi, maxparts_paper_ncbi, common_attrs, partitions_paper_raw, partitions_ncbi_raw, discard_t1, discard_t2)=out_paper_ncbi \n",
    "#     partitions_paper = set(parition_editor(partitions_paper_raw, intersect_leaves))\n",
    "#     partitions_ncbi = set(parition_editor(partitions_ncbi_raw, intersect_leaves))\n",
    "\n",
    "#     out_fast_ncbi = fast_tree.robinson_foulds(ncbi_sub_tree)  # ,unrooted_trees=True # , expand_polytomies = True\n",
    "#     (rf_fast_ncbi, maxparts_fast_ncbi, common_attrs, partitions_fast_raw, partitions_ncbi_raw2, discard_t1, discard_t2)=out_fast_ncbi \n",
    "#     partitions_fast = set(parition_editor(partitions_fast_raw, intersect_leaves))\n",
    "#     partitions_ncbi2 = set(parition_editor(partitions_ncbi_raw2, intersect_leaves))\n",
    "#     assert len(partitions_ncbi2-partitions_ncbi)==0\n",
    "#     out_fast_paper = fast_tree.robinson_foulds(bird_paper_tree)  # ,unrooted_trees=True # , expand_polytomies = True\n",
    "#     (rf_fast_paper, maxparts_fast_paper, common_attrs, partitions_fast_raw2, partitions_paper_raw2, discard_t1, discard_t2)=out_fast_paper\n",
    "#     partitions_paper2 = set(parition_editor(partitions_paper_raw2, intersect_leaves))\n",
    "#     partitions_fast2 = set(parition_editor(partitions_fast_raw2, intersect_leaves))\n",
    "#     assert len(partitions_fast2-partitions_fast)==0\n",
    "#     assert len(partitions_paper2-partitions_paper)==0\n",
    "\n",
    "\n",
    "#     values_comparison=[len((partitions_fast - partitions_ncbi) - partitions_paper),\n",
    "#                        len((partitions_fast & partitions_paper) - partitions_ncbi2),\n",
    "#                        len((partitions_fast & partitions_ncbi) - partitions_paper),\n",
    "#                        len((partitions_paper & partitions_ncbi) -  partitions_fast),\n",
    "#                        len((partitions_fast & partitions_ncbi) &  partitions_paper),\n",
    "#                        len((partitions_paper - partitions_fast) - partitions_ncbi),\n",
    "#                        len((partitions_ncbi - partitions_fast) - partitions_paper) ]\n",
    "#     #sum1=values_comparison[0]+values_comparison[4]+values_comparison[5]+values_comparison[6]\n",
    "#     print(values_comparison) # ,sum1\n",
    "#     values_comparison_all.append(values_comparison)\n",
    "# values_comparison_all=np.array(values_comparison_all)\n",
    "# #print(values_comparison_all)\n",
    "\n",
    "# #t_all=np.transpose(values_comparison_all)\n",
    "# lenged1=['fastOMA','fastOMA & paper',  'fastOMA & NCBI',\n",
    "#   'paper & NCBI', 'fastOMA & NCBI & paper',  'paper', 'NCBI']\n",
    "\n",
    "# import pandas as pd\n",
    "# df = pd.DataFrame(data=values_comparison_all)\n",
    "# df.columns=lenged1   #ind = [0,60,80,90,95,100] # ,\"BirdPaper\"\n",
    "# df.index=[\"no\"]+tresh_list\n",
    "# df"
   ]
  },
  {
   "cell_type": "markdown",
   "id": "d6612c1f",
   "metadata": {},
   "source": [
    "### plot different collapsing branch length"
   ]
  },
  {
   "cell_type": "code",
   "execution_count": null,
   "id": "4d403c86",
   "metadata": {},
   "outputs": [],
   "source": [
    "\n",
    "# #tresh=60 \n",
    "# project_folder_root=\"/work/FAC/FBM/DBC/cdessim2/default/smajidi1/fastoma/v3b/\"\n",
    "# tresh_list=[1e-05,0.0001,0.001,0.005,0.01,0.1]\n",
    "# tresh_list_name=[\"_collapsed_brnch_\"+str(i) for i in tresh_list] \n",
    "# tresh_list_name=[\"\"]+tresh_list_name\n",
    "\n",
    "# values_comparison_all=[]\n",
    "# for tresh in tresh_list_name:\n",
    "#     fast_tree_address=project_folder_root+\"iqtree5/_100_msa_concatanated.txt_copy1.contree\"+tresh\n",
    "\n",
    "#     fast_tree= ete3.Tree(fast_tree_address)\n",
    "#     #print(\"len fast tree\",len(fast_tree))\n",
    "\n",
    "\n",
    "#     fast_tree.prune(intersect_leaves)\n",
    "#     #print(\"len fast tree after prune\",len(fast_tree))\n",
    "\n",
    "#     fast_tree.set_outgroup(outgroup) # CALPUG MOUS  BUCCAP\n",
    "\n",
    "#     out_paper_ncbi = bird_paper_tree.robinson_foulds(ncbi_sub_tree) # , expand_polytomies = True  #,polytomy_size_limit=20  ,unrooted_trees=True # , expand_polytomies = True\n",
    "#     (rf_paper_ncbi, maxparts_paper_ncbi, common_attrs, partitions_paper_raw, partitions_ncbi_raw, discard_t1, discard_t2)=out_paper_ncbi \n",
    "#     partitions_paper = set(parition_editor(partitions_paper_raw, intersect_leaves))\n",
    "#     partitions_ncbi = set(parition_editor(partitions_ncbi_raw, intersect_leaves))\n",
    "\n",
    "#     out_fast_ncbi = fast_tree.robinson_foulds(ncbi_sub_tree)  # ,unrooted_trees=True # , expand_polytomies = True\n",
    "#     (rf_fast_ncbi, maxparts_fast_ncbi, common_attrs, partitions_fast_raw, partitions_ncbi_raw2, discard_t1, discard_t2)=out_fast_ncbi \n",
    "#     partitions_fast = set(parition_editor(partitions_fast_raw, intersect_leaves))\n",
    "#     partitions_ncbi2 = set(parition_editor(partitions_ncbi_raw2, intersect_leaves))\n",
    "#     assert len(partitions_ncbi2-partitions_ncbi)==0\n",
    "#     out_fast_paper = fast_tree.robinson_foulds(bird_paper_tree)  # ,unrooted_trees=True # , expand_polytomies = True\n",
    "#     (rf_fast_paper, maxparts_fast_paper, common_attrs, partitions_fast_raw2, partitions_paper_raw2, discard_t1, discard_t2)=out_fast_paper\n",
    "#     partitions_paper2 = set(parition_editor(partitions_paper_raw2, intersect_leaves))\n",
    "#     partitions_fast2 = set(parition_editor(partitions_fast_raw2, intersect_leaves))\n",
    "#     assert len(partitions_fast2-partitions_fast)==0\n",
    "#     assert len(partitions_paper2-partitions_paper)==0\n",
    "\n",
    "\n",
    "#     values_comparison=[len((partitions_fast - partitions_ncbi) - partitions_paper),\n",
    "#                        len((partitions_fast & partitions_paper) - partitions_ncbi2),\n",
    "#                        len((partitions_fast & partitions_ncbi) - partitions_paper),\n",
    "#                        len((partitions_paper & partitions_ncbi) -  partitions_fast),\n",
    "#                        len((partitions_fast & partitions_ncbi) &  partitions_paper),\n",
    "#                        len((partitions_paper - partitions_fast) - partitions_ncbi),\n",
    "#                        len((partitions_ncbi - partitions_fast) - partitions_paper) ]\n",
    "#     print(values_comparison)\n",
    "#     values_comparison_all.append(values_comparison)\n",
    "# values_comparison_all=np.array(values_comparison_all)\n",
    "# #print(values_comparison_all)\n",
    "\n",
    "# #t_all=np.transpose(values_comparison_all)\n",
    "# lenged1=['fastOMA','fastOMA & paper',  'fastOMA & NCBI',\n",
    "#   'paper & NCBI', 'fastOMA & NCBI & paper',  'paper', 'NCBI']\n",
    "\n",
    "# import pandas as pd\n",
    "# df = pd.DataFrame(data=values_comparison_all)\n",
    "# df.columns=lenged1   #ind = [0,60,80,90,95,100] # ,\"BirdPaper\"\n",
    "# df.index=[\"no\"]+tresh_list\n",
    "# df"
   ]
  }
 ],
 "metadata": {
  "kernelspec": {
   "display_name": "Python 3 (ipykernel)",
   "language": "python",
   "name": "python3"
  },
  "language_info": {
   "codemirror_mode": {
    "name": "ipython",
    "version": 3
   },
   "file_extension": ".py",
   "mimetype": "text/x-python",
   "name": "python",
   "nbconvert_exporter": "python",
   "pygments_lexer": "ipython3",
   "version": "3.8.1"
  }
 },
 "nbformat": 4,
 "nbformat_minor": 5
}
