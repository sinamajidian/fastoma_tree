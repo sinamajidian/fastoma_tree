{
 "cells": [
  {
   "cell_type": "code",
   "execution_count": 2,
   "id": "3c0c563c",
   "metadata": {},
   "outputs": [],
   "source": [
    "#!/usr/bin/python3\n",
    "import numpy as np\n",
    "from sys import argv\n",
    "from datetime import datetime\n",
    "#import concurrent.futures\n",
    "# import ast\n",
    "# import matplotlib\n",
    "# matplotlib.use('Agg')\n",
    "import matplotlib.pyplot as plt\n",
    "import ete3\n",
    "import dendropy\n",
    "from  dendropy import Tree"
   ]
  },
  {
   "cell_type": "markdown",
   "id": "821ffe41",
   "metadata": {},
   "source": [
    "## nature paper tree "
   ]
  },
  {
   "cell_type": "code",
   "execution_count": 54,
   "id": "28c9082e",
   "metadata": {},
   "outputs": [
    {
     "name": "stdout",
     "output_type": "stream",
     "text": [
      "10135\n"
     ]
    },
    {
     "data": {
      "text/plain": [
       "['Rallicula_mayri', 'Myrmoderus_ruficauda', 'Rallicula_leucospila']"
      ]
     },
     "execution_count": 54,
     "metadata": {},
     "output_type": "execute_result"
    }
   ],
   "source": [
    "#bird_paper_tree_address= \"/work/FAC/FBM/DBC/cdessim2/default/smajidi1/fastoma/archive/bird_paper_tree.txt\"\n",
    "\n",
    "bird_paper_tree_address=\"/work/FAC/FBM/DBC/cdessim2/default/smajidi1/fastoma/archive/bird_tree_10135species_Nature_paper_41586_2020_2873_MOESM3_ESM.txt\"\n",
    "\n",
    "bird_paper_tree_raw= ete3.Tree(bird_paper_tree_address, format=1)\n",
    "\n",
    "bird_paper_tree_leaves=[]\n",
    "for node in bird_paper_tree_raw.traverse(strategy=\"postorder\"):\n",
    "    if node.is_leaf() : # why ?\n",
    "        bird_paper_tree_leaves.append(node.name)\n",
    "print(len(bird_paper_tree_leaves))\n",
    "bird_paper_tree_leaves[:3]\n",
    "\n"
   ]
  },
  {
   "cell_type": "code",
   "execution_count": 55,
   "id": "f4cec1f7",
   "metadata": {},
   "outputs": [
    {
     "data": {
      "text/plain": [
       "10135"
      ]
     },
     "execution_count": 55,
     "metadata": {},
     "output_type": "execute_result"
    }
   ],
   "source": [
    "len(bird_paper_tree_leaves)"
   ]
  },
  {
   "cell_type": "code",
   "execution_count": 56,
   "id": "e8d0b666",
   "metadata": {},
   "outputs": [
    {
     "data": {
      "text/plain": [
       "['Rallicula_mayri',\n",
       " 'Myrmoderus_ruficauda',\n",
       " 'Rallicula_leucospila',\n",
       " 'Myrmoderus_loricatus',\n",
       " 'Rallicula_forbesi',\n",
       " 'Pareudiastes_silvestris',\n",
       " 'Myrmoderus_ferrugineus',\n",
       " 'Myrmelastes_schistaceus',\n",
       " 'Pareudiastes_pacificus',\n",
       " 'Myrmelastes_saturatus']"
      ]
     },
     "execution_count": 56,
     "metadata": {},
     "output_type": "execute_result"
    }
   ],
   "source": [
    "bird_paper_tree_leaves[:10]"
   ]
  },
  {
   "cell_type": "code",
   "execution_count": 57,
   "id": "cc747b5b",
   "metadata": {},
   "outputs": [],
   "source": [
    "# support_treshold=95\n",
    "# tree = dendropy.Tree.get_from_path(bird_paper_tree_address,\"newick\") # newick nexus\n",
    "\n",
    "# print(\"length of input tree is: \", len(tree))\n",
    "\n",
    "# for idx, node in enumerate(tree):\n",
    "#     if not node.is_leaf() and node.label and  node.label!='Root':\n",
    "#         support_value = int(node.label)\n",
    "#         print(support_value)\n",
    "#         if support_value <= support_treshold:\n",
    "#             edge= node.edge   #print(edge.head_node.child_nodes())\n",
    "#             edge.collapse()\n",
    "# print(\"length of tree  after collapsing based on support values is: \", len(tree))\n",
    "# tree_address_out = bird_paper_tree_address+\"_collapsed_\"+str(support_treshold)\n",
    "# tree.write_to_path(tree_address_out, \"newick\")\n",
    "\n",
    "# print(\"Output tree is written in \",tree_address_out)\n",
    "\n"
   ]
  },
  {
   "cell_type": "code",
   "execution_count": 58,
   "id": "e7e5913f",
   "metadata": {},
   "outputs": [],
   "source": [
    "datasets_address= \"/work/FAC/FBM/DBC/cdessim2/default/smajidi1/fastoma/archive/\"\n",
    "# oma_database_address = datasets_address + \"OmaServer.h5\"\n",
    "#omaID_address = datasets_address+\"oma-species.txt\"\n",
    "bird6ID_address = datasets_address+\"info.tsv\"\n",
    "scienceFull_under_list=[]\n",
    "bird6ID_file = open(bird6ID_address,'r')\n",
    "#    taxonID_bird6ID={}; bird6ID_taxonID= {}\n",
    "for line in bird6ID_file:\n",
    "    line_strip = line.strip()\n",
    "    if line_strip.startswith('Or'):\n",
    "        pass\n",
    "        line_strip1=line_strip\n",
    "    else:\n",
    "        line_parts=line_strip.split('\\t')\n",
    "#             bird6ID = line_parts[6]\n",
    "#             taxonID = int(line_parts[8])\n",
    "        scienceFull = line_parts[3]    \n",
    "        scienceFull_under_raw = line_parts[3].split()\n",
    "        scienceFull_under = \"_\".join(scienceFull_under_raw)\n",
    "        scienceFull_under_list.append(scienceFull_under)\n",
    "#             taxonID_bird6ID[taxonID] = bird6ID\n",
    "#             bird6ID_taxonID[bird6ID] = taxonID\n",
    "#             scienceFull_bird6ID[scienceFull] = bird6ID\n",
    "#             bird6ID_scienceFull[bird6ID] = scienceFull\n",
    "bird6ID_file.close()\n",
    "\n",
    "    "
   ]
  },
  {
   "cell_type": "code",
   "execution_count": 59,
   "id": "a39c3e3c",
   "metadata": {},
   "outputs": [
    {
     "data": {
      "text/plain": [
       "363"
      ]
     },
     "execution_count": 59,
     "metadata": {},
     "output_type": "execute_result"
    }
   ],
   "source": [
    "len(scienceFull_under_list)"
   ]
  },
  {
   "cell_type": "code",
   "execution_count": 60,
   "id": "1c7e580e",
   "metadata": {},
   "outputs": [
    {
     "ename": "ValueError",
     "evalue": "Node names not found: ['Cercotrichas_coryphaeus', 'Corvus_cornix', 'Eolophus_roseicapillus', 'Nannopterum_auritus', 'Nannopterum_brasilianus', 'Nannopterum_harrisi', 'Urile_pelagicus']",
     "output_type": "error",
     "traceback": [
      "\u001b[0;31m---------------------------------------------------------------------------\u001b[0m",
      "\u001b[0;31mValueError\u001b[0m                                Traceback (most recent call last)",
      "\u001b[0;32m/tmp/ipykernel_263285/3207880800.py\u001b[0m in \u001b[0;36m<module>\u001b[0;34m\u001b[0m\n\u001b[1;32m      2\u001b[0m \u001b[0;34m\u001b[0m\u001b[0m\n\u001b[1;32m      3\u001b[0m \u001b[0;34m\u001b[0m\u001b[0m\n\u001b[0;32m----> 4\u001b[0;31m \u001b[0mbird_paper_tree\u001b[0m\u001b[0;34m.\u001b[0m\u001b[0mprune\u001b[0m\u001b[0;34m(\u001b[0m\u001b[0mscienceFull_under_list\u001b[0m\u001b[0;34m,\u001b[0m\u001b[0mpreserve_branch_length\u001b[0m\u001b[0;34m=\u001b[0m\u001b[0;32mTrue\u001b[0m\u001b[0;34m)\u001b[0m\u001b[0;34m\u001b[0m\u001b[0;34m\u001b[0m\u001b[0m\n\u001b[0m\u001b[1;32m      5\u001b[0m \u001b[0;34m\u001b[0m\u001b[0m\n\u001b[1;32m      6\u001b[0m \u001b[0mbird_paper_tree\u001b[0m\u001b[0;34m\u001b[0m\u001b[0;34m\u001b[0m\u001b[0m\n",
      "\u001b[0;32m/work/FAC/FBM/DBC/cdessim2/default/smajidi1/software/miniconda3/lib/python3.8/site-packages/ete3/coretype/tree.py\u001b[0m in \u001b[0;36mprune\u001b[0;34m(self, nodes, preserve_branch_length)\u001b[0m\n\u001b[1;32m    529\u001b[0m                 \u001b[0;32mreturn\u001b[0m \u001b[0;36m0\u001b[0m\u001b[0;34m\u001b[0m\u001b[0;34m\u001b[0m\u001b[0m\n\u001b[1;32m    530\u001b[0m \u001b[0;34m\u001b[0m\u001b[0m\n\u001b[0;32m--> 531\u001b[0;31m         \u001b[0mto_keep\u001b[0m \u001b[0;34m=\u001b[0m \u001b[0mset\u001b[0m\u001b[0;34m(\u001b[0m\u001b[0m_translate_nodes\u001b[0m\u001b[0;34m(\u001b[0m\u001b[0mself\u001b[0m\u001b[0;34m,\u001b[0m \u001b[0;34m*\u001b[0m\u001b[0mnodes\u001b[0m\u001b[0;34m)\u001b[0m\u001b[0;34m)\u001b[0m\u001b[0;34m\u001b[0m\u001b[0;34m\u001b[0m\u001b[0m\n\u001b[0m\u001b[1;32m    532\u001b[0m         \u001b[0mstart\u001b[0m\u001b[0;34m,\u001b[0m \u001b[0mnode2path\u001b[0m \u001b[0;34m=\u001b[0m \u001b[0mself\u001b[0m\u001b[0;34m.\u001b[0m\u001b[0mget_common_ancestor\u001b[0m\u001b[0;34m(\u001b[0m\u001b[0mto_keep\u001b[0m\u001b[0;34m,\u001b[0m \u001b[0mget_path\u001b[0m\u001b[0;34m=\u001b[0m\u001b[0;32mTrue\u001b[0m\u001b[0;34m)\u001b[0m\u001b[0;34m\u001b[0m\u001b[0;34m\u001b[0m\u001b[0m\n\u001b[1;32m    533\u001b[0m         \u001b[0mto_keep\u001b[0m\u001b[0;34m.\u001b[0m\u001b[0madd\u001b[0m\u001b[0;34m(\u001b[0m\u001b[0mself\u001b[0m\u001b[0;34m)\u001b[0m\u001b[0;34m\u001b[0m\u001b[0;34m\u001b[0m\u001b[0m\n",
      "\u001b[0;32m/work/FAC/FBM/DBC/cdessim2/default/smajidi1/software/miniconda3/lib/python3.8/site-packages/ete3/coretype/tree.py\u001b[0m in \u001b[0;36m_translate_nodes\u001b[0;34m(root, *nodes)\u001b[0m\n\u001b[1;32m   2599\u001b[0m     \u001b[0;32mif\u001b[0m \u001b[0;32mNone\u001b[0m \u001b[0;32min\u001b[0m \u001b[0mlist\u001b[0m\u001b[0;34m(\u001b[0m\u001b[0mname2node\u001b[0m\u001b[0;34m.\u001b[0m\u001b[0mvalues\u001b[0m\u001b[0;34m(\u001b[0m\u001b[0;34m)\u001b[0m\u001b[0;34m)\u001b[0m\u001b[0;34m:\u001b[0m\u001b[0;34m\u001b[0m\u001b[0;34m\u001b[0m\u001b[0m\n\u001b[1;32m   2600\u001b[0m         \u001b[0mnotfound\u001b[0m \u001b[0;34m=\u001b[0m \u001b[0;34m[\u001b[0m\u001b[0mkey\u001b[0m \u001b[0;32mfor\u001b[0m \u001b[0mkey\u001b[0m\u001b[0;34m,\u001b[0m \u001b[0mvalue\u001b[0m \u001b[0;32min\u001b[0m \u001b[0msix\u001b[0m\u001b[0;34m.\u001b[0m\u001b[0miteritems\u001b[0m\u001b[0;34m(\u001b[0m\u001b[0mname2node\u001b[0m\u001b[0;34m)\u001b[0m \u001b[0;32mif\u001b[0m \u001b[0mvalue\u001b[0m \u001b[0;32mis\u001b[0m \u001b[0;32mNone\u001b[0m\u001b[0;34m]\u001b[0m\u001b[0;34m\u001b[0m\u001b[0;34m\u001b[0m\u001b[0m\n\u001b[0;32m-> 2601\u001b[0;31m         \u001b[0;32mraise\u001b[0m \u001b[0mValueError\u001b[0m\u001b[0;34m(\u001b[0m\u001b[0;34m\"Node names not found: \"\u001b[0m\u001b[0;34m+\u001b[0m\u001b[0mstr\u001b[0m\u001b[0;34m(\u001b[0m\u001b[0mnotfound\u001b[0m\u001b[0;34m)\u001b[0m\u001b[0;34m)\u001b[0m\u001b[0;34m\u001b[0m\u001b[0;34m\u001b[0m\u001b[0m\n\u001b[0m\u001b[1;32m   2602\u001b[0m \u001b[0;34m\u001b[0m\u001b[0m\n\u001b[1;32m   2603\u001b[0m     \u001b[0mvalid_nodes\u001b[0m \u001b[0;34m=\u001b[0m \u001b[0;34m[\u001b[0m\u001b[0;34m]\u001b[0m\u001b[0;34m\u001b[0m\u001b[0;34m\u001b[0m\u001b[0m\n",
      "\u001b[0;31mValueError\u001b[0m: Node names not found: ['Cercotrichas_coryphaeus', 'Corvus_cornix', 'Eolophus_roseicapillus', 'Nannopterum_auritus', 'Nannopterum_brasilianus', 'Nannopterum_harrisi', 'Urile_pelagicus']"
     ]
    }
   ],
   "source": [
    "bird_paper_tree= bird_paper_tree_raw\n",
    "\n",
    "\n",
    "bird_paper_tree.prune(scienceFull_under_list,preserve_branch_length=True)\n",
    "\n",
    "bird_paper_tree "
   ]
  },
  {
   "cell_type": "code",
   "execution_count": 39,
   "id": "44dea1c9",
   "metadata": {},
   "outputs": [
    {
     "data": {
      "text/plain": [
       "['Cercotrichas_coryphaeus',\n",
       " 'Corvus_cornix',\n",
       " 'Eolophus_roseicapillus',\n",
       " 'Nannopterum_auritus',\n",
       " 'Nannopterum_brasilianus',\n",
       " 'Nannopterum_harrisi',\n",
       " 'Urile_pelagicus']"
      ]
     },
     "execution_count": 39,
     "metadata": {},
     "output_type": "execute_result"
    }
   ],
   "source": [
    "not_list=[]\n",
    "for i in  scienceFull_under_list:\n",
    "    if i not in bird_paper_tree_leaves:\n",
    "        not_list.append(i)\n",
    "        \n",
    "\n",
    "not_list"
   ]
  },
  {
   "cell_type": "code",
   "execution_count": 38,
   "id": "702f3a7e",
   "metadata": {},
   "outputs": [
    {
     "name": "stdout",
     "output_type": "stream",
     "text": [
      "\n",
      "\n",
      " *** Cercotrichas_coryphaeus\n",
      "Cercotrichas_paena\n",
      "Cercotrichas_leucophrys\n",
      "Cercotrichas_hartlaubi\n",
      "Cercotrichas_galactotes\n",
      "Cercotrichas_podobe\n",
      "Cercotrichas_quadrivirgata\n",
      "Cercotrichas_barbata\n",
      "Cercotrichas_leucosticta\n",
      "Cercotrichas_coryphoeus\n",
      "Cercotrichas_signata\n",
      "\n",
      "\n",
      " *** Corvus_cornix\n",
      "Corvus_philippinus\n",
      "Corvus_compilator\n",
      "Corvus_nasicus\n",
      "Corvus_jamaicensis\n",
      "Corvus_leucognaphalus\n",
      "Corvus_macrorhynchos\n",
      "Corvus_kubaryi\n",
      "Corvus_splendens\n",
      "Corvus_meeki\n",
      "Corvus_woodfordi\n",
      "Corvus_moneduloides\n",
      "Corvus_validus\n",
      "Corvus_fuscicapillus\n",
      "Corvus_tristis\n",
      "Corvus_insularis\n",
      "Corvus_bennetti\n",
      "Corvus_orru\n",
      "Corvus_mellori\n",
      "Corvus_tasmanicus\n",
      "Corvus_coronoides\n",
      "Corvus_violaceus\n",
      "Corvus_unicolor\n",
      "Corvus_typicus\n",
      "Corvus_enca\n",
      "Corvus_florensis\n",
      "Corvus_caurinus\n",
      "Corvus_brachyrhynchos\n",
      "Corvus_corone\n",
      "Corvus_corax\n",
      "Corvus_rhipidurus\n",
      "Corvus_cryptoleucus\n",
      "Corvus_edithae\n",
      "Corvus_albus\n",
      "Corvus_ruficollis\n",
      "Corvus_albicollis\n",
      "Corvus_crassirostris\n",
      "Corvus_frugilegus\n",
      "Corvus_hawaiiensis\n",
      "Corvus_capensis\n",
      "Corvus_minutus\n",
      "Corvus_palmarum\n",
      "Corvus_ossifragus\n",
      "Corvus_imparatus\n",
      "Corvus_sinaloae\n",
      "Corvus_pectoralis\n",
      "Corvus_dauuricus\n",
      "Corvus_monedula\n",
      "\n",
      "\n",
      " *** Eolophus_roseicapillus\n",
      "Eolophus_roseicapilla\n",
      "\n",
      "\n",
      " *** Nannopterum_auritus\n",
      "\n",
      "\n",
      " *** Nannopterum_brasilianus\n",
      "\n",
      "\n",
      " *** Nannopterum_harrisi\n",
      "\n",
      "\n",
      " *** Urile_pelagicus\n"
     ]
    }
   ],
   "source": [
    "for i in not_list:\n",
    "    print(\"\\n\\n ***\",i)\n",
    "    i_parts= i.split(\"_\")\n",
    "    for j in bird_paper_tree_leaves:\n",
    "        if i_parts[0] in j:\n",
    "            print(j)"
   ]
  },
  {
   "cell_type": "code",
   "execution_count": 47,
   "id": "0049f346",
   "metadata": {},
   "outputs": [
    {
     "name": "stdout",
     "output_type": "stream",
     "text": [
      "Zosterops_mauritianus\n",
      "Conopophaga_aurita\n",
      "Podiceps_auritus\n",
      "Phalacrocorax_auritus\n",
      "Zenaida_aurita\n",
      "Heliothryx_auritus\n",
      "Batrachostomus_auritus\n",
      "Crossoptilon_auritum\n",
      "Nettapus_auritus\n"
     ]
    }
   ],
   "source": [
    "x=\"aurit\"\n",
    "for j in bird_paper_tree_leaves:\n",
    "    if x in j:\n",
    "        print(j)"
   ]
  },
  {
   "cell_type": "code",
   "execution_count": 62,
   "id": "519a054d",
   "metadata": {},
   "outputs": [
    {
     "data": {
      "text/plain": [
       "True"
      ]
     },
     "execution_count": 62,
     "metadata": {},
     "output_type": "execute_result"
    }
   ],
   "source": [
    "\"Eolophus_roseicapilla\" in bird_paper_tree_leaves"
   ]
  },
  {
   "cell_type": "code",
   "execution_count": null,
   "id": "0fcad3df",
   "metadata": {},
   "outputs": [],
   "source": []
  },
  {
   "cell_type": "code",
   "execution_count": null,
   "id": "e591161f",
   "metadata": {},
   "outputs": [],
   "source": []
  },
  {
   "cell_type": "code",
   "execution_count": 63,
   "id": "7d7eaa13",
   "metadata": {},
   "outputs": [
    {
     "data": {
      "text/plain": [
       "'(((((((((((((Elachura_formosa:1,(((Sinosuthora_webbiana:1,((((((((((((((Polioptila_caerulea:5,Thryothorus_ludovicianus:7)1:1,(Certhia_familiaris:2,Certhia_brachydactyla:2)1:2)1:1,(Tichodroma_muraria:1,Sitta_europaea:9)1:1)1:1,(((((((Oenanthe_oenanthe:7,Saxicola_maurus:8)1:5,Ficedula_albicollis:10)1:2,Erithacus_rubecula:3)1:2,(Cercotrichas_coryphoeus:3,Copsychus_sechellarum:2)1:2)1:1,Catharus_fuscescens:12)1:1,((((Leucopsar_rothschildi:6,Sturnus_vulgaris:2)1:2,Rhabdornis_inornatus:3)1:1,Toxostoma_redivivum:6)1:1,Buphagus_erythrorhynchus:2)1:1)1:1,Cinclus_mexicanus:2)1:1)1:1,((Phainopepla_nitens:3,Bombycilla_garrulus:3)1:1,Chlorodrepanis_virens:2)1:2)1:1,(((Leptocoma_aspasia:4,Dicaeum_eximium:13)1:1,((((((Lonchura_striata:8,Taeniopygia_guttata:4)1:2,(Vidua_macroura:3,Vidua_chalybeata:6)1:2)1:1,Ploceus_nigricollis:5)1:1,(((((((((Geospiza_fortis:16,Sporophila_hypoxantha:10)1:5,Nesospiza_acunhae:8)1:3,((Cardinalis_cardinalis:5,Passerina_amoena:8)1:1,Pheucticus_melanocephalus:3)1:2)1:1,(Rhodinocichla_rosea:1,Calcarius_ornatus:5)1:1)1:1,((((Melospiza_melodia:7,(Zonotrichia_albicollis:4,Junco_hyemalis:3)1:2)1:2,Spizella_passerina:3)1:2,Emberiza_fucata:6)1:1,((Setophaga_coronata:7,Setophaga_kirtlandii:2)1:10,((Quiscalus_mexicanus:9,Molothrus_ater:5)1:1,Agelaius_phoeniceus:5)1:6)1:2)1:1)1:1,(((Loxia_curvirostra:3,Loxia_leucoptera:2)1:2,Serinus_canaria:5)1:5,Hemignathus_wilsoni:5)1:4)1:1,Motacilla_alba:7)1:1,(Hypocryptadius_cinnamomeus:1,Passer_domesticus:9)1:1)1:1,(Prunella_himalayana:1,Prunella_fulvescens:5)1:1)1:1,Urocynchramus_pylzowi:1)1:1,Peucedramus_taeniatus:1)1:1,((Chloropsis_cyanopogon:1,Chloropsis_hardwickii:1)1:1,Irena_cyanogastra:2)1:1)1:1)1:1,Promerops_cafer:3)1:1)1:1,((((((((((((((Leiothrix_lutea:9,Illadopsis_cleaveri:7)1:1,Pomatorhinus_ruficollis:7)1:1,(Zosterops_hypoxanthus:1,Zosterops_lateralis:12,Sterrhoptilus_dennistouni:3)1:2)1:1,(Sylvia_atricapilla:1,Sylvia_borin:2)1:3)1:1,(Pycnonotus_jocosus:9,Brachypodius_atriceps:3)1:3)1:1,((((Cettia_cetti:6,Erythrocercus_mccallii:2)1:1,(Aegithalos_caudatus:5,Rhadina_sibilatrix:2)1:1)1:1,Hylia_prasina:2)1:1,Phylloscopus_trochilus:7)1:1)1:1,Hirundo_rustica:13)1:1,(Acrocephalus_arundinaceus:7,Hippolais_icterina:3)1:3)1:1,((Locustella_ochotensis:8,Donacobius_atricapilla:2)1:1,Oxylabes_madagascariensis:4)1:1)1:1,(Cisticola_juncidis:6,Horornis_vulcanius:4)1:4)1:1,Sylvietta_virens:5)1:1,Nicator_chloris:2)1:1,Alaudala_cheleensis:2)1:1,((Poecile_atricapillus:5,(Pseudopodoces_humilis:1,Parus_major:3)1:4)1:3,Anthoscopus_minutus:4)1:1)1:2)1:1,((Chaetops_frenatus:2,Picathartes_gymnocephalus:2)1:1,Drymodes_brunneopygia:5)1:1)1:1,Melanocharis_versteri:3)1:1,((Notiomystis_cincta:1,Callaeas_wilsoni:3)1:1,Cnemophilus_loriae:3)1:1)1:1,(((((((((Aphelocoma_coerulescens:7,(Corvus_moneduloides:8,Corvus_brachyrhynchos:3)1:9)1:5,Lanius_ludovicianus:9)1:1,Myiagra_hebetior:8)1:1,(Ifrita_kowaldi:1,(Paradisaea_raggiana:11,Struthidea_cinerea:2)1:2)1:1)1:1,Dicrurus_megarhynchus:8)1:1,((Rhipidura_dahli:6,Edolisoma_coerulescens:3)1:3,Chaetorhynchus_papuensis:2)1:1)1:1,((((Dyaphorophyia_castanea:5,Mystacornis_crossleyi:8)1:1,Dryoscopus_gambensis:7)1:1,Machaerirhynchus_nigripectus:2)1:1,(Rhagologus_leucostigma:1,Gymnorhina_tibicen:5)1:1)1:2)1:1,((((((Erpornis_zantholeuca:1,Vireo_altiloquus:9)1:1,Pteruthius_melanotis:4)1:2,Oreocharis_arfaki:2)1:1,Oriolus_oriolus:11)1:1,(Eulacestoma_nigropectus:1,Daphoenositta_chrysoptera:2)1:1)1:1,(((Falcunculus_frontatus:1,Ptilorrhoa_leucosticta:3)1:1,Aleadryas_rufinucha:3)1:1,Pachycephala_philippinensis:12)1:1)1:1)1:1,Mohoua_ochrocephala:2)1:1)1:1,(Pomatostomus_ruficeps:3,Orthonyx_spaldingii:3)1:1)1:1,((((Origma_solitaria:9,Pardalotus_punctatus:3)1:1,Grantiella_picta:8)1:1,Dasyornis_broadbenti:3)1:1,Malurus_elegans:9)1:1)1:1,(Ptilonorhynchus_violaceus:4,Climacteris_rufus:4)1:1)1:1,(Menura_novaehollandiae:2,Atrichornis_clamosus:2)1:1)1:1,((((((((Furnarius_figulus:11,(Campylorhamphus_procurvoides:5,Xiphorhynchus_elegans:5)1:4)1:1,Sclerurus_mexicanus:4)1:1,Formicarius_rufipectus:3)1:1,Scytalopus_superciliaris:11)1:1,Grallaria_varia:5)1:2,(Rhegmatorhina_hoffmannsi:12,Sakesphorus_luctuosus:8)1:3)1:1,(((((Tyrannus_savana:16,Neopipo_cinnamomea:2)1:1,(Tachuris_rubrigastra:1,Mionectes_macconnelli:7)1:1)1:1,Piprites_chloris:2)1:1,((Lepidothrix_coronata:4,Manacus_manacus:3)1:4,Pachyramphus_minor:9)1:1)1:1,(Oxyruncus_cristatus:1,Onychorhynchus_coronatus:2)1:1,Cephalopterus_ornatus:11)1:1)1:1,(((Calyptomena_viridis:2,Smithornis_capensis:3)1:1,((Serilophus_lunatus:6,Neodrepanis_coruscans:3)1:1,Sapayoa_aenigma:1)1:1)1:1,Pitta_sordida:8)1:1)1:1)1:1,Acanthisitta_chloris:3)1:1,((((Melopsittacus_undulatus:3,Agapornis_roseicollis:7)1:3,Amazona_guildingii:17)1:1,(Probosciger_aterrimus:1,Eolophus_roseicapilla:2)1:3)1:1,Nestor_notabilis:3)1:1)1:1,((Falco_peregrinus:1,Falco_cherrug:4)1:9,Herpetotheres_cachinnans:2)1:1)1:1,(Chunga_burmeisteri:1,Cariama_cristata:1)1:1)1:1,((((Strix_occidentalis:1,Ciccaba_nigrolineata:2)1:10,Glaucidium_brasilianum:12)1:1,Tyto_alba:5)1:1,((((((Buceros_rhinoceros:7,Bucorvus_abyssinicus:2)1:1,(Upupa_epops:1,Rhinopomastus_cyanomelas:3)1:1)1:1,((((Picoides_pubescens:14,Indicator_maculatus:4)1:1,((((Ramphastos_sulfuratus:5,Semnornis_frantzii:2)1:1,Eubucco_bourcierii:4)1:1,Tricholaema_leucomelas:7)1:1,Psilopogon_haemacephalus:13)1:1)1:1,(Bucco_capensis:4,Galbula_dea:3)1:1)1:1,((((Ceyx_cyanopectus:1,(Chloroceryle_aenea:5,Halcyon_senegalensis:7)1:1)1:1,Baryphthengus_martii:3)1:1,Todus_mexicanus:4)1:1,((Eurystomus_gularis:3,Brachypteracias_leptosomus:2)1:1,Merops_nubicus:9)1:1)1:1)1:1)1:1,(Apaloderma_vittatum:2,Trogon_melanurus:9)1:2)1:1,Leptosomus_discolor:1)1:1,(Colius_striatus:2,Urocolius_indicus:2)1:2)1:1)1:1)1:1,(((Pandion_haliaetus:1,(((Aquila_chrysaetos:7,Spizaetus_tyrannus:2)1:3,(Haliaeetus_leucocephalus:1,Haliaeetus_albicilla:1)1:9)1:1,Circaetus_pectoralis:8)1:3)1:1,Sagittarius_serpentarius:1)1:1,Cathartes_aura:4)1:1)1:1,Opisthocomus_hoazin:1)1:1,((((((((Rostratula_benghalensis:1,Nycticryphes_semicollaris:1)1:1,Jacana_jacana:4)1:1,(Pedionomus_torquatus:1,Thinocorus_orbignyianus:3)1:1)1:1,((Calidris_pugnax:4,Arenaria_interpres:2)1:2,Limosa_lapponica:2)1:2)1:1,(((((Chroicocephalus_maculipennis:1,(((Larus_smithsonianus:9,Rissa_tridactyla:2)1:4,Rynchops_niger:2)1:1,Phaetusa_simplex:3)1:2)1:1,((((Uria_lomvia:1,Uria_aalge:1)1:2,Alca_torda:2)1:2,Cepphus_grylle:2)1:3,Stercorarius_parasiticus:3)1:1)1:1,Dromas_ardeola:1)1:1,(Rhinoptilus_africanus:1,Glareola_pratincola:5)1:2)1:1,Turnix_velox:3)1:1)1:1,(((Pluvianellus_socialis:1,Chionis_minor:2)1:1,Burhinus_bistriatus:4)1:1,((Charadrius_alexandrinus:10,Charadrius_vociferus:6)1:1,(Ibidorhyncha_struthersii:2,Himantopus_himantopus:4)1:2)1:2)1:1)1:1,((Podiceps_cristatus:8,Podilymbus_podiceps:2)1:1,Phoenicopterus_ruber:4)1:1)1:1,(((((((((Anhinga_rufa:1,Anhinga_anhinga:2)1:1,Phalacrocorax_carbo:7)1:1,Sula_dactylatra:7)1:1,Fregata_magnificens:4)1:1,((((Balaeniceps_rex:1,Pelecanus_crispus:6)1:1,Scopus_umbretta:1)1:1,(Cochlearius_cochlearius:1,Egretta_garzetta:8)1:2)1:1,(Mesembrinibis_cayennensis:1,Nipponia_nippon:3)1:1)1:1)1:1,Ciconia_maguari:6)1:1,(((Oceanites_oceanicus:2,Fregetta_grallaria:3)1:1,(((Calonectris_borealis:5,Fulmarus_glacialis:6)1:2,Pelecanoides_urinatrix:3)1:1,(Hydrobates_tethys:3,Thalassarche_chlororhynchos:2)1:3)1:1)1:2,(Pygoscelis_adeliae:2,Aptenodytes_forsteri:2)1:2)1:1)1:1,Gavia_stellata:2)1:1,((Rhynochetos_jubatus:1,Eurypyga_helias:1)1:1,Phaethon_lepturus:3)1:1)1:1)1:1)1:1,((Atlantisia_rogersi:1,Heliornis_fulica:4)1:1,(((Grus_americana:4,Balearica_regulorum:2)1:1,Aramus_guarauna:1)1:1,Psophia_crepitans:2)1:1)1:1)1:1,(((((((Ceuthmochares_aereus:1,Piaya_cayana:7)1:1,Cuculus_canorus:14)1:2,(Centropus_unirufus:1,Centropus_bengalensis:10)1:3)1:1,(Crotophaga_sulcirostris:4,Geococcyx_californianus:5)1:1)1:1,((Lophotis_ruficrista:4,Chlamydotis_macqueenii:4)1:1,Ardeotis_kori:6)1:2)1:1,((Corythaeola_cristata:1,Tauraco_erythrolophus:7)1:1,Corythaixoides_concolor:4)1:1)1:1,((Alopecoenas_beccarii:1,(Caloenas_nicobarica:7,(Patagioenas_fasciata:3,Columba_livia:11)1:3)1:1,Columbina_picui:6)1:1,((Pterocles_burchelli:1,(Pterocles_gutturalis:2,Syrrhaptes_paradoxus:2)1:2)1:1,Mesitornis_unicolor:3)1:1)1:1)1:1)1:1,((((((Chaetura_pelagica:8,Hemiprocne_comata:2)1:1,(Calypte_anna:8,Oreotrochilus_melanogaster:11)1:3)1:1,Aegotheles_bennettii:4)1:1,Podargus_strigoides:6)1:1,((Nyctibius_bracteatus:1,Nyctibius_grandis:3)1:1,Steatornis_caripensis:1)1:1)1:1,((Nyctiprogne_leucopyga:4,Chordeiles_acutipennis:5)1:1,Antrostomus_carolinensis:5)1:3)1:1)1:1,(((((((((Tympanuchus_cupido:8,Meleagris_gallopavo:2)1:1,Phasianus_colchicus:7)1:3,Gallus_gallus:8)1:1,Coturnix_japonica:7)1:2,((Callipepla_squamata:3,Colinus_virginianus:2)1:2,Odontophorus_gujanensis:4)1:3)1:1,Numida_meleagris:2)1:1,Penelope_pileata:9)1:1,Alectura_lathami:5)1:1,((Anseranas_semipalmata:1,(((Asarcornis_scutulata:6,(Anas_zonorhyncha:1,Anas_platyrhynchos:5)1:7)1:2,Cairina_moschata:3)1:3,Anser_cygnoid:12)1:2)1:1,Chauna_torquata:3)1:1)1:1)1:1,Panurus_biarmicus:1,Regulus_satrapa:1,Zapornia_atra:2)1:1,((((((Apteryx_rowi:1,Apteryx_australis:1)1:1,(Apteryx_haastii:1,Apteryx_owenii:1)1:1)1:1,(Casuarius_casuarius:2,Dromaius_novaehollandiae:2)1:1)1:1,((((Crypturellus_undulatus:1,Crypturellus_cinnamomeus:2)1:2,Crypturellus_soui:2)1:5,Tinamus_guttatus:3)1:1,((Nothoprocta_ornata:1,(Nothoprocta_perdicaria:2,Nothoprocta_pentlandii:2)1:1)1:4,Eudromia_elegans:3)1:1,(Nothocercus_nigrocapillus:1,Nothocercus_julius:1)1:1)1:1)1:1,(Rhea_pennata:1,Rhea_americana:1)1:1)1:1,Struthio_camelus:2)1:1);'"
      ]
     },
     "execution_count": 63,
     "metadata": {},
     "output_type": "execute_result"
    }
   ],
   "source": [
    "bird_paper_tree= bird_paper_tree_raw\n",
    "scienceFull_under_list_intersection = list(set(scienceFull_under_list)-set(not_list)) +[\"Eolophus_roseicapilla\",\"Cercotrichas_coryphoeus\"]\n",
    "\n",
    "bird_paper_tree.prune(scienceFull_under_list_intersection,preserve_branch_length=True)\n",
    "\n",
    "bird_paper_tree.write(scienceFull_under_list_intersection)\n",
    "\n"
   ]
  },
  {
   "cell_type": "code",
   "execution_count": 64,
   "id": "df3165ce",
   "metadata": {},
   "outputs": [
    {
     "name": "stdout",
     "output_type": "stream",
     "text": [
      "358\n"
     ]
    }
   ],
   "source": [
    "a=0\n",
    "for k in bird_paper_tree:\n",
    "    if k.is_leaf():\n",
    "        a+=1\n",
    "print(a)    \n",
    "    \n",
    "    "
   ]
  },
  {
   "cell_type": "code",
   "execution_count": 50,
   "id": "bc8c6032",
   "metadata": {},
   "outputs": [
    {
     "data": {
      "text/plain": [
       "'(((((((((((((Elachura_formosa:1,(((Sinosuthora_webbiana:1,((((((((((((((Polioptila_caerulea:5,Thryothorus_ludovicianus:7)1:1,(Certhia_familiaris:2,Certhia_brachydactyla:2)1:2)1:1,(Tichodroma_muraria:1,Sitta_europaea:9)1:1)1:1,(((((((Oenanthe_oenanthe:7,Saxicola_maurus:8)1:5,Ficedula_albicollis:10)1:2,Erithacus_rubecula:3)1:2,Copsychus_sechellarum:4)1:1,Catharus_fuscescens:12)1:1,((((Leucopsar_rothschildi:6,Sturnus_vulgaris:2)1:2,Rhabdornis_inornatus:3)1:1,Toxostoma_redivivum:6)1:1,Buphagus_erythrorhynchus:2)1:1)1:1,Cinclus_mexicanus:2)1:1)1:1,((Phainopepla_nitens:3,Bombycilla_garrulus:3)1:1,Chlorodrepanis_virens:2)1:2)1:1,(((Leptocoma_aspasia:4,Dicaeum_eximium:13)1:1,((((((Lonchura_striata:8,Taeniopygia_guttata:4)1:2,(Vidua_macroura:3,Vidua_chalybeata:6)1:2)1:1,Ploceus_nigricollis:5)1:1,(((((((((Geospiza_fortis:16,Sporophila_hypoxantha:10)1:5,Nesospiza_acunhae:8)1:3,((Cardinalis_cardinalis:5,Passerina_amoena:8)1:1,Pheucticus_melanocephalus:3)1:2)1:1,(Rhodinocichla_rosea:1,Calcarius_ornatus:5)1:1)1:1,((((Melospiza_melodia:7,(Zonotrichia_albicollis:4,Junco_hyemalis:3)1:2)1:2,Spizella_passerina:3)1:2,Emberiza_fucata:6)1:1,((Setophaga_coronata:7,Setophaga_kirtlandii:2)1:10,((Quiscalus_mexicanus:9,Molothrus_ater:5)1:1,Agelaius_phoeniceus:5)1:6)1:2)1:1)1:1,(((Loxia_curvirostra:3,Loxia_leucoptera:2)1:2,Serinus_canaria:5)1:5,Hemignathus_wilsoni:5)1:4)1:1,Motacilla_alba:7)1:1,(Hypocryptadius_cinnamomeus:1,Passer_domesticus:9)1:1)1:1,(Prunella_himalayana:1,Prunella_fulvescens:5)1:1)1:1,Urocynchramus_pylzowi:1)1:1,Peucedramus_taeniatus:1)1:1,((Chloropsis_cyanopogon:1,Chloropsis_hardwickii:1)1:1,Irena_cyanogastra:2)1:1)1:1)1:1,Promerops_cafer:3)1:1)1:1,((((((((((((((Leiothrix_lutea:9,Illadopsis_cleaveri:7)1:1,Pomatorhinus_ruficollis:7)1:1,(Zosterops_hypoxanthus:1,Zosterops_lateralis:12,Sterrhoptilus_dennistouni:3)1:2)1:1,(Sylvia_atricapilla:1,Sylvia_borin:2)1:3)1:1,(Pycnonotus_jocosus:9,Brachypodius_atriceps:3)1:3)1:1,((((Cettia_cetti:6,Erythrocercus_mccallii:2)1:1,(Aegithalos_caudatus:5,Rhadina_sibilatrix:2)1:1)1:1,Hylia_prasina:2)1:1,Phylloscopus_trochilus:7)1:1)1:1,Hirundo_rustica:13)1:1,(Acrocephalus_arundinaceus:7,Hippolais_icterina:3)1:3)1:1,((Locustella_ochotensis:8,Donacobius_atricapilla:2)1:1,Oxylabes_madagascariensis:4)1:1)1:1,(Cisticola_juncidis:6,Horornis_vulcanius:4)1:4)1:1,Sylvietta_virens:5)1:1,Nicator_chloris:2)1:1,Alaudala_cheleensis:2)1:1,((Poecile_atricapillus:5,(Pseudopodoces_humilis:1,Parus_major:3)1:4)1:3,Anthoscopus_minutus:4)1:1)1:2)1:1,((Chaetops_frenatus:2,Picathartes_gymnocephalus:2)1:1,Drymodes_brunneopygia:5)1:1)1:1,Melanocharis_versteri:3)1:1,((Notiomystis_cincta:1,Callaeas_wilsoni:3)1:1,Cnemophilus_loriae:3)1:1)1:1,(((((((((Aphelocoma_coerulescens:7,(Corvus_moneduloides:8,Corvus_brachyrhynchos:3)1:9)1:5,Lanius_ludovicianus:9)1:1,Myiagra_hebetior:8)1:1,(Ifrita_kowaldi:1,(Paradisaea_raggiana:11,Struthidea_cinerea:2)1:2)1:1)1:1,Dicrurus_megarhynchus:8)1:1,((Rhipidura_dahli:6,Edolisoma_coerulescens:3)1:3,Chaetorhynchus_papuensis:2)1:1)1:1,((((Dyaphorophyia_castanea:5,Mystacornis_crossleyi:8)1:1,Dryoscopus_gambensis:7)1:1,Machaerirhynchus_nigripectus:2)1:1,(Rhagologus_leucostigma:1,Gymnorhina_tibicen:5)1:1)1:2)1:1,((((((Erpornis_zantholeuca:1,Vireo_altiloquus:9)1:1,Pteruthius_melanotis:4)1:2,Oreocharis_arfaki:2)1:1,Oriolus_oriolus:11)1:1,(Eulacestoma_nigropectus:1,Daphoenositta_chrysoptera:2)1:1)1:1,(((Falcunculus_frontatus:1,Ptilorrhoa_leucosticta:3)1:1,Aleadryas_rufinucha:3)1:1,Pachycephala_philippinensis:12)1:1)1:1)1:1,Mohoua_ochrocephala:2)1:1)1:1,(Pomatostomus_ruficeps:3,Orthonyx_spaldingii:3)1:1)1:1,((((Origma_solitaria:9,Pardalotus_punctatus:3)1:1,Grantiella_picta:8)1:1,Dasyornis_broadbenti:3)1:1,Malurus_elegans:9)1:1)1:1,(Ptilonorhynchus_violaceus:4,Climacteris_rufus:4)1:1)1:1,(Menura_novaehollandiae:2,Atrichornis_clamosus:2)1:1)1:1,((((((((Furnarius_figulus:11,(Campylorhamphus_procurvoides:5,Xiphorhynchus_elegans:5)1:4)1:1,Sclerurus_mexicanus:4)1:1,Formicarius_rufipectus:3)1:1,Scytalopus_superciliaris:11)1:1,Grallaria_varia:5)1:2,(Rhegmatorhina_hoffmannsi:12,Sakesphorus_luctuosus:8)1:3)1:1,(((((Tyrannus_savana:16,Neopipo_cinnamomea:2)1:1,(Tachuris_rubrigastra:1,Mionectes_macconnelli:7)1:1)1:1,Piprites_chloris:2)1:1,((Lepidothrix_coronata:4,Manacus_manacus:3)1:4,Pachyramphus_minor:9)1:1)1:1,(Oxyruncus_cristatus:1,Onychorhynchus_coronatus:2)1:1,Cephalopterus_ornatus:11)1:1)1:1,(((Calyptomena_viridis:2,Smithornis_capensis:3)1:1,((Serilophus_lunatus:6,Neodrepanis_coruscans:3)1:1,Sapayoa_aenigma:1)1:1)1:1,Pitta_sordida:8)1:1)1:1)1:1,Acanthisitta_chloris:3)1:1,((((Melopsittacus_undulatus:3,Agapornis_roseicollis:7)1:3,Amazona_guildingii:17)1:1,Probosciger_aterrimus:4)1:1,Nestor_notabilis:3)1:1)1:1,((Falco_peregrinus:1,Falco_cherrug:4)1:9,Herpetotheres_cachinnans:2)1:1)1:1,(Chunga_burmeisteri:1,Cariama_cristata:1)1:1)1:1,((((Strix_occidentalis:1,Ciccaba_nigrolineata:2)1:10,Glaucidium_brasilianum:12)1:1,Tyto_alba:5)1:1,((((((Buceros_rhinoceros:7,Bucorvus_abyssinicus:2)1:1,(Upupa_epops:1,Rhinopomastus_cyanomelas:3)1:1)1:1,((((Picoides_pubescens:14,Indicator_maculatus:4)1:1,((((Ramphastos_sulfuratus:5,Semnornis_frantzii:2)1:1,Eubucco_bourcierii:4)1:1,Tricholaema_leucomelas:7)1:1,Psilopogon_haemacephalus:13)1:1)1:1,(Bucco_capensis:4,Galbula_dea:3)1:1)1:1,((((Ceyx_cyanopectus:1,(Chloroceryle_aenea:5,Halcyon_senegalensis:7)1:1)1:1,Baryphthengus_martii:3)1:1,Todus_mexicanus:4)1:1,((Eurystomus_gularis:3,Brachypteracias_leptosomus:2)1:1,Merops_nubicus:9)1:1)1:1)1:1)1:1,(Apaloderma_vittatum:2,Trogon_melanurus:9)1:2)1:1,Leptosomus_discolor:1)1:1,(Colius_striatus:2,Urocolius_indicus:2)1:2)1:1)1:1)1:1,(((Pandion_haliaetus:1,(((Aquila_chrysaetos:7,Spizaetus_tyrannus:2)1:3,(Haliaeetus_leucocephalus:1,Haliaeetus_albicilla:1)1:9)1:1,Circaetus_pectoralis:8)1:3)1:1,Sagittarius_serpentarius:1)1:1,Cathartes_aura:4)1:1)1:1,Opisthocomus_hoazin:1)1:1,((((((((Rostratula_benghalensis:1,Nycticryphes_semicollaris:1)1:1,Jacana_jacana:4)1:1,(Pedionomus_torquatus:1,Thinocorus_orbignyianus:3)1:1)1:1,((Calidris_pugnax:4,Arenaria_interpres:2)1:2,Limosa_lapponica:2)1:2)1:1,(((((Chroicocephalus_maculipennis:1,(((Larus_smithsonianus:9,Rissa_tridactyla:2)1:4,Rynchops_niger:2)1:1,Phaetusa_simplex:3)1:2)1:1,((((Uria_lomvia:1,Uria_aalge:1)1:2,Alca_torda:2)1:2,Cepphus_grylle:2)1:3,Stercorarius_parasiticus:3)1:1)1:1,Dromas_ardeola:1)1:1,(Rhinoptilus_africanus:1,Glareola_pratincola:5)1:2)1:1,Turnix_velox:3)1:1)1:1,(((Pluvianellus_socialis:1,Chionis_minor:2)1:1,Burhinus_bistriatus:4)1:1,((Charadrius_alexandrinus:10,Charadrius_vociferus:6)1:1,(Ibidorhyncha_struthersii:2,Himantopus_himantopus:4)1:2)1:2)1:1)1:1,((Podiceps_cristatus:8,Podilymbus_podiceps:2)1:1,Phoenicopterus_ruber:4)1:1)1:1,(((((((((Anhinga_rufa:1,Anhinga_anhinga:2)1:1,Phalacrocorax_carbo:7)1:1,Sula_dactylatra:7)1:1,Fregata_magnificens:4)1:1,((((Balaeniceps_rex:1,Pelecanus_crispus:6)1:1,Scopus_umbretta:1)1:1,(Cochlearius_cochlearius:1,Egretta_garzetta:8)1:2)1:1,(Mesembrinibis_cayennensis:1,Nipponia_nippon:3)1:1)1:1)1:1,Ciconia_maguari:6)1:1,(((Oceanites_oceanicus:2,Fregetta_grallaria:3)1:1,(((Calonectris_borealis:5,Fulmarus_glacialis:6)1:2,Pelecanoides_urinatrix:3)1:1,(Hydrobates_tethys:3,Thalassarche_chlororhynchos:2)1:3)1:1)1:2,(Pygoscelis_adeliae:2,Aptenodytes_forsteri:2)1:2)1:1)1:1,Gavia_stellata:2)1:1,((Rhynochetos_jubatus:1,Eurypyga_helias:1)1:1,Phaethon_lepturus:3)1:1)1:1)1:1)1:1,((Atlantisia_rogersi:1,Heliornis_fulica:4)1:1,(((Grus_americana:4,Balearica_regulorum:2)1:1,Aramus_guarauna:1)1:1,Psophia_crepitans:2)1:1)1:1)1:1,(((((((Ceuthmochares_aereus:1,Piaya_cayana:7)1:1,Cuculus_canorus:14)1:2,(Centropus_unirufus:1,Centropus_bengalensis:10)1:3)1:1,(Crotophaga_sulcirostris:4,Geococcyx_californianus:5)1:1)1:1,((Lophotis_ruficrista:4,Chlamydotis_macqueenii:4)1:1,Ardeotis_kori:6)1:2)1:1,((Corythaeola_cristata:1,Tauraco_erythrolophus:7)1:1,Corythaixoides_concolor:4)1:1)1:1,((Alopecoenas_beccarii:1,(Caloenas_nicobarica:7,(Patagioenas_fasciata:3,Columba_livia:11)1:3)1:1,Columbina_picui:6)1:1,((Pterocles_burchelli:1,(Pterocles_gutturalis:2,Syrrhaptes_paradoxus:2)1:2)1:1,Mesitornis_unicolor:3)1:1)1:1)1:1)1:1,((((((Chaetura_pelagica:8,Hemiprocne_comata:2)1:1,(Calypte_anna:8,Oreotrochilus_melanogaster:11)1:3)1:1,Aegotheles_bennettii:4)1:1,Podargus_strigoides:6)1:1,((Nyctibius_bracteatus:1,Nyctibius_grandis:3)1:1,Steatornis_caripensis:1)1:1)1:1,((Nyctiprogne_leucopyga:4,Chordeiles_acutipennis:5)1:1,Antrostomus_carolinensis:5)1:3)1:1)1:1,(((((((((Tympanuchus_cupido:8,Meleagris_gallopavo:2)1:1,Phasianus_colchicus:7)1:3,Gallus_gallus:8)1:1,Coturnix_japonica:7)1:2,((Callipepla_squamata:3,Colinus_virginianus:2)1:2,Odontophorus_gujanensis:4)1:3)1:1,Numida_meleagris:2)1:1,Penelope_pileata:9)1:1,Alectura_lathami:5)1:1,((Anseranas_semipalmata:1,(((Asarcornis_scutulata:6,(Anas_zonorhyncha:1,Anas_platyrhynchos:5)1:7)1:2,Cairina_moschata:3)1:3,Anser_cygnoid:12)1:2)1:1,Chauna_torquata:3)1:1)1:1)1:1,Panurus_biarmicus:1,Regulus_satrapa:1,Zapornia_atra:2)1:1,((((((Apteryx_rowi:1,Apteryx_australis:1)1:1,(Apteryx_haastii:1,Apteryx_owenii:1)1:1)1:1,(Casuarius_casuarius:2,Dromaius_novaehollandiae:2)1:1)1:1,((((Crypturellus_undulatus:1,Crypturellus_cinnamomeus:2)1:2,Crypturellus_soui:2)1:5,Tinamus_guttatus:3)1:1,((Nothoprocta_ornata:1,(Nothoprocta_perdicaria:2,Nothoprocta_pentlandii:2)1:1)1:4,Eudromia_elegans:3)1:1,(Nothocercus_nigrocapillus:1,Nothocercus_julius:1)1:1)1:1)1:1,(Rhea_pennata:1,Rhea_americana:1)1:1)1:1,Struthio_camelus:2)1:1);'"
      ]
     },
     "execution_count": 50,
     "metadata": {},
     "output_type": "execute_result"
    }
   ],
   "source": [
    "\n",
    "scienceFull_under_list_intersection = list(set(scienceFull_under_list)-set(not_list))# +[\"Eolophus_roseicapilla\",\"Cercotrichas_coryphoeus\"] \n",
    "\n",
    "\n",
    "bird_paper_tree.prune(scienceFull_under_list_intersection,preserve_branch_length=True)\n",
    "\n",
    "bird_paper_tree.write(scienceFull_under_list_intersection)"
   ]
  },
  {
   "cell_type": "code",
   "execution_count": null,
   "id": "205896be",
   "metadata": {},
   "outputs": [],
   "source": []
  }
 ],
 "metadata": {
  "kernelspec": {
   "display_name": "Python 3 (ipykernel)",
   "language": "python",
   "name": "python3"
  },
  "language_info": {
   "codemirror_mode": {
    "name": "ipython",
    "version": 3
   },
   "file_extension": ".py",
   "mimetype": "text/x-python",
   "name": "python",
   "nbconvert_exporter": "python",
   "pygments_lexer": "ipython3",
   "version": "3.8.1"
  }
 },
 "nbformat": 4,
 "nbformat_minor": 5
}
