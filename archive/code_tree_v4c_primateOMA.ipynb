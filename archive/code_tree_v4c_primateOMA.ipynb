{
 "cells": [
  {
   "cell_type": "code",
   "execution_count": null,
   "id": "d0927039",
   "metadata": {},
   "outputs": [],
   "source": []
  },
  {
   "cell_type": "code",
   "execution_count": 1,
   "id": "d1d69b50",
   "metadata": {},
   "outputs": [],
   "source": [
    "#!/usr/bin/python3\n",
    "import os\n",
    "import numpy as np\n",
    "from sys import argv\n",
    "from datetime import datetime\n",
    "# import matplotlib\n",
    "# matplotlib.use('Agg')\n",
    "import matplotlib.pyplot as plt\n",
    "import ete3\n",
    "#import dendropy\n",
    "from dendropy import Tree\n",
    "datasets_address=\"/work/FAC/FBM/DBC/cdessim2/default/smajidi1/fastoma/archive/\"\n",
    "# oma_database_address = datasets_address + \"OmaServer.h5\"\n",
    "omaID_address = datasets_address+\"oma-species.txt\"\n",
    "#bird6ID_address = datasets_address+\"info.tsv\"\n",
    "uniprot_table_address = datasets_address+\"proteomes_taxonomy_Mammalia_40674_refyes.tab\"\n",
    "\n",
    "\n",
    "def read_omaID_file(omaID_address):\n",
    "    \n",
    "    omaID_file = open(omaID_address,'r')\n",
    "\n",
    "    taxonID_omaID={}\n",
    "    omaID_taxonID={}\n",
    "\n",
    "    # omaID_scienceFull={}\n",
    "    # scienceFull_omaID={}\n",
    "    scientific_taxonID={}\n",
    "    taxonID_scientific={}\n",
    "\n",
    "    #  !!! limitation  ignoring strains and isolate\n",
    "    for line in omaID_file:\n",
    "        line_strip = line.strip()\n",
    "        if line_strip.startswith('#'):\n",
    "            pass\n",
    "            #header_lines_list.append(line_strip)\n",
    "        else:\n",
    "            line_parts = line_strip.split('\\t')\n",
    "\n",
    "            omaID = line_parts[0]\n",
    "            taxonID = line_parts[1]\n",
    "            taxonID_omaID[taxonID] = omaID\n",
    "            omaID_taxonID[omaID] = taxonID\n",
    "\n",
    "            scientific = line_parts[2]\n",
    "            taxonID_scientific[taxonID] = scientific\n",
    "            scientific_taxonID[scientific] = taxonID\n",
    "\n",
    "    omaID_file.close()\n",
    "\n",
    "    print(\"-- The map for OMA taxonID of\",len(taxonID_omaID),\"records have read.\") \n",
    "    \n",
    "    return (taxonID_omaID,omaID_taxonID,taxonID_scientific,scientific_taxonID)\n",
    "\n",
    "\n",
    "def read_taxonID_uniprot(uniprot_table_address):\n",
    "\n",
    "    taxonID_scientific = {}\n",
    "    scientific_taxonID = {}\n",
    "    common_taxonID = {}\n",
    "    taxonID_uniprot = {}\n",
    "    taxonID_scientificUnder = {}\n",
    "    scientificUnder_taxonID = {}\n",
    "\n",
    "    uniprot_file = open(uniprot_table_address,'r')\n",
    "    for line in uniprot_file:\n",
    "        line_strip = line.strip()\n",
    "        if line_strip.startswith('Pro'):\n",
    "            pass\n",
    "        else:\n",
    "            line_parts = line_strip.split('\\t')\n",
    "            uniprot = line_parts[0]\n",
    "            taxonID = line_parts[2]\n",
    "\n",
    "            taxonID_uniprot[uniprot] = taxonID\n",
    "            \n",
    "            line_parts_1= line_parts[1].split(\"(\")\n",
    "            if len(line_parts_1) > 1:\n",
    "\n",
    "                scientific = line_parts_1[0]\n",
    "                common = line_parts_1[1].strip()[:-1]\n",
    "            else:\n",
    "                scientific = line_parts_1[0]\n",
    "                common = line_parts_1[0]\n",
    "            \n",
    "            scientific_taxonID[taxonID] = scientific\n",
    "            taxonID_scientific[scientific] = taxonID \n",
    "\n",
    "            common_taxonID[taxonID] = common\n",
    "            \n",
    "            \n",
    "            scientificUnder = '_'.join(scientific.split(\" \")[:2])\n",
    "            taxonID_scientificUnder[scientificUnder] = taxonID\n",
    "            scientificUnder_taxonID[taxonID] = scientificUnder\n",
    "\n",
    "    print(\"-- WARNING, for taxonID_scientificUnder, only the first two parts of species name are used!!! \")\n",
    "    print(\"-- The map for uniprot taxonID of\",len(scientific_taxonID),\"records have read.\") \n",
    "    return (scientific_taxonID, taxonID_scientific, common_taxonID, taxonID_uniprot, taxonID_scientificUnder, scientificUnder_taxonID)\n",
    "\n",
    "\n",
    "def collapse_tree_sup_branch(tree_raw_address, support_treshold, length_threshold ):\n",
    "\n",
    "\n",
    "    tree = dendropy.Tree.get_from_path(tree_raw_address,\"newick\") # newick nexus\n",
    "\n",
    "    print(\"length of input tree is: \", len(tree))\n",
    "\n",
    "    for idx, node in enumerate(tree):\n",
    "        if not node.is_leaf() and node.label:\n",
    "            support_value = int(node.label)\n",
    "            if support_value <= support_treshold:\n",
    "                edge= node.edge   #print(edge.head_node.child_nodes())\n",
    "                edge.collapse()\n",
    "    print(\"length of tree  after collapsing based on support values is: \", len(tree))\n",
    "\n",
    "\n",
    "    for e in tree.postorder_edge_iter():    \n",
    "        if e.length is None or (e.length <= length_threshold) and e.is_internal():\n",
    "            e.collapse()\n",
    "    print(\"length of tree after collapsing based on branch length is: \", len(tree))\n",
    "\n",
    "    tree_address_out = tree_raw_address+\"_collapsed__\"+str(support_treshold)+\"_\"+str(length_threshold)\n",
    "    tree.write_to_path(tree_address_out, \"newick\")\n",
    "    print(\"Output tree is written in \",tree_address_out)\n",
    "    return (tree)\n",
    "\n",
    "# def read_taxonID_uniprot_temp(uniprot_table_address):\n",
    "\n",
    "#     taxonID_scientific = {}\n",
    "#     scientific_taxonID = {}\n",
    "#     common_taxonID = {}\n",
    "#     taxonID_uniprot = {}\n",
    "    \n",
    "#     taxonID_scientificUnder={}\n",
    "        \n",
    "#     uniprot_file = open(uniprot_table_address,'r')\n",
    "#     for line in uniprot_file:\n",
    "#         line_strip = line.strip()\n",
    "#         if line_strip.startswith('Pro'):\n",
    "#             pass\n",
    "#         else:\n",
    "#             line_parts = line_strip.split('\\t')\n",
    "#             uniprot = line_parts[0]\n",
    "#             taxonID = line_parts[2]\n",
    "\n",
    "#             taxonID_uniprot[uniprot]=taxonID\n",
    "            \n",
    "#             line_parts_1= line_parts[1].split(\"(\")\n",
    "#             if len(line_parts_1) > 1:\n",
    "\n",
    "#                 scientific = line_parts_1[0]\n",
    "#                 common = line_parts_1[1].strip()[:-1]\n",
    "#             else:\n",
    "#                 scientific = line_parts_1[0]\n",
    "#                 common = line_parts_1[0]\n",
    "            \n",
    "#             scientific_taxonID[taxonID] = scientific\n",
    "#             taxonID_scientific[scientific] = taxonID \n",
    "\n",
    "#             common_taxonID[taxonID] = common\n",
    "#             scientificUnder='_'.join(scientific.split(\" \")[:2])\n",
    "#             taxonID_scientificUnder[scientificUnder]=taxonID\n",
    "\n",
    "#     print(\"-- The map for uniprot taxonID of\",len(scientific_taxonID),\"records have read.\") \n",
    "#     return (taxonID_scientificUnder)\n"
   ]
  },
  {
   "cell_type": "code",
   "execution_count": 2,
   "id": "9cbc7553",
   "metadata": {},
   "outputs": [
    {
     "name": "stdout",
     "output_type": "stream",
     "text": [
      "-- WARNING, for taxonID_scientificUnder, only the first two parts of species name are used!!! \n",
      "-- The map for uniprot taxonID of 101 records have read.\n",
      "-- The map for OMA taxonID of 2424 records have read.\n"
     ]
    }
   ],
   "source": [
    "#taxonID_scientificUnder = read_taxonID_uniprot_temp(uniprot_table_address)\n",
    "\n",
    "(scientific_taxonID, taxonID_scientific, common_taxonID, taxonID_uniprot, taxonID_scientificUnder, scientificUnder_taxonID) =read_taxonID_uniprot(uniprot_table_address)\n",
    "\n",
    "#(scientific_taxonID,taxonID_scientific,common_taxonID,taxonID_uniprot)=read_taxonID_uniprot(uniprot_table_address)\n",
    "\n",
    "(taxonID_omaID,omaID_taxonID,taxonID_scientific,scientific_taxonID)= read_omaID_file(omaID_address)\n"
   ]
  },
  {
   "cell_type": "code",
   "execution_count": null,
   "id": "f05caa30",
   "metadata": {},
   "outputs": [],
   "source": []
  },
  {
   "cell_type": "markdown",
   "id": "48566838",
   "metadata": {},
   "source": [
    "### Collapsing fast tree  -  support value _ branch length"
   ]
  },
  {
   "cell_type": "code",
   "execution_count": null,
   "id": "a3691613",
   "metadata": {},
   "outputs": [],
   "source": [
    "# import dendropy\n",
    "\n",
    "# fast_tree_address=\"/work/FAC/FBM/DBC/cdessim2/default/smajidi1/fastoma/primate_oma/v27_10/fastoma_core_nosplice/\"\n",
    "\n",
    "# tree_raw_address= fast_tree_address + \"_100_msa_concatanated.txt.contree\"\n",
    "\n",
    "# support_treshold = 94\n",
    "# length_threshold=1e-3 \n",
    "\n",
    "# out_tree = collapse_tree_sup_branch(tree_raw_address, support_treshold,length_threshold )\n"
   ]
  },
  {
   "cell_type": "code",
   "execution_count": null,
   "id": "6717f55e",
   "metadata": {},
   "outputs": [],
   "source": []
  },
  {
   "cell_type": "markdown",
   "id": "58c5d60f",
   "metadata": {},
   "source": [
    "# Reading FastOMA tree - collapsed ,  OMAid name"
   ]
  },
  {
   "cell_type": "code",
   "execution_count": 57,
   "id": "b298bfec",
   "metadata": {},
   "outputs": [
    {
     "name": "stdout",
     "output_type": "stream",
     "text": [
      "/work/FAC/FBM/DBC/cdessim2/default/smajidi1/fastoma/primate_oma/v27_10/fastoma_core_splice/_100_msa_concatanated.txt.contree_collapsed__94_0.001\n",
      "1 kb\n",
      "length of tree is  35\n"
     ]
    }
   ],
   "source": [
    "\n",
    "fast_tree_address = \"/work/FAC/FBM/DBC/cdessim2/default/smajidi1/fastoma/primate_oma/v27_10/fastoma_core_splice/\"\n",
    "fast_tree_address += \"_100_msa_concatanated.txt.contree\"+\"_collapsed__94_0.001\"\n",
    "\n",
    "print(fast_tree_address)\n",
    "print(round(os.path.getsize(fast_tree_address)/1000),\"kb\")\n",
    "\n",
    "fast_tree= ete3.Tree(fast_tree_address) # ,format=0\n",
    "print(\"length of tree is \",len(fast_tree))\n"
   ]
  },
  {
   "cell_type": "code",
   "execution_count": 58,
   "id": "862a3485",
   "metadata": {
    "scrolled": true
   },
   "outputs": [],
   "source": [
    "# fast_tree.write()"
   ]
  },
  {
   "cell_type": "code",
   "execution_count": 59,
   "id": "4af88e1b",
   "metadata": {},
   "outputs": [],
   "source": [
    "# ##oma_standalon backbone species names\n",
    "# import pyoma.browser.db as db\n",
    "# project_folder_root=\"/work/FAC/FBM/DBC/cdessim2/default/smajidi1/fastoma/mammal/old/mml_v4/\"\n",
    "# oma_database_address=project_folder_root+\"omamer_v4_database/oma_path_/OmaServer.h5\"\n",
    "# oma_db = db.Database(oma_database_address);\n",
    "# print(oma_db.tax.as_dict())\n",
    "\n",
    "### use scientific name for  backbone (S001)\n",
    "\n",
    "# #dic_oma={'S0005':'rabbit', 'S0003':'human', 'S0006':'redfox', 'S0004':'opossum', 'S0001':'chicken','S0002':'frog'}\n",
    "# #{'rabbit':'S0005', 'human':'S0003', 'redfox': 'S0006', 'opossum':'S0004', 'chicken':'S0001','frog':'S0002'}\n",
    "\n",
    "# old/mml_v4/\"\n",
    "# dic_oma_db={'Oryctolagus_cuniculus':'S0007', 'Homo_sapiens':'S0003', 'Vulpes_vulpes':'S0008','Monodelphis_domestica':'S0006', 'Gallus_gallus':'S0002', 'Xenopus_tropicalis':'S0009','Latimeria_chalumnae': 'S0004', 'Mola_mola':'S0005', 'Danio_rerio': 'S0001'}\n",
    "# dic_oma_db_=dict((v, k) for k, v in dic_oma_db.items())\n",
    "\n",
    "# for node in fast_tree.traverse(strategy=\"postorder\"):\n",
    "#     if node.is_leaf() :    \n",
    "#         node_name = node.name\n",
    "#         if node_name in dic_oma_db_:            \n",
    "#             node_name_ = dic_oma_db_[node_name]\n",
    "#             node.name = node_name_+\"_back\"            \n",
    "\n",
    "# fast_tree.write()        "
   ]
  },
  {
   "cell_type": "markdown",
   "id": "67e562e2",
   "metadata": {},
   "source": [
    "### convert to taxonID "
   ]
  },
  {
   "cell_type": "code",
   "execution_count": 60,
   "id": "f04bda16",
   "metadata": {},
   "outputs": [
    {
     "name": "stdout",
     "output_type": "stream",
     "text": [
      "number of leaves, species, is: 35 25 10\n"
     ]
    }
   ],
   "source": [
    "\n",
    "list_species_tax_fast=[]\n",
    "list_species_omaID_fast=[]\n",
    "no_list=[]\n",
    "for node in fast_tree.traverse(strategy=\"postorder\"):\n",
    "    if node.is_leaf() :    \n",
    "        node_name = node.name\n",
    "        list_species_omaID_fast.append(node_name)\n",
    "        if node_name in omaID_taxonID:\n",
    "            node_name_tax = omaID_taxonID[node_name]\n",
    "            node.name = node_name_tax            \n",
    "            list_species_tax_fast.append(node_name_tax)\n",
    "        else:\n",
    "            no_list.append(node_name)\n",
    "            \n",
    "print(\"number of leaves, species, is:\",len(list_species_omaID_fast),len(list_species_tax_fast),len(no_list))"
   ]
  },
  {
   "cell_type": "code",
   "execution_count": 61,
   "id": "168a35cf",
   "metadata": {},
   "outputs": [
    {
     "data": {
      "text/plain": [
       "['BOVIN_',\n",
       " 'MOUSE_',\n",
       " 'OTOGA_',\n",
       " 'CARSF_',\n",
       " 'SAIBB_',\n",
       " 'GORGO_',\n",
       " 'PANTR_',\n",
       " 'MACNE_',\n",
       " 'MANLE_',\n",
       " 'COLAP_']"
      ]
     },
     "execution_count": 61,
     "metadata": {},
     "output_type": "execute_result"
    }
   ],
   "source": [
    "no_list"
   ]
  },
  {
   "cell_type": "code",
   "execution_count": 62,
   "id": "75638d0d",
   "metadata": {},
   "outputs": [
    {
     "data": {
      "text/plain": [
       "'(336983:0.00172937,(((((((9913:0.00223615,BOVIN_:0.0137497)100:0.0863897,(10090:0.000391497,MOUSE_:0.00311982)100:0.10428)100:0.0146723,((30611:2.62966e-05,OTOGA_:0.000726701)100:0.0615912,(30608:0.0371289,379532:0.0265011)100:0.013476)100:0.0155775,(1868482:2.7073e-06,CARSF_:2.8823e-06)100:0.0674355)100:0.0248855,(((39432:0.00218759,SAIBB_:0.0070922)100:0.0190844,9483:0.0366017)97:0.00151199,37293:0.0532771)100:0.0142606)100:0.00783661,((((9595:0.0012583,GORGO_:0.0075994)100:0.0274976,((9598:0.00122899,PANTR_:0.00588478)100:0.00781253,9597:0.0230622)100:0.00168806,9606:0.0110641)100:0.00274361,9601:0.015492)100:0.00131714,61853:0.0382361)100:0.00531884)100:0.0116669,((9545:0.0022106,MACNE_:0.00679428)100:0.00742282,9541:0.0163475)96:0.00197187,(9568:0.000396765,MANLE_:0.00501159)100:0.00974183,9531:0.0245506,(60711:0.0107976,9555:0.0131583)96:0.00203856,9544:0.046456)100:0.00319826,(61621:0.013633,61622:0.00265876)100:0.0153811)100:0.0108101,COLAP_:0.0115106);'"
      ]
     },
     "execution_count": 62,
     "metadata": {},
     "output_type": "execute_result"
    }
   ],
   "source": [
    "fast_tree.write()"
   ]
  },
  {
   "cell_type": "code",
   "execution_count": 63,
   "id": "281d7948",
   "metadata": {},
   "outputs": [
    {
     "name": "stdout",
     "output_type": "stream",
     "text": [
      "35\n",
      "25\n"
     ]
    },
    {
     "data": {
      "text/plain": [
       "'(336983:0.00172937,((((((9913:0.0886258,10090:0.104671)100:0.0146723,((30608:0.0371289,379532:0.0265011)100:0.013476,30611:0.0616175)100:0.0155775,1868482:0.0674382)100:0.0248855,((9483:0.0366017,39432:0.021272)97:0.00151199,37293:0.0532771)100:0.0142606)100:0.00783661,((((9597:0.0230622,9598:0.00904152)100:0.00168806,9606:0.0110641,9595:0.0287559)100:0.00274361,9601:0.015492)100:0.00131714,61853:0.0382361)100:0.00531884)100:0.0116669,(9541:0.0163475,9545:0.00963342)96:0.00197187,9531:0.0245506,(60711:0.0107976,9555:0.0131583)96:0.00203856,9544:0.046456,9568:0.0101386)100:0.00319826,(61621:0.013633,61622:0.00265876)100:0.0153811)100:0.0108101);'"
      ]
     },
     "execution_count": 63,
     "metadata": {},
     "output_type": "execute_result"
    }
   ],
   "source": [
    "# keep only leaves of taxon id , remove backbone\n",
    "\n",
    "print(len(fast_tree))\n",
    "fast_tree.prune(list_species_tax_fast, preserve_branch_length=True)\n",
    "print(len(fast_tree))\n",
    "\n",
    "fast_tree.write()"
   ]
  },
  {
   "cell_type": "code",
   "execution_count": 64,
   "id": "03fe54ea",
   "metadata": {},
   "outputs": [],
   "source": [
    "# list_sepcies_mammal = [10020, 10029, 10036, 10090, 10116, 10141, 10160, 10181, 103600, 116960, 118797, 127582, 132908, 13616, 1706337, 185453, 1868482, 191816, 230844, 2715852, 27622, 29073, 29088, 29139, 30522, 30538, 30611, 310752, 32536, 336983, 34884, 37032, 37293, 379532, 38626, 391180, 39432, 40151, 419612, 43179, 43346, 46360, 51298, 56216, 59463, 59472, 59479, 60711, 61621, 61622, 61853, 72004, 77932, 885580, 89673, 9258, 9305, 9365, 9402, 9407, 9483, 9515, 9531, 9541, 9544, 9545, 9555, 9568, 9595, 9597, 9598, 9601, 9606, 9615, 9627, 9643, 9646, 9669, 9678, 9685, 9696, 9708, 9713, 9739, 9749, 9755, 9764, 9770, 9785, 9796, 9823, 9838, 9880, 9886, 9913, 9915, 9925, 9940, 9986, 9995]\n",
    "# #outgroups=[8364, 9031] # frog chicken\n",
    "# list_sepcies_str=[str(i) for i in list_sepcies_mammal]\n",
    "\n",
    "# print(len(fast_tree))\n",
    "# fast_tree.prune(list_sepcies_str, preserve_branch_length=True)\n",
    "# print(len(fast_tree))\n",
    "\n",
    "# fast_tree.set_outgroup(\"9258\") \n",
    "# # frog 8364\n",
    "# # 9258  Ornithorhynchus anatinus (Duckbill platypus)\n"
   ]
  },
  {
   "cell_type": "markdown",
   "id": "1b3f71e9",
   "metadata": {},
   "source": [
    "# Reading  NCBI tree"
   ]
  },
  {
   "cell_type": "code",
   "execution_count": 65,
   "id": "2b5438d2",
   "metadata": {},
   "outputs": [
    {
     "name": "stdout",
     "output_type": "stream",
     "text": [
      "25\n"
     ]
    }
   ],
   "source": [
    " \n",
    "ncbi_taxon_list = list_species_tax_fast\n",
    "\n",
    "\n",
    "ncbi = ete3.NCBITaxa()  # first time download in ~/.etetoolkit/\n",
    "ncbi_sub_tree = ncbi.get_topology(ncbi_taxon_list)\n",
    "\n",
    "print(len(ncbi_sub_tree))"
   ]
  },
  {
   "cell_type": "code",
   "execution_count": 66,
   "id": "bb8b83f3",
   "metadata": {},
   "outputs": [
    {
     "data": {
      "text/plain": [
       "'((((((((((9597:1,9598:1)1:1,9606:1,9595:1)1:1,9601:1)1:1,61853:1)1:1,(((9541:1,9544:1,9545:1)1:1,60711:1,9531:1,9555:1,9568:1)1:1,((61621:1,61622:1)1:1,336983:1)1:1)1:1)1:1,((39432:1,9483:1)1:1,37293:1)1:1)1:1,1868482:1)1:1,((379532:1,30608:1)1:1,30611:1)1:1)1:1,10090:1)1:1,9913:1);'"
      ]
     },
     "execution_count": 66,
     "metadata": {},
     "output_type": "execute_result"
    }
   ],
   "source": [
    "ncbi_sub_tree.write()"
   ]
  },
  {
   "cell_type": "markdown",
   "id": "b86bc637",
   "metadata": {},
   "source": [
    "# RF distance"
   ]
  },
  {
   "cell_type": "code",
   "execution_count": 11,
   "id": "bdbbcbde",
   "metadata": {},
   "outputs": [],
   "source": [
    "def parition_editor(partitions_input,intersect_leaves):\n",
    "    pivot_species= sorted(intersect_leaves)[0]\n",
    "    partitions_ed=[]\n",
    "    for parition in  partitions_input:\n",
    "        #parition=set(parition)\n",
    "        if len(parition)<len(intersect_leaves)/2 and len(parition)>1:  # removing partitions with length of 0/1 \n",
    "            partitions_ed.append(parition)\n",
    "        if len(parition)>len(intersect_leaves)/2 and len(parition)<len(intersect_leaves)-1:\n",
    "            partitions_ed.append(tuple(intersect_leaves-set(parition)))\n",
    "        if len(parition)==len(intersect_leaves)/2 and pivot_species not in parition: # make sure alwyas one half is there\n",
    "            partitions_ed.append(tuple(intersect_leaves-set(parition)))\n",
    "            \n",
    "    # partitions = [e for e in edges if n > len(e) > 1]\n",
    "    # partitions = list(map(lambda p: p if len(p) <= n/2 else all_species -set(p), partitions)      \n",
    "    # if len(p) < n/2 or len(p) == n/2 and pivot_species in p: return p\n",
    "    # else: return all_species - set(p)   \n",
    "    return partitions_ed\n",
    "        \n",
    "        "
   ]
  },
  {
   "cell_type": "code",
   "execution_count": null,
   "id": "3b0c1af5",
   "metadata": {},
   "outputs": [],
   "source": [
    "# #fast_tree.set_outgroup(\"9913\")  # bovin\n",
    "# node=fast_tree.get_common_ancestor(\"9913\",\"10090\")\n",
    "\n",
    "# fast_tree.set_outgroup(\"9913\")  # bovin"
   ]
  },
  {
   "cell_type": "code",
   "execution_count": 67,
   "id": "e6c93aae",
   "metadata": {},
   "outputs": [
    {
     "name": "stdout",
     "output_type": "stream",
     "text": [
      "RF distance is 5 over a total of 35\n",
      "in fast: 16 , in ncbi: 17\n",
      "in both fast and ncbi: 14\n",
      "only in ncbi, not in fast: 3\n",
      "only in fast, not in ncbi: 2\n"
     ]
    }
   ],
   "source": [
    "fast_tree.set_outgroup(\"9913\")  # bovin 9913  # 9258 ornithorhynchus anatinus  Platypus\n",
    "\n",
    "\n",
    "\n",
    "intersection_sets= set(ncbi_taxon_list)\n",
    "\n",
    "out_fast_ncbi = fast_tree.robinson_foulds(ncbi_sub_tree)\n",
    "(rf_fast_ncbi, maxparts_fast_ncbi, common_attrs, partitions_fast_raw, partitions_ncbi_raw, discard_t1, discard_t2)=out_fast_ncbi \n",
    "partitions_fast = set(parition_editor(partitions_fast_raw, intersection_sets))\n",
    "partitions_ncbi = set(parition_editor(partitions_ncbi_raw, intersection_sets))\n",
    "\n",
    "print(\"RF distance is %s over a total of %s\" %(rf_fast_ncbi, maxparts_fast_ncbi))\n",
    "print(\"in fast:\",len(partitions_fast),\", in ncbi:\",len(partitions_ncbi)) # , \"Common Partitions\",len(common_attrs_paper),)\n",
    "print(\"in both fast and ncbi:\", len(partitions_ncbi & partitions_fast))\n",
    "print(\"only in ncbi, not in fast:\", len(partitions_ncbi-partitions_fast)) # order not sure  http://etetoolkit.org/docs/latest/tutorial/tutorial_trees.html#robinson-foulds-distance\n",
    "print(\"only in fast, not in ncbi:\", len(partitions_fast-partitions_ncbi))\n",
    "\n",
    "\n"
   ]
  },
  {
   "cell_type": "markdown",
   "id": "13c1f035",
   "metadata": {},
   "source": [
    "### The following may not needed"
   ]
  },
  {
   "cell_type": "markdown",
   "id": "72c6bb8a",
   "metadata": {},
   "source": [
    "## Trees with common name"
   ]
  },
  {
   "cell_type": "code",
   "execution_count": 68,
   "id": "e96519b4",
   "metadata": {},
   "outputs": [
    {
     "name": "stdout",
     "output_type": "stream",
     "text": [
      "[]\n"
     ]
    }
   ],
   "source": [
    "no_list=[]\n",
    "for node in fast_tree.traverse(strategy=\"postorder\"):\n",
    "    if node.is_leaf() :           \n",
    "        #fast_tree_leaves.append(node.name)\n",
    "        #old_node_name\n",
    "        if node.name in common_taxonID:\n",
    "            node_name = common_taxonID[node.name]\n",
    "            node.name=node_name + \"_\"+node.name\n",
    "        elif node.name=='30608' : node.name=\"Lesser mouse lemur_30608\"\n",
    "        else:\n",
    "            no_list.append(node.name)\n",
    "        \n",
    "print(no_list)"
   ]
  },
  {
   "cell_type": "code",
   "execution_count": null,
   "id": "c86d429b",
   "metadata": {},
   "outputs": [],
   "source": []
  },
  {
   "cell_type": "code",
   "execution_count": 69,
   "id": "df772dd8",
   "metadata": {},
   "outputs": [
    {
     "name": "stdout",
     "output_type": "stream",
     "text": [
      "[]\n"
     ]
    }
   ],
   "source": [
    "no_list=[]\n",
    "for node in ncbi_sub_tree.traverse(strategy=\"postorder\"):\n",
    "    if node.is_leaf() :           \n",
    "        if node.name in common_taxonID:\n",
    "            node_name = common_taxonID[node.name]\n",
    "            node.name=node_name + \"_\"+node.name\n",
    "        elif node.name=='30608' : node.name=\"Lesser mouse lemur_30608\"\n",
    "            # Microcebus murinus 30608\n",
    "        else:\n",
    "            no_list.append(node.name)\n",
    "        \n",
    "print(no_list)"
   ]
  },
  {
   "cell_type": "code",
   "execution_count": 70,
   "id": "eafefadc",
   "metadata": {
    "scrolled": true
   },
   "outputs": [
    {
     "data": {
      "text/plain": [
       "\"((((((((((Pygmy chimpanzee_9597:1,Chimpanzee_9598:1)1:1,Human_9606:1,Western lowland gorilla_9595:1)1:1,Sumatran orangutan_9601:1)1:1,Northern white-cheeked gibbon_61853:1)1:1,(((Crab-eating macaque_9541:1,Rhesus macaque_9544:1,Pig-tailed macaque_9545:1)1:1,Green monkey_60711:1,Sooty mangabey_9531:1,Olive baboon_9555:1,Drill_9568:1)1:1,((Black snub-nosed monkey_61621:1,Golden snub-nosed monkey_61622:1)1:1,Peters' Angolan colobus_336983:1)1:1)1:1)1:1,((Bolivian squirrel monkey_39432:1,White-tufted-ear marmoset_9483:1)1:1,Ma's night monkey_37293:1)1:1)1:1,Philippine tarsier_1868482:1)1:1,((Coquerel's sifaka_379532:1,Lesser mouse lemur_30608:1)1:1,Small-eared galago_30611:1)1:1)1:1,Mouse_10090:1)1:1,Bovine_9913:1);\""
      ]
     },
     "execution_count": 70,
     "metadata": {},
     "output_type": "execute_result"
    }
   ],
   "source": [
    "ncbi_sub_tree.write()"
   ]
  },
  {
   "cell_type": "code",
   "execution_count": 71,
   "id": "5516a35d",
   "metadata": {
    "scrolled": true
   },
   "outputs": [
    {
     "data": {
      "text/plain": [
       "\"(Bovine_9913:0.0443129,(Mouse_10090:0.104671,(((Lesser mouse lemur_30608:0.0371289,Coquerel's sifaka_379532:0.0265011)100:0.013476,Small-eared galago_30611:0.0616175)100:0.0155775,Philippine tarsier_1868482:0.0674382,(((White-tufted-ear marmoset_9483:0.0366017,Bolivian squirrel monkey_39432:0.021272)97:0.00151199,Ma's night monkey_37293:0.0532771)100:0.0142606,(((((Pygmy chimpanzee_9597:0.0230622,Chimpanzee_9598:0.00904152)100:0.00168806,Human_9606:0.0110641,Western lowland gorilla_9595:0.0287559)100:0.00274361,Sumatran orangutan_9601:0.015492)100:0.00131714,Northern white-cheeked gibbon_61853:0.0382361)100:0.00531884,((Crab-eating macaque_9541:0.0163475,Pig-tailed macaque_9545:0.00963342)96:0.00197187,Sooty mangabey_9531:0.0245506,(Green monkey_60711:0.0107976,Olive baboon_9555:0.0131583)96:0.00203856,Rhesus macaque_9544:0.046456,Drill_9568:0.0101386,((Black snub-nosed monkey_61621:0.013633,Golden snub-nosed monkey_61622:0.00265876)100:0.0153811,Peters' Angolan colobus_336983:0.0125394)100:0.00319826)100:0.0116669)100:0.00783661)100:0.0248855)100:0.0146723)1:0.0443129);\""
      ]
     },
     "execution_count": 71,
     "metadata": {},
     "output_type": "execute_result"
    }
   ],
   "source": [
    "fast_tree.write()"
   ]
  },
  {
   "cell_type": "markdown",
   "id": "2dbc2d28",
   "metadata": {},
   "source": [
    "## ncbi with undescore name"
   ]
  },
  {
   "cell_type": "code",
   "execution_count": null,
   "id": "8d54f63b",
   "metadata": {},
   "outputs": [],
   "source": [
    " \n",
    "ncbi_taxon_list = list_species_tax_fast\n",
    "\n",
    "\n",
    "ncbi = ete3.NCBITaxa()  # first time download in ~/.etetoolkit/\n",
    "ncbi_sub_tree = ncbi.get_topology(ncbi_taxon_list)\n",
    "\n",
    "print(len(ncbi_sub_tree))"
   ]
  },
  {
   "cell_type": "code",
   "execution_count": null,
   "id": "3b62ee9d",
   "metadata": {},
   "outputs": [],
   "source": [
    "no_list=[]\n",
    "for node in ncbi_sub_tree.traverse(strategy=\"postorder\"):\n",
    "    if node.is_leaf() :           \n",
    "        if node.name in scientificUnder_taxonID:\n",
    "            node_name = scientificUnder_taxonID[node.name]\n",
    "            node.name=node_name + \"_\"+node.name\n",
    "        elif node.name=='30608' : node.name=\"Microcebus_murinus_30608\" # \"Lesser mouse lemur_30608\"\n",
    "        else:\n",
    "            no_list.append(node.name)\n",
    "        \n",
    "print(no_list)"
   ]
  },
  {
   "cell_type": "code",
   "execution_count": null,
   "id": "ad97da06",
   "metadata": {
    "scrolled": true
   },
   "outputs": [],
   "source": [
    "ncbi_sub_tree.write()"
   ]
  },
  {
   "cell_type": "code",
   "execution_count": null,
   "id": "872e64dd",
   "metadata": {},
   "outputs": [],
   "source": []
  },
  {
   "cell_type": "code",
   "execution_count": null,
   "id": "3d8ce711",
   "metadata": {},
   "outputs": [],
   "source": []
  },
  {
   "cell_type": "markdown",
   "id": "876c7e94",
   "metadata": {},
   "source": [
    "## Standard OMA  -slow, with underscore"
   ]
  },
  {
   "cell_type": "code",
   "execution_count": null,
   "id": "13599e32",
   "metadata": {},
   "outputs": [],
   "source": [
    "# tree_raw_address= \"/work/FAC/FBM/DBC/cdessim2/default/smajidi1/fastoma/primate_oma/standard/\"\n",
    "# tree_raw_address += \"concatanted.fasta.contree\"\n",
    "\n",
    "# support_treshold = 94\n",
    "# length_threshold=1e-3 \n",
    "\n",
    "# out_tree = collapse_tree_sup_branch(tree_raw_address, support_treshold,length_threshold )\n"
   ]
  },
  {
   "cell_type": "code",
   "execution_count": 24,
   "id": "e600757d",
   "metadata": {},
   "outputs": [
    {
     "name": "stdout",
     "output_type": "stream",
     "text": [
      "25\n"
     ]
    }
   ],
   "source": [
    "\n",
    "slow_tree_address=\"/work/FAC/FBM/DBC/cdessim2/default/smajidi1/fastoma/primate_oma/standard/\"\n",
    "slow_tree_address=slow_tree_address+\"concatanted.fasta.contree_collapsed__94_0.001\"\n",
    "\n",
    "slow_tree= ete3.Tree(slow_tree_address) # ,format=0\n",
    "print(len(slow_tree))\n"
   ]
  },
  {
   "cell_type": "code",
   "execution_count": 25,
   "id": "3155edee",
   "metadata": {
    "scrolled": true
   },
   "outputs": [
    {
     "data": {
      "text/plain": [
       "'(Cercocebus_atys:0.00669107,((Chlorocebus_sabaeus:0.00449395,((Colobus_angolensis_palliatus:0.0092681,(Rhinopithecus_bieti:0.00506623,Rhinopithecus_roxellana:0.00289074)100:0.00308848)100:0.00208691,(((Gorilla_gorilla_gorilla:0.0124626,Homo_sapiens:0.00232641,(Pan_paniscus:0.00289673,Pan_troglodytes:0.00269454)100:0.00343484)100:0.00275311,Pongo_abelii:0.0103617,Nomascus_leucogenys:0.0157206)100:0.00374624,(((Aotus_nancymaae:0.0137647,Saimiri_boliviensis_boliviensis:0.0105541)99:0.00117242,Callithrix_jacchus:0.0187279)100:0.0127103,(Carlito_syrichta:0.0536053,(((Microcebus_murinus:0.0231193,Propithecus_coquereli:0.0201631)100:0.0101179,Otolemur_garnettii:0.0478609)100:0.00893513,(Bos_taurus:0.0563131,Mus_musculus:0.0892101)100:0.00807406)100:0.0033399)100:0.0169115)100:0.00580039)100:0.0053156)100:0.00136178)100:0.00102458,Papio_anubis:0.0117063,Macaca_fascicularis:0.00241916,Macaca_nemestrina:0.00454226,Macaca_mulatta:0.0173844)100:0.00123758,Mandrillus_leucophaeus:0.00729859);'"
      ]
     },
     "execution_count": 25,
     "metadata": {},
     "output_type": "execute_result"
    }
   ],
   "source": [
    "slow_tree.write()"
   ]
  },
  {
   "cell_type": "code",
   "execution_count": 26,
   "id": "bf11b0a2",
   "metadata": {},
   "outputs": [],
   "source": [
    "dic_threeparts= {\"Colobus_angolensis_palliatus\":\"Colobus_angolensis\", \"Gorilla_gorilla_gorilla\":\"Gorilla_gorilla\",\n",
    "                \"Saimiri_boliviensis_boliviensis\":\"Saimiri_boliviensis\"}"
   ]
  },
  {
   "cell_type": "markdown",
   "id": "4035b31f",
   "metadata": {},
   "source": [
    "## slow undescore to taxon"
   ]
  },
  {
   "cell_type": "code",
   "execution_count": 28,
   "id": "adfe4e51",
   "metadata": {},
   "outputs": [
    {
     "name": "stdout",
     "output_type": "stream",
     "text": [
      "number of leaves, species, is: 25 25 0\n"
     ]
    }
   ],
   "source": [
    "\n",
    "list_species_tax_slow=[]\n",
    "list_species_omaID_slow=[]\n",
    "no_list_slow=[]\n",
    "for node in slow_tree.traverse(strategy=\"postorder\"):\n",
    "    if node.is_leaf() :    \n",
    "        node_name = node.name\n",
    "        list_species_omaID_slow.append(node_name)\n",
    "        if node_name in taxonID_scientificUnder:\n",
    "            node_name_tax = taxonID_scientificUnder[node_name]\n",
    "            node.name = node_name_tax            \n",
    "            list_species_tax_slow.append(node_name_tax)\n",
    "        elif node_name in dic_threeparts:\n",
    "            node_name2=dic_threeparts[node_name]\n",
    "            node_name_tax = taxonID_scientificUnder[node_name2]\n",
    "            node.name = node_name_tax            \n",
    "            list_species_tax_slow.append(node_name_tax) \n",
    "        elif node.name==\"Microcebus_murinus\" : \n",
    "            node_name_tax = \"30608\"\n",
    "            node.name = node_name_tax            \n",
    "            list_species_tax_slow.append(node_name_tax) \n",
    "            # Microcebus murinus 30608\n",
    "        else:\n",
    "            no_list_slow.append(node_name)\n",
    "            \n",
    "print(\"number of leaves, species, is:\",len(list_species_omaID_slow),len(list_species_tax_slow),len(no_list_slow))\n"
   ]
  },
  {
   "cell_type": "code",
   "execution_count": 29,
   "id": "199d3740",
   "metadata": {
    "scrolled": true
   },
   "outputs": [
    {
     "data": {
      "text/plain": [
       "[]"
      ]
     },
     "execution_count": 29,
     "metadata": {},
     "output_type": "execute_result"
    }
   ],
   "source": [
    "no_list_slow"
   ]
  },
  {
   "cell_type": "code",
   "execution_count": 30,
   "id": "0db53e3f",
   "metadata": {
    "scrolled": true
   },
   "outputs": [
    {
     "data": {
      "text/plain": [
       "'(9531:0.00669107,((60711:0.00449395,((336983:0.0092681,(61621:0.00506623,61622:0.00289074)100:0.00308848)100:0.00208691,(((9595:0.0124626,9606:0.00232641,(9597:0.00289673,9598:0.00269454)100:0.00343484)100:0.00275311,9601:0.0103617,61853:0.0157206)100:0.00374624,(((37293:0.0137647,39432:0.0105541)99:0.00117242,9483:0.0187279)100:0.0127103,(1868482:0.0536053,(((30608:0.0231193,379532:0.0201631)100:0.0101179,30611:0.0478609)100:0.00893513,(9913:0.0563131,10090:0.0892101)100:0.00807406)100:0.0033399)100:0.0169115)100:0.00580039)100:0.0053156)100:0.00136178)100:0.00102458,9555:0.0117063,9541:0.00241916,9545:0.00454226,9544:0.0173844)100:0.00123758,9568:0.00729859);'"
      ]
     },
     "execution_count": 30,
     "metadata": {},
     "output_type": "execute_result"
    }
   ],
   "source": [
    "slow_tree.write()"
   ]
  },
  {
   "cell_type": "code",
   "execution_count": null,
   "id": "bfc80710",
   "metadata": {},
   "outputs": [],
   "source": []
  },
  {
   "cell_type": "markdown",
   "id": "f7799b12",
   "metadata": {},
   "source": [
    "### make sure fast and ncbi trees are with taxonid, otherwise re-run from the begining"
   ]
  },
  {
   "cell_type": "code",
   "execution_count": 44,
   "id": "9339d8ee",
   "metadata": {},
   "outputs": [
    {
     "data": {
      "text/plain": [
       "'(9595:2.4974e-06,((((((((10090:0.216591,9913:0.167672)100:0.0267584,((30608:0.0820969,379532:0.0449706)100:0.0289214,30611:0.117716)100:0.0290836)100:0.0142417,1868482:0.149012)100:0.0541056,((37293:0.037888,9483:0.067527)100:0.00644747,39432:0.0305257)100:0.0361803)100:0.0171856,((((9544:0.0326042,9555:0.0190522)100:0.00813149,60711:0.0249677)100:0.00678587,((9545:0.00449408,9541:0.00491265)100:0.00546981,(9531:0.0145259,9568:0.0176014)100:0.00225342)98:0.00190155)100:0.00748055,((61621:0.0132501,61622:0.00969258)100:0.00947199,336983:0.0178891)100:0.00583219)100:0.020963)100:0.011959,61853:0.0316329)100:0.00294442,9601:0.0317007)100:0.0068013,((9598:2.1611e-06,9597:0.0146491)100:0.00685148,9606:0.00712411)100:0.00429428)100:0.0226656);'"
      ]
     },
     "execution_count": 44,
     "metadata": {},
     "output_type": "execute_result"
    }
   ],
   "source": [
    "fast_tree.write()"
   ]
  },
  {
   "cell_type": "code",
   "execution_count": 48,
   "id": "b1be3d50",
   "metadata": {},
   "outputs": [
    {
     "data": {
      "text/plain": [
       "'((((((((((9597:1,9598:1)1:1,9606:1,9595:1)1:1,9601:1)1:1,61853:1)1:1,(((9541:1,9544:1,9545:1)1:1,60711:1,9531:1,9555:1,9568:1)1:1,((61621:1,61622:1)1:1,336983:1)1:1)1:1)1:1,((39432:1,9483:1)1:1,37293:1)1:1)1:1,1868482:1)1:1,((379532:1,30608:1)1:1,30611:1)1:1)1:1,10090:1)1:1,9913:1);'"
      ]
     },
     "execution_count": 48,
     "metadata": {},
     "output_type": "execute_result"
    }
   ],
   "source": [
    "ncbi_sub_tree.write()"
   ]
  },
  {
   "cell_type": "code",
   "execution_count": 45,
   "id": "b3ef2a5a",
   "metadata": {},
   "outputs": [
    {
     "name": "stdout",
     "output_type": "stream",
     "text": [
      "length of tree is  25 25 25\n"
     ]
    }
   ],
   "source": [
    "\n",
    "\n",
    "intersection_slow_fast=set(list_species_tax_slow) & set(list_species_tax_fast)\n",
    "\n",
    "print(\"length of tree is \",len(fast_tree),len(slow_tree),len(list_species_tax_fast))\n"
   ]
  },
  {
   "cell_type": "code",
   "execution_count": 49,
   "id": "8372fb15",
   "metadata": {},
   "outputs": [
    {
     "name": "stdout",
     "output_type": "stream",
     "text": [
      "25 25 25\n"
     ]
    }
   ],
   "source": [
    "fast_tree.prune(intersection_slow_fast, preserve_branch_length=True)\n",
    "\n",
    "slow_tree.prune(intersection_slow_fast, preserve_branch_length=True)\n",
    "ncbi_sub_tree.prune(intersection_slow_fast, preserve_branch_length=True)\n",
    "\n",
    "print(len(fast_tree),len(slow_tree),len(ncbi_sub_tree))\n"
   ]
  },
  {
   "cell_type": "code",
   "execution_count": null,
   "id": "2a0539a0",
   "metadata": {},
   "outputs": [],
   "source": [
    "fast_tree.write()"
   ]
  },
  {
   "cell_type": "code",
   "execution_count": null,
   "id": "486ad8f5",
   "metadata": {},
   "outputs": [],
   "source": [
    "slow_tree.write()"
   ]
  },
  {
   "cell_type": "code",
   "execution_count": null,
   "id": "b09dc8b3",
   "metadata": {},
   "outputs": [],
   "source": [
    "ncbi_sub_tree.write()"
   ]
  },
  {
   "cell_type": "code",
   "execution_count": null,
   "id": "c60ddbe1",
   "metadata": {},
   "outputs": [],
   "source": []
  },
  {
   "cell_type": "code",
   "execution_count": 50,
   "id": "e190b41d",
   "metadata": {},
   "outputs": [
    {
     "name": "stdout",
     "output_type": "stream",
     "text": [
      "RF distance is 6 over a total of 36\n",
      "in slow: 17 , in ncbi: 17\n",
      "in both slow and ncbi: 14\n",
      "only in ncbi, not in slow: 3\n",
      "only in slow, not in ncbi: 3\n"
     ]
    }
   ],
   "source": [
    "slow_tree.set_outgroup(\"9913\") \n",
    "\n",
    "\n",
    "out_slow_ncbi = slow_tree.robinson_foulds(ncbi_sub_tree)\n",
    "(rf_slow_ncbi, maxparts_slow_ncbi, common_attrs, partitions_slow_raw, partitions_ncbi_raw, discard_t1, discard_t2)=out_slow_ncbi \n",
    "partitions_slow = set(parition_editor(partitions_slow_raw, intersection_sets))\n",
    "partitions_ncbi = set(parition_editor(partitions_ncbi_raw, intersection_sets))\n",
    "\n",
    "print(\"RF distance is %s over a total of %s\" %(rf_slow_ncbi, maxparts_slow_ncbi))\n",
    "print(\"in slow:\",len(partitions_slow),\", in ncbi:\",len(partitions_ncbi)) # , \"Common Partitions\",len(common_attrs_paper),)\n",
    "print(\"in both slow and ncbi:\", len(partitions_ncbi & partitions_slow))\n",
    "print(\"only in ncbi, not in slow:\", len(partitions_ncbi-partitions_slow)) # order not sure  http://etetoolkit.org/docs/latest/tutorial/tutorial_trees.html#robinson-foulds-distance\n",
    "print(\"only in slow, not in ncbi:\", len(partitions_slow-partitions_ncbi))\n"
   ]
  },
  {
   "cell_type": "code",
   "execution_count": 53,
   "id": "c6ed1747",
   "metadata": {},
   "outputs": [
    {
     "name": "stdout",
     "output_type": "stream",
     "text": [
      "RF distance is 9 over a total of 41\n",
      "in fast: 22 , in ncbi: 17\n",
      "in both fast and ncbi: 15\n",
      "only in ncbi, not in fast: 2\n",
      "only in fast, not in ncbi: 7\n"
     ]
    }
   ],
   "source": [
    "fast_tree.set_outgroup(\"9913\") \n",
    "\n",
    "\n",
    "out_fast_ncbi = fast_tree.robinson_foulds(ncbi_sub_tree)\n",
    "(rf_fast_ncbi, maxparts_fast_ncbi, common_attrs, partitions_fast_raw, partitions_ncbi_raw, discard_t1, discard_t2)=out_fast_ncbi \n",
    "partitions_fast = set(parition_editor(partitions_fast_raw, intersection_sets))\n",
    "partitions_ncbi = set(parition_editor(partitions_ncbi_raw, intersection_sets))\n",
    "\n",
    "print(\"RF distance is %s over a total of %s\" %(rf_fast_ncbi, maxparts_fast_ncbi))\n",
    "print(\"in fast:\",len(partitions_fast),\", in ncbi:\",len(partitions_ncbi)) # , \"Common Partitions\",len(common_attrs_paper),)\n",
    "print(\"in both fast and ncbi:\", len(partitions_ncbi & partitions_fast))\n",
    "print(\"only in ncbi, not in fast:\", len(partitions_ncbi-partitions_fast)) # order not sure  http://etetoolkit.org/docs/latest/tutorial/tutorial_trees.html#robinson-foulds-distance\n",
    "print(\"only in fast, not in ncbi:\", len(partitions_fast-partitions_ncbi))\n",
    "\n",
    "\n"
   ]
  },
  {
   "cell_type": "code",
   "execution_count": null,
   "id": "8b5562fc",
   "metadata": {},
   "outputs": [],
   "source": []
  },
  {
   "cell_type": "code",
   "execution_count": 54,
   "id": "e62fc310",
   "metadata": {},
   "outputs": [
    {
     "name": "stdout",
     "output_type": "stream",
     "text": [
      "only in fastOMA: 6\n",
      "only in fastOMA & slow: 1\n",
      "only in fastOMA & NCBI: 1\n",
      "only in slow & NCBI: 0\n",
      "only in fastOMA & NCBI & slow: 14\n",
      "only in slow: 2\n",
      "only in NCBI: 2\n"
     ]
    }
   ],
   "source": [
    "print(\"only in fastOMA:\", len((partitions_fast - partitions_ncbi) - partitions_slow))\n",
    "print(\"only in fastOMA & slow:\",len((partitions_fast & partitions_slow) - partitions_ncbi))\n",
    "print(\"only in fastOMA & NCBI:\",len((partitions_fast & partitions_ncbi) - partitions_slow))\n",
    "print(\"only in slow & NCBI:\",len((partitions_slow & partitions_ncbi) -  partitions_fast))\n",
    "print(\"only in fastOMA & NCBI & slow:\",len((partitions_fast & partitions_ncbi) & partitions_slow))\n",
    "print(\"only in slow:\",len((partitions_slow -partitions_fast) - partitions_ncbi))\n",
    "print(\"only in NCBI:\",len((partitions_ncbi - partitions_fast) - partitions_slow))\n"
   ]
  },
  {
   "cell_type": "markdown",
   "id": "7d8bcb9d",
   "metadata": {},
   "source": [
    "## slow with common name"
   ]
  },
  {
   "cell_type": "code",
   "execution_count": 55,
   "id": "5f0b9465",
   "metadata": {},
   "outputs": [
    {
     "name": "stdout",
     "output_type": "stream",
     "text": [
      "[]\n"
     ]
    }
   ],
   "source": [
    "no_list=[]\n",
    "for node in slow_tree.traverse(strategy=\"postorder\"):\n",
    "    if node.is_leaf() :           \n",
    "        if node.name in common_taxonID:\n",
    "            node_name = common_taxonID[node.name]\n",
    "            node.name=node_name + \"_\"+node.name\n",
    "        elif node.name=='30608' : node.name=\"Lesser mouse lemur_30608\"\n",
    "            # Microcebus murinus 30608\n",
    "        else:\n",
    "            no_list.append(node.name)\n",
    "        \n",
    "print(no_list)"
   ]
  },
  {
   "cell_type": "code",
   "execution_count": 56,
   "id": "f8b57b2c",
   "metadata": {},
   "outputs": [
    {
     "data": {
      "text/plain": [
       "\"(Bovine_9913:0.0281565,(Mouse_10090:0.0892101,(((Lesser mouse lemur_30608:0.0231193,Coquerel's sifaka_379532:0.0201631)100:0.0101179,Small-eared galago_30611:0.0478609)100:0.00893513,(Philippine tarsier_1868482:0.0536053,(((Ma's night monkey_37293:0.0137647,Bolivian squirrel monkey_39432:0.0105541)99:0.00117242,White-tufted-ear marmoset_9483:0.0187279)100:0.0127103,(((Western lowland gorilla_9595:0.0124626,Human_9606:0.00232641,(Pygmy chimpanzee_9597:0.00289673,Chimpanzee_9598:0.00269454)100:0.00343484)100:0.00275311,Sumatran orangutan_9601:0.0103617,Northern white-cheeked gibbon_61853:0.0157206)100:0.00374624,((Peters' Angolan colobus_336983:0.0092681,(Black snub-nosed monkey_61621:0.00506623,Golden snub-nosed monkey_61622:0.00289074)100:0.00308848)100:0.00208691,(Green monkey_60711:0.00449395,(Olive baboon_9555:0.0117063,Crab-eating macaque_9541:0.00241916,Pig-tailed macaque_9545:0.00454226,Rhesus macaque_9544:0.0173844,(Sooty mangabey_9531:0.00669107,Drill_9568:0.00729859)100:0.00123758)100:0.00102458)100:0.00136178)100:0.0053156)100:0.00580039)100:0.0169115)100:0.0033399)100:0.00807406)1:0.0281565);\""
      ]
     },
     "execution_count": 56,
     "metadata": {},
     "output_type": "execute_result"
    }
   ],
   "source": [
    "slow_tree.write()"
   ]
  },
  {
   "cell_type": "code",
   "execution_count": null,
   "id": "76c8468f",
   "metadata": {},
   "outputs": [],
   "source": []
  },
  {
   "cell_type": "markdown",
   "id": "0979ea63",
   "metadata": {},
   "source": [
    "### three way comparison"
   ]
  },
  {
   "cell_type": "code",
   "execution_count": null,
   "id": "34a1e18a",
   "metadata": {},
   "outputs": [],
   "source": [
    "# # fast_tree= ete3.Tree(fast_treee_address_out, format=1)\n",
    "# # fast_tree.prune(intersect_leaves, preserve_branch_length=True)\n",
    "\n",
    "# # fast_tree.set_outgroup(outgroup) # CALPUG MOUS  BUCCAP CHLMAC\n",
    "\n",
    "# out_paper_ncbi = bird_paper_tree.robinson_foulds(ncbi_sub_tree) # , expand_polytomies = True  #,polytomy_size_limit=20  ,unrooted_trees=True # , expand_polytomies = True\n",
    "# (rf_paper_ncbi, maxparts_paper_ncbi, common_attrs, partitions_paper_raw, partitions_ncbi_raw, discard_t1, discard_t2)=out_paper_ncbi \n",
    "# partitions_paper = set(parition_editor(partitions_paper_raw, intersect_leaves))\n",
    "# partitions_ncbi = set(parition_editor(partitions_ncbi_raw, intersect_leaves))\n",
    "\n",
    "# out_fast_ncbi = fast_tree.robinson_foulds(ncbi_sub_tree)  # ,unrooted_trees=True # , expand_polytomies = True\n",
    "# (rf_fast_ncbi, maxparts_fast_ncbi, common_attrs, partitions_fast_raw, partitions_ncbi_raw2, discard_t1, discard_t2)=out_fast_ncbi \n",
    "# partitions_fast = set(parition_editor(partitions_fast_raw, intersect_leaves))\n",
    "# partitions_ncbi2 = set(parition_editor(partitions_ncbi_raw2, intersect_leaves))\n",
    "# assert len(partitions_ncbi2-partitions_ncbi)==0\n",
    "# out_fast_paper = fast_tree.robinson_foulds(bird_paper_tree)  # ,unrooted_trees=True # , expand_polytomies = True\n",
    "# (rf_fast_paper, maxparts_fast_paper, common_attrs, partitions_fast_raw2, partitions_paper_raw2, discard_t1, discard_t2)=out_fast_paper\n",
    "# partitions_paper2 = set(parition_editor(partitions_paper_raw2, intersect_leaves))\n",
    "# partitions_fast2 = set(parition_editor(partitions_fast_raw2, intersect_leaves))\n",
    "# assert len(partitions_fast2-partitions_fast)==0\n",
    "# assert len(partitions_paper2-partitions_paper)==0\n",
    "\n",
    "\n",
    "# values_comparison=[len((partitions_fast - partitions_ncbi) - partitions_paper),\n",
    "#                    len((partitions_fast & partitions_paper) - partitions_ncbi2),\n",
    "#                    len((partitions_fast & partitions_ncbi) - partitions_paper),\n",
    "#                    len((partitions_paper & partitions_ncbi) -  partitions_fast),\n",
    "#                    len((partitions_fast & partitions_ncbi) &  partitions_paper),\n",
    "#                    len((partitions_paper - partitions_fast) - partitions_ncbi),\n",
    "#                    len((partitions_ncbi - partitions_fast) - partitions_paper) ]\n",
    "# print(values_comparison)"
   ]
  },
  {
   "cell_type": "code",
   "execution_count": null,
   "id": "22acacda",
   "metadata": {},
   "outputs": [],
   "source": []
  },
  {
   "cell_type": "code",
   "execution_count": null,
   "id": "212f7294",
   "metadata": {},
   "outputs": [],
   "source": []
  },
  {
   "cell_type": "code",
   "execution_count": null,
   "id": "be9a5501",
   "metadata": {},
   "outputs": [],
   "source": []
  },
  {
   "cell_type": "code",
   "execution_count": null,
   "id": "ee05b4cc",
   "metadata": {},
   "outputs": [],
   "source": []
  },
  {
   "cell_type": "code",
   "execution_count": null,
   "id": "bcdeed8f",
   "metadata": {},
   "outputs": [],
   "source": []
  },
  {
   "cell_type": "code",
   "execution_count": null,
   "id": "0031c1bb",
   "metadata": {},
   "outputs": [],
   "source": []
  },
  {
   "cell_type": "markdown",
   "id": "2892670a",
   "metadata": {},
   "source": [
    "# ****"
   ]
  },
  {
   "cell_type": "markdown",
   "id": "9f2cfb34",
   "metadata": {},
   "source": [
    "# others"
   ]
  },
  {
   "cell_type": "markdown",
   "id": "7e9f6a25",
   "metadata": {},
   "source": [
    "### plot different collapsing  support value\n"
   ]
  },
  {
   "cell_type": "code",
   "execution_count": null,
   "id": "e648346c",
   "metadata": {},
   "outputs": [],
   "source": [
    "\n",
    "# tresh=60 \n",
    "# project_folder_root=\"/work/FAC/FBM/DBC/cdessim2/default/smajidi1/fastoma/v3b/\"\n",
    "# tresh_list=[60,80,90,95,100]\n",
    "# tresh_list_name=[\"_collapsed_\"+str(i) for i in tresh_list] \n",
    "# tresh_list_name=[\"\"]+tresh_list_name\n",
    "\n",
    "# values_comparison_all=[]\n",
    "# for tresh in tresh_list_name:\n",
    "#     fast_tree_address=project_folder_root+\"iqtree5/_100_msa_concatanated.txt_copy1.contree\"+tresh\n",
    "\n",
    "#     fast_tree= ete3.Tree(fast_tree_address)\n",
    "#     #print(\"len fast tree\",len(fast_tree))\n",
    "\n",
    "\n",
    "#     fast_tree.prune(intersect_leaves)\n",
    "#     #print(\"len fast tree after prune\",len(fast_tree))\n",
    "\n",
    "#     fast_tree.set_outgroup(outgroup) # CALPUG MOUS  BUCCAP  CHLMAC\n",
    "\n",
    "#     out_paper_ncbi = bird_paper_tree.robinson_foulds(ncbi_sub_tree) # , expand_polytomies = True  #,polytomy_size_limit=20  ,unrooted_trees=True # , expand_polytomies = True\n",
    "#     (rf_paper_ncbi, maxparts_paper_ncbi, common_attrs, partitions_paper_raw, partitions_ncbi_raw, discard_t1, discard_t2)=out_paper_ncbi \n",
    "#     partitions_paper = set(parition_editor(partitions_paper_raw, intersect_leaves))\n",
    "#     partitions_ncbi = set(parition_editor(partitions_ncbi_raw, intersect_leaves))\n",
    "\n",
    "#     out_fast_ncbi = fast_tree.robinson_foulds(ncbi_sub_tree)  # ,unrooted_trees=True # , expand_polytomies = True\n",
    "#     (rf_fast_ncbi, maxparts_fast_ncbi, common_attrs, partitions_fast_raw, partitions_ncbi_raw2, discard_t1, discard_t2)=out_fast_ncbi \n",
    "#     partitions_fast = set(parition_editor(partitions_fast_raw, intersect_leaves))\n",
    "#     partitions_ncbi2 = set(parition_editor(partitions_ncbi_raw2, intersect_leaves))\n",
    "#     assert len(partitions_ncbi2-partitions_ncbi)==0\n",
    "#     out_fast_paper = fast_tree.robinson_foulds(bird_paper_tree)  # ,unrooted_trees=True # , expand_polytomies = True\n",
    "#     (rf_fast_paper, maxparts_fast_paper, common_attrs, partitions_fast_raw2, partitions_paper_raw2, discard_t1, discard_t2)=out_fast_paper\n",
    "#     partitions_paper2 = set(parition_editor(partitions_paper_raw2, intersect_leaves))\n",
    "#     partitions_fast2 = set(parition_editor(partitions_fast_raw2, intersect_leaves))\n",
    "#     assert len(partitions_fast2-partitions_fast)==0\n",
    "#     assert len(partitions_paper2-partitions_paper)==0\n",
    "\n",
    "\n",
    "#     values_comparison=[len((partitions_fast - partitions_ncbi) - partitions_paper),\n",
    "#                        len((partitions_fast & partitions_paper) - partitions_ncbi2),\n",
    "#                        len((partitions_fast & partitions_ncbi) - partitions_paper),\n",
    "#                        len((partitions_paper & partitions_ncbi) -  partitions_fast),\n",
    "#                        len((partitions_fast & partitions_ncbi) &  partitions_paper),\n",
    "#                        len((partitions_paper - partitions_fast) - partitions_ncbi),\n",
    "#                        len((partitions_ncbi - partitions_fast) - partitions_paper) ]\n",
    "#     #sum1=values_comparison[0]+values_comparison[4]+values_comparison[5]+values_comparison[6]\n",
    "#     print(values_comparison) # ,sum1\n",
    "#     values_comparison_all.append(values_comparison)\n",
    "# values_comparison_all=np.array(values_comparison_all)\n",
    "# #print(values_comparison_all)\n",
    "\n",
    "# #t_all=np.transpose(values_comparison_all)\n",
    "# lenged1=['fastOMA','fastOMA & paper',  'fastOMA & NCBI',\n",
    "#   'paper & NCBI', 'fastOMA & NCBI & paper',  'paper', 'NCBI']\n",
    "\n",
    "# import pandas as pd\n",
    "# df = pd.DataFrame(data=values_comparison_all)\n",
    "# df.columns=lenged1   #ind = [0,60,80,90,95,100] # ,\"BirdPaper\"\n",
    "# df.index=[\"no\"]+tresh_list\n",
    "# df"
   ]
  },
  {
   "cell_type": "markdown",
   "id": "d6612c1f",
   "metadata": {},
   "source": [
    "### plot different collapsing branch length"
   ]
  },
  {
   "cell_type": "code",
   "execution_count": null,
   "id": "4d403c86",
   "metadata": {},
   "outputs": [],
   "source": [
    "\n",
    "# #tresh=60 \n",
    "# project_folder_root=\"/work/FAC/FBM/DBC/cdessim2/default/smajidi1/fastoma/v3b/\"\n",
    "# tresh_list=[1e-05,0.0001,0.001,0.005,0.01,0.1]\n",
    "# tresh_list_name=[\"_collapsed_brnch_\"+str(i) for i in tresh_list] \n",
    "# tresh_list_name=[\"\"]+tresh_list_name\n",
    "\n",
    "# values_comparison_all=[]\n",
    "# for tresh in tresh_list_name:\n",
    "#     fast_tree_address=project_folder_root+\"iqtree5/_100_msa_concatanated.txt_copy1.contree\"+tresh\n",
    "\n",
    "#     fast_tree= ete3.Tree(fast_tree_address)\n",
    "#     #print(\"len fast tree\",len(fast_tree))\n",
    "\n",
    "\n",
    "#     fast_tree.prune(intersect_leaves)\n",
    "#     #print(\"len fast tree after prune\",len(fast_tree))\n",
    "\n",
    "#     fast_tree.set_outgroup(outgroup) # CALPUG MOUS  BUCCAP\n",
    "\n",
    "#     out_paper_ncbi = bird_paper_tree.robinson_foulds(ncbi_sub_tree) # , expand_polytomies = True  #,polytomy_size_limit=20  ,unrooted_trees=True # , expand_polytomies = True\n",
    "#     (rf_paper_ncbi, maxparts_paper_ncbi, common_attrs, partitions_paper_raw, partitions_ncbi_raw, discard_t1, discard_t2)=out_paper_ncbi \n",
    "#     partitions_paper = set(parition_editor(partitions_paper_raw, intersect_leaves))\n",
    "#     partitions_ncbi = set(parition_editor(partitions_ncbi_raw, intersect_leaves))\n",
    "\n",
    "#     out_fast_ncbi = fast_tree.robinson_foulds(ncbi_sub_tree)  # ,unrooted_trees=True # , expand_polytomies = True\n",
    "#     (rf_fast_ncbi, maxparts_fast_ncbi, common_attrs, partitions_fast_raw, partitions_ncbi_raw2, discard_t1, discard_t2)=out_fast_ncbi \n",
    "#     partitions_fast = set(parition_editor(partitions_fast_raw, intersect_leaves))\n",
    "#     partitions_ncbi2 = set(parition_editor(partitions_ncbi_raw2, intersect_leaves))\n",
    "#     assert len(partitions_ncbi2-partitions_ncbi)==0\n",
    "#     out_fast_paper = fast_tree.robinson_foulds(bird_paper_tree)  # ,unrooted_trees=True # , expand_polytomies = True\n",
    "#     (rf_fast_paper, maxparts_fast_paper, common_attrs, partitions_fast_raw2, partitions_paper_raw2, discard_t1, discard_t2)=out_fast_paper\n",
    "#     partitions_paper2 = set(parition_editor(partitions_paper_raw2, intersect_leaves))\n",
    "#     partitions_fast2 = set(parition_editor(partitions_fast_raw2, intersect_leaves))\n",
    "#     assert len(partitions_fast2-partitions_fast)==0\n",
    "#     assert len(partitions_paper2-partitions_paper)==0\n",
    "\n",
    "\n",
    "#     values_comparison=[len((partitions_fast - partitions_ncbi) - partitions_paper),\n",
    "#                        len((partitions_fast & partitions_paper) - partitions_ncbi2),\n",
    "#                        len((partitions_fast & partitions_ncbi) - partitions_paper),\n",
    "#                        len((partitions_paper & partitions_ncbi) -  partitions_fast),\n",
    "#                        len((partitions_fast & partitions_ncbi) &  partitions_paper),\n",
    "#                        len((partitions_paper - partitions_fast) - partitions_ncbi),\n",
    "#                        len((partitions_ncbi - partitions_fast) - partitions_paper) ]\n",
    "#     print(values_comparison)\n",
    "#     values_comparison_all.append(values_comparison)\n",
    "# values_comparison_all=np.array(values_comparison_all)\n",
    "# #print(values_comparison_all)\n",
    "\n",
    "# #t_all=np.transpose(values_comparison_all)\n",
    "# lenged1=['fastOMA','fastOMA & paper',  'fastOMA & NCBI',\n",
    "#   'paper & NCBI', 'fastOMA & NCBI & paper',  'paper', 'NCBI']\n",
    "\n",
    "# import pandas as pd\n",
    "# df = pd.DataFrame(data=values_comparison_all)\n",
    "# df.columns=lenged1   #ind = [0,60,80,90,95,100] # ,\"BirdPaper\"\n",
    "# df.index=[\"no\"]+tresh_list\n",
    "# df"
   ]
  },
  {
   "cell_type": "code",
   "execution_count": null,
   "id": "a4cd041a",
   "metadata": {},
   "outputs": [],
   "source": []
  }
 ],
 "metadata": {
  "kernelspec": {
   "display_name": "Python 3 (ipykernel)",
   "language": "python",
   "name": "python3"
  },
  "language_info": {
   "codemirror_mode": {
    "name": "ipython",
    "version": 3
   },
   "file_extension": ".py",
   "mimetype": "text/x-python",
   "name": "python",
   "nbconvert_exporter": "python",
   "pygments_lexer": "ipython3",
   "version": "3.8.1"
  }
 },
 "nbformat": 4,
 "nbformat_minor": 5
}
