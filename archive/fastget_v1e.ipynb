{
 "cells": [
  {
   "cell_type": "code",
   "execution_count": null,
   "id": "6e1a784d",
   "metadata": {},
   "outputs": [],
   "source": []
  },
  {
   "cell_type": "code",
   "execution_count": 182,
   "id": "fdfefe91",
   "metadata": {},
   "outputs": [],
   "source": [
    "#!/usr/bin/python3\n",
    "\n",
    "# IMPORTNAT  this code accept only .fa file as proteome\n",
    "\n",
    "def parse_oma_db(oma_database_address):\n",
    "    \n",
    "    ############### Parsing OMA db ####################\n",
    "    ###################################################\n",
    "\n",
    "    oma_db = db.Database(oma_database_address)\n",
    "\n",
    "    current_time = datetime.now().strftime(\"%H:%M:%S\")\n",
    "    print(current_time, \"- OMA data is parsed and its release name is:\", oma_db.get_release_name())\n",
    "    list_oma_speices = [z.uniprot_species_code for z in oma_db.tax.genomes.values()] \n",
    "    current_time = datetime.now().strftime(\"%H:%M:%S\")\n",
    "    print(current_time,\"- There are\",len(list_oma_speices),\"species in the OMA database.\")\n",
    "    \n",
    "    return (oma_db, list_oma_speices)\n",
    "\n",
    "\n",
    "def parse_proteome(list_oma_speices):\n",
    "    \n",
    "    ############### Parsing query proteome of species #######\n",
    "    #########################################################\n",
    "\n",
    "    \n",
    "    # IMPORTNAT  this code accept only .fa file as proteome\n",
    "    project_files = listdir(project_folder+\"/omamer_search/proteome/\")\n",
    "\n",
    "    query_species_names = []\n",
    "    for file in project_files:\n",
    "        if file.split(\".\")[-1] == \"fa\":\n",
    "            file_name_split = file.split(\".\")[:-1]\n",
    "            query_species_names.append('.'.join(file_name_split))\n",
    "        if file.split(\".\")[-1] == \"fasta\":\n",
    "            file_name_split = file.split(\".\")[:-1]\n",
    "            query_species_names.append('.'.join(file_name_split))\n",
    "\n",
    "    # we may assert existence of query_species_name+\".fa/hogmap\"\n",
    "    prots_record_allspecies = [ ]\n",
    "    for query_species_name in query_species_names:\n",
    "        prot_address = project_folder +\"omamer_search/proteome/\"+ query_species_name + \".fa\" \n",
    "        \n",
    "        prots_record = list(SeqIO.parse(prot_address, \"fasta\")) \n",
    "        prots_record_allspecies.append(prots_record)\n",
    "\n",
    "    query_species_num = len(query_species_names)    \n",
    "    current_time = datetime.now().strftime(\"%H:%M:%S\")\n",
    "    print(current_time,\"- The are\",str(query_species_num),\"species in the proteome folder.\")\n",
    "\n",
    "    # for development\n",
    "    for species_i in range(query_species_num):\n",
    "        len_prot_record_i = len( prots_record_allspecies[species_i] )\n",
    "        species_name_i = query_species_names[species_i]\n",
    "        #print(species_name_i,len_prot_record_i)\n",
    "        if species_name_i in list_oma_speices: \n",
    "            current_time = datetime.now().strftime(\"%H:%M:%S\")\n",
    "            print(current_time,\"- the species\",species_name_i,\" already exists in the oma database, remove them first\")\n",
    "            exit()\n",
    "\n",
    "      \n",
    "    # The proteins are parsed using  Bio.SeqIO.parse\n",
    "    # the first part of the header line before space \n",
    "    # >tr|A0A2I3FYY2|A0A2I3FYY2_NOMLE Uncharacterized protein OS=Nomascus leucogenys OX=61853 GN=CLPTM1L PE=3 SV=1\n",
    "    # will be \">tr|A0A2I3FYY2|A0A2I3FYY2_NOMLE\"\n",
    "    # [i.id for i in prots_record_allspecies[0] if len(i.id)!=30 and len(i.id)!=22 ] #'sp|O47892|CYB_NOMLE',\n",
    "    \n",
    "\n",
    "    \n",
    "    return (query_species_names, prots_record_allspecies)\n",
    "\n",
    "\n",
    "def parse_hogmap_omamer(query_species_names):\n",
    "\n",
    "    ################### Parsing omamer's output  ########\n",
    "    #####################################################\n",
    "    \n",
    "    prots_hogmap_name_allspecies = []\n",
    "    prots_hogmap_hogid_allspecies = []\n",
    "    prots_hogmap_subfscore_allspecies = []\n",
    "    prots_hogmap_seqlen_allspecies = []\n",
    "    prots_hogmap_subfmedseqlen_allspecies = []\n",
    "\n",
    "    for query_species_name in query_species_names:\n",
    "        omamer_output_address = project_folder + \"omamer_search/hogmap/\"+ query_species_name + \".hogmap\"     \n",
    "        omamer_output_file = open(omamer_output_address,'r');\n",
    "        prots_hogmap_name = []\n",
    "        prots_hogmap_hogid = []\n",
    "        prots_hogmap_subfscore = []\n",
    "        prots_hogmap_seqlen = []\n",
    "        prots_hogmap_subfmedseqlen = []\n",
    "        \n",
    "        for line in omamer_output_file:\n",
    "            line_strip=line.strip()\n",
    "            if not line_strip.startswith('qs'):\n",
    "                line_split= line_strip.split(\"\\t\")    \n",
    "                #if line_split[1]!='na':\n",
    "                prots_hogmap_name.append(line_split[0])\n",
    "                prots_hogmap_hogid.append(line_split[1])\n",
    "                prots_hogmap_subfscore.append(line_split[4]) # subfamily\n",
    "                prots_hogmap_seqlen.append(line_split[5])\n",
    "                prots_hogmap_subfmedseqlen.append(line_split[6])\n",
    "                \n",
    "        prots_hogmap_name_allspecies.append(prots_hogmap_name)\n",
    "        prots_hogmap_hogid_allspecies.append(prots_hogmap_hogid)\n",
    "        prots_hogmap_subfscore_allspecies.append(prots_hogmap_subfscore)\n",
    "        prots_hogmap_seqlen_allspecies.append(prots_hogmap_seqlen)\n",
    "        prots_hogmap_subfmedseqlen_allspecies.append(prots_hogmap_subfmedseqlen)\n",
    "    \n",
    "    current_time = datetime.now().strftime(\"%H:%M:%S\")\n",
    "    print(current_time,\"- There are \",len(prots_hogmap_name_allspecies),\" species in the hogmap folder.\")\n",
    "    print(current_time,\"- The first species\",query_species_names[0],\" contains \",len(prots_hogmap_hogid_allspecies[0]),\" proteins.\")\n",
    "    print(current_time,\"- The first protein of first species is \", prots_hogmap_name_allspecies[0][0])\n",
    "\n",
    "    hogmap_allspecies = (prots_hogmap_name_allspecies, prots_hogmap_hogid_allspecies, prots_hogmap_subfscore_allspecies, prots_hogmap_seqlen_allspecies, prots_hogmap_subfmedseqlen_allspecies)\n",
    "    return  hogmap_allspecies\n",
    "    \n",
    "    \n",
    "    \n",
    "def filter_prot_mapped(query_species_names, query_prot_records_species,query_prot_names_species_mapped):\n",
    "    # omamer remove very small proteins, \n",
    "    # so  we lose track of order comparing hogmap and fasta file\n",
    "    # the goal here is to remove those from seq record (of the fasta file)\n",
    "    current_time = datetime.now().strftime(\"%H:%M:%S\")\n",
    "    print(current_time,\"- Filtering proteins started.\")\n",
    "\n",
    "    query_prot_records_species_filtered=[]\n",
    "    for species_idx in range(len(query_species_names)):    \n",
    "        # from fasta file\n",
    "        query_species_name=query_species_names[species_idx]\n",
    "        print(query_species_name)\n",
    "        query_prot_records_species_i = query_prot_records_species[species_idx]\n",
    "        query_prot_ids_records = [record.id for record in query_prot_records_species_i]\n",
    "\n",
    "        # from hogmap file\n",
    "        # without proteins that are not mapped on any hogs\n",
    "        query_prot_names_species_i = query_prot_names_species_mapped[species_idx]\n",
    "\n",
    "        if len(query_prot_names_species_i) != len(query_prot_records_species_i):\n",
    "\n",
    "            query_prot_records_filterd=[]\n",
    "            for query_prot_name in query_prot_names_species_i:\n",
    "                if query_prot_name in query_prot_ids_records:\n",
    "                    prot_record_idx = query_prot_ids_records.index(query_prot_name)\n",
    "                    prot_record = query_prot_records_species_i[prot_record_idx]\n",
    "                    query_prot_records_filterd.append(prot_record)\n",
    "                else:\n",
    "                    current_time = datetime.now().strftime(\"%H:%M:%S\")                    \n",
    "                    print(current_time,\"- Error\",query_species_name, query_prot_name)\n",
    "\n",
    "            current_time = datetime.now().strftime(\"%H:%M:%S\")        \n",
    "            print(current_time,\"- For the species\", query_species_name, \", few proteins were ignored by omamer.\")\n",
    "            print(current_time,\"- before filtering: in hogmap\", len(query_prot_names_species_i), \"in proteome\", len(query_prot_records_species_i))\n",
    "            print(current_time,\"- After filtering:  in hogmap\", len(query_prot_names_species_i), \"in proteome\", len(query_prot_records_filterd))            \n",
    "            \n",
    "\n",
    "        else:\n",
    "            query_prot_records_filterd = query_prot_records_species_i\n",
    "\n",
    "        query_prot_records_species_filtered.append(query_prot_records_filterd)\n",
    "    current_time = datetime.now().strftime(\"%H:%M:%S\")        \n",
    "    print(current_time,\"- For the rest of species, all proteins were mapped using OMAmer.\")\n",
    "\n",
    "    return query_prot_records_species_filtered\n",
    "\n",
    "\n",
    "def run_one_msa(seqRecords_queries):\n",
    "    ############## MSA  ##############\n",
    "    ##################################\n",
    "    #current_time = datetime.now().strftime(\"%H:%M:%S\")\n",
    "    #print(current_time, \"- working on new OG with length of \",len(seqRecords_OG_queries))\n",
    "    \n",
    "    \n",
    "    wrapper_mafft = mafft.Mafft(seqRecords_queries,datatype=\"PROTEIN\") \n",
    "    # MAfft error: Alphabet 'U' is unknown. -> add --anysymbol argument needed to define in the sourse code\n",
    "    # workaround sed \"s/U/X/g\"\n",
    "    \n",
    "    wrapper_mafft.options.options['--retree'].set_value(1)\n",
    "\n",
    "\n",
    "    run_mafft = wrapper_mafft() # it's wrapper  storing the result  and time \n",
    "    time_taken_mafft = wrapper_mafft.elapsed_time\n",
    "\n",
    "    result_mafft = wrapper_mafft.result \n",
    "    time_taken_mafft2 = wrapper_mafft.elapsed_time\n",
    "    \n",
    "    current_time = datetime.now().strftime(\"%H:%M:%S\")\n",
    "    #print(current_time,\"- time elapsed for MSA: \",time_taken_mafft2)\n",
    "    print(current_time,\"- MSA for an OG is just finished: \",time_taken_mafft2)\n",
    "\n",
    "    return(result_mafft)\n",
    "\n",
    "\n",
    "\n",
    "\n",
    "\n",
    "def draw_tree(msa, tree_out_file):\n",
    "    ############## Tree inference  ###################\n",
    "    ##################################################\n",
    "\n",
    "    wrapper_tree=fasttree.Fasttree(msa,datatype=\"PROTEIN\")\n",
    "    wrapper_tree.options.options['-fastest']    \n",
    "    result_tree1 = wrapper_tree()\n",
    "\n",
    "    time_taken_tree = wrapper_tree.elapsed_time \n",
    "    time_taken_tree\n",
    "\n",
    "    result_tree2 = wrapper_tree.result\n",
    "    tree_nwk=str(result_tree2[\"tree\"])\n",
    "    current_time = datetime.now().strftime(\"%H:%M:%S\")\n",
    "    print(current_time,\"- \",len(tree_nwk))\n",
    "\n",
    "    #out_name_tree=project_folder+\"fastoma_core/_tree.txt\"\n",
    "    file1 = open(tree_out_file,\"w\")\n",
    "    file1.write(tree_nwk)\n",
    "    file1.write(\";\\n\")\n",
    "    \n",
    "    file1.close() \n",
    "    return tree_nwk\n",
    "\n",
    "\n",
    "\n",
    "def merge_msa(list_msas):\n",
    "    # each element of msa should be  a MultipleSeqAlignment\n",
    "    wrapper_mafft_merge = mafft.Mafft(list_msas, datatype=\"PROTEIN\") \n",
    "    wrapper_mafft_merge.options['--merge'].active = True\n",
    "    merged = wrapper_mafft_merge()\n",
    "    \n",
    "    \n",
    "    print(len(list_msas),\"msas are merged into one with the length of \",len(merged),len(merged[0]) )\n",
    "    return merged\n",
    "\n",
    "\n",
    "\n",
    "\n",
    "    \n",
    "    \n",
    "def compact_distance_matrix_tree(tree_input):\n",
    "\n",
    "    # tree_input   in ete3 format\n",
    "    # output  a vector upper triangulare \n",
    "    \n",
    "    tree_leaves=[]\n",
    "    for node in tree_input.traverse(strategy=\"postorder\"):\n",
    "        if node.is_leaf() : \n",
    "            node_name = node.name\n",
    "            tree_leaves.append(node_name)\n",
    "\n",
    "\n",
    "    leaves_num = len(tree_leaves)\n",
    "    distance_matrix = np.zeros([leaves_num,leaves_num])\n",
    "\n",
    "    for i in range(leaves_num):\n",
    "        for j in range(leaves_num):\n",
    "            if i < j:\n",
    "                value= round(tree_input.get_distance(tree_leaves[i],tree_leaves[j]),3)\n",
    "                distance_matrix[i][j]= value\n",
    "                distance_matrix[j][i]= value\n",
    "\n",
    "    y=[]\n",
    "    for i in range(len(distance_matrix)):\n",
    "        for j in range(len(distance_matrix)):\n",
    "            if i<j:\n",
    "                val= distance_matrix[i][j]\n",
    "                y.append(val)\n",
    "    return (y,tree_leaves)\n",
    "\n",
    "    \n",
    "\n",
    "from scipy.cluster.hierarchy import dendrogram, linkage, ward, leaves_list, fcluster\n",
    "\n",
    "from ete3 import Tree\n",
    "\n",
    "import numpy as np\n",
    "import pyoma.browser.db as db\n",
    "import concurrent.futures\n",
    "import ast\n",
    "import pickle\n",
    "\n",
    "from pyoma.browser.models import ProteinEntry\n",
    "\n",
    "#import zoo\n",
    "#zoo.__file__\n",
    "\n",
    "import zoo.wrappers.aligners.mafft as mafft  # mafft should be installed beforehand\n",
    "import zoo.wrappers.treebuilders.fasttree as fasttree\n",
    "\n",
    "from datetime import datetime\n",
    "from sys import argv\n",
    "from os import listdir\n",
    "from Bio import SeqIO\n",
    "from Bio.SeqRecord import SeqRecord\n",
    "from Bio.Seq import Seq, UnknownSeq\n",
    "from Bio.Align import MultipleSeqAlignment\n",
    "\n",
    "from collections import defaultdict\n",
    "\n",
    "\n",
    "import matplotlib   #for development \n",
    "#matplotlib.use('Agg')\n",
    "import matplotlib.pyplot as plt\n",
    "\n",
    "\n",
    "import pyoma.browser.db as db\n",
    "from pyoma.browser.hoghelper import build_hog_to_og_map\n",
    "\n",
    "\n",
    "import time"
   ]
  },
  {
   "cell_type": "code",
   "execution_count": 4,
   "id": "a970d9f5",
   "metadata": {},
   "outputs": [],
   "source": [
    "\n",
    "\n",
    "# if __name__ == \"__main__\":\n",
    "\n",
    "    \n",
    "#     # a global variable\n",
    "#     #project_folder = argv[1]\n",
    "#     project_folder = \"/work/FAC/FBM/DBC/cdessim2/default/smajidi1/fastget/v1a/\"\n",
    "    \n",
    "#     oma_database_address = project_folder+\"omamer_database/oma_path/OmaServer.h5\"\n",
    "    \n",
    "#     print(\"program has started. The oma database address is in \",oma_database_address)\n",
    "    \n",
    "#     (oma_db, list_oma_speices) = parse_oma_db(oma_database_address)\n",
    "\n",
    "     \n",
    "#     (query_species_names, query_prot_records_species) = parse_proteome(list_oma_speices)   \n",
    "    \n",
    "#     hogmap_allspecies = parse_hogmap_omamer(query_species_names)\n",
    "    \n",
    "#     (query_prot_names_species_mapped, prots_hogmap_hogid_allspecies, prots_hogmap_subfscore_allspecies, prots_hogmap_seqlen_allspecies, prots_hogmap_subfmedseqlen_allspecies) = hogmap_allspecies \n",
    "\n",
    "#     query_prot_records_species_filtered =  filter_prot_mapped(query_species_names, query_prot_records_species, query_prot_names_species_mapped)\n",
    "\n",
    "#     print(len(query_prot_records_species_filtered),len(query_prot_records_species_filtered[0]))\n",
    "    \n"
   ]
  },
  {
   "cell_type": "code",
   "execution_count": null,
   "id": "5b32773c",
   "metadata": {},
   "outputs": [],
   "source": []
  },
  {
   "cell_type": "markdown",
   "id": "14c4122f",
   "metadata": {},
   "source": [
    "## Write  rootHoGs as fasta file"
   ]
  },
  {
   "cell_type": "code",
   "execution_count": null,
   "id": "c18aeb04",
   "metadata": {},
   "outputs": [],
   "source": [
    "\n",
    "# prots_hogmap_rhogid_allspecies = []\n",
    "# for prots_hogmap_hogid in prots_hogmap_hogid_allspecies:\n",
    "#     prots_hogmap_rhogid = []\n",
    "#     for prot_hogmap_hogid in prots_hogmap_hogid:\n",
    "#         prot_hogmap_rhogid=prot_hogmap_hogid.split(\".\")[0]\n",
    "#         prots_hogmap_rhogid.append(prot_hogmap_rhogid)\n",
    "        \n",
    "#     prots_hogmap_rhogid_allspecies.append(prots_hogmap_rhogid)\n",
    "\n",
    "    \n",
    "    \n",
    "# rhogid_prot_idx_dic = {}\n",
    "\n",
    "# for species_idx in range(len(query_species_names)):\n",
    "    \n",
    "#     species_name = query_species_names[species_idx]\n",
    "    \n",
    "#     prots_hogmap_rhogid = prots_hogmap_rhogid_allspecies[species_idx]\n",
    "    \n",
    "#     for prots_hogmap_idx in range(len(prots_hogmap_rhogid)):\n",
    "        \n",
    "#         prot_hogmap_rhogid = prots_hogmap_rhogid[prots_hogmap_idx]\n",
    "        \n",
    "#         if prot_hogmap_rhogid in rhogid_prot_idx_dic:\n",
    "#             rhogid_prot_idx_dic[prot_hogmap_rhogid].append((species_idx,prots_hogmap_idx))\n",
    "#         else:\n",
    "#             rhogid_prot_idx_dic[prot_hogmap_rhogid] = [(species_idx,prots_hogmap_idx)]\n",
    "            \n",
    "            \n",
    "            \n",
    "# print(len(rhogid_prot_idx_dic), rhogid_prot_idx_dic['HOG:0018405'])\n",
    "\n",
    "\n",
    "# rhogids_prot_records_query = [ ]\n",
    "\n",
    "# rhogids_list = []\n",
    "# for rhogid in rhogid_prot_idx_dic.keys() :\n",
    "    \n",
    "#     if rhogid != \"na\" and len(rhogid)>1:\n",
    "#         rhogids_list.append(rhogid)\n",
    "#         rhogid_prot_idx =  rhogid_prot_idx_dic[rhogid]\n",
    "#         rhogid_prot_records = []\n",
    "#         for (species_idx, prots_hogmap_idx) in rhogid_prot_idx:\n",
    "#             prot_record = query_prot_records_species_filtered[species_idx][prots_hogmap_idx] \n",
    "#             #print(prot_record)\n",
    "#             rhogid_prot_records.append(prot_record)\n",
    "     \n",
    "    \n",
    "#     rhogids_prot_records_query.append(rhogid_prot_records)\n",
    "    \n",
    "    \n",
    "    \n",
    "# print(len(rhogids_prot_records_query),len(rhogids_prot_records_query[0]))"
   ]
  },
  {
   "cell_type": "code",
   "execution_count": null,
   "id": "6fb858ee",
   "metadata": {},
   "outputs": [],
   "source": [
    "\n",
    "# rhogids_prot_records = []\n",
    "\n",
    "# for rhogid_idx in range(len(rhogids_list)):\n",
    "    \n",
    "#     rhogid_prot_records_query= rhogids_prot_records_query[rhogid_idx] \n",
    "\n",
    "#     rhogid = rhogids_list[rhogid_idx]\n",
    "\n",
    "    \n",
    "#     rhogid_num= int(rhogid.split(\":\")[1])\n",
    "#     rhogids_prot_records_oma = []\n",
    "#     for hog_elements in oma_db.member_of_fam(rhogid_num):   # this gets the member of roothog 2 (HOG:000002)\n",
    "#         prot_hog_element = ProteinEntry(oma_db, hog_elements)\n",
    "#         #print(prot_hog_element.omaid, prot_hog_element.hog_family_nr, len(prot_hog_element.sequence),prot_hog_element.sequence[0])\n",
    "        \n",
    "#         rhogids_prot_records_oma.append(SeqRecord(Seq(prot_hog_element.sequence), id=prot_hog_element.omaid))\n",
    "#     rhogids_prot_records.append(rhogids_prot_records_oma +  rhogid_prot_records_query)\n",
    "    \n",
    "# print(len(rhogids_prot_records), len(rhogids_prot_records[0]))\n",
    "\n",
    "# address_out_hog=\"/work/FAC/FBM/DBC/cdessim2/default/smajidi1/fastget/v1a/hog_out/\"\n",
    "# # mkdir hog_out\n",
    "\n",
    "\n",
    "# for rhogid_idx in range(len(rhogids_list)):\n",
    "    \n",
    "#     rhogid_prot_records= rhogids_prot_records[rhogid_idx] \n",
    "\n",
    "#     rhogid = rhogids_list[rhogid_idx]\n",
    "\n",
    "#     SeqIO.write(rhogid_prot_records, address_out_hog+\"HOG_\"+str(int(rhogid.split(\":\")[1]))+\".fa\", \"fasta\")\n",
    "    \n",
    "# print(\"Each of \",len(rhogids_list),\"hogs were written into separat fasta file.\")    \n",
    "    "
   ]
  },
  {
   "cell_type": "markdown",
   "id": "78c3b9ca",
   "metadata": {},
   "source": [
    "## now consider only one rHOG (including   omaDB+query proteins )"
   ]
  },
  {
   "cell_type": "code",
   "execution_count": 12,
   "id": "a74dd422",
   "metadata": {},
   "outputs": [
    {
     "name": "stdout",
     "output_type": "stream",
     "text": [
      "number of proteins in the rHOG 39\n",
      "number of unique species in the rHOG 24\n"
     ]
    }
   ],
   "source": [
    "address_working_folder = \"/work/FAC/FBM/DBC/cdessim2/default/smajidi1/fastget/v1a/\"\n",
    "\n",
    "address_out_hog= address_working_folder+ \"hog_out/\"\n",
    "\n",
    "prot_address=address_out_hog+\"HOG_\"+str(10019)+\".fa\"\n",
    "rhog_i= list(SeqIO.parse(prot_address, \"fasta\")) \n",
    "print(\"number of proteins in the rHOG\", len(rhog_i))\n",
    "\n",
    "id_list=[]\n",
    "for rec in rhog_i:\n",
    "    id_list.append(rec.id)\n",
    "species_names = [i[:5] for i in id_list]\n",
    "species_names_uniqe = set(species_names)\n",
    "print(\"number of unique species in the rHOG\",len(species_names_uniqe))"
   ]
  },
  {
   "cell_type": "markdown",
   "id": "669c2859",
   "metadata": {},
   "source": [
    "## read species tree"
   ]
  },
  {
   "cell_type": "code",
   "execution_count": 23,
   "id": "d5acbc8c",
   "metadata": {},
   "outputs": [
    {
     "name": "stdout",
     "output_type": "stream",
     "text": [
      "/work/FAC/FBM/DBC/cdessim2/default/smajidi1/fastoma/primate_oma/v27_10/fastoma_core_splice_subf0.5/_100_msa_concatanated.txt.contree_collapsed__94_0.001\n",
      "1 kb\n",
      "length of tree is  35\n"
     ]
    }
   ],
   "source": [
    "import os\n",
    "# import numpy as np\n",
    "# from sys import argv\n",
    "# from datetime import datetime\n",
    "# import matplotlib\n",
    "# matplotlib.use('Agg')\n",
    "# import matplotlib.pyplot as plt\n",
    "import ete3\n",
    "\n",
    "\n",
    "fast_tree_address = \"/work/FAC/FBM/DBC/cdessim2/default/smajidi1/fastoma/primate_oma/v27_10/fastoma_core_splice_subf0.5/\"\n",
    "fast_tree_address += \"_100_msa_concatanated.txt.contree\"+\"_collapsed__94_0.001\"\n",
    "\n",
    "\n",
    "print(fast_tree_address)\n",
    "print(round(os.path.getsize(fast_tree_address)/1000),\"kb\")\n",
    "\n",
    "fast_tree= ete3.Tree(fast_tree_address) # ,format=0\n",
    "print(\"length of tree is \",len(fast_tree))"
   ]
  },
  {
   "cell_type": "code",
   "execution_count": 4,
   "id": "a5958eba",
   "metadata": {},
   "outputs": [
    {
     "name": "stdout",
     "output_type": "stream",
     "text": [
      "25 35 ['COLAP', 'BOVIN', 'MOUSE', 'OTOGA', 'MICMU', 'PROCO', 'CARSF', 'SAIBB', 'CALJA', 'AOTNA', 'GORGO', 'PANTR', 'PANPA', 'HUMAN', 'PONAB', 'NOMLE', 'MACNE', 'MACFA', 'MANLE', 'CERAT', 'CHLSB', 'PAPAN', 'MACMU', 'RHIBE', 'RHIRO']\n"
     ]
    },
    {
     "data": {
      "text/plain": [
       "'(COLAP:0.00172937,((((((BOVIN:0.00223615,MOUSE:0.000391497)100:0.0146723,((MICMU:0.0371289,PROCO:0.0265011)100:0.013476,OTOGA:2.62966e-05)100:0.0155775,CARSF:2.7073e-06)100:0.0248855,((CALJA:0.0366017,SAIBB:0.00218759)97:0.00151199,AOTNA:0.0532771)100:0.0142606)100:0.00783661,((((PANPA:0.0230622,PANTR:0.00122899)100:0.00168806,HUMAN:0.0110641,GORGO:0.0012583)100:0.00274361,PONAB:0.015492)100:0.00131714,NOMLE:0.0382361)100:0.00531884)100:0.0116669,(MACFA:0.0163475,MACNE:0.0022106)96:0.00197187,CERAT:0.0245506,(CHLSB:0.0107976,PAPAN:0.0131583)96:0.00203856,MACMU:0.046456,MANLE:0.000396765)100:0.00319826,(RHIBE:0.013633,RHIRO:0.00265876)100:0.0153811)100:0.0108101);'"
      ]
     },
     "execution_count": 4,
     "metadata": {},
     "output_type": "execute_result"
    }
   ],
   "source": [
    "species_tree_leaves=[]\n",
    "for node in fast_tree.traverse(strategy=\"postorder\"):\n",
    "    if node.is_leaf() : \n",
    "        node_name = node.name\n",
    "        species_tree_leaves.append(node_name)\n",
    "\n",
    "species_tree_leaves_uniq = [i for i in species_tree_leaves if i[-1]!='_']\n",
    "print(len(species_tree_leaves_uniq), len(species_tree_leaves),species_tree_leaves_uniq)\n",
    "\n",
    "\n",
    "\n",
    "fast_tree.prune(species_tree_leaves_uniq)\n",
    "#print(fast_tree)\n",
    "fast_tree.write()"
   ]
  },
  {
   "cell_type": "code",
   "execution_count": 5,
   "id": "b9fa6e84",
   "metadata": {},
   "outputs": [
    {
     "name": "stdout",
     "output_type": "stream",
     "text": [
      "\n",
      "      /-BOVIN\n",
      "   /-|\n",
      "  |   \\-MOUSE\n",
      "--|\n",
      "  |   /-PANPA\n",
      "   \\-|\n",
      "      \\-PANTR\n"
     ]
    }
   ],
   "source": [
    "# species_tree_leaves=[]\n",
    "# for node in fast_tree.traverse(strategy=\"postorder\"):\n",
    "#     if node.is_leaf() : \n",
    "#         node_name = node.name\n",
    "#         species_tree_leaves.append(node_name)\n",
    "\n",
    "# species_tree_leaves_uniq = [i for i in species_tree_leaves if i[-1]!='_']\n",
    "# print(len(species_tree_leaves_uniq), len(species_tree_leaves),species_tree_leaves_uniq)\n",
    "\n",
    "\n",
    "fast_tree.prune(['PANPA', 'PANTR', 'BOVIN', 'MOUSE']) # 'HUMAN', 'GORGO'\n",
    "print(fast_tree)\n",
    "\n",
    "        #print(no_list)\n",
    "#\"PNAB\"   (\"GORGO\"  \"HUMAN\")"
   ]
  },
  {
   "cell_type": "code",
   "execution_count": 6,
   "id": "c4a9ae30",
   "metadata": {},
   "outputs": [
    {
     "data": {
      "text/plain": [
       "'((BOVIN:0.00223615,MOUSE:0.000391497)100:0.0146723,(PANPA:0.0230622,PANTR:0.00122899)100:0.00168806);'"
      ]
     },
     "execution_count": 6,
     "metadata": {},
     "output_type": "execute_result"
    }
   ],
   "source": [
    "fast_tree.write()"
   ]
  },
  {
   "cell_type": "code",
   "execution_count": null,
   "id": "b9dc5f7b",
   "metadata": {},
   "outputs": [],
   "source": []
  },
  {
   "cell_type": "markdown",
   "id": "864ceb34",
   "metadata": {},
   "source": [
    "##  BOVIN & MOUSE"
   ]
  },
  {
   "cell_type": "code",
   "execution_count": 183,
   "id": "348b4338",
   "metadata": {
    "scrolled": true
   },
   "outputs": [
    {
     "name": "stdout",
     "output_type": "stream",
     "text": [
      "indeces of proteins in rHOG corresponding to species  BOVIN : [0, 19, 20]\n",
      "indeces of proteins in rHOG corresponding to species  MOUSE : [5, 6, 21]\n",
      "13:57:35 - MSA for an OG is just finished:  0.3287992477416992\n",
      "13:57:35 - MSA for an OG is just finished:  0.18489670753479004\n",
      "['BOVIN09898', 'BOVIN09896', 'BOVIN09897', 'MOUSE01292', 'MOUSE01293', 'MOUSE44014']\n",
      "2 msas are merged into one with the length of  6 666\n",
      "13:57:39 -  175\n",
      "(BOVIN09898:0.088984372,((BOVIN09896:0.0,BOVIN09897:0.0):0.074374249,MOUSE44014:0.070091173)1.000:0.167813492,(MOUSE01292:0.147998218,MOUSE01293:0.181646904)0.915:0.041841267)\n",
      "\n",
      "   /-BOVIN09898\n",
      "  |\n",
      "  |      /-BOVIN09896\n",
      "  |   /-|\n",
      "--|--|   \\-BOVIN09897\n",
      "  |  |\n",
      "  |   \\-MOUSE44014\n",
      "  |\n",
      "  |   /-MOUSE01292\n",
      "   \\-|\n",
      "      \\-MOUSE01293\n",
      "length of tree is  6\n",
      "15\n"
     ]
    }
   ],
   "source": [
    "node_species_name = \"BOVIN\"\n",
    "intrest_list_1 = [idx  for idx in range(len(species_names)) if species_names[idx] == node_species_name ]\n",
    "print(\"indeces of proteins in rHOG corresponding to species \",node_species_name,\":\",intrest_list_1)\n",
    " \n",
    "node_species_name = \"MOUSE\"\n",
    "intrest_list_2 = [idx  for idx in range(len(species_names)) if species_names[idx] == node_species_name ]\n",
    "print(\"indeces of proteins in rHOG corresponding to species \",node_species_name,\":\",intrest_list_2)\n",
    "\n",
    "\n",
    "\n",
    "# seq records of each species in this rHOG\n",
    "rhog_i_1 = [rhog_i[i] for i in intrest_list_1]\n",
    "rhog_i_2 = [rhog_i[i] for i in intrest_list_2]\n",
    "\n",
    "\n",
    "# run MSA on each \n",
    "sub_msa_1 = run_one_msa(rhog_i_1)\n",
    "sub_msa_2 = run_one_msa(rhog_i_2)\n",
    "time.sleep(3) \n",
    "\n",
    "seq_id_both = [i.id for i in rhog_i_1]+ [i.id for i in rhog_i_2]\n",
    "print(seq_id_both)\n",
    "\n",
    "\n",
    "\n",
    "\n",
    "merged_msa_1 = merge_msa([sub_msa_1,sub_msa_2]) \n",
    "\n",
    "\n",
    "tree_out_file = address_working_folder +\"out1.nwk\"\n",
    "tree_out_raw = draw_tree(merged_msa_1, tree_out_file)\n",
    "print(tree_out_raw)\n",
    "\n",
    "tree_out = Tree(tree_out_raw+\";\", format=0)\n",
    "print(tree_out)\n",
    "print(\"length of tree is \",len(tree_out))\n",
    "\n",
    "(y,tree_leaves) = compact_distance_matrix_tree(tree_out)\n",
    "\n",
    "print(len(y))\n",
    "\n"
   ]
  },
  {
   "cell_type": "code",
   "execution_count": null,
   "id": "33dc2624",
   "metadata": {},
   "outputs": [],
   "source": []
  },
  {
   "cell_type": "code",
   "execution_count": 116,
   "id": "ebfc75de",
   "metadata": {},
   "outputs": [
    {
     "name": "stdout",
     "output_type": "stream",
     "text": [
      "[3 1 1 2 3 4]\n",
      "4\n"
     ]
    }
   ],
   "source": [
    "\n",
    "Z = linkage(y, 'ward') # ward  single\n",
    "# print(Z)\n",
    "# fig = plt.figure(figsize=(25, 10))\n",
    "#dn = dendrogram(Z) # ,color_threshold=.02\n",
    "# plt.save(+\"a.\")\n",
    "#print(dn)\n",
    "\n",
    "# https://docs.scipy.org/doc/scipy/reference/generated/scipy.cluster.hierarchy.fcluster.html#scipy.cluster.hierarchy.fcluster\n",
    "    \n",
    "clusters_1 = fcluster(Z,0.7*max(Z[:,2]), criterion='distance') \n",
    "\n",
    "print(clusters_1)\n",
    "#\n",
    "\n",
    "sub_msas_1 = []\n",
    "for cluster_id in range(1,max(clusters_1)+1):\n",
    "    sub_msa = [  merged_msa_1[int(i)]   for i in list(np.where(clusters_1==cluster_id)[0])   ]\n",
    "    sub_msas_1.append(sub_msa)\n",
    "    \n",
    "print(len(sub_msas_1))    "
   ]
  },
  {
   "cell_type": "code",
   "execution_count": 112,
   "id": "7c478e6c",
   "metadata": {},
   "outputs": [],
   "source": []
  },
  {
   "cell_type": "code",
   "execution_count": 117,
   "id": "812e2ebc",
   "metadata": {},
   "outputs": [],
   "source": [
    "    \n",
    "\n",
    "\n",
    "# print(clusters_1)\n",
    "\n",
    "# for cluster_id in range(1,max(clusters_1)+1):\n",
    "#     print(\"*cluster\",cluster_id,\":\")\n",
    "#     for i in range(len(clusters_1)):\n",
    "\n",
    "#         if cluster_id == clusters_1[i]:\n",
    "#             print(tree_leaves[i])\n",
    "            \n",
    "# # X= distance_matrix \n",
    "\n",
    "\n",
    "# cluster1_idx = [1,2,3]\n",
    "# cluster2_idx = [0,4,5]\n"
   ]
  },
  {
   "cell_type": "code",
   "execution_count": null,
   "id": "7d9b3af4",
   "metadata": {},
   "outputs": [],
   "source": []
  },
  {
   "cell_type": "code",
   "execution_count": null,
   "id": "9dfd691f",
   "metadata": {},
   "outputs": [],
   "source": []
  },
  {
   "cell_type": "code",
   "execution_count": null,
   "id": "931f69fe",
   "metadata": {},
   "outputs": [],
   "source": [
    "\n"
   ]
  },
  {
   "cell_type": "code",
   "execution_count": null,
   "id": "30534148",
   "metadata": {},
   "outputs": [],
   "source": []
  },
  {
   "cell_type": "code",
   "execution_count": null,
   "id": "d3432d7d",
   "metadata": {},
   "outputs": [],
   "source": []
  },
  {
   "cell_type": "code",
   "execution_count": null,
   "id": "d394ad8b",
   "metadata": {},
   "outputs": [],
   "source": []
  },
  {
   "cell_type": "markdown",
   "id": "a2b729a0",
   "metadata": {},
   "source": [
    "## PANPA & PANPAB"
   ]
  },
  {
   "cell_type": "code",
   "execution_count": 118,
   "id": "269d53e4",
   "metadata": {
    "scrolled": true
   },
   "outputs": [
    {
     "name": "stdout",
     "output_type": "stream",
     "text": [
      "indeces of proteins in rHOG corresponding to species  PANPA : [18]\n",
      "indeces of proteins in rHOG corresponding to species  PANTR : [9, 26]\n",
      "12:08:29 - MSA for an OG is just finished:  0.12518000602722168\n",
      "12:08:29 - MSA for an OG is just finished:  0.1308450698852539\n",
      "['PANPA23689', 'PANTR26412', 'PANTR26407']\n",
      "12:08:32 -  68\n",
      "((PANPA23689:0.0,PANTR26407:0.0):0.186998492,PANTR26412:0.186998492)\n",
      "\n",
      "      /-PANPA23689\n",
      "   /-|\n",
      "--|   \\-PANTR26407\n",
      "  |\n",
      "   \\-PANTR26412\n",
      "length of tree is  3\n",
      "3\n"
     ]
    }
   ],
   "source": [
    "node_species_name = \"PANPA\"\n",
    "intrest_list_1 = [idx  for idx in range(len(species_names)) if species_names[idx] == node_species_name ]\n",
    "print(\"indeces of proteins in rHOG corresponding to species \",node_species_name,\":\",intrest_list_1)\n",
    " \n",
    "node_species_name = \"PANTR\"\n",
    "intrest_list_2 = [idx  for idx in range(len(species_names)) if species_names[idx] == node_species_name ]\n",
    "print(\"indeces of proteins in rHOG corresponding to species \",node_species_name,\":\",intrest_list_2)\n",
    "    \n",
    "file_suffix=\"ar\"\n",
    "\n",
    "    \n",
    "# seq records of each species in this rHOG\n",
    "rhog_i_1 = [rhog_i[i] for i in intrest_list_1]\n",
    "rhog_i_2 = [rhog_i[i] for i in intrest_list_2]\n",
    "\n",
    "\n",
    "\n",
    "\n",
    "\n",
    "\n",
    "\n",
    "\n",
    "\n",
    "# run MSA on each \n",
    "sub_msa_1 = run_one_msa(rhog_i_1)\n",
    "sub_msa_2 = run_one_msa(rhog_i_2)\n",
    "time.sleep(3) \n",
    "\n",
    "seq_id_both = [i.id for i in rhog_i_1]+ [i.id for i in rhog_i_2]\n",
    "print(seq_id_both)\n",
    "\n",
    "\n",
    "\n",
    "\n",
    "merged_msa_2 = merge_msa([sub_msa_1,sub_msa_2]) \n",
    "\n",
    "\n",
    "tree_out_file = address_working_folder +\"out1.nwk\"\n",
    "tree_out_raw = draw_tree(merged_msa_2, tree_out_file)\n",
    "print(tree_out_raw)\n",
    "\n",
    "tree_out = Tree(tree_out_raw+\";\", format=0)\n",
    "print(tree_out)\n",
    "print(\"length of tree is \",len(tree_out))\n",
    "\n",
    "(y,tree_leaves) = compact_distance_matrix_tree(tree_out)\n",
    "\n",
    "print(len(y))\n",
    "\n",
    "\n",
    "\n"
   ]
  },
  {
   "cell_type": "code",
   "execution_count": 142,
   "id": "3368cc62",
   "metadata": {},
   "outputs": [
    {
     "name": "stdout",
     "output_type": "stream",
     "text": [
      "[1 1 2]\n",
      "2\n"
     ]
    }
   ],
   "source": [
    "\n",
    "Z = linkage(y, 'ward') # ward  single\n",
    "# print(Z)\n",
    "# fig = plt.figure(figsize=(25, 10))\n",
    "#dn = dendrogram(Z) # ,color_threshold=.02\n",
    "# plt.save(+\"a.\")\n",
    "#print(dn)\n",
    "\n",
    "clusters_2 = fcluster(Z,0.7*max(Z[:,2]), criterion='distance')\n",
    "print(clusters_2)\n",
    "#\n",
    "\n",
    "sub_msas_2 = []\n",
    "for cluster_id in range(1,max(clusters_2)+1):\n",
    "    sub_msa = [  merged_msa_2[int(i)]   for i in list(np.where(clusters_2==cluster_id)[0])   ]\n",
    "    sub_msas_2.append(sub_msa)\n",
    "    \n",
    "print(len(sub_msas_2))    "
   ]
  },
  {
   "cell_type": "code",
   "execution_count": null,
   "id": "e3e2e220",
   "metadata": {},
   "outputs": [],
   "source": []
  },
  {
   "cell_type": "code",
   "execution_count": 120,
   "id": "5f0dfae5",
   "metadata": {},
   "outputs": [],
   "source": [
    " \n",
    "    \n",
    "# from scipy.cluster.hierarchy import dendrogram, linkage, ward, leaves_list, fcluster\n",
    "\n",
    "# Z = linkage(y, 'ward') # ward  single\n",
    "# print(Z)\n",
    "\n",
    "# fig = plt.figure(figsize=(25, 10))\n",
    "# dn = dendrogram(Z) # ,color_threshold=.02\n",
    "# print(dn)\n",
    "# plt.show()\n",
    "\n",
    "   \n",
    "# #X= distance_matrix\n",
    "\n",
    "\n"
   ]
  },
  {
   "cell_type": "markdown",
   "id": "13d2e885",
   "metadata": {},
   "source": [
    "## PANPA & PANPTR    &    BOVIN & MOUSE\n"
   ]
  },
  {
   "cell_type": "code",
   "execution_count": 143,
   "id": "17a306d9",
   "metadata": {},
   "outputs": [
    {
     "name": "stdout",
     "output_type": "stream",
     "text": [
      "6\n",
      "13:35:33 - MSA for an OG is just finished:  0.2687819004058838\n",
      "13:35:33 - MSA for an OG is just finished:  0.10682272911071777\n",
      "13:35:34 - MSA for an OG is just finished:  0.11521649360656738\n",
      "13:35:34 - MSA for an OG is just finished:  0.11478829383850098\n",
      "13:35:34 - MSA for an OG is just finished:  0.12043046951293945\n",
      "13:35:34 - MSA for an OG is just finished:  0.1071171760559082\n",
      "6 msas are merged into one with the length of  9 666\n"
     ]
    }
   ],
   "source": [
    "# for i in sub_msas_raw_all[0]:\n",
    "#     print(len(i))\n",
    "\n",
    "sub_msas_raw_all = sub_msas_2+ sub_msas_1\n",
    "\n",
    "print(len(sub_msas_raw_all))\n",
    "\n",
    "# not sure this step is needed, since all of them are sub msa\n",
    "sub_msas_all = [ ]\n",
    "for sub_msa_raw in sub_msas_raw_all:\n",
    "    sub_msa = run_one_msa(sub_msa_raw)\n",
    "    sub_msas_all.append(sub_msa)\n",
    "\n",
    "merged_msa_3 = merge_msa(sub_msas_all) \n",
    "\n",
    "  \n",
    "# for i in merged_msa_3:\n",
    "#     print(i.id)"
   ]
  },
  {
   "cell_type": "code",
   "execution_count": null,
   "id": "ce386c61",
   "metadata": {},
   "outputs": [],
   "source": []
  },
  {
   "cell_type": "code",
   "execution_count": 184,
   "id": "f5df9905",
   "metadata": {},
   "outputs": [
    {
     "name": "stdout",
     "output_type": "stream",
     "text": [
      "13:57:44 -  294\n",
      "(BOVIN09898:0.082433333,(MOUSE44014:0.047504363,((BOVIN09896:0.0,BOVIN09897:0.0):0.078463302,(PANPA23689:5e-09,PANTR26407:0.001560724)1.000:0.08201573)0.634:0.014898016)1.000:0.195349127,(MOUSE01292:0.179282666,(PANTR26412:0.105547167,MOUSE01293:0.164425573)0.852:0.033076758)0.746:0.038023123)\n",
      "\n",
      "   /-BOVIN09898\n",
      "  |\n",
      "  |   /-MOUSE44014\n",
      "  |  |\n",
      "  |--|      /-BOVIN09896\n",
      "  |  |   /-|\n",
      "--|  |  |   \\-BOVIN09897\n",
      "  |   \\-|\n",
      "  |     |   /-PANPA23689\n",
      "  |      \\-|\n",
      "  |         \\-PANTR26407\n",
      "  |\n",
      "  |   /-MOUSE01292\n",
      "   \\-|\n",
      "     |   /-PANTR26412\n",
      "      \\-|\n",
      "         \\-MOUSE01293\n",
      "length of tree is  9\n",
      "36\n"
     ]
    }
   ],
   "source": [
    "\n",
    "tree_out_file = address_working_folder +\"out3.nwk\"\n",
    "tree_out_raw = draw_tree(merged_msa_3, tree_out_file)\n",
    "print(tree_out_raw)\n",
    "\n",
    "\n",
    "\n",
    "tree_out = Tree(tree_out_raw+\";\", format=0)\n",
    "print(tree_out)\n",
    "print(\"length of tree is \",len(tree_out))\n",
    "\n",
    "(y,tree_leaves) = compact_distance_matrix_tree(tree_out)\n",
    "\n",
    "print(len(y))\n",
    "\n"
   ]
  },
  {
   "cell_type": "code",
   "execution_count": 200,
   "id": "8bd16c97",
   "metadata": {},
   "outputs": [
    {
     "name": "stdout",
     "output_type": "stream",
     "text": [
      "[[2.00000000e+00 3.00000000e+00 0.00000000e+00 2.00000000e+00]\n",
      " [4.00000000e+00 5.00000000e+00 2.00000000e-03 2.00000000e+00]\n",
      " [1.00000000e+00 9.00000000e+00 1.62812776e-01 3.00000000e+00]\n",
      " [1.00000000e+01 1.10000000e+01 2.18381318e-01 5.00000000e+00]\n",
      " [0.00000000e+00 7.00000000e+00 2.59000000e-01 2.00000000e+00]\n",
      " [8.00000000e+00 1.30000000e+01 3.06032133e-01 3.00000000e+00]\n",
      " [6.00000000e+00 1.40000000e+01 3.55587308e-01 4.00000000e+00]\n",
      " [1.20000000e+01 1.50000000e+01 8.72725068e-01 9.00000000e+00]]\n"
     ]
    },
    {
     "data": {
      "image/png": "[encoded data removed]",
      "text/plain": [
       "<Figure size 1800x720 with 1 Axes>"
      ]
     },
     "metadata": {
      "needs_background": "light"
     },
     "output_type": "display_data"
    }
   ],
   "source": [
    "\n",
    "Z = linkage(y, 'ward') # ward  single\n",
    "print(Z)\n",
    "fig = plt.figure(figsize=(25, 10))\n",
    "dn = dendrogram(Z, color_threshold = 0.7*max(Z[:,2]), labels=tree_leaves, leaf_font_size=18, leaf_rotation=0) # is defualt color_threshold= 0.7*max(Z[:,2]). \n",
    "\n",
    "# plt.save(+\"a.\")\n",
    "#print(dn)\n",
    "\n",
    "\n",
    "# \n",
    "\n",
    "\n"
   ]
  },
  {
   "cell_type": "code",
   "execution_count": 153,
   "id": "e7f7be03",
   "metadata": {},
   "outputs": [
    {
     "data": {
      "text/plain": [
       "0.8727250680738146"
      ]
     },
     "execution_count": 153,
     "metadata": {},
     "output_type": "execute_result"
    }
   ],
   "source": [
    "max(Z[:,2])"
   ]
  },
  {
   "cell_type": "code",
   "execution_count": 192,
   "id": "c8f2e455",
   "metadata": {},
   "outputs": [
    {
     "data": {
      "text/plain": [
       "0.7854525612664331"
      ]
     },
     "execution_count": 192,
     "metadata": {},
     "output_type": "execute_result"
    }
   ],
   "source": [
    "0.9* max(Z[:,2])"
   ]
  },
  {
   "cell_type": "code",
   "execution_count": 201,
   "id": "488c4afb",
   "metadata": {},
   "outputs": [
    {
     "name": "stdout",
     "output_type": "stream",
     "text": [
      "[2 1 1 1 1 1 2 2 2] \n",
      " ['BOVIN09898', 'MOUSE44014', 'BOVIN09896', 'BOVIN09897', 'PANPA23689', 'PANTR26407', 'MOUSE01292', 'PANTR26412', 'MOUSE01293']\n"
     ]
    }
   ],
   "source": [
    "\n",
    "clusters_3 = fcluster(Z, 0.7* max(Z[:,2]), criterion='distance') # this treshold does not correspond to dendogram\n",
    "print(clusters_3,\"\\n\",tree_leaves)\n",
    "\n"
   ]
  },
  {
   "cell_type": "code",
   "execution_count": null,
   "id": "4997903d",
   "metadata": {},
   "outputs": [],
   "source": [
    "\n",
    "#\n",
    "\n",
    "sub_msas_3 = []\n",
    "for cluster_id in range(1,max(clusters_3)+1):\n",
    "    sub_msa = [  merged_msa_3[int(i)]   for i in list(np.where(clusters_3==cluster_id)[0])   ]\n",
    "    sub_msas_3.append(sub_msa)\n",
    "    \n",
    "print(len(sub_msas_3))    \n"
   ]
  },
  {
   "cell_type": "code",
   "execution_count": null,
   "id": "60b91872",
   "metadata": {},
   "outputs": [],
   "source": []
  },
  {
   "cell_type": "code",
   "execution_count": null,
   "id": "032007e1",
   "metadata": {},
   "outputs": [],
   "source": []
  },
  {
   "cell_type": "code",
   "execution_count": null,
   "id": "54cf825e",
   "metadata": {},
   "outputs": [],
   "source": []
  },
  {
   "cell_type": "code",
   "execution_count": null,
   "id": "5ac8bdd3",
   "metadata": {},
   "outputs": [],
   "source": []
  },
  {
   "cell_type": "code",
   "execution_count": null,
   "id": "249f6105",
   "metadata": {},
   "outputs": [],
   "source": [
    "\n",
    "   /-MOUSE01292\n",
    "  |\n",
    "  |   /-MOUSE44014\n",
    "  |  |\n",
    "  |--|      /-BOVIN09896\n",
    "  |  |   /-|\n",
    "--|  |  |   \\-BOVIN09897\n",
    "  |   \\-|\n",
    "  |     |   /-PANPA23689\n",
    "  |      \\-|\n",
    "  |         \\-PANTR26407\n",
    "  |\n",
    "  |   /-BOVIN09898\n",
    "   \\-|\n",
    "     |   /-MOUSE01293\n",
    "      \\-|\n",
    "         \\-PANTR26412"
   ]
  }
 ],
 "metadata": {
  "kernelspec": {
   "display_name": "Python 3 (ipykernel)",
   "language": "python",
   "name": "python3"
  },
  "language_info": {
   "codemirror_mode": {
    "name": "ipython",
    "version": 3
   },
   "file_extension": ".py",
   "mimetype": "text/x-python",
   "name": "python",
   "nbconvert_exporter": "python",
   "pygments_lexer": "ipython3",
   "version": "3.8.1"
  }
 },
 "nbformat": 4,
 "nbformat_minor": 5
}
