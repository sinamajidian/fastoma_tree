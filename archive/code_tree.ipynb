{
 "cells": [
  {
   "cell_type": "code",
   "execution_count": 129,
   "id": "d0927039",
   "metadata": {},
   "outputs": [],
   "source": [
    "#!/usr/bin/python3\n",
    "import os\n",
    "import numpy as np\n",
    "from sys import argv\n",
    "from datetime import datetime\n",
    "# import matplotlib\n",
    "# matplotlib.use('Agg')\n",
    "import matplotlib.pyplot as plt\n",
    "import ete3\n",
    "#import dendropy\n",
    "from dendropy import Tree\n",
    "datasets_address=\"/work/FAC/FBM/DBC/cdessim2/default/smajidi1/fastoma/archive/\"\n",
    "# oma_database_address = datasets_address + \"OmaServer.h5\"\n",
    "omaID_address = datasets_address+\"oma-species.txt\"\n",
    "#bird6ID_address = datasets_address+\"info.tsv\"\n",
    "uniprot_table_address = datasets_address+\"proteomes_taxonomy_Mammalia_40674_refyes.tab\"\n"
   ]
  },
  {
   "cell_type": "code",
   "execution_count": 130,
   "id": "d1d69b50",
   "metadata": {},
   "outputs": [],
   "source": [
    "def read_omaID_file(omaID_address):\n",
    "    \n",
    "    omaID_file = open(omaID_address,'r')\n",
    "\n",
    "    taxonID_omaID={}\n",
    "    omaID_taxonID={}\n",
    "\n",
    "    # omaID_scienceFull={}\n",
    "    # scienceFull_omaID={}\n",
    "    scientific_taxonID={}\n",
    "    taxonID_scientific={}\n",
    "\n",
    "    #  !!! limitation  ignoring strains and isolate\n",
    "    for line in omaID_file:\n",
    "        line_strip = line.strip()\n",
    "        if line_strip.startswith('#'):\n",
    "            pass\n",
    "            #header_lines_list.append(line_strip)\n",
    "        else:\n",
    "            line_parts = line_strip.split('\\t')\n",
    "\n",
    "            omaID = line_parts[0]\n",
    "            taxonID = line_parts[1]\n",
    "            taxonID_omaID[taxonID] = omaID\n",
    "            omaID_taxonID[omaID] = taxonID\n",
    "\n",
    "            scientific = line_parts[2]\n",
    "            taxonID_scientific[taxonID] = scientific\n",
    "            scientific_taxonID[scientific] = taxonID\n",
    "\n",
    "    omaID_file.close()\n",
    "\n",
    "    print(\"-- The map for OMA taxonID of\",len(taxonID_omaID),\"records have read.\") \n",
    "    \n",
    "    return (taxonID_omaID,omaID_taxonID,taxonID_scientific,scientific_taxonID)\n",
    "\n",
    "\n",
    "def read_taxonID_uniprot(uniprot_table_address):\n",
    "\n",
    "    taxonID_scientific = {}\n",
    "    scientific_taxonID = {}\n",
    "    common_taxonID = {}\n",
    "    taxonID_uniprot = {}\n",
    "\n",
    "    uniprot_file = open(uniprot_table_address,'r')\n",
    "    for line in uniprot_file:\n",
    "        line_strip = line.strip()\n",
    "        if line_strip.startswith('Pro'):\n",
    "            pass\n",
    "        else:\n",
    "            line_parts = line_strip.split('\\t')\n",
    "            uniprot = line_parts[0]\n",
    "            taxonID = line_parts[2]\n",
    "\n",
    "            taxonID_uniprot[uniprot]=taxonID\n",
    "            \n",
    "            line_parts_1= line_parts[1].split(\"(\")\n",
    "            if len(line_parts_1) > 1:\n",
    "\n",
    "                scientific = line_parts_1[0]\n",
    "                common = line_parts_1[1].strip()[:-1]\n",
    "            else:\n",
    "                scientific = line_parts_1[0]\n",
    "                common = line_parts_1[0]\n",
    "            \n",
    "            scientific_taxonID[taxonID] = scientific\n",
    "            taxonID_scientific[scientific] = taxonID \n",
    "\n",
    "            common_taxonID[taxonID] = common\n",
    "\n",
    "    print(\"-- The map for uniprot taxonID of\",len(scientific_taxonID),\"records have read.\") \n",
    "    return (scientific_taxonID,taxonID_scientific,common_taxonID,taxonID_uniprot)\n",
    "\n",
    "\n",
    "\n",
    "def read_taxonID_uniprot_temp(uniprot_table_address):\n",
    "\n",
    "    taxonID_scientific = {}\n",
    "    scientific_taxonID = {}\n",
    "    common_taxonID = {}\n",
    "    taxonID_uniprot = {}\n",
    "    \n",
    "    taxonID_scientificUnder={}\n",
    "    \n",
    "    \n",
    "    uniprot_file = open(uniprot_table_address,'r')\n",
    "    for line in uniprot_file:\n",
    "        line_strip = line.strip()\n",
    "        if line_strip.startswith('Pro'):\n",
    "            pass\n",
    "        else:\n",
    "            line_parts = line_strip.split('\\t')\n",
    "            uniprot = line_parts[0]\n",
    "            taxonID = line_parts[2]\n",
    "\n",
    "            taxonID_uniprot[uniprot]=taxonID\n",
    "            \n",
    "            line_parts_1= line_parts[1].split(\"(\")\n",
    "            if len(line_parts_1) > 1:\n",
    "\n",
    "                scientific = line_parts_1[0]\n",
    "                common = line_parts_1[1].strip()[:-1]\n",
    "            else:\n",
    "                scientific = line_parts_1[0]\n",
    "                common = line_parts_1[0]\n",
    "            \n",
    "            scientific_taxonID[taxonID] = scientific\n",
    "            taxonID_scientific[scientific] = taxonID \n",
    "\n",
    "            common_taxonID[taxonID] = common\n",
    "            scientificUnder='_'.join(scientific.split(\" \")[:2])\n",
    "            taxonID_scientificUnder[scientificUnder]=taxonID\n",
    "\n",
    "    print(\"-- The map for uniprot taxonID of\",len(scientific_taxonID),\"records have read.\") \n",
    "    return (taxonID_scientificUnder)\n"
   ]
  },
  {
   "cell_type": "code",
   "execution_count": 131,
   "id": "9cbc7553",
   "metadata": {},
   "outputs": [
    {
     "name": "stdout",
     "output_type": "stream",
     "text": [
      "-- The map for uniprot taxonID of 101 records have read.\n",
      "-- The map for uniprot taxonID of 101 records have read.\n",
      "-- The map for OMA taxonID of 2424 records have read.\n"
     ]
    }
   ],
   "source": [
    "taxonID_scientificUnder = read_taxonID_uniprot_temp(uniprot_table_address)\n",
    "\n",
    "\n",
    "(scientific_taxonID,taxonID_scientific,common_taxonID,taxonID_uniprot)=read_taxonID_uniprot(uniprot_table_address)\n",
    "\n",
    "(taxonID_omaID,omaID_taxonID,taxonID_scientific,scientific_taxonID)= read_omaID_file(omaID_address)\n"
   ]
  },
  {
   "cell_type": "code",
   "execution_count": null,
   "id": "0530bd7c",
   "metadata": {},
   "outputs": [],
   "source": []
  },
  {
   "cell_type": "code",
   "execution_count": null,
   "id": "a3691613",
   "metadata": {},
   "outputs": [],
   "source": []
  },
  {
   "cell_type": "markdown",
   "id": "58c5d60f",
   "metadata": {},
   "source": [
    "# Reading FastOMA tree - collapsed"
   ]
  },
  {
   "cell_type": "code",
   "execution_count": 148,
   "id": "b298bfec",
   "metadata": {},
   "outputs": [
    {
     "name": "stdout",
     "output_type": "stream",
     "text": [
      "/work/FAC/FBM/DBC/cdessim2/default/smajidi1/fastoma/mammal/mml27/fastoma_core/_100_msa_concatanated.txt.contree_collapsed_94_0.001\n",
      "1 kb\n"
     ]
    }
   ],
   "source": [
    "project_folder_root=\"/work/FAC/FBM/DBC/cdessim2/default/smajidi1/fastoma/mammal/mml27/\"\n",
    "fast_tree_address=project_folder_root+\"fastoma_core/_100_msa_concatanated.txt.contree_collapsed_94_0.001\"\n",
    "\n",
    "print(fast_tree_address)\n",
    "print(round(os.path.getsize(fast_tree_address)/1000),\"kb\")"
   ]
  },
  {
   "cell_type": "code",
   "execution_count": 149,
   "id": "6cfb6250",
   "metadata": {},
   "outputs": [
    {
     "name": "stdout",
     "output_type": "stream",
     "text": [
      "length of tree is  35\n"
     ]
    }
   ],
   "source": [
    "fast_tree= ete3.Tree(fast_tree_address) # ,format=0\n",
    "print(\"length of tree is \",len(fast_tree))\n"
   ]
  },
  {
   "cell_type": "code",
   "execution_count": 150,
   "id": "862a3485",
   "metadata": {},
   "outputs": [
    {
     "data": {
      "text/plain": [
       "'(CARSF:0.00028015,((((MOUSE_:0.00033349,MOUSE:2.0633e-06)100:0.210678,(BOVIN:2.6936e-06,BOVIN_:2.8776e-06)100:0.14873)100:0.0217271,((OTOGA:2.1412e-06,OTOGA_:0.000897753)100:0.0992953,(MICMU:0.0542417,PROCO:0.0299939)100:0.032506)100:0.0244899)100:0.009485,(((((COLAP:2.6025e-06,COLAP_:0.000776573)100:0.00920703,(RHIBE:0.00626211,RHIRO:0.00264543)100:0.00583615)100:0.00470147,((((MACNE:2.6126e-06,MACNE_:0.000722715)100:0.00477208,(MACFA:0.00236727,MACMU:0.0181148)100:0.00107237)100:0.00260139,((MANLE:3.85873e-05,MANLE_:0.000977092)100:0.010936,CERAT:0.00481299,PAPAN:0.0257301)100:0.001499)100:0.00237203,CHLSB:0.0121514)100:0.00481437)100:0.0147691,((((GORGO:2.8658e-06,GORGO_:0.0030146)100:0.014424,HUMAN:0.00452565,((PANTR:0.000411613,PANTR_:0.000123348)100:0.00144724,PANPA:0.00721261)100:0.00269801)100:0.00699361,PONAB:0.0175879)98:0.00186754,NOMLE:0.024434)100:0.00891207)100:0.016736,((SAIBB:0.000393121,SAIBB_:0.000174673)100:0.0215709,CALJA:0.0316806,AOTNA:0.0245271)100:0.032924)100:0.0450451)100:0.120807,CARSF_:0.00109323);'"
      ]
     },
     "execution_count": 150,
     "metadata": {},
     "output_type": "execute_result"
    }
   ],
   "source": [
    "fast_tree.write()"
   ]
  },
  {
   "cell_type": "code",
   "execution_count": 151,
   "id": "e8eab609",
   "metadata": {},
   "outputs": [
    {
     "name": "stdout",
     "output_type": "stream",
     "text": [
      "number of leaves, species, is: 35\n"
     ]
    }
   ],
   "source": [
    "list_species=[]\n",
    "for node in fast_tree.traverse(strategy=\"postorder\"):\n",
    "    if node.is_leaf() :    \n",
    "        list_species.append(node.name)\n",
    "        \n",
    "print(\"number of leaves, species, is:\",len(list_species))"
   ]
  },
  {
   "cell_type": "code",
   "execution_count": 152,
   "id": "f04bda16",
   "metadata": {},
   "outputs": [
    {
     "name": "stdout",
     "output_type": "stream",
     "text": [
      "number of leaves, species, is: 35 25 10\n"
     ]
    }
   ],
   "source": [
    "\n",
    "list_species_tax=[]\n",
    "list_species_omaID=[]\n",
    "no_list=[]\n",
    "for node in fast_tree.traverse(strategy=\"postorder\"):\n",
    "    if node.is_leaf() :    \n",
    "        node_name = node.name\n",
    "        list_species_omaID.append(node_name)\n",
    "        if node_name in omaID_taxonID:\n",
    "            \n",
    "            node_name_tax = omaID_taxonID[node_name]\n",
    "            node.name = node_name_tax            \n",
    "            list_species_tax.append(node_name_tax)\n",
    "        else:\n",
    "            no_list.append(node_name)\n",
    "            \n",
    "print(\"number of leaves, species, is:\",len(list_species_omaID),len(list_species_tax),len(no_list))"
   ]
  },
  {
   "cell_type": "code",
   "execution_count": 153,
   "id": "75638d0d",
   "metadata": {},
   "outputs": [
    {
     "data": {
      "text/plain": [
       "'(1868482:0.00028015,((((MOUSE_:0.00033349,10090:2.0633e-06)100:0.210678,(9913:2.6936e-06,BOVIN_:2.8776e-06)100:0.14873)100:0.0217271,((30611:2.1412e-06,OTOGA_:0.000897753)100:0.0992953,(30608:0.0542417,379532:0.0299939)100:0.032506)100:0.0244899)100:0.009485,(((((336983:2.6025e-06,COLAP_:0.000776573)100:0.00920703,(61621:0.00626211,61622:0.00264543)100:0.00583615)100:0.00470147,((((9545:2.6126e-06,MACNE_:0.000722715)100:0.00477208,(9541:0.00236727,9544:0.0181148)100:0.00107237)100:0.00260139,((9568:3.85873e-05,MANLE_:0.000977092)100:0.010936,9531:0.00481299,9555:0.0257301)100:0.001499)100:0.00237203,60711:0.0121514)100:0.00481437)100:0.0147691,((((9595:2.8658e-06,GORGO_:0.0030146)100:0.014424,9606:0.00452565,((9598:0.000411613,PANTR_:0.000123348)100:0.00144724,9597:0.00721261)100:0.00269801)100:0.00699361,9601:0.0175879)98:0.00186754,61853:0.024434)100:0.00891207)100:0.016736,((39432:0.000393121,SAIBB_:0.000174673)100:0.0215709,9483:0.0316806,37293:0.0245271)100:0.032924)100:0.0450451)100:0.120807,CARSF_:0.00109323);'"
      ]
     },
     "execution_count": 153,
     "metadata": {},
     "output_type": "execute_result"
    }
   ],
   "source": [
    "fast_tree.write()"
   ]
  },
  {
   "cell_type": "code",
   "execution_count": 154,
   "id": "281d7948",
   "metadata": {},
   "outputs": [
    {
     "name": "stdout",
     "output_type": "stream",
     "text": [
      "35\n",
      "25\n"
     ]
    }
   ],
   "source": [
    "print(len(fast_tree))\n",
    "fast_tree.prune(list_species_tax,preserve_branch_length=True)\n",
    "print(len(fast_tree))\n",
    "\n"
   ]
  },
  {
   "cell_type": "code",
   "execution_count": 155,
   "id": "e7d87fb5",
   "metadata": {},
   "outputs": [
    {
     "data": {
      "text/plain": [
       "'(1868482:0.00028015,(((10090:0.21068,9913:0.148733)100:0.0217271,((30608:0.0542417,379532:0.0299939)100:0.032506,30611:0.0992974)100:0.0244899)100:0.009485,(((((61621:0.00626211,61622:0.00264543)100:0.00583615,336983:0.00920963)100:0.00470147,((((9541:0.00236727,9544:0.0181148)100:0.00107237,9545:0.00477469)100:0.00260139,(9531:0.00481299,9555:0.0257301,9568:0.0109746)100:0.001499)100:0.00237203,60711:0.0121514)100:0.00481437)100:0.0147691,(((9606:0.00452565,(9597:0.00721261,9598:0.00185885)100:0.00269801,9595:0.0144269)100:0.00699361,9601:0.0175879)98:0.00186754,61853:0.024434)100:0.00891207)100:0.016736,(9483:0.0316806,37293:0.0245271,39432:0.021964)100:0.032924)100:0.0450451)100:0.120807);'"
      ]
     },
     "execution_count": 155,
     "metadata": {},
     "output_type": "execute_result"
    }
   ],
   "source": [
    "fast_tree.write()"
   ]
  },
  {
   "cell_type": "code",
   "execution_count": null,
   "id": "3509d7f0",
   "metadata": {},
   "outputs": [],
   "source": []
  },
  {
   "cell_type": "code",
   "execution_count": 156,
   "id": "03fe54ea",
   "metadata": {},
   "outputs": [],
   "source": [
    "# list_sepcies_mammal = [10020, 10029, 10036, 10090, 10116, 10141, 10160, 10181, 103600, 116960, 118797, 127582, 132908, 13616, 1706337, 185453, 1868482, 191816, 230844, 2715852, 27622, 29073, 29088, 29139, 30522, 30538, 30611, 310752, 32536, 336983, 34884, 37032, 37293, 379532, 38626, 391180, 39432, 40151, 419612, 43179, 43346, 46360, 51298, 56216, 59463, 59472, 59479, 60711, 61621, 61622, 61853, 72004, 77932, 885580, 89673, 9258, 9305, 9365, 9402, 9407, 9483, 9515, 9531, 9541, 9544, 9545, 9555, 9568, 9595, 9597, 9598, 9601, 9606, 9615, 9627, 9643, 9646, 9669, 9678, 9685, 9696, 9708, 9713, 9739, 9749, 9755, 9764, 9770, 9785, 9796, 9823, 9838, 9880, 9886, 9913, 9915, 9925, 9940, 9986, 9995]\n",
    "# #outgroups=[8364, 9031] # frog chicken\n",
    "# list_sepcies_str=[str(i) for i in list_sepcies_mammal]\n",
    "\n",
    "# print(len(fast_tree))\n",
    "# fast_tree.prune(list_sepcies_str)\n",
    "# print(len(fast_tree))\n",
    "\n",
    "# fast_tree.set_outgroup(\"9258\") \n",
    "# # frog 8364\n",
    "# # 9258  Ornithorhynchus anatinus (Duckbill platypus)\n"
   ]
  },
  {
   "cell_type": "markdown",
   "id": "1b3f71e9",
   "metadata": {},
   "source": [
    "# Reading  NCBI tree"
   ]
  },
  {
   "cell_type": "code",
   "execution_count": 157,
   "id": "2b5438d2",
   "metadata": {},
   "outputs": [
    {
     "name": "stdout",
     "output_type": "stream",
     "text": [
      "25\n"
     ]
    }
   ],
   "source": [
    " \n",
    "ncbi_taxon_list = list_species_tax\n",
    "\n",
    "\n",
    "ncbi = ete3.NCBITaxa()  # first time download in ~/.etetoolkit/\n",
    "ncbi_sub_tree = ncbi.get_topology(ncbi_taxon_list)\n",
    "\n",
    "print(len(ncbi_sub_tree))"
   ]
  },
  {
   "cell_type": "code",
   "execution_count": null,
   "id": "aeb099b4",
   "metadata": {},
   "outputs": [],
   "source": []
  },
  {
   "cell_type": "code",
   "execution_count": 158,
   "id": "bb8b83f3",
   "metadata": {},
   "outputs": [
    {
     "data": {
      "text/plain": [
       "'((((((((((9597:1,9598:1)1:1,9606:1,9595:1)1:1,9601:1)1:1,61853:1)1:1,(((9541:1,9544:1,9545:1)1:1,60711:1,9531:1,9555:1,9568:1)1:1,((61621:1,61622:1)1:1,336983:1)1:1)1:1)1:1,((39432:1,9483:1)1:1,37293:1)1:1)1:1,1868482:1)1:1,((379532:1,30608:1)1:1,30611:1)1:1)1:1,10090:1)1:1,9913:1);'"
      ]
     },
     "execution_count": 158,
     "metadata": {},
     "output_type": "execute_result"
    }
   ],
   "source": [
    "ncbi_sub_tree.write()"
   ]
  },
  {
   "cell_type": "markdown",
   "id": "b86bc637",
   "metadata": {},
   "source": [
    "# RF distance"
   ]
  },
  {
   "cell_type": "code",
   "execution_count": 159,
   "id": "758e5bf5",
   "metadata": {},
   "outputs": [],
   "source": [
    "# pron fastoma\n",
    "\n",
    "\n",
    "# print(len(fast_tree))\n",
    "# fast_tree.prune(list_sepcies_str)\n",
    "# print(len(fast_tree))\n",
    "\n",
    "\n"
   ]
  },
  {
   "cell_type": "code",
   "execution_count": 160,
   "id": "bdbbcbde",
   "metadata": {},
   "outputs": [],
   "source": [
    "def parition_editor(partitions_input,intersect_leaves):\n",
    "    pivot_species= sorted(intersect_leaves)[0]\n",
    "    partitions_ed=[]\n",
    "    for parition in  partitions_input:\n",
    "        #parition=set(parition)\n",
    "        if len(parition)<len(intersect_leaves)/2 and len(parition)>1:  # removing partitions with length of 0/1 \n",
    "            partitions_ed.append(parition)\n",
    "        if len(parition)>len(intersect_leaves)/2 and len(parition)<len(intersect_leaves)-1:\n",
    "            partitions_ed.append(tuple(intersect_leaves-set(parition)))\n",
    "        if len(parition)==len(intersect_leaves)/2 and pivot_species not in parition: # make sure alwyas one half is there\n",
    "            partitions_ed.append(tuple(intersect_leaves-set(parition)))\n",
    "            \n",
    "    # partitions = [e for e in edges if n > len(e) > 1]\n",
    "    # partitions = list(map(lambda p: p if len(p) <= n/2 else all_species -set(p), partitions)      \n",
    "    # if len(p) < n/2 or len(p) == n/2 and pivot_species in p: return p\n",
    "    # else: return all_species - set(p)   \n",
    "    return partitions_ed\n",
    "        \n",
    "        "
   ]
  },
  {
   "cell_type": "code",
   "execution_count": 162,
   "id": "3b0c1af5",
   "metadata": {},
   "outputs": [],
   "source": [
    "fast_tree.set_outgroup(\"9913\")  # bovin"
   ]
  },
  {
   "cell_type": "code",
   "execution_count": 163,
   "id": "a6ea6543",
   "metadata": {},
   "outputs": [
    {
     "data": {
      "text/plain": [
       "'(9913:0.0743665,(10090:0.21068,(((30608:0.0542417,379532:0.0299939)100:0.032506,30611:0.0992974)100:0.0244899,((((((61621:0.00626211,61622:0.00264543)100:0.00583615,336983:0.00920963)100:0.00470147,((((9541:0.00236727,9544:0.0181148)100:0.00107237,9545:0.00477469)100:0.00260139,(9531:0.00481299,9555:0.0257301,9568:0.0109746)100:0.001499)100:0.00237203,60711:0.0121514)100:0.00481437)100:0.0147691,(((9606:0.00452565,(9597:0.00721261,9598:0.00185885)100:0.00269801,9595:0.0144269)100:0.00699361,9601:0.0175879)98:0.00186754,61853:0.024434)100:0.00891207)100:0.016736,(9483:0.0316806,37293:0.0245271,39432:0.021964)100:0.032924)100:0.0450451,1868482:0.121087)100:0.009485)100:0.0217271)1:0.0743665);'"
      ]
     },
     "execution_count": 163,
     "metadata": {},
     "output_type": "execute_result"
    }
   ],
   "source": [
    "fast_tree.write()"
   ]
  },
  {
   "cell_type": "code",
   "execution_count": 161,
   "id": "e6c93aae",
   "metadata": {},
   "outputs": [
    {
     "name": "stdout",
     "output_type": "stream",
     "text": [
      "RF distance is 4 over a total of 38\n",
      "in fast: 19 , in ncbi: 17\n",
      "in both fast and ncbi: 16\n",
      "only in ncbi, not in fast: 1\n",
      "only in fast, not in ncbi: 3\n"
     ]
    }
   ],
   "source": [
    "fast_tree.set_outgroup(\"9913\")  # bovin\n",
    "\n",
    "\n",
    "\n",
    "intersection_sets= set(ncbi_taxon_list)\n",
    "\n",
    "out_fast_ncbi = fast_tree.robinson_foulds(ncbi_sub_tree)\n",
    "(rf_fast_ncbi, maxparts_fast_ncbi, common_attrs, partitions_fast_raw, partitions_ncbi_raw, discard_t1, discard_t2)=out_fast_ncbi \n",
    "#partitions_fast = set(parition_editor(partitions_fast_raw, intersection_sets))\n",
    "#partitions_ncbi = set(parition_editor(partitions_ncbi_raw, intersection_sets))\n",
    "\n",
    "print(\"RF distance is %s over a total of %s\" %(rf_fast_ncbi, maxparts_fast_ncbi))\n",
    "print(\"in fast:\",len(partitions_fast),\", in ncbi:\",len(partitions_ncbi)) # , \"Common Partitions\",len(common_attrs_paper),)\n",
    "print(\"in both fast and ncbi:\", len(partitions_ncbi & partitions_fast))\n",
    "print(\"only in ncbi, not in fast:\", len(partitions_ncbi-partitions_fast)) # order not sure  http://etetoolkit.org/docs/latest/tutorial/tutorial_trees.html#robinson-foulds-distance\n",
    "print(\"only in fast, not in ncbi:\", len(partitions_fast-partitions_ncbi))\n",
    "\n",
    "\n"
   ]
  },
  {
   "cell_type": "code",
   "execution_count": 146,
   "id": "e96519b4",
   "metadata": {},
   "outputs": [
    {
     "name": "stdout",
     "output_type": "stream",
     "text": [
      "[]\n"
     ]
    }
   ],
   "source": [
    "no_list=[]\n",
    "for node in fast_tree.traverse(strategy=\"postorder\"):\n",
    "    if node.is_leaf() :           \n",
    "        #fast_tree_leaves.append(node.name)\n",
    "        #old_node_name\n",
    "        if node.name in common_taxonID:\n",
    "            node_name = common_taxonID[node.name]\n",
    "            node.name=node_name + \"_\"+node.name\n",
    "        elif node.name=='30608' : node.name=\"Lesser mouse lemur_30608\"\n",
    "        else:\n",
    "            no_list.append(node.name)\n",
    "        \n",
    "print(no_list)"
   ]
  },
  {
   "cell_type": "code",
   "execution_count": null,
   "id": "c86d429b",
   "metadata": {},
   "outputs": [],
   "source": []
  },
  {
   "cell_type": "code",
   "execution_count": 125,
   "id": "df772dd8",
   "metadata": {},
   "outputs": [
    {
     "name": "stdout",
     "output_type": "stream",
     "text": [
      "['Pygmy chimpanzee_9597', 'Chimpanzee_9598', 'Human_9606', 'Western lowland gorilla_9595', 'Sumatran orangutan_9601', 'Northern white-cheeked gibbon_61853', 'Crab-eating macaque_9541', 'Rhesus macaque_9544', 'Pig-tailed macaque_9545', 'Green monkey_60711', 'Sooty mangabey_9531', 'Olive baboon_9555', 'Drill_9568', 'Black snub-nosed monkey_61621', 'Golden snub-nosed monkey_61622', \"Peters' Angolan colobus_336983\", 'Bolivian squirrel monkey_39432', 'White-tufted-ear marmoset_9483', \"Ma's night monkey_37293\", 'Philippine tarsier_1868482', \"Coquerel's sifaka_379532\", 'Lesser mouse lemur_30608', 'Small-eared galago_30611', 'Mouse_10090', 'Bovine_9913']\n"
     ]
    }
   ],
   "source": [
    "no_list=[]\n",
    "for node in ncbi_sub_tree.traverse(strategy=\"postorder\"):\n",
    "    if node.is_leaf() :           \n",
    "        if node.name in common_taxonID:\n",
    "            node_name = common_taxonID[node.name]\n",
    "            node.name=node_name + \"_\"+node.name\n",
    "        elif node.name=='30608' : node.name=\"Lesser mouse lemur_30608\"\n",
    "        else:\n",
    "            no_list.append(node.name)\n",
    "        \n",
    "print(no_list)"
   ]
  },
  {
   "cell_type": "code",
   "execution_count": 126,
   "id": "eafefadc",
   "metadata": {},
   "outputs": [
    {
     "data": {
      "text/plain": [
       "\"((((((((((Pygmy chimpanzee_9597:1,Chimpanzee_9598:1)1:1,Human_9606:1,Western lowland gorilla_9595:1)1:1,Sumatran orangutan_9601:1)1:1,Northern white-cheeked gibbon_61853:1)1:1,(((Crab-eating macaque_9541:1,Rhesus macaque_9544:1,Pig-tailed macaque_9545:1)1:1,Green monkey_60711:1,Sooty mangabey_9531:1,Olive baboon_9555:1,Drill_9568:1)1:1,((Black snub-nosed monkey_61621:1,Golden snub-nosed monkey_61622:1)1:1,Peters' Angolan colobus_336983:1)1:1)1:1)1:1,((Bolivian squirrel monkey_39432:1,White-tufted-ear marmoset_9483:1)1:1,Ma's night monkey_37293:1)1:1)1:1,Philippine tarsier_1868482:1)1:1,((Coquerel's sifaka_379532:1,Lesser mouse lemur_30608:1)1:1,Small-eared galago_30611:1)1:1)1:1,Mouse_10090:1)1:1,Bovine_9913:1);\""
      ]
     },
     "execution_count": 126,
     "metadata": {},
     "output_type": "execute_result"
    }
   ],
   "source": [
    "ncbi_sub_tree.write()"
   ]
  },
  {
   "cell_type": "code",
   "execution_count": 127,
   "id": "5516a35d",
   "metadata": {},
   "outputs": [
    {
     "data": {
      "text/plain": [
       "\"(Bovine_9913:0.0743665,(Mouse_10090:0.21068,(((Lesser mouse lemur_30608:0.0542417,Coquerel's sifaka_379532:0.0299939)100:0.032506,Small-eared galago_30611:0.0992974)100:0.0244899,((((((Black snub-nosed monkey_61621:0.00626211,Golden snub-nosed monkey_61622:0.00264543)100:0.00583615,Peters' Angolan colobus_336983:0.00920963)100:0.00470147,((((Crab-eating macaque_9541:0.00236727,Rhesus macaque_9544:0.0181148)100:0.00107237,Pig-tailed macaque_9545:0.00477469)100:0.00260139,(Sooty mangabey_9531:0.00481299,Olive baboon_9555:0.0257301,Drill_9568:0.0109746)100:0.001499)100:0.00237203,Green monkey_60711:0.0121514)100:0.00481437)100:0.0147691,(((Human_9606:0.00452565,(Pygmy chimpanzee_9597:0.00721261,Chimpanzee_9598:0.00185885)100:0.00269801,Western lowland gorilla_9595:0.0144269)100:0.00699361,Sumatran orangutan_9601:0.0175879)98:0.00186754,Northern white-cheeked gibbon_61853:0.024434)100:0.00891207)100:0.016736,(White-tufted-ear marmoset_9483:0.0316806,Ma's night monkey_37293:0.0245271,Bolivian squirrel monkey_39432:0.021964)100:0.032924)100:0.0450451,Philippine tarsier_1868482:0.121087)100:0.009485)100:0.0217271)1:0.0743665);\""
      ]
     },
     "execution_count": 127,
     "metadata": {},
     "output_type": "execute_result"
    }
   ],
   "source": [
    "fast_tree.write()"
   ]
  },
  {
   "cell_type": "markdown",
   "id": "cce33541",
   "metadata": {},
   "source": [
    "## fast tree with oma species"
   ]
  },
  {
   "cell_type": "code",
   "execution_count": 53,
   "id": "d8cb4903",
   "metadata": {},
   "outputs": [],
   "source": [
    "# ##oma_standalon backbone species names\n",
    "# import pyoma.browser.db as db\n",
    "# project_folder_root=\"/work/FAC/FBM/DBC/cdessim2/default/smajidi1/fastoma/mammal/old/mml6/\"\n",
    "# oma_database_address=project_folder_root+\"omamer_database/oma_path/OmaServer.h5\"\n",
    "# oma_db = db.Database(oma_database_address);\n",
    "# print(oma_db.tax.as_dict())\n",
    "#dic1['children'][0]['children']\n",
    "\n",
    "dic_oma={'S0005':'rabbit', 'S0003':'human', 'S0006':'redfox', 'S0004':'opossum', 'S0001':'chicken','S0002':'frog'}\n",
    "#{'rabbit':'S0005', 'human':'S0003', 'redfox': 'S0006', 'opossum':'S0004', 'chicken':'S0001','frog':'S0002'}\n"
   ]
  },
  {
   "cell_type": "code",
   "execution_count": 123,
   "id": "3ea32c22",
   "metadata": {},
   "outputs": [
    {
     "name": "stdout",
     "output_type": "stream",
     "text": [
      "length of tree is  106\n"
     ]
    }
   ],
   "source": [
    "project_folder_root=\"/work/FAC/FBM/DBC/cdessim2/default/smajidi1/fastoma/mammal/old/mml6/\"\n",
    "fast_tree_address=project_folder_root+\"fastoma_core/_80_msa_concatanated.txt.contree_collapsed_94_0.001\"\n",
    "fast_tree= ete3.Tree(fast_tree_address) # ,format=0\n",
    "print(\"length of tree is \",len(fast_tree))\n"
   ]
  },
  {
   "cell_type": "code",
   "execution_count": 124,
   "id": "fc18fce7",
   "metadata": {},
   "outputs": [
    {
     "name": "stdout",
     "output_type": "stream",
     "text": [
      "[]\n"
     ]
    }
   ],
   "source": [
    "no_list=[]\n",
    "for node in fast_tree.traverse(strategy=\"postorder\"):\n",
    "    if node.is_leaf() :           \n",
    "        #fast_tree_leaves.append(node.name)\n",
    "        #old_node_name\n",
    "        if node.name in dic_oma:\n",
    "            node_name = dic_oma[node.name]\n",
    "            node.name=node_name + \"_\"+node.name\n",
    "        elif node.name in common_taxonID:\n",
    "            node_name = common_taxonID[node.name]\n",
    "            node.name=node_name + \"_\"+node.name\n",
    "        else:\n",
    "            no_list.append(node.name)\n",
    "        \n",
    "print(no_list)"
   ]
  },
  {
   "cell_type": "code",
   "execution_count": 125,
   "id": "73c85a94",
   "metadata": {},
   "outputs": [
    {
     "data": {
      "text/plain": [
       "\"(Woodchuck_9995:0.084045,(((((((((chicken_S0001:0.517922,frog_S0002:1.07042)100:0.25737,Duckbill platypus_9258:0.489739)100:0.109957,((opossum_S0004:0.0127119,Gray short-tailed opossum_13616:0.0134576)100:0.182355,((Common wombat_29139:0.0527533,Koala_38626:0.0743597)100:0.0463351,Tasmanian devil_9305:0.133627)100:0.0339538)100:0.205577)100:0.249763,(Cape golden mole_185453:0.123135,(African elephant_9785:0.108137,Florida manatee_127582:0.134361)100:0.0299639)100:0.0351478)100:0.031428,(((((redfox_S0006:0.00288461,Red fox_9627:0.0386279)100:0.0257007,Dog_9615:0.0899157)100:0.0840888,((((Ursus arctos horribilis_116960:0.0376507,Polar bear_29073:0.0532596)100:0.0267977,American black bear_9643:0.0898698)100:0.0141929,Giant panda_9646:0.0463131)100:0.0416664,((Northern fur seal_34884:0.036743,Weddell seal_9713:0.0847435)100:0.0192564,European domestic ferret_9669:0.0653878)100:0.0114491)100:0.0216982)100:0.0416462,((Hawaiian monk seal_29088:0.046921,Pacific walrus_9708:0.0294152)100:0.0213874,Enhydra lutris kenyoni_391180:0.0685175)100:0.00914826)100:0.0207571,((Mountain lion_9696:0.106927,((Cheetah_32536:0.0355857,Cat_9685:0.0490596)98:0.0170381,Iberian lynx_191816:0.0600047)98:0.0270775)100:0.0559233,(Spotted hyena_9678:0.112771,Meerkat_37032:0.0877379)100:0.0161824)100:0.0285432)100:0.0398494,Western European hedgehog_9365:0.267184,(((((Greater mouse-eared bat_51298:0.0791654,Little brown bat_59463:0.086469)100:0.01742,Kuhl's pipistrelle_59472:0.0928984)100:0.0628087,Pallas' mastiff bat_27622:0.118451)100:0.0160516,pale spear-nosed bat_89673:0.173448)100:0.0228006,(Greater horseshoe bat_59479:0.126785,((Black flying fox_9402:0.0407605,Large flying fox_132908:0.0288155)100:0.0248472,Egyptian rousette_9407:0.123441)100:0.0656974)99:0.0104615)100:0.0392945,(South-central black rhinoceros_77932:0.120651,Horse_9796:0.111775)100:0.0436179,((Pig_9823:0.132651,(((Goat_9925:0.0261463,Sheep_9940:0.0736477)100:0.0195672,(Bison bison bison_43346:0.039215,(Zebu_9915:0.0140608,Hybrid cattle_30522:0.0293673)100:0.0294002,(wild yak_72004:0.0372639,Bovine_9913:0.0452596)100:0.0142577)99:0.0199825)99:0.0148312,(Reeves' muntjac_9886:0.0335833,Odocoileus virginianus texanus_9880:0.0363186)100:0.025925,European red deer_46360:0.118797)100:0.0602627,(Beluga whale_9749:0.0256737,Sperm whale_9755:0.0701841,Yangtze finless porpoise_1706337:0.0152068,Atlantic bottle-nosed dolphin_9739:0.0350161,(California gray whale_9764:0.104376,Fin whale_9770:0.12889)100:0.0303121,North Pacific minke whale_310752:0.0146968,Narwhal_40151:0.0383662,Yangtze river dolphin_118797:0.0429396,Indo-pacific humpbacked dolphin_103600:0.0544254)100:0.0653655)99:0.0143468,((Dromedary_9838:0.0472753,Wild bactrian camel_419612:0.126966)100:0.031128,Alpaca_30538:0.0357629)100:0.0839566)100:0.0520496)100:0.0206517,(((((human_S0003:0.036756,Western lowland gorilla_9595:0.0182655,Northern white-cheeked gibbon_61853:0.100254,(Chimpanzee_9598:0.00223123,Pygmy chimpanzee_9597:0.0267664)100:0.0113431,Human_9606:0.0350712)97:0.00568846,Sumatran orangutan_9601:0.0409187)100:0.0157058,((((Crab-eating macaque_9541:0.0232186,Green monkey_60711:0.0387196,Peters' Angolan colobus_336983:0.0512335,Sooty mangabey_9531:0.0239128,Olive baboon_9555:0.0217266)100:0.0278658,Pig-tailed macaque_9545:0.012668)100:0.0355305,Drill_9568:0.0141088)100:0.0304746,Rhesus macaque_9544:0.049028,(Black snub-nosed monkey_61621:0.0342661,Golden snub-nosed monkey_61622:0.0128414)98:0.0152949)100:0.0185887)100:0.0168892,(Bolivian squirrel monkey_39432:0.0584067,Brown-capped capuchin_9515:0.0235595,Ma's night monkey_37293:0.0543629,White-tufted-ear marmoset_9483:0.0941155,Panamanian white-faced capuchin_2715852:0.0295735)100:0.0335871)100:0.0635042,Philippine tarsier_1868482:0.111823,(Small-eared galago_30611:0.180187,Coquerel's sifaka_379532:0.0905278)100:0.0274246)100:0.0180512)100:0.0189309,(rabbit_S0005:0.0538384,Rabbit_9986:0.0481704)100:0.199867)100:0.0373758,((Damaraland mole rat_885580:0.100972,Naked mole rat_10181:0.115707)100:0.0873961,(Degu_10160:0.116952,Guinea pig_10141:0.113435)100:0.0487088)100:0.0734684)98:0.0182898,((((Golden hamster_10036:0.0649813,Chinese hamster_10029:0.14579)100:0.0250352,(Prairie deer mouse_230844:0.0620428,Desert woodrat_56216:0.1181)100:0.00961938)100:0.0324237,(Mouse_10090:0.06538,Rat_10116:0.0614504)100:0.0340806)100:0.131651,Ord's kangaroo rat_10020:0.181902)100:0.0239949)100:0.0897991,Thirteen-lined ground squirrel_43179:0.0620195);\""
      ]
     },
     "execution_count": 125,
     "metadata": {},
     "output_type": "execute_result"
    }
   ],
   "source": [
    "fast_tree.write()"
   ]
  },
  {
   "cell_type": "code",
   "execution_count": null,
   "id": "fcb19f2c",
   "metadata": {},
   "outputs": [],
   "source": []
  },
  {
   "cell_type": "code",
   "execution_count": null,
   "id": "3d8ce711",
   "metadata": {},
   "outputs": [],
   "source": []
  },
  {
   "cell_type": "markdown",
   "id": "876c7e94",
   "metadata": {},
   "source": [
    "## Standard OMA  -slow"
   ]
  },
  {
   "cell_type": "code",
   "execution_count": 107,
   "id": "e600757d",
   "metadata": {},
   "outputs": [
    {
     "name": "stdout",
     "output_type": "stream",
     "text": [
      "73\n"
     ]
    }
   ],
   "source": [
    "\n",
    "slow_tree_address=\"/work/FAC/FBM/DBC/cdessim2/default/smajidi1/fastoma/mammal/old/mml_v1/marker_genes/tree/\"\n",
    "\n",
    "#project_folder = project_folder_root +\"proteome/\" # fastoma_out\n",
    "slow_tree_address=slow_tree_address+\"/_100_msa_concatanated.txt.contree\"  # _collapsed_brnch_0.01# 1e-05\" # \n",
    "slow_tree_address += \"_collapsed2_95\"\n",
    "\n",
    "slow_tree= ete3.Tree(slow_tree_address) # ,format=0\n",
    "print(len(slow_tree))\n"
   ]
  },
  {
   "cell_type": "code",
   "execution_count": 108,
   "id": "e2f5ce75",
   "metadata": {},
   "outputs": [
    {
     "name": "stdout",
     "output_type": "stream",
     "text": [
      "[]\n"
     ]
    }
   ],
   "source": [
    "no_list=[]\n",
    "slow_species_taxon=[]\n",
    "for node in slow_tree.traverse(strategy=\"postorder\"):\n",
    "    if node.is_leaf() :           \n",
    "        if node.name in omaID_taxonID:\n",
    "            node_name = omaID_taxonID[node.name]\n",
    "            node.name=  node_name \n",
    "            slow_species_taxon.append(node_name)\n",
    "        else:\n",
    "            no_list.append(node.name)\n",
    "        \n",
    "print(no_list)"
   ]
  },
  {
   "cell_type": "code",
   "execution_count": null,
   "id": "b3ef2a5a",
   "metadata": {},
   "outputs": [],
   "source": []
  },
  {
   "cell_type": "code",
   "execution_count": 109,
   "id": "41a12165",
   "metadata": {},
   "outputs": [
    {
     "name": "stdout",
     "output_type": "stream",
     "text": [
      "length of tree is  106\n",
      "106 73\n",
      "54 54\n"
     ]
    }
   ],
   "source": [
    "fast_tree= ete3.Tree(fast_tree_address) # ,format=0\n",
    "print(\"length of tree is \",len(fast_tree))\n",
    "\n",
    "\n",
    "intersection_slow_fast=set(slow_species_taxon) & set(list_sepcies_str)\n",
    "\n",
    "print(len(fast_tree),len(slow_tree))\n",
    "fast_tree.prune(intersection_slow_fast)\n",
    "slow_tree.prune(intersection_slow_fast)\n",
    "print(len(fast_tree),len(slow_tree))\n"
   ]
  },
  {
   "cell_type": "code",
   "execution_count": null,
   "id": "446e6e06",
   "metadata": {},
   "outputs": [],
   "source": []
  },
  {
   "cell_type": "code",
   "execution_count": 111,
   "id": "2a0539a0",
   "metadata": {},
   "outputs": [
    {
     "data": {
      "text/plain": [
       "'((((((((((9305:0.133627,38626:0.0743597)100:0.0339538,13616:0.0134576)100:0.205577,9258:0.489739)100:0.249763,9785:0.108137)100:0.031428,(((9615:0.0899157,9627:0.0386279)100:0.0840888,(((9643:0.0898698,29073:0.0532596)100:0.0141929,9646:0.0463131)100:0.0416664,9669:0.0653878)100:0.0216982)100:0.0416462,9685:0.0490596)100:0.0398494,9365:0.267184,(59463:0.086469,132908:0.0288155)100:0.0392945,((9823:0.132651,((9925:0.0261463,9940:0.0736477)100:0.0195672,9913:0.0452596)99:0.0148312,9739:0.0350161)99:0.0143468,30538:0.0357629)100:0.0520496,9796:0.111775)100:0.0206517,(((((9595:0.0182655,61853:0.100254,(9598:0.00223123,9597:0.0267664)100:0.0113431,9606:0.0350712)97:0.00568846,9601:0.0409187)100:0.0157058,((((9541:0.0232186,60711:0.0387196,336983:0.0512335,9531:0.0239128,9555:0.0217266)100:0.0278658,9545:0.012668)100:0.0355305,9568:0.0141088)100:0.0304746,9544:0.049028,(61621:0.0342661,61622:0.0128414)98:0.0152949)100:0.0185887)100:0.0168892,(39432:0.0584067,37293:0.0543629,9483:0.0941155)100:0.0335871)100:0.0635042,1868482:0.111823,(30611:0.180187,379532:0.0905278)100:0.0274246)100:0.0180512)100:0.0189309,9986:0.0481704)100:0.0373758,((885580:0.100972,10181:0.115707)100:0.0873961,(10160:0.116952,10141:0.113435)100:0.0487088)100:0.0734684)98:0.0182898,(((10090:0.06538,10116:0.0614504)100:0.0340806,10029:0.14579)100:0.131651,10020:0.181902)100:0.0239949)100:0.0897991,43179:0.0620195);'"
      ]
     },
     "execution_count": 111,
     "metadata": {},
     "output_type": "execute_result"
    }
   ],
   "source": [
    "fast_tree.write()"
   ]
  },
  {
   "cell_type": "code",
   "execution_count": 118,
   "id": "486ad8f5",
   "metadata": {},
   "outputs": [
    {
     "data": {
      "text/plain": [
       "'(9258:0.122803,(((9305:0.0722382,38626:0.0468862)100:0.0153799,13616:0.0639366)100:0.109834,(9785:0.052633,(((((((9913:0.0203612,(9925:0.0125712,9940:0.0137238)100:0.0123275)100:0.048297,9739:0.041951)100:0.0113742,9823:0.0660524)100:0.00647328,30538:0.0608714)100:0.0188568,(132908:0.0581113,59463:0.0975341)100:0.0136139,9796:0.00790976,(((9615:0.0114767,9627:0.0191856)100:0.0334084,(9669:0.0429804,(9646:0.0161778,(9643:0.0184356,29073:0.0111928)100:0.00861937)100:0.0177546)100:0.00740173)100:0.00902078,9685:0.0459505)100:0.0207327)100:0.00369637,9365:0.117369)100:0.0105878,((((10020:0.102076,(10029:0.0527928,(10090:0.0363256,10116:0.041849)100:0.0322345)100:0.0412189)100:0.0113364,((885580:0.0499119,10181:0.0442126)100:0.0183252,(10141:0.0130328,10160:0.0674546)100:0.0129456)100:0.0463194,43179:0.078425)100:0.011774,9986:0.0580404)100:0.00776214,((((((((9531:0.00675123,9568:0.00679829)100:0.00160338,(9541:0.00234823,9545:0.00632677)100:0.00212999,9555:0.00975375,9544:0.0134229)98:0.00156965,60711:0.00906466)98:0.00281844,(336983:0.00856147,(61621:0.00800209,61622:0.0021429)100:0.00604372)100:0.00532187)100:0.00926969,(((9595:0.0155137,(9606:0.00343358,(9597:0.0032464,9598:0.00180742)100:0.00320604)100:0.000880488)100:0.00337882,9601:0.0111096)100:0.00147767,61853:0.0174695)100:0.00455618)100:0.010335,((37293:0.0207999,39432:0.0197684)100:0.00198018,9483:0.0229608)100:0.0191076)100:0.0292825,1868482:0.0708672)100:0.00571518,(30611:0.0683307,379532:0.0268092)100:0.0161804)100:0.00814351)100:0.00990214)100:0.00891407)100:0.123527)1:0.122803);'"
      ]
     },
     "execution_count": 118,
     "metadata": {},
     "output_type": "execute_result"
    }
   ],
   "source": [
    "slow_tree.write()"
   ]
  },
  {
   "cell_type": "code",
   "execution_count": null,
   "id": "b09dc8b3",
   "metadata": {},
   "outputs": [],
   "source": []
  },
  {
   "cell_type": "code",
   "execution_count": 120,
   "id": "c60ddbe1",
   "metadata": {},
   "outputs": [
    {
     "name": "stdout",
     "output_type": "stream",
     "text": [
      "100\n"
     ]
    }
   ],
   "source": [
    "\n",
    "ncbi_taxon_list = list_sepcies_str\n",
    "\n",
    "\n",
    "ncbi = ete3.NCBITaxa()  # first time download in ~/.etetoolkit/\n",
    "ncbi_sub_tree = ncbi.get_topology(ncbi_taxon_list)\n",
    "\n",
    "print(len(ncbi_sub_tree))"
   ]
  },
  {
   "cell_type": "code",
   "execution_count": 121,
   "id": "e190b41d",
   "metadata": {},
   "outputs": [
    {
     "name": "stdout",
     "output_type": "stream",
     "text": [
      "RF distance is 14 over a total of 84\n",
      "in slow: 47 , in ncbi: 37\n",
      "in both slow and ncbi: 35\n",
      "only in ncbi, not in slow: 2\n",
      "only in slow, not in ncbi: 12\n"
     ]
    }
   ],
   "source": [
    "slow_tree.set_outgroup(\"9258\") \n",
    "\n",
    "\n",
    "out_slow_ncbi = slow_tree.robinson_foulds(ncbi_sub_tree)\n",
    "(rf_slow_ncbi, maxparts_slow_ncbi, common_attrs, partitions_slow_raw, partitions_ncbi_raw, discard_t1, discard_t2)=out_slow_ncbi \n",
    "partitions_slow = set(parition_editor(partitions_slow_raw, intersection_sets))\n",
    "partitions_ncbi = set(parition_editor(partitions_ncbi_raw, intersection_sets))\n",
    "\n",
    "print(\"RF distance is %s over a total of %s\" %(rf_slow_ncbi, maxparts_slow_ncbi))\n",
    "print(\"in slow:\",len(partitions_slow),\", in ncbi:\",len(partitions_ncbi)) # , \"Common Partitions\",len(common_attrs_paper),)\n",
    "print(\"in both slow and ncbi:\", len(partitions_ncbi & partitions_slow))\n",
    "print(\"only in ncbi, not in slow:\", len(partitions_ncbi-partitions_slow)) # order not sure  http://etetoolkit.org/docs/latest/tutorial/tutorial_trees.html#robinson-foulds-distance\n",
    "print(\"only in slow, not in ncbi:\", len(partitions_slow-partitions_ncbi))\n"
   ]
  },
  {
   "cell_type": "code",
   "execution_count": 122,
   "id": "c6ed1747",
   "metadata": {},
   "outputs": [
    {
     "name": "stdout",
     "output_type": "stream",
     "text": [
      "RF distance is 30 over a total of 76\n",
      "in fast: 40 , in ncbi: 37\n",
      "in both fast and ncbi: 24\n",
      "only in ncbi, not in fast: 13\n",
      "only in fast, not in ncbi: 16\n"
     ]
    }
   ],
   "source": [
    "\n",
    "intersection_sets= set(list_sepcies_str)\n",
    "\n",
    "out_fast_ncbi = fast_tree.robinson_foulds(ncbi_sub_tree)\n",
    "(rf_fast_ncbi, maxparts_fast_ncbi, common_attrs, partitions_fast_raw, partitions_ncbi_raw, discard_t1, discard_t2)=out_fast_ncbi \n",
    "partitions_fast = set(parition_editor(partitions_fast_raw, intersection_sets))\n",
    "partitions_ncbi = set(parition_editor(partitions_ncbi_raw, intersection_sets))\n",
    "\n",
    "print(\"RF distance is %s over a total of %s\" %(rf_fast_ncbi, maxparts_fast_ncbi))\n",
    "print(\"in fast:\",len(partitions_fast),\", in ncbi:\",len(partitions_ncbi)) # , \"Common Partitions\",len(common_attrs_paper),)\n",
    "print(\"in both fast and ncbi:\", len(partitions_ncbi & partitions_fast))\n",
    "print(\"only in ncbi, not in fast:\", len(partitions_ncbi-partitions_fast)) # order not sure  http://etetoolkit.org/docs/latest/tutorial/tutorial_trees.html#robinson-foulds-distance\n",
    "print(\"only in fast, not in ncbi:\", len(partitions_fast-partitions_ncbi))\n",
    "\n",
    "\n"
   ]
  },
  {
   "cell_type": "code",
   "execution_count": null,
   "id": "8b5562fc",
   "metadata": {},
   "outputs": [],
   "source": []
  },
  {
   "cell_type": "code",
   "execution_count": 112,
   "id": "e62fc310",
   "metadata": {},
   "outputs": [
    {
     "ename": "NameError",
     "evalue": "name 'partitions_slow' is not defined",
     "output_type": "error",
     "traceback": [
      "\u001b[0;31m---------------------------------------------------------------------------\u001b[0m",
      "\u001b[0;31mNameError\u001b[0m                                 Traceback (most recent call last)",
      "\u001b[0;32m/tmp/ipykernel_2750749/3805997084.py\u001b[0m in \u001b[0;36m<module>\u001b[0;34m\u001b[0m\n\u001b[0;32m----> 1\u001b[0;31m \u001b[0mprint\u001b[0m\u001b[0;34m(\u001b[0m\u001b[0;34m\"only in fastOMA:\"\u001b[0m\u001b[0;34m,\u001b[0m \u001b[0mlen\u001b[0m\u001b[0;34m(\u001b[0m\u001b[0;34m(\u001b[0m\u001b[0mpartitions_fast\u001b[0m \u001b[0;34m-\u001b[0m \u001b[0mpartitions_ncbi\u001b[0m\u001b[0;34m)\u001b[0m \u001b[0;34m-\u001b[0m \u001b[0mpartitions_slow\u001b[0m\u001b[0;34m)\u001b[0m\u001b[0;34m)\u001b[0m\u001b[0;34m\u001b[0m\u001b[0;34m\u001b[0m\u001b[0m\n\u001b[0m\u001b[1;32m      2\u001b[0m \u001b[0mprint\u001b[0m\u001b[0;34m(\u001b[0m\u001b[0;34m\"only in fastOMA & slow:\"\u001b[0m\u001b[0;34m,\u001b[0m\u001b[0mlen\u001b[0m\u001b[0;34m(\u001b[0m\u001b[0;34m(\u001b[0m\u001b[0mpartitions_fast\u001b[0m \u001b[0;34m&\u001b[0m \u001b[0mpartitions_slow\u001b[0m\u001b[0;34m)\u001b[0m \u001b[0;34m-\u001b[0m \u001b[0mpartitions_ncbi\u001b[0m\u001b[0;34m)\u001b[0m\u001b[0;34m)\u001b[0m\u001b[0;34m\u001b[0m\u001b[0;34m\u001b[0m\u001b[0m\n\u001b[1;32m      3\u001b[0m \u001b[0mprint\u001b[0m\u001b[0;34m(\u001b[0m\u001b[0;34m\"only in fastOMA & NCBI:\"\u001b[0m\u001b[0;34m,\u001b[0m\u001b[0mlen\u001b[0m\u001b[0;34m(\u001b[0m\u001b[0;34m(\u001b[0m\u001b[0mpartitions_fast\u001b[0m \u001b[0;34m&\u001b[0m \u001b[0mpartitions_ncbi\u001b[0m\u001b[0;34m)\u001b[0m \u001b[0;34m-\u001b[0m \u001b[0mpartitions_slow\u001b[0m\u001b[0;34m)\u001b[0m\u001b[0;34m)\u001b[0m\u001b[0;34m\u001b[0m\u001b[0;34m\u001b[0m\u001b[0m\n\u001b[1;32m      4\u001b[0m \u001b[0mprint\u001b[0m\u001b[0;34m(\u001b[0m\u001b[0;34m\"only in slow & NCBI:\"\u001b[0m\u001b[0;34m,\u001b[0m\u001b[0mlen\u001b[0m\u001b[0;34m(\u001b[0m\u001b[0;34m(\u001b[0m\u001b[0mpartitions_slow\u001b[0m \u001b[0;34m&\u001b[0m \u001b[0mpartitions_ncbi\u001b[0m\u001b[0;34m)\u001b[0m \u001b[0;34m-\u001b[0m  \u001b[0mpartitions_fast\u001b[0m\u001b[0;34m)\u001b[0m\u001b[0;34m)\u001b[0m\u001b[0;34m\u001b[0m\u001b[0;34m\u001b[0m\u001b[0m\n\u001b[1;32m      5\u001b[0m \u001b[0mprint\u001b[0m\u001b[0;34m(\u001b[0m\u001b[0;34m\"only in fastOMA & NCBI & slow:\"\u001b[0m\u001b[0;34m,\u001b[0m\u001b[0mlen\u001b[0m\u001b[0;34m(\u001b[0m\u001b[0;34m(\u001b[0m\u001b[0mpartitions_fast\u001b[0m \u001b[0;34m&\u001b[0m \u001b[0mpartitions_ncbi\u001b[0m\u001b[0;34m)\u001b[0m \u001b[0;34m&\u001b[0m \u001b[0mpartitions_slow\u001b[0m\u001b[0;34m)\u001b[0m\u001b[0;34m)\u001b[0m\u001b[0;34m\u001b[0m\u001b[0;34m\u001b[0m\u001b[0m\n",
      "\u001b[0;31mNameError\u001b[0m: name 'partitions_slow' is not defined"
     ]
    }
   ],
   "source": [
    "print(\"only in fastOMA:\", len((partitions_fast - partitions_ncbi) - partitions_slow))\n",
    "print(\"only in fastOMA & slow:\",len((partitions_fast & partitions_slow) - partitions_ncbi))\n",
    "print(\"only in fastOMA & NCBI:\",len((partitions_fast & partitions_ncbi) - partitions_slow))\n",
    "print(\"only in slow & NCBI:\",len((partitions_slow & partitions_ncbi) -  partitions_fast))\n",
    "print(\"only in fastOMA & NCBI & slow:\",len((partitions_fast & partitions_ncbi) & partitions_slow))\n",
    "print(\"only in slow:\",len((partitions_slow -partitions_fast) - partitions_ncbi))\n",
    "print(\"only in NCBI:\",len((partitions_ncbi - partitions_fast) - partitions_slow))\n"
   ]
  },
  {
   "cell_type": "code",
   "execution_count": null,
   "id": "7e318365",
   "metadata": {},
   "outputs": [],
   "source": []
  },
  {
   "cell_type": "markdown",
   "id": "0979ea63",
   "metadata": {},
   "source": [
    "### three way comparison"
   ]
  },
  {
   "cell_type": "code",
   "execution_count": 114,
   "id": "34a1e18a",
   "metadata": {},
   "outputs": [
    {
     "ename": "NameError",
     "evalue": "name 'bird_paper_tree' is not defined",
     "output_type": "error",
     "traceback": [
      "\u001b[0;31m---------------------------------------------------------------------------\u001b[0m",
      "\u001b[0;31mNameError\u001b[0m                                 Traceback (most recent call last)",
      "\u001b[0;32m/tmp/ipykernel_2750749/2874481588.py\u001b[0m in \u001b[0;36m<module>\u001b[0;34m\u001b[0m\n\u001b[1;32m      4\u001b[0m \u001b[0;31m# fast_tree.set_outgroup(outgroup) # CALPUG MOUS  BUCCAP CHLMAC\u001b[0m\u001b[0;34m\u001b[0m\u001b[0;34m\u001b[0m\u001b[0;34m\u001b[0m\u001b[0m\n\u001b[1;32m      5\u001b[0m \u001b[0;34m\u001b[0m\u001b[0m\n\u001b[0;32m----> 6\u001b[0;31m \u001b[0mout_paper_ncbi\u001b[0m \u001b[0;34m=\u001b[0m \u001b[0mbird_paper_tree\u001b[0m\u001b[0;34m.\u001b[0m\u001b[0mrobinson_foulds\u001b[0m\u001b[0;34m(\u001b[0m\u001b[0mncbi_sub_tree\u001b[0m\u001b[0;34m)\u001b[0m \u001b[0;31m# , expand_polytomies = True  #,polytomy_size_limit=20  ,unrooted_trees=True # , expand_polytomies = True\u001b[0m\u001b[0;34m\u001b[0m\u001b[0;34m\u001b[0m\u001b[0m\n\u001b[0m\u001b[1;32m      7\u001b[0m \u001b[0;34m(\u001b[0m\u001b[0mrf_paper_ncbi\u001b[0m\u001b[0;34m,\u001b[0m \u001b[0mmaxparts_paper_ncbi\u001b[0m\u001b[0;34m,\u001b[0m \u001b[0mcommon_attrs\u001b[0m\u001b[0;34m,\u001b[0m \u001b[0mpartitions_paper_raw\u001b[0m\u001b[0;34m,\u001b[0m \u001b[0mpartitions_ncbi_raw\u001b[0m\u001b[0;34m,\u001b[0m \u001b[0mdiscard_t1\u001b[0m\u001b[0;34m,\u001b[0m \u001b[0mdiscard_t2\u001b[0m\u001b[0;34m)\u001b[0m\u001b[0;34m=\u001b[0m\u001b[0mout_paper_ncbi\u001b[0m\u001b[0;34m\u001b[0m\u001b[0;34m\u001b[0m\u001b[0m\n\u001b[1;32m      8\u001b[0m \u001b[0mpartitions_paper\u001b[0m \u001b[0;34m=\u001b[0m \u001b[0mset\u001b[0m\u001b[0;34m(\u001b[0m\u001b[0mparition_editor\u001b[0m\u001b[0;34m(\u001b[0m\u001b[0mpartitions_paper_raw\u001b[0m\u001b[0;34m,\u001b[0m \u001b[0mintersect_leaves\u001b[0m\u001b[0;34m)\u001b[0m\u001b[0;34m)\u001b[0m\u001b[0;34m\u001b[0m\u001b[0;34m\u001b[0m\u001b[0m\n",
      "\u001b[0;31mNameError\u001b[0m: name 'bird_paper_tree' is not defined"
     ]
    }
   ],
   "source": [
    "# fast_tree= ete3.Tree(fast_treee_address_out, format=1)\n",
    "# fast_tree.prune(intersect_leaves)\n",
    "\n",
    "# fast_tree.set_outgroup(outgroup) # CALPUG MOUS  BUCCAP CHLMAC\n",
    "\n",
    "out_paper_ncbi = bird_paper_tree.robinson_foulds(ncbi_sub_tree) # , expand_polytomies = True  #,polytomy_size_limit=20  ,unrooted_trees=True # , expand_polytomies = True\n",
    "(rf_paper_ncbi, maxparts_paper_ncbi, common_attrs, partitions_paper_raw, partitions_ncbi_raw, discard_t1, discard_t2)=out_paper_ncbi \n",
    "partitions_paper = set(parition_editor(partitions_paper_raw, intersect_leaves))\n",
    "partitions_ncbi = set(parition_editor(partitions_ncbi_raw, intersect_leaves))\n",
    "\n",
    "out_fast_ncbi = fast_tree.robinson_foulds(ncbi_sub_tree)  # ,unrooted_trees=True # , expand_polytomies = True\n",
    "(rf_fast_ncbi, maxparts_fast_ncbi, common_attrs, partitions_fast_raw, partitions_ncbi_raw2, discard_t1, discard_t2)=out_fast_ncbi \n",
    "partitions_fast = set(parition_editor(partitions_fast_raw, intersect_leaves))\n",
    "partitions_ncbi2 = set(parition_editor(partitions_ncbi_raw2, intersect_leaves))\n",
    "assert len(partitions_ncbi2-partitions_ncbi)==0\n",
    "out_fast_paper = fast_tree.robinson_foulds(bird_paper_tree)  # ,unrooted_trees=True # , expand_polytomies = True\n",
    "(rf_fast_paper, maxparts_fast_paper, common_attrs, partitions_fast_raw2, partitions_paper_raw2, discard_t1, discard_t2)=out_fast_paper\n",
    "partitions_paper2 = set(parition_editor(partitions_paper_raw2, intersect_leaves))\n",
    "partitions_fast2 = set(parition_editor(partitions_fast_raw2, intersect_leaves))\n",
    "assert len(partitions_fast2-partitions_fast)==0\n",
    "assert len(partitions_paper2-partitions_paper)==0\n",
    "\n",
    "\n",
    "values_comparison=[len((partitions_fast - partitions_ncbi) - partitions_paper),\n",
    "                   len((partitions_fast & partitions_paper) - partitions_ncbi2),\n",
    "                   len((partitions_fast & partitions_ncbi) - partitions_paper),\n",
    "                   len((partitions_paper & partitions_ncbi) -  partitions_fast),\n",
    "                   len((partitions_fast & partitions_ncbi) &  partitions_paper),\n",
    "                   len((partitions_paper - partitions_fast) - partitions_ncbi),\n",
    "                   len((partitions_ncbi - partitions_fast) - partitions_paper) ]\n",
    "print(values_comparison)"
   ]
  },
  {
   "cell_type": "code",
   "execution_count": null,
   "id": "22acacda",
   "metadata": {},
   "outputs": [],
   "source": []
  },
  {
   "cell_type": "code",
   "execution_count": null,
   "id": "212f7294",
   "metadata": {},
   "outputs": [],
   "source": [
    "sorted(tresh_list)"
   ]
  },
  {
   "cell_type": "code",
   "execution_count": null,
   "id": "be9a5501",
   "metadata": {},
   "outputs": [],
   "source": []
  },
  {
   "cell_type": "code",
   "execution_count": null,
   "id": "ee05b4cc",
   "metadata": {},
   "outputs": [],
   "source": []
  },
  {
   "cell_type": "markdown",
   "id": "4064fb60",
   "metadata": {},
   "source": [
    "#  collapase   branch length & support value"
   ]
  },
  {
   "cell_type": "code",
   "execution_count": 46,
   "id": "bcdeed8f",
   "metadata": {},
   "outputs": [
    {
     "name": "stdout",
     "output_type": "stream",
     "text": [
      "35\n",
      "35\n",
      "35\n",
      "/work/FAC/FBM/DBC/cdessim2/default/smajidi1/fastoma/mammal/mml27/fastoma_core/_100_msa_concatanated.txt.contree_collapsed_94_0.001\n"
     ]
    }
   ],
   "source": [
    "# dendropy\n",
    "\n",
    "import dendropy\n",
    "\n",
    "fast_tree_raw_address= \"/work/FAC/FBM/DBC/cdessim2/default/smajidi1/fastoma/mammal/\"\n",
    "\n",
    "fast_tree_raw_address += \"mml27/fastoma_core/_100_msa_concatanated.txt.contree\"\n",
    "\n",
    "tree = dendropy.Tree.get_from_path(fast_tree_raw_address,\"newick\") # newick nexus\n",
    "\n",
    "print(len(tree))\n",
    "\n",
    "support_treshold = 94\n",
    "for idx, node in enumerate(tree):\n",
    "    if not node.is_leaf() and node.label:\n",
    "        support_value = int(node.label)\n",
    "        if support_value <= support_treshold:\n",
    "            edge= node.edge   #print(edge.head_node.child_nodes())\n",
    "            edge.collapse()\n",
    "print(len(tree))\n",
    "\n",
    "threshold=1e-3 \n",
    "\n",
    "for e in tree.postorder_edge_iter():    \n",
    "    if e.length is None or (e.length <= threshold) and e.is_internal():\n",
    "        e.collapse()\n",
    "print(len(tree))\n",
    "\n",
    "fast_treee_address_out=fast_tree_raw_address+\"_collapsed_\"+str(support_treshold)+\"_\"+str(threshold)\n",
    "tree.write_to_path(fast_treee_address_out, \"newick\")\n",
    "print(fast_treee_address_out)\n"
   ]
  },
  {
   "cell_type": "code",
   "execution_count": null,
   "id": "0031c1bb",
   "metadata": {},
   "outputs": [],
   "source": []
  },
  {
   "cell_type": "markdown",
   "id": "2892670a",
   "metadata": {},
   "source": [
    "# ****"
   ]
  },
  {
   "cell_type": "markdown",
   "id": "9f2cfb34",
   "metadata": {},
   "source": [
    "# others"
   ]
  },
  {
   "cell_type": "markdown",
   "id": "7e9f6a25",
   "metadata": {},
   "source": [
    "### plot different collapsing  support value\n"
   ]
  },
  {
   "cell_type": "code",
   "execution_count": null,
   "id": "e648346c",
   "metadata": {},
   "outputs": [],
   "source": [
    "\n",
    "tresh=60 \n",
    "project_folder_root=\"/work/FAC/FBM/DBC/cdessim2/default/smajidi1/fastoma/v3b/\"\n",
    "tresh_list=[60,80,90,95,100]\n",
    "tresh_list_name=[\"_collapsed_\"+str(i) for i in tresh_list] \n",
    "tresh_list_name=[\"\"]+tresh_list_name\n",
    "\n",
    "values_comparison_all=[]\n",
    "for tresh in tresh_list_name:\n",
    "    fast_tree_address=project_folder_root+\"iqtree5/_100_msa_concatanated.txt_copy1.contree\"+tresh\n",
    "\n",
    "    fast_tree= ete3.Tree(fast_tree_address)\n",
    "    #print(\"len fast tree\",len(fast_tree))\n",
    "\n",
    "\n",
    "    fast_tree.prune(intersect_leaves)\n",
    "    #print(\"len fast tree after prune\",len(fast_tree))\n",
    "\n",
    "    fast_tree.set_outgroup(outgroup) # CALPUG MOUS  BUCCAP  CHLMAC\n",
    "\n",
    "    out_paper_ncbi = bird_paper_tree.robinson_foulds(ncbi_sub_tree) # , expand_polytomies = True  #,polytomy_size_limit=20  ,unrooted_trees=True # , expand_polytomies = True\n",
    "    (rf_paper_ncbi, maxparts_paper_ncbi, common_attrs, partitions_paper_raw, partitions_ncbi_raw, discard_t1, discard_t2)=out_paper_ncbi \n",
    "    partitions_paper = set(parition_editor(partitions_paper_raw, intersect_leaves))\n",
    "    partitions_ncbi = set(parition_editor(partitions_ncbi_raw, intersect_leaves))\n",
    "\n",
    "    out_fast_ncbi = fast_tree.robinson_foulds(ncbi_sub_tree)  # ,unrooted_trees=True # , expand_polytomies = True\n",
    "    (rf_fast_ncbi, maxparts_fast_ncbi, common_attrs, partitions_fast_raw, partitions_ncbi_raw2, discard_t1, discard_t2)=out_fast_ncbi \n",
    "    partitions_fast = set(parition_editor(partitions_fast_raw, intersect_leaves))\n",
    "    partitions_ncbi2 = set(parition_editor(partitions_ncbi_raw2, intersect_leaves))\n",
    "    assert len(partitions_ncbi2-partitions_ncbi)==0\n",
    "    out_fast_paper = fast_tree.robinson_foulds(bird_paper_tree)  # ,unrooted_trees=True # , expand_polytomies = True\n",
    "    (rf_fast_paper, maxparts_fast_paper, common_attrs, partitions_fast_raw2, partitions_paper_raw2, discard_t1, discard_t2)=out_fast_paper\n",
    "    partitions_paper2 = set(parition_editor(partitions_paper_raw2, intersect_leaves))\n",
    "    partitions_fast2 = set(parition_editor(partitions_fast_raw2, intersect_leaves))\n",
    "    assert len(partitions_fast2-partitions_fast)==0\n",
    "    assert len(partitions_paper2-partitions_paper)==0\n",
    "\n",
    "\n",
    "    values_comparison=[len((partitions_fast - partitions_ncbi) - partitions_paper),\n",
    "                       len((partitions_fast & partitions_paper) - partitions_ncbi2),\n",
    "                       len((partitions_fast & partitions_ncbi) - partitions_paper),\n",
    "                       len((partitions_paper & partitions_ncbi) -  partitions_fast),\n",
    "                       len((partitions_fast & partitions_ncbi) &  partitions_paper),\n",
    "                       len((partitions_paper - partitions_fast) - partitions_ncbi),\n",
    "                       len((partitions_ncbi - partitions_fast) - partitions_paper) ]\n",
    "    #sum1=values_comparison[0]+values_comparison[4]+values_comparison[5]+values_comparison[6]\n",
    "    print(values_comparison) # ,sum1\n",
    "    values_comparison_all.append(values_comparison)\n",
    "values_comparison_all=np.array(values_comparison_all)\n",
    "#print(values_comparison_all)\n",
    "\n",
    "#t_all=np.transpose(values_comparison_all)\n",
    "lenged1=['fastOMA','fastOMA & paper',  'fastOMA & NCBI',\n",
    "  'paper & NCBI', 'fastOMA & NCBI & paper',  'paper', 'NCBI']\n",
    "\n",
    "import pandas as pd\n",
    "df = pd.DataFrame(data=values_comparison_all)\n",
    "df.columns=lenged1   #ind = [0,60,80,90,95,100] # ,\"BirdPaper\"\n",
    "df.index=[\"no\"]+tresh_list\n",
    "df"
   ]
  },
  {
   "cell_type": "markdown",
   "id": "d6612c1f",
   "metadata": {},
   "source": [
    "### plot different collapsing branch length"
   ]
  },
  {
   "cell_type": "code",
   "execution_count": null,
   "id": "4d403c86",
   "metadata": {},
   "outputs": [],
   "source": [
    "\n",
    "#tresh=60 \n",
    "project_folder_root=\"/work/FAC/FBM/DBC/cdessim2/default/smajidi1/fastoma/v3b/\"\n",
    "tresh_list=[1e-05,0.0001,0.001,0.005,0.01,0.1]\n",
    "tresh_list_name=[\"_collapsed_brnch_\"+str(i) for i in tresh_list] \n",
    "tresh_list_name=[\"\"]+tresh_list_name\n",
    "\n",
    "values_comparison_all=[]\n",
    "for tresh in tresh_list_name:\n",
    "    fast_tree_address=project_folder_root+\"iqtree5/_100_msa_concatanated.txt_copy1.contree\"+tresh\n",
    "\n",
    "    fast_tree= ete3.Tree(fast_tree_address)\n",
    "    #print(\"len fast tree\",len(fast_tree))\n",
    "\n",
    "\n",
    "    fast_tree.prune(intersect_leaves)\n",
    "    #print(\"len fast tree after prune\",len(fast_tree))\n",
    "\n",
    "    fast_tree.set_outgroup(outgroup) # CALPUG MOUS  BUCCAP\n",
    "\n",
    "    out_paper_ncbi = bird_paper_tree.robinson_foulds(ncbi_sub_tree) # , expand_polytomies = True  #,polytomy_size_limit=20  ,unrooted_trees=True # , expand_polytomies = True\n",
    "    (rf_paper_ncbi, maxparts_paper_ncbi, common_attrs, partitions_paper_raw, partitions_ncbi_raw, discard_t1, discard_t2)=out_paper_ncbi \n",
    "    partitions_paper = set(parition_editor(partitions_paper_raw, intersect_leaves))\n",
    "    partitions_ncbi = set(parition_editor(partitions_ncbi_raw, intersect_leaves))\n",
    "\n",
    "    out_fast_ncbi = fast_tree.robinson_foulds(ncbi_sub_tree)  # ,unrooted_trees=True # , expand_polytomies = True\n",
    "    (rf_fast_ncbi, maxparts_fast_ncbi, common_attrs, partitions_fast_raw, partitions_ncbi_raw2, discard_t1, discard_t2)=out_fast_ncbi \n",
    "    partitions_fast = set(parition_editor(partitions_fast_raw, intersect_leaves))\n",
    "    partitions_ncbi2 = set(parition_editor(partitions_ncbi_raw2, intersect_leaves))\n",
    "    assert len(partitions_ncbi2-partitions_ncbi)==0\n",
    "    out_fast_paper = fast_tree.robinson_foulds(bird_paper_tree)  # ,unrooted_trees=True # , expand_polytomies = True\n",
    "    (rf_fast_paper, maxparts_fast_paper, common_attrs, partitions_fast_raw2, partitions_paper_raw2, discard_t1, discard_t2)=out_fast_paper\n",
    "    partitions_paper2 = set(parition_editor(partitions_paper_raw2, intersect_leaves))\n",
    "    partitions_fast2 = set(parition_editor(partitions_fast_raw2, intersect_leaves))\n",
    "    assert len(partitions_fast2-partitions_fast)==0\n",
    "    assert len(partitions_paper2-partitions_paper)==0\n",
    "\n",
    "\n",
    "    values_comparison=[len((partitions_fast - partitions_ncbi) - partitions_paper),\n",
    "                       len((partitions_fast & partitions_paper) - partitions_ncbi2),\n",
    "                       len((partitions_fast & partitions_ncbi) - partitions_paper),\n",
    "                       len((partitions_paper & partitions_ncbi) -  partitions_fast),\n",
    "                       len((partitions_fast & partitions_ncbi) &  partitions_paper),\n",
    "                       len((partitions_paper - partitions_fast) - partitions_ncbi),\n",
    "                       len((partitions_ncbi - partitions_fast) - partitions_paper) ]\n",
    "    print(values_comparison)\n",
    "    values_comparison_all.append(values_comparison)\n",
    "values_comparison_all=np.array(values_comparison_all)\n",
    "#print(values_comparison_all)\n",
    "\n",
    "#t_all=np.transpose(values_comparison_all)\n",
    "lenged1=['fastOMA','fastOMA & paper',  'fastOMA & NCBI',\n",
    "  'paper & NCBI', 'fastOMA & NCBI & paper',  'paper', 'NCBI']\n",
    "\n",
    "import pandas as pd\n",
    "df = pd.DataFrame(data=values_comparison_all)\n",
    "df.columns=lenged1   #ind = [0,60,80,90,95,100] # ,\"BirdPaper\"\n",
    "df.index=[\"no\"]+tresh_list\n",
    "df"
   ]
  },
  {
   "cell_type": "markdown",
   "id": "0d165d40",
   "metadata": {},
   "source": [
    "## read ncbi tree"
   ]
  },
  {
   "cell_type": "code",
   "execution_count": 138,
   "id": "f540fbd4",
   "metadata": {},
   "outputs": [
    {
     "name": "stdout",
     "output_type": "stream",
     "text": [
      "5\n"
     ]
    }
   ],
   "source": [
    "list_oma=[\"OTOGA\", \"GORGO\", \"MACNE\", \"BOVIN\", \"MOUSE\"]\n",
    "ncbi_taxon_list= [omaID_taxonID[i] for i in list_oma]\n",
    "\n",
    "\n",
    "\n",
    "\n",
    "ncbi = ete3.NCBITaxa()  # first time download in ~/.etetoolkit/\n",
    "ncbi_sub_tree = ncbi.get_topology(ncbi_taxon_list)\n",
    "\n",
    "print(len(ncbi_sub_tree))\n"
   ]
  },
  {
   "cell_type": "code",
   "execution_count": 139,
   "id": "a1678581",
   "metadata": {},
   "outputs": [],
   "source": [
    "no_list=[]\n",
    "for node in ncbi_sub_tree.traverse(strategy=\"postorder\"):\n",
    "    if node.is_leaf() :           \n",
    "        if node.name in taxonID_omaID:\n",
    "            node_name = taxonID_omaID[node.name]\n",
    "            node.name=node_name\n",
    "            "
   ]
  },
  {
   "cell_type": "code",
   "execution_count": 140,
   "id": "c6724136",
   "metadata": {},
   "outputs": [
    {
     "data": {
      "text/plain": [
       "'((((MACNE:1,GORGO:1)1:1,OTOGA:1)1:1,MOUSE:1)1:1,BOVIN:1);'"
      ]
     },
     "execution_count": 140,
     "metadata": {},
     "output_type": "execute_result"
    }
   ],
   "source": [
    "ncbi_sub_tree.write()"
   ]
  },
  {
   "cell_type": "code",
   "execution_count": null,
   "id": "a0d97077",
   "metadata": {},
   "outputs": [],
   "source": [
    "#10 # '((((((((MANLE:1,MACNE:1)1:1,COLAP:1)1:1,(PANTR:1,GORGO:1)1:1)1:1,SAIBB:1)1:1,CARSF:1)1:1,OTOGA:1)1:1,MOUSE:1)1:1,BOVIN:1);'\n",
    "#5  # '((((MACNE:1,GORGO:1)1:1,OTOGA:1)1:1,MOUSE:1)1:1,BOVIN:1)myroot:0;'\n"
   ]
  }
 ],
 "metadata": {
  "kernelspec": {
   "display_name": "Python 3 (ipykernel)",
   "language": "python",
   "name": "python3"
  },
  "language_info": {
   "codemirror_mode": {
    "name": "ipython",
    "version": 3
   },
   "file_extension": ".py",
   "mimetype": "text/x-python",
   "name": "python",
   "nbconvert_exporter": "python",
   "pygments_lexer": "ipython3",
   "version": "3.8.1"
  }
 },
 "nbformat": 4,
 "nbformat_minor": 5
}
